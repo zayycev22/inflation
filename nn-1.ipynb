{
 "cells": [
  {
   "cell_type": "code",
   "execution_count": 45,
   "id": "initial_id",
   "metadata": {
    "collapsed": true,
    "ExecuteTime": {
     "end_time": "2023-11-25T03:07:33.925158100Z",
     "start_time": "2023-11-25T03:07:33.773893700Z"
    }
   },
   "outputs": [],
   "source": [
    "import keras\n",
    "from keras import layers\n",
    "import pandas as pd\n",
    "import numpy as np\n",
    "from sklearn.model_selection import train_test_split\n",
    "from sklearn.metrics import mean_absolute_percentage_error\n"
   ]
  },
  {
   "cell_type": "code",
   "execution_count": 46,
   "outputs": [
    {
     "data": {
      "text/plain": "       rashod_name  year       y1    id  building_year  object_square  \\\n0            27751  2016   103.08     0           1980          217.7   \n1            27751  2016   103.08     0           1980          217.7   \n2            27751  2016   103.08     0           1980          217.7   \n3            27751  2016   103.08     0           1980          217.7   \n4            27751  2016   103.08     0           1980          217.7   \n...            ...   ...      ...   ...            ...            ...   \n29476        29480  2021  8779.34  2130           1994          783.5   \n29477        29480  2021  1847.78  2130           1994          783.5   \n29478        29480  2021   751.40  2130           1994          783.5   \n29479        29480  2021  1249.12  2130           1994          783.5   \n29480        29480  2021   234.33  2130           1994          783.5   \n\n       building_square     balance  revaluation  depreciation  residual_value  \\\n0                217.7  1638812.21    937438.23     591497.66      1047314.55   \n1                217.7  1638812.21    937438.23     596414.09      1042398.12   \n2                217.7  1638812.21    937438.23     601330.52      1037481.69   \n3                217.7  1638812.21    937438.23     606246.95      1032565.26   \n4                217.7  1638812.21    937438.23     591497.66      1047314.55   \n...                ...         ...          ...           ...             ...   \n29476            783.5  3732828.27   1619966.80    1014084.97      2718743.30   \n29477            783.5  3732828.27   1619966.80    1014084.97      2718743.30   \n29478            783.5  3732828.27   1619966.80    1014084.97      2718743.30   \n29479            783.5  3732828.27   1619966.80    1014084.97      2718743.30   \n29480            783.5  3732828.27   1619966.80    1014084.97      2718743.30   \n\n       technical_condition  quarter  otdel   city  \n0                    29480        1  28240   5412  \n1                    29480        2  28240   5412  \n2                    29480        3  28240   5412  \n3                    29480        4  28240   5412  \n4                    29480        1  28240   5412  \n...                    ...      ...    ...    ...  \n29476                29480        4  29480  29480  \n29477                29480        4  29480  29480  \n29478                29480        4  29480  29480  \n29479                29480        4  29480  29480  \n29480                29480        4  29480  29480  \n\n[29481 rows x 15 columns]",
      "text/html": "<div>\n<style scoped>\n    .dataframe tbody tr th:only-of-type {\n        vertical-align: middle;\n    }\n\n    .dataframe tbody tr th {\n        vertical-align: top;\n    }\n\n    .dataframe thead th {\n        text-align: right;\n    }\n</style>\n<table border=\"1\" class=\"dataframe\">\n  <thead>\n    <tr style=\"text-align: right;\">\n      <th></th>\n      <th>rashod_name</th>\n      <th>year</th>\n      <th>y1</th>\n      <th>id</th>\n      <th>building_year</th>\n      <th>object_square</th>\n      <th>building_square</th>\n      <th>balance</th>\n      <th>revaluation</th>\n      <th>depreciation</th>\n      <th>residual_value</th>\n      <th>technical_condition</th>\n      <th>quarter</th>\n      <th>otdel</th>\n      <th>city</th>\n    </tr>\n  </thead>\n  <tbody>\n    <tr>\n      <th>0</th>\n      <td>27751</td>\n      <td>2016</td>\n      <td>103.08</td>\n      <td>0</td>\n      <td>1980</td>\n      <td>217.7</td>\n      <td>217.7</td>\n      <td>1638812.21</td>\n      <td>937438.23</td>\n      <td>591497.66</td>\n      <td>1047314.55</td>\n      <td>29480</td>\n      <td>1</td>\n      <td>28240</td>\n      <td>5412</td>\n    </tr>\n    <tr>\n      <th>1</th>\n      <td>27751</td>\n      <td>2016</td>\n      <td>103.08</td>\n      <td>0</td>\n      <td>1980</td>\n      <td>217.7</td>\n      <td>217.7</td>\n      <td>1638812.21</td>\n      <td>937438.23</td>\n      <td>596414.09</td>\n      <td>1042398.12</td>\n      <td>29480</td>\n      <td>2</td>\n      <td>28240</td>\n      <td>5412</td>\n    </tr>\n    <tr>\n      <th>2</th>\n      <td>27751</td>\n      <td>2016</td>\n      <td>103.08</td>\n      <td>0</td>\n      <td>1980</td>\n      <td>217.7</td>\n      <td>217.7</td>\n      <td>1638812.21</td>\n      <td>937438.23</td>\n      <td>601330.52</td>\n      <td>1037481.69</td>\n      <td>29480</td>\n      <td>3</td>\n      <td>28240</td>\n      <td>5412</td>\n    </tr>\n    <tr>\n      <th>3</th>\n      <td>27751</td>\n      <td>2016</td>\n      <td>103.08</td>\n      <td>0</td>\n      <td>1980</td>\n      <td>217.7</td>\n      <td>217.7</td>\n      <td>1638812.21</td>\n      <td>937438.23</td>\n      <td>606246.95</td>\n      <td>1032565.26</td>\n      <td>29480</td>\n      <td>4</td>\n      <td>28240</td>\n      <td>5412</td>\n    </tr>\n    <tr>\n      <th>4</th>\n      <td>27751</td>\n      <td>2016</td>\n      <td>103.08</td>\n      <td>0</td>\n      <td>1980</td>\n      <td>217.7</td>\n      <td>217.7</td>\n      <td>1638812.21</td>\n      <td>937438.23</td>\n      <td>591497.66</td>\n      <td>1047314.55</td>\n      <td>29480</td>\n      <td>1</td>\n      <td>28240</td>\n      <td>5412</td>\n    </tr>\n    <tr>\n      <th>...</th>\n      <td>...</td>\n      <td>...</td>\n      <td>...</td>\n      <td>...</td>\n      <td>...</td>\n      <td>...</td>\n      <td>...</td>\n      <td>...</td>\n      <td>...</td>\n      <td>...</td>\n      <td>...</td>\n      <td>...</td>\n      <td>...</td>\n      <td>...</td>\n      <td>...</td>\n    </tr>\n    <tr>\n      <th>29476</th>\n      <td>29480</td>\n      <td>2021</td>\n      <td>8779.34</td>\n      <td>2130</td>\n      <td>1994</td>\n      <td>783.5</td>\n      <td>783.5</td>\n      <td>3732828.27</td>\n      <td>1619966.80</td>\n      <td>1014084.97</td>\n      <td>2718743.30</td>\n      <td>29480</td>\n      <td>4</td>\n      <td>29480</td>\n      <td>29480</td>\n    </tr>\n    <tr>\n      <th>29477</th>\n      <td>29480</td>\n      <td>2021</td>\n      <td>1847.78</td>\n      <td>2130</td>\n      <td>1994</td>\n      <td>783.5</td>\n      <td>783.5</td>\n      <td>3732828.27</td>\n      <td>1619966.80</td>\n      <td>1014084.97</td>\n      <td>2718743.30</td>\n      <td>29480</td>\n      <td>4</td>\n      <td>29480</td>\n      <td>29480</td>\n    </tr>\n    <tr>\n      <th>29478</th>\n      <td>29480</td>\n      <td>2021</td>\n      <td>751.40</td>\n      <td>2130</td>\n      <td>1994</td>\n      <td>783.5</td>\n      <td>783.5</td>\n      <td>3732828.27</td>\n      <td>1619966.80</td>\n      <td>1014084.97</td>\n      <td>2718743.30</td>\n      <td>29480</td>\n      <td>4</td>\n      <td>29480</td>\n      <td>29480</td>\n    </tr>\n    <tr>\n      <th>29479</th>\n      <td>29480</td>\n      <td>2021</td>\n      <td>1249.12</td>\n      <td>2130</td>\n      <td>1994</td>\n      <td>783.5</td>\n      <td>783.5</td>\n      <td>3732828.27</td>\n      <td>1619966.80</td>\n      <td>1014084.97</td>\n      <td>2718743.30</td>\n      <td>29480</td>\n      <td>4</td>\n      <td>29480</td>\n      <td>29480</td>\n    </tr>\n    <tr>\n      <th>29480</th>\n      <td>29480</td>\n      <td>2021</td>\n      <td>234.33</td>\n      <td>2130</td>\n      <td>1994</td>\n      <td>783.5</td>\n      <td>783.5</td>\n      <td>3732828.27</td>\n      <td>1619966.80</td>\n      <td>1014084.97</td>\n      <td>2718743.30</td>\n      <td>29480</td>\n      <td>4</td>\n      <td>29480</td>\n      <td>29480</td>\n    </tr>\n  </tbody>\n</table>\n<p>29481 rows × 15 columns</p>\n</div>"
     },
     "execution_count": 46,
     "metadata": {},
     "output_type": "execute_result"
    }
   ],
   "source": [
    "df = pd.read_csv(\"final.csv\")\n",
    "df"
   ],
   "metadata": {
    "collapsed": false,
    "ExecuteTime": {
     "end_time": "2023-11-25T03:07:34.009160400Z",
     "start_time": "2023-11-25T03:07:33.789159Z"
    }
   },
   "id": "268a3d362df3a40c"
  },
  {
   "cell_type": "code",
   "execution_count": 47,
   "outputs": [
    {
     "data": {
      "text/plain": "                     rashod_name      year        y1        id  building_year  \\\nrashod_name             1.000000  0.281030  0.045035  0.264235       0.175801   \nyear                    0.281030  1.000000 -0.008823  0.850717       0.125516   \ny1                      0.045035 -0.008823  1.000000  0.001148       0.034825   \nid                      0.264235  0.850717  0.001148  1.000000       0.086870   \nbuilding_year           0.175801  0.125516  0.034825  0.086870       1.000000   \nobject_square          -0.088142 -0.065690  0.088445 -0.109796      -0.154307   \nbuilding_square        -0.088142 -0.065690  0.088445 -0.109796      -0.154307   \nbalance                -0.131060  0.072935  0.040635  0.102913      -0.020446   \nrevaluation            -0.019305 -0.023355  0.082878  0.006930       0.008318   \ndepreciation           -0.019927  0.062131  0.082708  0.051678      -0.254782   \nresidual_value         -0.018195  0.061013  0.025852  0.067751      -0.158832   \ntechnical_condition     0.123215  0.084402  0.022694  0.041651      -0.045611   \nquarter                 0.035883  0.020023  0.006677  0.075173       0.002014   \notdel                   0.169103  0.087680  0.032887  0.045740       0.014412   \ncity                    0.180029  0.208936  0.010946  0.460251      -0.053112   \n\n                     object_square  building_square   balance  revaluation  \\\nrashod_name              -0.088142        -0.088142 -0.131060    -0.019305   \nyear                     -0.065690        -0.065690  0.072935    -0.023355   \ny1                        0.088445         0.088445  0.040635     0.082878   \nid                       -0.109796        -0.109796  0.102913     0.006930   \nbuilding_year            -0.154307        -0.154307 -0.020446     0.008318   \nobject_square             1.000000         1.000000  0.246148     0.611754   \nbuilding_square           1.000000         1.000000  0.246148     0.611754   \nbalance                   0.246148         0.246148  1.000000     0.163333   \nrevaluation               0.611754         0.611754  0.163333     1.000000   \ndepreciation              0.684217         0.684217  0.241550     0.504056   \nresidual_value            0.421326         0.421326  0.408964     0.445928   \ntechnical_condition       0.099009         0.099009  0.094225     0.104084   \nquarter                   0.013634         0.013634 -0.041225    -0.006842   \notdel                     0.048694         0.048694 -0.172198     0.020448   \ncity                     -0.180899        -0.180899  0.004103    -0.084277   \n\n                     depreciation  residual_value  technical_condition  \\\nrashod_name             -0.019927       -0.018195             0.123215   \nyear                     0.062131        0.061013             0.084402   \ny1                       0.082708        0.025852             0.022694   \nid                       0.051678        0.067751             0.041651   \nbuilding_year           -0.254782       -0.158832            -0.045611   \nobject_square            0.684217        0.421326             0.099009   \nbuilding_square          0.684217        0.421326             0.099009   \nbalance                  0.241550        0.408964             0.094225   \nrevaluation              0.504056        0.445928             0.104084   \ndepreciation             1.000000        0.640815             0.138809   \nresidual_value           0.640815        1.000000             0.146831   \ntechnical_condition      0.138809        0.146831             1.000000   \nquarter                  0.058832       -0.012529            -0.058514   \notdel                    0.023158        0.108233             0.214529   \ncity                    -0.071446        0.073377             0.087353   \n\n                      quarter     otdel      city  \nrashod_name          0.035883  0.169103  0.180029  \nyear                 0.020023  0.087680  0.208936  \ny1                   0.006677  0.032887  0.010946  \nid                   0.075173  0.045740  0.460251  \nbuilding_year        0.002014  0.014412 -0.053112  \nobject_square        0.013634  0.048694 -0.180899  \nbuilding_square      0.013634  0.048694 -0.180899  \nbalance             -0.041225 -0.172198  0.004103  \nrevaluation         -0.006842  0.020448 -0.084277  \ndepreciation         0.058832  0.023158 -0.071446  \nresidual_value      -0.012529  0.108233  0.073377  \ntechnical_condition -0.058514  0.214529  0.087353  \nquarter              1.000000  0.074737  0.017778  \notdel                0.074737  1.000000  0.103754  \ncity                 0.017778  0.103754  1.000000  ",
      "text/html": "<div>\n<style scoped>\n    .dataframe tbody tr th:only-of-type {\n        vertical-align: middle;\n    }\n\n    .dataframe tbody tr th {\n        vertical-align: top;\n    }\n\n    .dataframe thead th {\n        text-align: right;\n    }\n</style>\n<table border=\"1\" class=\"dataframe\">\n  <thead>\n    <tr style=\"text-align: right;\">\n      <th></th>\n      <th>rashod_name</th>\n      <th>year</th>\n      <th>y1</th>\n      <th>id</th>\n      <th>building_year</th>\n      <th>object_square</th>\n      <th>building_square</th>\n      <th>balance</th>\n      <th>revaluation</th>\n      <th>depreciation</th>\n      <th>residual_value</th>\n      <th>technical_condition</th>\n      <th>quarter</th>\n      <th>otdel</th>\n      <th>city</th>\n    </tr>\n  </thead>\n  <tbody>\n    <tr>\n      <th>rashod_name</th>\n      <td>1.000000</td>\n      <td>0.281030</td>\n      <td>0.045035</td>\n      <td>0.264235</td>\n      <td>0.175801</td>\n      <td>-0.088142</td>\n      <td>-0.088142</td>\n      <td>-0.131060</td>\n      <td>-0.019305</td>\n      <td>-0.019927</td>\n      <td>-0.018195</td>\n      <td>0.123215</td>\n      <td>0.035883</td>\n      <td>0.169103</td>\n      <td>0.180029</td>\n    </tr>\n    <tr>\n      <th>year</th>\n      <td>0.281030</td>\n      <td>1.000000</td>\n      <td>-0.008823</td>\n      <td>0.850717</td>\n      <td>0.125516</td>\n      <td>-0.065690</td>\n      <td>-0.065690</td>\n      <td>0.072935</td>\n      <td>-0.023355</td>\n      <td>0.062131</td>\n      <td>0.061013</td>\n      <td>0.084402</td>\n      <td>0.020023</td>\n      <td>0.087680</td>\n      <td>0.208936</td>\n    </tr>\n    <tr>\n      <th>y1</th>\n      <td>0.045035</td>\n      <td>-0.008823</td>\n      <td>1.000000</td>\n      <td>0.001148</td>\n      <td>0.034825</td>\n      <td>0.088445</td>\n      <td>0.088445</td>\n      <td>0.040635</td>\n      <td>0.082878</td>\n      <td>0.082708</td>\n      <td>0.025852</td>\n      <td>0.022694</td>\n      <td>0.006677</td>\n      <td>0.032887</td>\n      <td>0.010946</td>\n    </tr>\n    <tr>\n      <th>id</th>\n      <td>0.264235</td>\n      <td>0.850717</td>\n      <td>0.001148</td>\n      <td>1.000000</td>\n      <td>0.086870</td>\n      <td>-0.109796</td>\n      <td>-0.109796</td>\n      <td>0.102913</td>\n      <td>0.006930</td>\n      <td>0.051678</td>\n      <td>0.067751</td>\n      <td>0.041651</td>\n      <td>0.075173</td>\n      <td>0.045740</td>\n      <td>0.460251</td>\n    </tr>\n    <tr>\n      <th>building_year</th>\n      <td>0.175801</td>\n      <td>0.125516</td>\n      <td>0.034825</td>\n      <td>0.086870</td>\n      <td>1.000000</td>\n      <td>-0.154307</td>\n      <td>-0.154307</td>\n      <td>-0.020446</td>\n      <td>0.008318</td>\n      <td>-0.254782</td>\n      <td>-0.158832</td>\n      <td>-0.045611</td>\n      <td>0.002014</td>\n      <td>0.014412</td>\n      <td>-0.053112</td>\n    </tr>\n    <tr>\n      <th>object_square</th>\n      <td>-0.088142</td>\n      <td>-0.065690</td>\n      <td>0.088445</td>\n      <td>-0.109796</td>\n      <td>-0.154307</td>\n      <td>1.000000</td>\n      <td>1.000000</td>\n      <td>0.246148</td>\n      <td>0.611754</td>\n      <td>0.684217</td>\n      <td>0.421326</td>\n      <td>0.099009</td>\n      <td>0.013634</td>\n      <td>0.048694</td>\n      <td>-0.180899</td>\n    </tr>\n    <tr>\n      <th>building_square</th>\n      <td>-0.088142</td>\n      <td>-0.065690</td>\n      <td>0.088445</td>\n      <td>-0.109796</td>\n      <td>-0.154307</td>\n      <td>1.000000</td>\n      <td>1.000000</td>\n      <td>0.246148</td>\n      <td>0.611754</td>\n      <td>0.684217</td>\n      <td>0.421326</td>\n      <td>0.099009</td>\n      <td>0.013634</td>\n      <td>0.048694</td>\n      <td>-0.180899</td>\n    </tr>\n    <tr>\n      <th>balance</th>\n      <td>-0.131060</td>\n      <td>0.072935</td>\n      <td>0.040635</td>\n      <td>0.102913</td>\n      <td>-0.020446</td>\n      <td>0.246148</td>\n      <td>0.246148</td>\n      <td>1.000000</td>\n      <td>0.163333</td>\n      <td>0.241550</td>\n      <td>0.408964</td>\n      <td>0.094225</td>\n      <td>-0.041225</td>\n      <td>-0.172198</td>\n      <td>0.004103</td>\n    </tr>\n    <tr>\n      <th>revaluation</th>\n      <td>-0.019305</td>\n      <td>-0.023355</td>\n      <td>0.082878</td>\n      <td>0.006930</td>\n      <td>0.008318</td>\n      <td>0.611754</td>\n      <td>0.611754</td>\n      <td>0.163333</td>\n      <td>1.000000</td>\n      <td>0.504056</td>\n      <td>0.445928</td>\n      <td>0.104084</td>\n      <td>-0.006842</td>\n      <td>0.020448</td>\n      <td>-0.084277</td>\n    </tr>\n    <tr>\n      <th>depreciation</th>\n      <td>-0.019927</td>\n      <td>0.062131</td>\n      <td>0.082708</td>\n      <td>0.051678</td>\n      <td>-0.254782</td>\n      <td>0.684217</td>\n      <td>0.684217</td>\n      <td>0.241550</td>\n      <td>0.504056</td>\n      <td>1.000000</td>\n      <td>0.640815</td>\n      <td>0.138809</td>\n      <td>0.058832</td>\n      <td>0.023158</td>\n      <td>-0.071446</td>\n    </tr>\n    <tr>\n      <th>residual_value</th>\n      <td>-0.018195</td>\n      <td>0.061013</td>\n      <td>0.025852</td>\n      <td>0.067751</td>\n      <td>-0.158832</td>\n      <td>0.421326</td>\n      <td>0.421326</td>\n      <td>0.408964</td>\n      <td>0.445928</td>\n      <td>0.640815</td>\n      <td>1.000000</td>\n      <td>0.146831</td>\n      <td>-0.012529</td>\n      <td>0.108233</td>\n      <td>0.073377</td>\n    </tr>\n    <tr>\n      <th>technical_condition</th>\n      <td>0.123215</td>\n      <td>0.084402</td>\n      <td>0.022694</td>\n      <td>0.041651</td>\n      <td>-0.045611</td>\n      <td>0.099009</td>\n      <td>0.099009</td>\n      <td>0.094225</td>\n      <td>0.104084</td>\n      <td>0.138809</td>\n      <td>0.146831</td>\n      <td>1.000000</td>\n      <td>-0.058514</td>\n      <td>0.214529</td>\n      <td>0.087353</td>\n    </tr>\n    <tr>\n      <th>quarter</th>\n      <td>0.035883</td>\n      <td>0.020023</td>\n      <td>0.006677</td>\n      <td>0.075173</td>\n      <td>0.002014</td>\n      <td>0.013634</td>\n      <td>0.013634</td>\n      <td>-0.041225</td>\n      <td>-0.006842</td>\n      <td>0.058832</td>\n      <td>-0.012529</td>\n      <td>-0.058514</td>\n      <td>1.000000</td>\n      <td>0.074737</td>\n      <td>0.017778</td>\n    </tr>\n    <tr>\n      <th>otdel</th>\n      <td>0.169103</td>\n      <td>0.087680</td>\n      <td>0.032887</td>\n      <td>0.045740</td>\n      <td>0.014412</td>\n      <td>0.048694</td>\n      <td>0.048694</td>\n      <td>-0.172198</td>\n      <td>0.020448</td>\n      <td>0.023158</td>\n      <td>0.108233</td>\n      <td>0.214529</td>\n      <td>0.074737</td>\n      <td>1.000000</td>\n      <td>0.103754</td>\n    </tr>\n    <tr>\n      <th>city</th>\n      <td>0.180029</td>\n      <td>0.208936</td>\n      <td>0.010946</td>\n      <td>0.460251</td>\n      <td>-0.053112</td>\n      <td>-0.180899</td>\n      <td>-0.180899</td>\n      <td>0.004103</td>\n      <td>-0.084277</td>\n      <td>-0.071446</td>\n      <td>0.073377</td>\n      <td>0.087353</td>\n      <td>0.017778</td>\n      <td>0.103754</td>\n      <td>1.000000</td>\n    </tr>\n  </tbody>\n</table>\n</div>"
     },
     "execution_count": 47,
     "metadata": {},
     "output_type": "execute_result"
    }
   ],
   "source": [
    "df.corr()"
   ],
   "metadata": {
    "collapsed": false,
    "ExecuteTime": {
     "end_time": "2023-11-25T03:07:34.009160400Z",
     "start_time": "2023-11-25T03:07:33.852159900Z"
    }
   },
   "id": "80ad325731151aa3"
  },
  {
   "cell_type": "code",
   "execution_count": 48,
   "outputs": [
    {
     "data": {
      "text/plain": "Index(['rashod_name', 'year', 'y1', 'id', 'building_year', 'object_square',\n       'building_square', 'balance', 'revaluation', 'depreciation',\n       'residual_value', 'technical_condition', 'quarter', 'otdel', 'city'],\n      dtype='object')"
     },
     "execution_count": 48,
     "metadata": {},
     "output_type": "execute_result"
    }
   ],
   "source": [
    "df.columns"
   ],
   "metadata": {
    "collapsed": false,
    "ExecuteTime": {
     "end_time": "2023-11-25T03:07:34.010158Z",
     "start_time": "2023-11-25T03:07:33.883158900Z"
    }
   },
   "id": "e5cce5c2ce48ac90"
  },
  {
   "cell_type": "code",
   "execution_count": 49,
   "outputs": [
    {
     "data": {
      "text/plain": "rashod_name              int64\nyear                     int64\ny1                     float64\nid                       int64\nbuilding_year            int64\nobject_square          float64\nbuilding_square        float64\nbalance                float64\nrevaluation            float64\ndepreciation           float64\nresidual_value         float64\ntechnical_condition      int64\nquarter                  int64\notdel                    int64\ncity                     int64\ndtype: object"
     },
     "execution_count": 49,
     "metadata": {},
     "output_type": "execute_result"
    }
   ],
   "source": [
    "df.dtypes"
   ],
   "metadata": {
    "collapsed": false,
    "ExecuteTime": {
     "end_time": "2023-11-25T03:07:34.010158Z",
     "start_time": "2023-11-25T03:07:33.899159700Z"
    }
   },
   "id": "6d19340d6a880f0a"
  },
  {
   "cell_type": "code",
   "execution_count": 50,
   "outputs": [
    {
     "data": {
      "text/plain": "array([ 103.08,  103.08,  103.08, ...,  751.4 , 1249.12,  234.33])"
     },
     "execution_count": 50,
     "metadata": {},
     "output_type": "execute_result"
    }
   ],
   "source": [
    "y = np.array(df[\"y1\"])\n",
    "y"
   ],
   "metadata": {
    "collapsed": false,
    "ExecuteTime": {
     "end_time": "2023-11-25T03:07:34.010158Z",
     "start_time": "2023-11-25T03:07:33.913158100Z"
    }
   },
   "id": "c9b6cbfba44e2c7f"
  },
  {
   "cell_type": "code",
   "execution_count": 51,
   "outputs": [
    {
     "data": {
      "text/plain": "array([[2.7751e+04, 2.0160e+03, 0.0000e+00, ..., 1.0000e+00, 2.8240e+04,\n        5.4120e+03],\n       [2.7751e+04, 2.0160e+03, 0.0000e+00, ..., 2.0000e+00, 2.8240e+04,\n        5.4120e+03],\n       [2.7751e+04, 2.0160e+03, 0.0000e+00, ..., 3.0000e+00, 2.8240e+04,\n        5.4120e+03],\n       ...,\n       [2.9480e+04, 2.0210e+03, 2.1300e+03, ..., 4.0000e+00, 2.9480e+04,\n        2.9480e+04],\n       [2.9480e+04, 2.0210e+03, 2.1300e+03, ..., 4.0000e+00, 2.9480e+04,\n        2.9480e+04],\n       [2.9480e+04, 2.0210e+03, 2.1300e+03, ..., 4.0000e+00, 2.9480e+04,\n        2.9480e+04]])"
     },
     "execution_count": 51,
     "metadata": {},
     "output_type": "execute_result"
    }
   ],
   "source": [
    "df = df.drop([\"y1\"], axis=1)\n",
    "x = np.array(df)\n",
    "x"
   ],
   "metadata": {
    "collapsed": false,
    "ExecuteTime": {
     "end_time": "2023-11-25T03:07:34.011158600Z",
     "start_time": "2023-11-25T03:07:33.931160900Z"
    }
   },
   "id": "c5f4b5860b5b04fd"
  },
  {
   "cell_type": "code",
   "execution_count": 52,
   "outputs": [],
   "source": [
    "layer = keras.layers.Normalization(axis=None)\n",
    "layer.adapt(x)"
   ],
   "metadata": {
    "collapsed": false,
    "ExecuteTime": {
     "end_time": "2023-11-25T03:07:34.571158600Z",
     "start_time": "2023-11-25T03:07:33.945159900Z"
    }
   },
   "id": "275599707b054796"
  },
  {
   "cell_type": "code",
   "execution_count": 53,
   "outputs": [
    {
     "data": {
      "text/plain": "array([[2.9447e+04, 2.0210e+03, 2.0610e+03, ..., 3.0000e+00, 2.9402e+04,\n        2.9397e+04],\n       [2.9185e+04, 2.0160e+03, 2.1000e+02, ..., 1.0000e+00, 2.9402e+04,\n        2.8688e+04],\n       [2.7751e+04, 2.0160e+03, 3.0000e+01, ..., 2.0000e+00, 2.8240e+04,\n        2.5888e+04],\n       ...,\n       [2.7751e+04, 2.0170e+03, 2.7000e+01, ..., 3.0000e+00, 2.8240e+04,\n        5.4120e+03],\n       [2.7751e+04, 2.0160e+03, 2.2000e+01, ..., 1.0000e+00, 2.8240e+04,\n        5.4120e+03],\n       [2.9185e+04, 2.0160e+03, 2.9400e+02, ..., 1.0000e+00, 2.9402e+04,\n        1.4469e+04]])"
     },
     "execution_count": 53,
     "metadata": {},
     "output_type": "execute_result"
    }
   ],
   "source": [
    "x_train, x_test, y_train, y_test = train_test_split(x, y, test_size=0.2, random_state=228)\n",
    "x_test"
   ],
   "metadata": {
    "collapsed": false,
    "ExecuteTime": {
     "end_time": "2023-11-25T03:07:34.591158100Z",
     "start_time": "2023-11-25T03:07:34.572160100Z"
    }
   },
   "id": "e0ef4149c91c8108"
  },
  {
   "cell_type": "code",
   "execution_count": 54,
   "outputs": [
    {
     "name": "stdout",
     "output_type": "stream",
     "text": [
      "Model: \"sequential_2\"\n",
      "_________________________________________________________________\n",
      " Layer (type)                Output Shape              Param #   \n",
      "=================================================================\n",
      " normalization_3 (Normalizat  (None, 14)               3         \n",
      " ion)                                                            \n",
      "                                                                 \n",
      " dense_10 (Dense)            (None, 32)                480       \n",
      "                                                                 \n",
      " dense_11 (Dense)            (None, 64)                2112      \n",
      "                                                                 \n",
      " dense_12 (Dense)            (None, 128)               8320      \n",
      "                                                                 \n",
      " dense_13 (Dense)            (None, 32)                4128      \n",
      "                                                                 \n",
      " dense_14 (Dense)            (None, 1)                 33        \n",
      "                                                                 \n",
      "=================================================================\n",
      "Total params: 15,076\n",
      "Trainable params: 15,073\n",
      "Non-trainable params: 3\n",
      "_________________________________________________________________\n"
     ]
    }
   ],
   "source": [
    "model = keras.Sequential()\n",
    "model.add(layers.Input(shape=x_train.shape[-1]))\n",
    "model.add(layer)\n",
    "model.add(layers.Dense(32, activation=\"relu\"))\n",
    "model.add(layers.Dense(64, activation=\"relu\"))\n",
    "model.add(layers.Dense(128, activation=\"relu\"))\n",
    "model.add(layers.Dense(32, activation=\"relu\"))\n",
    "model.add(layers.Dense(1, activation=\"relu\"))\n",
    "model.summary()\n",
    "model.compile(loss=\"mse\", optimizer=\"adam\", metrics=[\"mean_absolute_percentage_error\"])"
   ],
   "metadata": {
    "collapsed": false,
    "ExecuteTime": {
     "end_time": "2023-11-25T03:07:34.653161900Z",
     "start_time": "2023-11-25T03:07:34.592159600Z"
    }
   },
   "id": "7733b2c7bfdef2ce"
  },
  {
   "cell_type": "code",
   "execution_count": 55,
   "outputs": [
    {
     "name": "stdout",
     "output_type": "stream",
     "text": [
      "Epoch 1/200\n",
      "737/737 [==============================] - 1s 941us/step - loss: 199455440896.0000 - mean_absolute_percentage_error: 158198.9688\n",
      "Epoch 2/200\n",
      "737/737 [==============================] - 1s 870us/step - loss: 197561499648.0000 - mean_absolute_percentage_error: 250245.9219\n",
      "Epoch 3/200\n",
      "737/737 [==============================] - 1s 874us/step - loss: 197300994048.0000 - mean_absolute_percentage_error: 263485.6562\n",
      "Epoch 4/200\n",
      "737/737 [==============================] - 1s 910us/step - loss: 197000101888.0000 - mean_absolute_percentage_error: 277394.5938\n",
      "Epoch 5/200\n",
      "737/737 [==============================] - 1s 879us/step - loss: 196724948992.0000 - mean_absolute_percentage_error: 266071.5938\n",
      "Epoch 6/200\n",
      "737/737 [==============================] - 1s 875us/step - loss: 196534861824.0000 - mean_absolute_percentage_error: 270424.8438\n",
      "Epoch 7/200\n",
      "737/737 [==============================] - 1s 902us/step - loss: 196319428608.0000 - mean_absolute_percentage_error: 269986.9375\n",
      "Epoch 8/200\n",
      "737/737 [==============================] - 1s 864us/step - loss: 196147183616.0000 - mean_absolute_percentage_error: 278114.3125\n",
      "Epoch 9/200\n",
      "737/737 [==============================] - 1s 891us/step - loss: 196081680384.0000 - mean_absolute_percentage_error: 274269.6250\n",
      "Epoch 10/200\n",
      "737/737 [==============================] - 1s 917us/step - loss: 195984343040.0000 - mean_absolute_percentage_error: 268025.7812\n",
      "Epoch 11/200\n",
      "737/737 [==============================] - 1s 890us/step - loss: 195850665984.0000 - mean_absolute_percentage_error: 272179.2812\n",
      "Epoch 12/200\n",
      "737/737 [==============================] - 1s 920us/step - loss: 195765272576.0000 - mean_absolute_percentage_error: 271074.6250\n",
      "Epoch 13/200\n",
      "737/737 [==============================] - 1s 861us/step - loss: 195669164032.0000 - mean_absolute_percentage_error: 268674.5312\n",
      "Epoch 14/200\n",
      "737/737 [==============================] - 1s 874us/step - loss: 195476946944.0000 - mean_absolute_percentage_error: 276723.3750\n",
      "Epoch 15/200\n",
      "737/737 [==============================] - 1s 876us/step - loss: 195419373568.0000 - mean_absolute_percentage_error: 272037.8438\n",
      "Epoch 16/200\n",
      "737/737 [==============================] - 1s 917us/step - loss: 195373973504.0000 - mean_absolute_percentage_error: 274053.3750\n",
      "Epoch 17/200\n",
      "737/737 [==============================] - 1s 878us/step - loss: 195292168192.0000 - mean_absolute_percentage_error: 277482.4688\n",
      "Epoch 18/200\n",
      "737/737 [==============================] - 1s 872us/step - loss: 195156033536.0000 - mean_absolute_percentage_error: 271500.1562\n",
      "Epoch 19/200\n",
      "737/737 [==============================] - 1s 844us/step - loss: 195040690176.0000 - mean_absolute_percentage_error: 279974.7812\n",
      "Epoch 20/200\n",
      "737/737 [==============================] - 1s 846us/step - loss: 195017113600.0000 - mean_absolute_percentage_error: 284568.4375\n",
      "Epoch 21/200\n",
      "737/737 [==============================] - 1s 925us/step - loss: 194718662656.0000 - mean_absolute_percentage_error: 288737.0938\n",
      "Epoch 22/200\n",
      "737/737 [==============================] - 1s 910us/step - loss: 194835087360.0000 - mean_absolute_percentage_error: 282808.5938\n",
      "Epoch 23/200\n",
      "737/737 [==============================] - 1s 879us/step - loss: 194723741696.0000 - mean_absolute_percentage_error: 286251.9375\n",
      "Epoch 24/200\n",
      "737/737 [==============================] - 1s 871us/step - loss: 194657779712.0000 - mean_absolute_percentage_error: 274516.2188\n",
      "Epoch 25/200\n",
      "737/737 [==============================] - 1s 863us/step - loss: 194583330816.0000 - mean_absolute_percentage_error: 282025.5000\n",
      "Epoch 26/200\n",
      "737/737 [==============================] - 1s 870us/step - loss: 194461417472.0000 - mean_absolute_percentage_error: 281965.0625\n",
      "Epoch 27/200\n",
      "737/737 [==============================] - 1s 890us/step - loss: 194531573760.0000 - mean_absolute_percentage_error: 288312.0625\n",
      "Epoch 28/200\n",
      "737/737 [==============================] - 1s 876us/step - loss: 194402238464.0000 - mean_absolute_percentage_error: 282148.5625\n",
      "Epoch 29/200\n",
      "737/737 [==============================] - 1s 896us/step - loss: 194329903104.0000 - mean_absolute_percentage_error: 278524.8750\n",
      "Epoch 30/200\n",
      "737/737 [==============================] - 1s 865us/step - loss: 194258010112.0000 - mean_absolute_percentage_error: 273847.7188\n",
      "Epoch 31/200\n",
      "737/737 [==============================] - 1s 867us/step - loss: 194216280064.0000 - mean_absolute_percentage_error: 285390.8125\n",
      "Epoch 32/200\n",
      "737/737 [==============================] - 1s 885us/step - loss: 194157805568.0000 - mean_absolute_percentage_error: 281095.1250\n",
      "Epoch 33/200\n",
      "737/737 [==============================] - 1s 913us/step - loss: 194066743296.0000 - mean_absolute_percentage_error: 269254.2812\n",
      "Epoch 34/200\n",
      "737/737 [==============================] - 1s 909us/step - loss: 194063040512.0000 - mean_absolute_percentage_error: 288901.8125\n",
      "Epoch 35/200\n",
      "737/737 [==============================] - 1s 908us/step - loss: 193956364288.0000 - mean_absolute_percentage_error: 266921.1875\n",
      "Epoch 36/200\n",
      "737/737 [==============================] - 1s 931us/step - loss: 194058010624.0000 - mean_absolute_percentage_error: 271602.8438\n",
      "Epoch 37/200\n",
      "737/737 [==============================] - 1s 933us/step - loss: 193907507200.0000 - mean_absolute_percentage_error: 264814.6875\n",
      "Epoch 38/200\n",
      "737/737 [==============================] - 1s 954us/step - loss: 193878917120.0000 - mean_absolute_percentage_error: 273718.0000\n",
      "Epoch 39/200\n",
      "737/737 [==============================] - 1s 965us/step - loss: 193856765952.0000 - mean_absolute_percentage_error: 272274.5312\n",
      "Epoch 40/200\n",
      "737/737 [==============================] - 1s 1ms/step - loss: 193741438976.0000 - mean_absolute_percentage_error: 270153.5625\n",
      "Epoch 41/200\n",
      "737/737 [==============================] - 1s 917us/step - loss: 193636122624.0000 - mean_absolute_percentage_error: 266575.1250\n",
      "Epoch 42/200\n",
      "737/737 [==============================] - 1s 864us/step - loss: 193645723648.0000 - mean_absolute_percentage_error: 272785.7188\n",
      "Epoch 43/200\n",
      "737/737 [==============================] - 1s 855us/step - loss: 193623932928.0000 - mean_absolute_percentage_error: 264661.8750\n",
      "Epoch 44/200\n",
      "737/737 [==============================] - 1s 865us/step - loss: 193612218368.0000 - mean_absolute_percentage_error: 275528.0938\n",
      "Epoch 45/200\n",
      "737/737 [==============================] - 1s 861us/step - loss: 193492566016.0000 - mean_absolute_percentage_error: 268747.5625\n",
      "Epoch 46/200\n",
      "737/737 [==============================] - 1s 861us/step - loss: 193504296960.0000 - mean_absolute_percentage_error: 265422.7500\n",
      "Epoch 47/200\n",
      "737/737 [==============================] - 1s 859us/step - loss: 193438662656.0000 - mean_absolute_percentage_error: 272214.3125\n",
      "Epoch 48/200\n",
      "737/737 [==============================] - 1s 857us/step - loss: 193335803904.0000 - mean_absolute_percentage_error: 266044.7500\n",
      "Epoch 49/200\n",
      "737/737 [==============================] - 1s 853us/step - loss: 193315192832.0000 - mean_absolute_percentage_error: 265936.6250\n",
      "Epoch 50/200\n",
      "737/737 [==============================] - 1s 855us/step - loss: 193381974016.0000 - mean_absolute_percentage_error: 268941.8750\n",
      "Epoch 51/200\n",
      "737/737 [==============================] - 1s 861us/step - loss: 193252671488.0000 - mean_absolute_percentage_error: 273051.3750\n",
      "Epoch 52/200\n",
      "737/737 [==============================] - 1s 859us/step - loss: 193271054336.0000 - mean_absolute_percentage_error: 267343.1250\n",
      "Epoch 53/200\n",
      "737/737 [==============================] - 1s 871us/step - loss: 193207648256.0000 - mean_absolute_percentage_error: 261742.7656\n",
      "Epoch 54/200\n",
      "737/737 [==============================] - 1s 859us/step - loss: 193198456832.0000 - mean_absolute_percentage_error: 270478.5312\n",
      "Epoch 55/200\n",
      "737/737 [==============================] - 1s 855us/step - loss: 193167900672.0000 - mean_absolute_percentage_error: 265886.4062\n",
      "Epoch 56/200\n",
      "737/737 [==============================] - 1s 853us/step - loss: 193046773760.0000 - mean_absolute_percentage_error: 273125.8750\n",
      "Epoch 57/200\n",
      "737/737 [==============================] - 1s 853us/step - loss: 193140965376.0000 - mean_absolute_percentage_error: 268850.7500\n",
      "Epoch 58/200\n",
      "737/737 [==============================] - 1s 851us/step - loss: 193168834560.0000 - mean_absolute_percentage_error: 274777.2188\n",
      "Epoch 59/200\n",
      "737/737 [==============================] - 1s 855us/step - loss: 193105985536.0000 - mean_absolute_percentage_error: 270815.9688\n",
      "Epoch 60/200\n",
      "737/737 [==============================] - 1s 845us/step - loss: 193039597568.0000 - mean_absolute_percentage_error: 273863.8750\n",
      "Epoch 61/200\n",
      "737/737 [==============================] - 1s 857us/step - loss: 193001865216.0000 - mean_absolute_percentage_error: 257905.7656\n",
      "Epoch 62/200\n",
      "737/737 [==============================] - 1s 849us/step - loss: 193083293696.0000 - mean_absolute_percentage_error: 264943.2812\n",
      "Epoch 63/200\n",
      "737/737 [==============================] - 1s 851us/step - loss: 193011040256.0000 - mean_absolute_percentage_error: 269576.5625\n",
      "Epoch 64/200\n",
      "737/737 [==============================] - 1s 863us/step - loss: 193023918080.0000 - mean_absolute_percentage_error: 268470.2812\n",
      "Epoch 65/200\n",
      "737/737 [==============================] - 1s 876us/step - loss: 192955809792.0000 - mean_absolute_percentage_error: 258309.9531\n",
      "Epoch 66/200\n",
      "737/737 [==============================] - 1s 854us/step - loss: 192964460544.0000 - mean_absolute_percentage_error: 259873.9688\n",
      "Epoch 67/200\n",
      "737/737 [==============================] - 1s 860us/step - loss: 192910786560.0000 - mean_absolute_percentage_error: 267850.6875\n",
      "Epoch 68/200\n",
      "737/737 [==============================] - 1s 870us/step - loss: 192989904896.0000 - mean_absolute_percentage_error: 276698.1250\n",
      "Epoch 69/200\n",
      "737/737 [==============================] - 1s 876us/step - loss: 192858537984.0000 - mean_absolute_percentage_error: 272156.9375\n",
      "Epoch 70/200\n",
      "737/737 [==============================] - 1s 865us/step - loss: 192948076544.0000 - mean_absolute_percentage_error: 266533.3750\n",
      "Epoch 71/200\n",
      "737/737 [==============================] - 1s 865us/step - loss: 192958464000.0000 - mean_absolute_percentage_error: 269191.9375\n",
      "Epoch 72/200\n",
      "737/737 [==============================] - 1s 858us/step - loss: 192985563136.0000 - mean_absolute_percentage_error: 269126.5938\n",
      "Epoch 73/200\n",
      "737/737 [==============================] - 1s 863us/step - loss: 192930332672.0000 - mean_absolute_percentage_error: 266201.5625\n",
      "Epoch 74/200\n",
      "737/737 [==============================] - 1s 856us/step - loss: 192834322432.0000 - mean_absolute_percentage_error: 278084.3438\n",
      "Epoch 75/200\n",
      "737/737 [==============================] - 1s 861us/step - loss: 192861093888.0000 - mean_absolute_percentage_error: 272199.0312\n",
      "Epoch 76/200\n",
      "737/737 [==============================] - 1s 853us/step - loss: 192817283072.0000 - mean_absolute_percentage_error: 258915.5781\n",
      "Epoch 77/200\n",
      "737/737 [==============================] - 1s 853us/step - loss: 193004093440.0000 - mean_absolute_percentage_error: 270629.6562\n",
      "Epoch 78/200\n",
      "737/737 [==============================] - 1s 864us/step - loss: 192882966528.0000 - mean_absolute_percentage_error: 265519.5312\n",
      "Epoch 79/200\n",
      "737/737 [==============================] - 1s 851us/step - loss: 192868089856.0000 - mean_absolute_percentage_error: 266069.9688\n",
      "Epoch 80/200\n",
      "737/737 [==============================] - 1s 855us/step - loss: 192880410624.0000 - mean_absolute_percentage_error: 269783.0625\n",
      "Epoch 81/200\n",
      "737/737 [==============================] - 1s 849us/step - loss: 192826507264.0000 - mean_absolute_percentage_error: 270141.4375\n",
      "Epoch 82/200\n",
      "737/737 [==============================] - 1s 852us/step - loss: 192875970560.0000 - mean_absolute_percentage_error: 275911.6875\n",
      "Epoch 83/200\n",
      "737/737 [==============================] - 1s 857us/step - loss: 192831488000.0000 - mean_absolute_percentage_error: 259489.7812\n",
      "Epoch 84/200\n",
      "737/737 [==============================] - 1s 860us/step - loss: 192926171136.0000 - mean_absolute_percentage_error: 261683.5000\n",
      "Epoch 85/200\n",
      "737/737 [==============================] - 1s 859us/step - loss: 192841007104.0000 - mean_absolute_percentage_error: 271888.6562\n",
      "Epoch 86/200\n",
      "737/737 [==============================] - 1s 868us/step - loss: 192925696000.0000 - mean_absolute_percentage_error: 266191.6875\n",
      "Epoch 87/200\n",
      "737/737 [==============================] - 1s 857us/step - loss: 192837206016.0000 - mean_absolute_percentage_error: 265840.0312\n",
      "Epoch 88/200\n",
      "737/737 [==============================] - 1s 864us/step - loss: 192941801472.0000 - mean_absolute_percentage_error: 266185.1562\n",
      "Epoch 89/200\n",
      "737/737 [==============================] - 1s 860us/step - loss: 192705265664.0000 - mean_absolute_percentage_error: 274032.9688\n",
      "Epoch 90/200\n",
      "737/737 [==============================] - 1s 859us/step - loss: 192804798464.0000 - mean_absolute_percentage_error: 261490.3594\n",
      "Epoch 91/200\n",
      "737/737 [==============================] - 1s 859us/step - loss: 192871596032.0000 - mean_absolute_percentage_error: 268192.1250\n",
      "Epoch 92/200\n",
      "737/737 [==============================] - 1s 860us/step - loss: 192851410944.0000 - mean_absolute_percentage_error: 263859.0312\n",
      "Epoch 93/200\n",
      "737/737 [==============================] - 1s 857us/step - loss: 192707739648.0000 - mean_absolute_percentage_error: 281979.4688\n",
      "Epoch 94/200\n",
      "737/737 [==============================] - 1s 861us/step - loss: 192819724288.0000 - mean_absolute_percentage_error: 273968.9688\n",
      "Epoch 95/200\n",
      "737/737 [==============================] - 1s 868us/step - loss: 192762101760.0000 - mean_absolute_percentage_error: 264877.2500\n",
      "Epoch 96/200\n",
      "737/737 [==============================] - 1s 860us/step - loss: 192774062080.0000 - mean_absolute_percentage_error: 268452.8125\n",
      "Epoch 97/200\n",
      "737/737 [==============================] - 1s 857us/step - loss: 192769966080.0000 - mean_absolute_percentage_error: 266397.9375\n",
      "Epoch 98/200\n",
      "737/737 [==============================] - 1s 853us/step - loss: 192652656640.0000 - mean_absolute_percentage_error: 268348.6562\n",
      "Epoch 99/200\n",
      "737/737 [==============================] - 1s 853us/step - loss: 192807206912.0000 - mean_absolute_percentage_error: 271970.3125\n",
      "Epoch 100/200\n",
      "737/737 [==============================] - 1s 860us/step - loss: 192674332672.0000 - mean_absolute_percentage_error: 272698.7188\n",
      "Epoch 101/200\n",
      "737/737 [==============================] - 1s 855us/step - loss: 192653180928.0000 - mean_absolute_percentage_error: 264389.2812\n",
      "Epoch 102/200\n",
      "737/737 [==============================] - 1s 853us/step - loss: 192677511168.0000 - mean_absolute_percentage_error: 274963.6562\n",
      "Epoch 103/200\n",
      "737/737 [==============================] - 1s 868us/step - loss: 192457457664.0000 - mean_absolute_percentage_error: 260486.1406\n",
      "Epoch 104/200\n",
      "737/737 [==============================] - 1s 859us/step - loss: 192855392256.0000 - mean_absolute_percentage_error: 267903.0312\n",
      "Epoch 105/200\n",
      "737/737 [==============================] - 1s 860us/step - loss: 192592904192.0000 - mean_absolute_percentage_error: 263790.8125\n",
      "Epoch 106/200\n",
      "737/737 [==============================] - 1s 860us/step - loss: 192649740288.0000 - mean_absolute_percentage_error: 278712.9375\n",
      "Epoch 107/200\n",
      "737/737 [==============================] - 1s 859us/step - loss: 192559939584.0000 - mean_absolute_percentage_error: 266139.3125\n",
      "Epoch 108/200\n",
      "737/737 [==============================] - 1s 853us/step - loss: 192702038016.0000 - mean_absolute_percentage_error: 261229.3750\n",
      "Epoch 109/200\n",
      "737/737 [==============================] - 1s 875us/step - loss: 192893206528.0000 - mean_absolute_percentage_error: 267002.5000\n",
      "Epoch 110/200\n",
      "737/737 [==============================] - 1s 865us/step - loss: 192770048000.0000 - mean_absolute_percentage_error: 272515.1250\n",
      "Epoch 111/200\n",
      "737/737 [==============================] - 1s 859us/step - loss: 192561070080.0000 - mean_absolute_percentage_error: 264827.5000\n",
      "Epoch 112/200\n",
      "737/737 [==============================] - 1s 875us/step - loss: 192650477568.0000 - mean_absolute_percentage_error: 265103.3750\n",
      "Epoch 113/200\n",
      "737/737 [==============================] - 1s 863us/step - loss: 192635699200.0000 - mean_absolute_percentage_error: 271652.1562\n",
      "Epoch 114/200\n",
      "737/737 [==============================] - 1s 855us/step - loss: 192674938880.0000 - mean_absolute_percentage_error: 270742.9375\n",
      "Epoch 115/200\n",
      "737/737 [==============================] - 1s 871us/step - loss: 192586006528.0000 - mean_absolute_percentage_error: 265577.7188\n",
      "Epoch 116/200\n",
      "737/737 [==============================] - 1s 865us/step - loss: 192501006336.0000 - mean_absolute_percentage_error: 274298.1250\n",
      "Epoch 117/200\n",
      "737/737 [==============================] - 1s 863us/step - loss: 192613433344.0000 - mean_absolute_percentage_error: 275197.6250\n",
      "Epoch 118/200\n",
      "737/737 [==============================] - 1s 859us/step - loss: 192702300160.0000 - mean_absolute_percentage_error: 270655.3125\n",
      "Epoch 119/200\n",
      "737/737 [==============================] - 1s 857us/step - loss: 192590921728.0000 - mean_absolute_percentage_error: 265482.3438\n",
      "Epoch 120/200\n",
      "737/737 [==============================] - 1s 1ms/step - loss: 192436600832.0000 - mean_absolute_percentage_error: 268709.2188\n",
      "Epoch 121/200\n",
      "737/737 [==============================] - 1s 859us/step - loss: 192574373888.0000 - mean_absolute_percentage_error: 264097.3125\n",
      "Epoch 122/200\n",
      "737/737 [==============================] - 1s 859us/step - loss: 192607289344.0000 - mean_absolute_percentage_error: 278537.7812\n",
      "Epoch 123/200\n",
      "737/737 [==============================] - 1s 860us/step - loss: 192531234816.0000 - mean_absolute_percentage_error: 270000.4375\n",
      "Epoch 124/200\n",
      "737/737 [==============================] - 1s 863us/step - loss: 192545570816.0000 - mean_absolute_percentage_error: 274557.9688\n",
      "Epoch 125/200\n",
      "737/737 [==============================] - 1s 859us/step - loss: 192584908800.0000 - mean_absolute_percentage_error: 264946.2500\n",
      "Epoch 126/200\n",
      "737/737 [==============================] - 1s 865us/step - loss: 192626688000.0000 - mean_absolute_percentage_error: 269777.5938\n",
      "Epoch 127/200\n",
      "737/737 [==============================] - 1s 859us/step - loss: 192547012608.0000 - mean_absolute_percentage_error: 271813.4062\n",
      "Epoch 128/200\n",
      "737/737 [==============================] - 1s 865us/step - loss: 192579698688.0000 - mean_absolute_percentage_error: 264576.0625\n",
      "Epoch 129/200\n",
      "737/737 [==============================] - 1s 868us/step - loss: 192541933568.0000 - mean_absolute_percentage_error: 279897.8438\n",
      "Epoch 130/200\n",
      "737/737 [==============================] - 1s 861us/step - loss: 192503545856.0000 - mean_absolute_percentage_error: 272550.7188\n",
      "Epoch 131/200\n",
      "737/737 [==============================] - 1s 857us/step - loss: 192453148672.0000 - mean_absolute_percentage_error: 269383.3750\n",
      "Epoch 132/200\n",
      "737/737 [==============================] - 1s 862us/step - loss: 192596541440.0000 - mean_absolute_percentage_error: 260824.8125\n",
      "Epoch 133/200\n",
      "737/737 [==============================] - 1s 879us/step - loss: 192557531136.0000 - mean_absolute_percentage_error: 265521.1875\n",
      "Epoch 134/200\n",
      "737/737 [==============================] - 1s 860us/step - loss: 192689668096.0000 - mean_absolute_percentage_error: 271074.1562\n",
      "Epoch 135/200\n",
      "737/737 [==============================] - 1s 857us/step - loss: 192452673536.0000 - mean_absolute_percentage_error: 261295.7188\n",
      "Epoch 136/200\n",
      "737/737 [==============================] - 1s 871us/step - loss: 192515801088.0000 - mean_absolute_percentage_error: 270222.5938\n",
      "Epoch 137/200\n",
      "737/737 [==============================] - 1s 861us/step - loss: 192527155200.0000 - mean_absolute_percentage_error: 261215.1562\n",
      "Epoch 138/200\n",
      "737/737 [==============================] - 1s 861us/step - loss: 192521715712.0000 - mean_absolute_percentage_error: 267173.9062\n",
      "Epoch 139/200\n",
      "737/737 [==============================] - 1s 861us/step - loss: 192520880128.0000 - mean_absolute_percentage_error: 263289.0625\n",
      "Epoch 140/200\n",
      "737/737 [==============================] - 1s 863us/step - loss: 192444481536.0000 - mean_absolute_percentage_error: 263795.3750\n",
      "Epoch 141/200\n",
      "737/737 [==============================] - 1s 863us/step - loss: 192453017600.0000 - mean_absolute_percentage_error: 268744.5312\n",
      "Epoch 142/200\n",
      "737/737 [==============================] - 1s 845us/step - loss: 192306298880.0000 - mean_absolute_percentage_error: 266015.1875\n",
      "Epoch 143/200\n",
      "737/737 [==============================] - 1s 861us/step - loss: 192581877760.0000 - mean_absolute_percentage_error: 274728.0938\n",
      "Epoch 144/200\n",
      "737/737 [==============================] - 1s 863us/step - loss: 192466124800.0000 - mean_absolute_percentage_error: 263585.1250\n",
      "Epoch 145/200\n",
      "737/737 [==============================] - 1s 880us/step - loss: 192475348992.0000 - mean_absolute_percentage_error: 274658.2812\n",
      "Epoch 146/200\n",
      "737/737 [==============================] - 1s 872us/step - loss: 192430030848.0000 - mean_absolute_percentage_error: 268750.4062\n",
      "Epoch 147/200\n",
      "737/737 [==============================] - 1s 852us/step - loss: 192520601600.0000 - mean_absolute_percentage_error: 259737.9062\n",
      "Epoch 148/200\n",
      "737/737 [==============================] - 1s 862us/step - loss: 192320192512.0000 - mean_absolute_percentage_error: 256411.3281\n",
      "Epoch 149/200\n",
      "737/737 [==============================] - 1s 853us/step - loss: 192445890560.0000 - mean_absolute_percentage_error: 265987.6562\n",
      "Epoch 150/200\n",
      "737/737 [==============================] - 1s 853us/step - loss: 192480985088.0000 - mean_absolute_percentage_error: 285407.7500\n",
      "Epoch 151/200\n",
      "737/737 [==============================] - 1s 856us/step - loss: 192501710848.0000 - mean_absolute_percentage_error: 266328.8125\n",
      "Epoch 152/200\n",
      "737/737 [==============================] - 1s 858us/step - loss: 192504856576.0000 - mean_absolute_percentage_error: 275025.4688\n",
      "Epoch 153/200\n",
      "737/737 [==============================] - 1s 868us/step - loss: 192479641600.0000 - mean_absolute_percentage_error: 269405.9375\n",
      "Epoch 154/200\n",
      "737/737 [==============================] - 1s 860us/step - loss: 192450822144.0000 - mean_absolute_percentage_error: 275591.7500\n",
      "Epoch 155/200\n",
      "737/737 [==============================] - 1s 863us/step - loss: 192276824064.0000 - mean_absolute_percentage_error: 248965.4062\n",
      "Epoch 156/200\n",
      "737/737 [==============================] - 1s 864us/step - loss: 192374571008.0000 - mean_absolute_percentage_error: 275392.1875\n",
      "Epoch 157/200\n",
      "737/737 [==============================] - 1s 852us/step - loss: 192445431808.0000 - mean_absolute_percentage_error: 259812.6719\n",
      "Epoch 158/200\n",
      "737/737 [==============================] - 1s 864us/step - loss: 192480362496.0000 - mean_absolute_percentage_error: 269078.1562\n",
      "Epoch 159/200\n",
      "737/737 [==============================] - 1s 861us/step - loss: 192449085440.0000 - mean_absolute_percentage_error: 267856.7188\n",
      "Epoch 160/200\n",
      "737/737 [==============================] - 1s 860us/step - loss: 192465141760.0000 - mean_absolute_percentage_error: 267103.2188\n",
      "Epoch 161/200\n",
      "737/737 [==============================] - 1s 881us/step - loss: 192453951488.0000 - mean_absolute_percentage_error: 273624.8438\n",
      "Epoch 162/200\n",
      "737/737 [==============================] - 1s 867us/step - loss: 192176340992.0000 - mean_absolute_percentage_error: 252677.5312\n",
      "Epoch 163/200\n",
      "737/737 [==============================] - 1s 863us/step - loss: 192499073024.0000 - mean_absolute_percentage_error: 272894.0312\n",
      "Epoch 164/200\n",
      "737/737 [==============================] - 1s 862us/step - loss: 192500531200.0000 - mean_absolute_percentage_error: 257993.8594\n",
      "Epoch 165/200\n",
      "737/737 [==============================] - 1s 856us/step - loss: 192487358464.0000 - mean_absolute_percentage_error: 268950.0938\n",
      "Epoch 166/200\n",
      "737/737 [==============================] - 1s 856us/step - loss: 192289456128.0000 - mean_absolute_percentage_error: 260664.9844\n",
      "Epoch 167/200\n",
      "737/737 [==============================] - 1s 862us/step - loss: 192546979840.0000 - mean_absolute_percentage_error: 274961.6562\n",
      "Epoch 168/200\n",
      "737/737 [==============================] - 1s 869us/step - loss: 192397901824.0000 - mean_absolute_percentage_error: 264028.1562\n",
      "Epoch 169/200\n",
      "737/737 [==============================] - 1s 867us/step - loss: 192536166400.0000 - mean_absolute_percentage_error: 285660.5000\n",
      "Epoch 170/200\n",
      "737/737 [==============================] - 1s 861us/step - loss: 192399196160.0000 - mean_absolute_percentage_error: 255361.8594\n",
      "Epoch 171/200\n",
      "737/737 [==============================] - 1s 860us/step - loss: 192166117376.0000 - mean_absolute_percentage_error: 263647.1250\n",
      "Epoch 172/200\n",
      "737/737 [==============================] - 1s 858us/step - loss: 192534806528.0000 - mean_absolute_percentage_error: 268876.9688\n",
      "Epoch 173/200\n",
      "737/737 [==============================] - 1s 857us/step - loss: 192381485056.0000 - mean_absolute_percentage_error: 273700.2188\n",
      "Epoch 174/200\n",
      "737/737 [==============================] - 1s 858us/step - loss: 192514736128.0000 - mean_absolute_percentage_error: 267122.1250\n",
      "Epoch 175/200\n",
      "737/737 [==============================] - 1s 863us/step - loss: 192310558720.0000 - mean_absolute_percentage_error: 259108.4531\n",
      "Epoch 176/200\n",
      "737/737 [==============================] - 1s 857us/step - loss: 192308690944.0000 - mean_absolute_percentage_error: 273599.3438\n",
      "Epoch 177/200\n",
      "737/737 [==============================] - 1s 867us/step - loss: 192428113920.0000 - mean_absolute_percentage_error: 272008.7188\n",
      "Epoch 178/200\n",
      "737/737 [==============================] - 1s 867us/step - loss: 192323600384.0000 - mean_absolute_percentage_error: 268329.2812\n",
      "Epoch 179/200\n",
      "737/737 [==============================] - 1s 860us/step - loss: 192328384512.0000 - mean_absolute_percentage_error: 264320.4688\n",
      "Epoch 180/200\n",
      "737/737 [==============================] - 1s 860us/step - loss: 192263929856.0000 - mean_absolute_percentage_error: 264566.4375\n",
      "Epoch 181/200\n",
      "737/737 [==============================] - 1s 856us/step - loss: 192419414016.0000 - mean_absolute_percentage_error: 268896.2500\n",
      "Epoch 182/200\n",
      "737/737 [==============================] - 1s 857us/step - loss: 192300171264.0000 - mean_absolute_percentage_error: 280055.3125\n",
      "Epoch 183/200\n",
      "737/737 [==============================] - 1s 857us/step - loss: 192334626816.0000 - mean_absolute_percentage_error: 260520.7656\n",
      "Epoch 184/200\n",
      "737/737 [==============================] - 1s 855us/step - loss: 192385253376.0000 - mean_absolute_percentage_error: 262847.9688\n",
      "Epoch 185/200\n",
      "737/737 [==============================] - 1s 855us/step - loss: 192322682880.0000 - mean_absolute_percentage_error: 273928.6250\n",
      "Epoch 186/200\n",
      "737/737 [==============================] - 1s 868us/step - loss: 192439042048.0000 - mean_absolute_percentage_error: 281728.0938\n",
      "Epoch 187/200\n",
      "737/737 [==============================] - 1s 860us/step - loss: 192401473536.0000 - mean_absolute_percentage_error: 270389.1562\n",
      "Epoch 188/200\n",
      "737/737 [==============================] - 1s 856us/step - loss: 192437714944.0000 - mean_absolute_percentage_error: 273332.3438\n",
      "Epoch 189/200\n",
      "737/737 [==============================] - 1s 849us/step - loss: 192402341888.0000 - mean_absolute_percentage_error: 264338.5312\n",
      "Epoch 190/200\n",
      "737/737 [==============================] - 1s 854us/step - loss: 192527548416.0000 - mean_absolute_percentage_error: 275686.0938\n",
      "Epoch 191/200\n",
      "737/737 [==============================] - 1s 856us/step - loss: 192321142784.0000 - mean_absolute_percentage_error: 264790.5625\n",
      "Epoch 192/200\n",
      "737/737 [==============================] - 1s 885us/step - loss: 192282673152.0000 - mean_absolute_percentage_error: 264477.8438\n",
      "Epoch 193/200\n",
      "737/737 [==============================] - 1s 864us/step - loss: 192436011008.0000 - mean_absolute_percentage_error: 275210.6250\n",
      "Epoch 194/200\n",
      "737/737 [==============================] - 1s 864us/step - loss: 192309805056.0000 - mean_absolute_percentage_error: 265673.5625\n",
      "Epoch 195/200\n",
      "737/737 [==============================] - 1s 891us/step - loss: 192316538880.0000 - mean_absolute_percentage_error: 266973.3438\n",
      "Epoch 196/200\n",
      "737/737 [==============================] - 1s 949us/step - loss: 192314441728.0000 - mean_absolute_percentage_error: 256990.5000\n",
      "Epoch 197/200\n",
      "737/737 [==============================] - 1s 860us/step - loss: 192288866304.0000 - mean_absolute_percentage_error: 266820.0938\n",
      "Epoch 198/200\n",
      "737/737 [==============================] - 1s 856us/step - loss: 192404455424.0000 - mean_absolute_percentage_error: 270498.6250\n",
      "Epoch 199/200\n",
      "737/737 [==============================] - 1s 863us/step - loss: 192379289600.0000 - mean_absolute_percentage_error: 271787.6562\n",
      "Epoch 200/200\n",
      "737/737 [==============================] - 1s 867us/step - loss: 192374325248.0000 - mean_absolute_percentage_error: 258873.5156\n"
     ]
    },
    {
     "data": {
      "text/plain": "<keras.callbacks.History at 0x2e1c90e20d0>"
     },
     "execution_count": 55,
     "metadata": {},
     "output_type": "execute_result"
    }
   ],
   "source": [
    "model.fit(x=x_train, y=y_train, epochs=200, verbose=1)"
   ],
   "metadata": {
    "collapsed": false,
    "ExecuteTime": {
     "end_time": "2023-11-25T03:09:44.021290400Z",
     "start_time": "2023-11-25T03:07:34.649162Z"
    }
   },
   "id": "f71a444d733b23b3"
  },
  {
   "cell_type": "code",
   "execution_count": 56,
   "outputs": [
    {
     "name": "stdout",
     "output_type": "stream",
     "text": [
      "737/737 [==============================] - 1s 690us/step - loss: 192124076032.0000 - mean_absolute_percentage_error: 234588.5938\n"
     ]
    },
    {
     "data": {
      "text/plain": "[192124076032.0, 234588.59375]"
     },
     "execution_count": 56,
     "metadata": {},
     "output_type": "execute_result"
    }
   ],
   "source": [
    "model.evaluate(x=x_train, y=y_train)"
   ],
   "metadata": {
    "collapsed": false,
    "ExecuteTime": {
     "end_time": "2023-11-25T03:09:44.661290300Z",
     "start_time": "2023-11-25T03:09:44.014290800Z"
    }
   },
   "id": "fb75aafebd43a9ba"
  },
  {
   "cell_type": "code",
   "execution_count": 57,
   "outputs": [
    {
     "name": "stdout",
     "output_type": "stream",
     "text": [
      "185/185 [==============================] - 0s 636us/step\n"
     ]
    }
   ],
   "source": [
    "prediction = model.predict(x_test)"
   ],
   "metadata": {
    "collapsed": false,
    "ExecuteTime": {
     "end_time": "2023-11-25T03:09:44.916289300Z",
     "start_time": "2023-11-25T03:09:44.655287600Z"
    }
   },
   "id": "fc8101f41e022476"
  },
  {
   "cell_type": "code",
   "execution_count": 58,
   "outputs": [
    {
     "data": {
      "text/plain": "array([[79612.39 ],\n       [53565.8  ],\n       [19020.77 ],\n       ...,\n       [79859.   ],\n       [44401.7  ],\n       [79757.234]], dtype=float32)"
     },
     "execution_count": 58,
     "metadata": {},
     "output_type": "execute_result"
    }
   ],
   "source": [
    "prediction"
   ],
   "metadata": {
    "collapsed": false,
    "ExecuteTime": {
     "end_time": "2023-11-25T03:09:44.938290400Z",
     "start_time": "2023-11-25T03:09:44.918290500Z"
    }
   },
   "id": "96d8428fcfa6fe3"
  },
  {
   "cell_type": "code",
   "execution_count": 59,
   "outputs": [
    {
     "data": {
      "text/plain": "array([  258.91, 97932.94,   571.3 , ...,   736.87, 22642.74,  9812.99])"
     },
     "execution_count": 59,
     "metadata": {},
     "output_type": "execute_result"
    }
   ],
   "source": [
    "y_test"
   ],
   "metadata": {
    "collapsed": false,
    "ExecuteTime": {
     "end_time": "2023-11-25T03:09:44.965290200Z",
     "start_time": "2023-11-25T03:09:44.932289700Z"
    }
   },
   "id": "96c591fc3a86f233"
  },
  {
   "cell_type": "code",
   "execution_count": 60,
   "outputs": [
    {
     "data": {
      "text/plain": "1507.1795500286562"
     },
     "execution_count": 60,
     "metadata": {},
     "output_type": "execute_result"
    }
   ],
   "source": [
    "score = mean_absolute_percentage_error(y_pred=prediction, y_true=y_test)\n",
    "score"
   ],
   "metadata": {
    "collapsed": false,
    "ExecuteTime": {
     "end_time": "2023-11-25T03:09:44.965290200Z",
     "start_time": "2023-11-25T03:09:44.948289500Z"
    }
   },
   "id": "3409b0beca4ee37b"
  },
  {
   "cell_type": "code",
   "execution_count": 62,
   "outputs": [
    {
     "name": "stderr",
     "output_type": "stream",
     "text": [
      "WARNING:absl:Found untraced functions such as _update_step_xla while saving (showing 1 of 1). These functions will not be directly callable after loading.\n"
     ]
    },
    {
     "name": "stdout",
     "output_type": "stream",
     "text": [
      "INFO:tensorflow:Assets written to: Model\\assets\n"
     ]
    },
    {
     "name": "stderr",
     "output_type": "stream",
     "text": [
      "INFO:tensorflow:Assets written to: Model\\assets\n"
     ]
    }
   ],
   "source": [
    "model.save(\"Model\")"
   ],
   "metadata": {
    "collapsed": false,
    "ExecuteTime": {
     "end_time": "2023-11-25T03:11:28.266122200Z",
     "start_time": "2023-11-25T03:11:27.656124200Z"
    }
   },
   "id": "a0495430ffe7289d"
  }
 ],
 "metadata": {
  "kernelspec": {
   "display_name": "Python 3",
   "language": "python",
   "name": "python3"
  },
  "language_info": {
   "codemirror_mode": {
    "name": "ipython",
    "version": 2
   },
   "file_extension": ".py",
   "mimetype": "text/x-python",
   "name": "python",
   "nbconvert_exporter": "python",
   "pygments_lexer": "ipython2",
   "version": "2.7.6"
  }
 },
 "nbformat": 4,
 "nbformat_minor": 5
}
