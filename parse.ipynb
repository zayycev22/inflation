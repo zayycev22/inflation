{
 "cells": [
  {
   "cell_type": "code",
   "execution_count": 2,
   "id": "initial_id",
   "metadata": {
    "collapsed": true,
    "ExecuteTime": {
     "end_time": "2023-11-24T08:24:17.491114Z",
     "start_time": "2023-11-24T08:24:16.637114300Z"
    }
   },
   "outputs": [],
   "source": [
    "import pandas as pd\n",
    "import os\n",
    "\n",
    "LISTS = \"Lists ON\"\n",
    "KC = \"KC_TR_KR\"\n",
    "EXPENSES = \"Expenses\"\n",
    "\n"
   ]
  },
  {
   "cell_type": "code",
   "execution_count": 86,
   "outputs": [
    {
     "data": {
      "text/plain": "25"
     },
     "execution_count": 86,
     "metadata": {},
     "output_type": "execute_result"
    }
   ],
   "source": [
    "list_cols = [\"index\", \"object_name\", \"building_year\", \"balance_date\", \"object_square\", \"building_square\",\n",
    "             \"using_object_square\",\n",
    "             \"not_using_object\", \"for_rent_object\", \"rent_object\", \"sub_rent_object\", \"transferred_object\",\n",
    "             \"transferred_free_use_object\",\n",
    "             \"using_building_square\", \"not_using_building\", \"for_rent_building\", \"rent_building\", \"sub_rent_building\",\n",
    "             \"transferred_building\", \"transferred_free_use_building\", \"balance\", \"revaluation\", \"depreciation\",\n",
    "             \"residual_value\", \"technical_condition\"]\n",
    "len(list_cols)"
   ],
   "metadata": {
    "collapsed": false,
    "ExecuteTime": {
     "end_time": "2023-11-23T20:33:32.352376300Z",
     "start_time": "2023-11-23T20:33:32.315720600Z"
    }
   },
   "id": "c5a213ab5affc2d7"
  },
  {
   "cell_type": "code",
   "execution_count": 87,
   "outputs": [
    {
     "data": {
      "text/plain": "                      index  \\\n8    Отделение Благовещенск   \n9                         1   \n10                        2   \n11                        3   \n12                        4   \n..                      ...   \n548                     520   \n549                     521   \n550                     522   \n551                  Итого:   \n552                  ВСЕГО:   \n\n                                           object_name building_year  \\\n8                                                  NaN           NaN   \n9    Помещение объект № 2 (Вспомогательный), 675000...          1980   \n10   Административное здание, 676014, Амурская обла...          1978   \n11   Административное здание, лит. А, А1, 676980, К...          1959   \n12   Административное здание, 676530, Амурская обла...          1935   \n..                                                 ...           ...   \n548  Помещение гаража здания РКЦ, 689450, Чукотский...          1987   \n549  Пункт резервного энергоснабжения РКЦ (лит. А),...          1997   \n550  Теплая стоянка пункта резервного энергоснабжен...          1997   \n551                                                NaN           NaN   \n552                                                NaN           NaN   \n\n    balance_date object_square building_square using_object_square  \\\n8            NaN           NaN             NaN                 NaN   \n9     13.07.1990         217.7           217.7               217.7   \n10    27.12.1990         389.1           389.1                   0   \n11    27.12.1990         237.7           237.7                   0   \n12    27.12.1990         830.2           830.2                   0   \n..           ...           ...             ...                 ...   \n548   24.06.1991          70.1            70.1                70.1   \n549   27.10.1997          46.1            46.1                46.1   \n550   27.10.1997          43.9            43.9                43.9   \n551          NaN        5663.7          5663.7              5016.2   \n552          NaN     204875.82       204875.82           153157.09   \n\n    not_using_object for_rent_object rent_object  ... sub_rent_building  \\\n8                NaN             NaN         NaN  ...               NaN   \n9                  0               0           0  ...                 0   \n10                 0           389.1           0  ...                 0   \n11                 0               0           0  ...                 0   \n12             830.2               0           0  ...                 0   \n..               ...             ...         ...  ...               ...   \n548                0               0           0  ...                 0   \n549                0               0           0  ...                 0   \n550                0               0           0  ...                 0   \n551            516.5               0           0  ...                 0   \n552         17069.33        18674.22      3367.2  ...             940.7   \n\n    transferred_building transferred_free_use_building        balance  \\\n8                    NaN                           NaN            NaN   \n9                      0                             0     1638812.21   \n10                     0                             0     1050734.76   \n11                 237.7                             0      126711.23   \n12                     0                             0     1657840.58   \n..                   ...                           ...            ...   \n548                    0                             0            NaN   \n549                    0                             0     3167024.29   \n550                    0                             0            NaN   \n551                  131                             0   238957378.57   \n552             21015.65                             0  2886277186.24   \n\n      revaluation  depreciation residual_value technical_condition  year  \\\n8             NaN           NaN            NaN                 NaN  2016   \n9       937438.23     591497.66     1047314.55  Удовлетворительное  2016   \n10      771306.47     446494.59      604240.17  Удовлетворительное  2016   \n11       53749.02      93108.95       33602.28  Удовлетворительное  2016   \n12            NaN    1657840.58            NaN              Ветхое  2016   \n..            ...           ...            ...                 ...   ...   \n548           NaN           NaN            NaN  Удовлетворительное  2016   \n549      78402.86     702843.54     2464180.75             Хорошее  2016   \n550           NaN           NaN            NaN             Хорошее  2016   \n551   28476179.89   41361561.48   197595817.09                 NaN  2016   \n552  486324177.32  497271537.29  2389005648.95                 NaN  2016   \n\n    quarter  \n8         1  \n9         1  \n10        1  \n11        1  \n12        1  \n..      ...  \n548       1  \n549       1  \n550       1  \n551       1  \n552       1  \n\n[545 rows x 27 columns]",
      "text/html": "<div>\n<style scoped>\n    .dataframe tbody tr th:only-of-type {\n        vertical-align: middle;\n    }\n\n    .dataframe tbody tr th {\n        vertical-align: top;\n    }\n\n    .dataframe thead th {\n        text-align: right;\n    }\n</style>\n<table border=\"1\" class=\"dataframe\">\n  <thead>\n    <tr style=\"text-align: right;\">\n      <th></th>\n      <th>index</th>\n      <th>object_name</th>\n      <th>building_year</th>\n      <th>balance_date</th>\n      <th>object_square</th>\n      <th>building_square</th>\n      <th>using_object_square</th>\n      <th>not_using_object</th>\n      <th>for_rent_object</th>\n      <th>rent_object</th>\n      <th>...</th>\n      <th>sub_rent_building</th>\n      <th>transferred_building</th>\n      <th>transferred_free_use_building</th>\n      <th>balance</th>\n      <th>revaluation</th>\n      <th>depreciation</th>\n      <th>residual_value</th>\n      <th>technical_condition</th>\n      <th>year</th>\n      <th>quarter</th>\n    </tr>\n  </thead>\n  <tbody>\n    <tr>\n      <th>8</th>\n      <td>Отделение Благовещенск</td>\n      <td>NaN</td>\n      <td>NaN</td>\n      <td>NaN</td>\n      <td>NaN</td>\n      <td>NaN</td>\n      <td>NaN</td>\n      <td>NaN</td>\n      <td>NaN</td>\n      <td>NaN</td>\n      <td>...</td>\n      <td>NaN</td>\n      <td>NaN</td>\n      <td>NaN</td>\n      <td>NaN</td>\n      <td>NaN</td>\n      <td>NaN</td>\n      <td>NaN</td>\n      <td>NaN</td>\n      <td>2016</td>\n      <td>1</td>\n    </tr>\n    <tr>\n      <th>9</th>\n      <td>1</td>\n      <td>Помещение объект № 2 (Вспомогательный), 675000...</td>\n      <td>1980</td>\n      <td>13.07.1990</td>\n      <td>217.7</td>\n      <td>217.7</td>\n      <td>217.7</td>\n      <td>0</td>\n      <td>0</td>\n      <td>0</td>\n      <td>...</td>\n      <td>0</td>\n      <td>0</td>\n      <td>0</td>\n      <td>1638812.21</td>\n      <td>937438.23</td>\n      <td>591497.66</td>\n      <td>1047314.55</td>\n      <td>Удовлетворительное</td>\n      <td>2016</td>\n      <td>1</td>\n    </tr>\n    <tr>\n      <th>10</th>\n      <td>2</td>\n      <td>Административное здание, 676014, Амурская обла...</td>\n      <td>1978</td>\n      <td>27.12.1990</td>\n      <td>389.1</td>\n      <td>389.1</td>\n      <td>0</td>\n      <td>0</td>\n      <td>389.1</td>\n      <td>0</td>\n      <td>...</td>\n      <td>0</td>\n      <td>0</td>\n      <td>0</td>\n      <td>1050734.76</td>\n      <td>771306.47</td>\n      <td>446494.59</td>\n      <td>604240.17</td>\n      <td>Удовлетворительное</td>\n      <td>2016</td>\n      <td>1</td>\n    </tr>\n    <tr>\n      <th>11</th>\n      <td>3</td>\n      <td>Административное здание, лит. А, А1, 676980, К...</td>\n      <td>1959</td>\n      <td>27.12.1990</td>\n      <td>237.7</td>\n      <td>237.7</td>\n      <td>0</td>\n      <td>0</td>\n      <td>0</td>\n      <td>0</td>\n      <td>...</td>\n      <td>0</td>\n      <td>237.7</td>\n      <td>0</td>\n      <td>126711.23</td>\n      <td>53749.02</td>\n      <td>93108.95</td>\n      <td>33602.28</td>\n      <td>Удовлетворительное</td>\n      <td>2016</td>\n      <td>1</td>\n    </tr>\n    <tr>\n      <th>12</th>\n      <td>4</td>\n      <td>Административное здание, 676530, Амурская обла...</td>\n      <td>1935</td>\n      <td>27.12.1990</td>\n      <td>830.2</td>\n      <td>830.2</td>\n      <td>0</td>\n      <td>830.2</td>\n      <td>0</td>\n      <td>0</td>\n      <td>...</td>\n      <td>0</td>\n      <td>0</td>\n      <td>0</td>\n      <td>1657840.58</td>\n      <td>NaN</td>\n      <td>1657840.58</td>\n      <td>NaN</td>\n      <td>Ветхое</td>\n      <td>2016</td>\n      <td>1</td>\n    </tr>\n    <tr>\n      <th>...</th>\n      <td>...</td>\n      <td>...</td>\n      <td>...</td>\n      <td>...</td>\n      <td>...</td>\n      <td>...</td>\n      <td>...</td>\n      <td>...</td>\n      <td>...</td>\n      <td>...</td>\n      <td>...</td>\n      <td>...</td>\n      <td>...</td>\n      <td>...</td>\n      <td>...</td>\n      <td>...</td>\n      <td>...</td>\n      <td>...</td>\n      <td>...</td>\n      <td>...</td>\n      <td>...</td>\n    </tr>\n    <tr>\n      <th>548</th>\n      <td>520</td>\n      <td>Помещение гаража здания РКЦ, 689450, Чукотский...</td>\n      <td>1987</td>\n      <td>24.06.1991</td>\n      <td>70.1</td>\n      <td>70.1</td>\n      <td>70.1</td>\n      <td>0</td>\n      <td>0</td>\n      <td>0</td>\n      <td>...</td>\n      <td>0</td>\n      <td>0</td>\n      <td>0</td>\n      <td>NaN</td>\n      <td>NaN</td>\n      <td>NaN</td>\n      <td>NaN</td>\n      <td>Удовлетворительное</td>\n      <td>2016</td>\n      <td>1</td>\n    </tr>\n    <tr>\n      <th>549</th>\n      <td>521</td>\n      <td>Пункт резервного энергоснабжения РКЦ (лит. А),...</td>\n      <td>1997</td>\n      <td>27.10.1997</td>\n      <td>46.1</td>\n      <td>46.1</td>\n      <td>46.1</td>\n      <td>0</td>\n      <td>0</td>\n      <td>0</td>\n      <td>...</td>\n      <td>0</td>\n      <td>0</td>\n      <td>0</td>\n      <td>3167024.29</td>\n      <td>78402.86</td>\n      <td>702843.54</td>\n      <td>2464180.75</td>\n      <td>Хорошее</td>\n      <td>2016</td>\n      <td>1</td>\n    </tr>\n    <tr>\n      <th>550</th>\n      <td>522</td>\n      <td>Теплая стоянка пункта резервного энергоснабжен...</td>\n      <td>1997</td>\n      <td>27.10.1997</td>\n      <td>43.9</td>\n      <td>43.9</td>\n      <td>43.9</td>\n      <td>0</td>\n      <td>0</td>\n      <td>0</td>\n      <td>...</td>\n      <td>0</td>\n      <td>0</td>\n      <td>0</td>\n      <td>NaN</td>\n      <td>NaN</td>\n      <td>NaN</td>\n      <td>NaN</td>\n      <td>Хорошее</td>\n      <td>2016</td>\n      <td>1</td>\n    </tr>\n    <tr>\n      <th>551</th>\n      <td>Итого:</td>\n      <td>NaN</td>\n      <td>NaN</td>\n      <td>NaN</td>\n      <td>5663.7</td>\n      <td>5663.7</td>\n      <td>5016.2</td>\n      <td>516.5</td>\n      <td>0</td>\n      <td>0</td>\n      <td>...</td>\n      <td>0</td>\n      <td>131</td>\n      <td>0</td>\n      <td>238957378.57</td>\n      <td>28476179.89</td>\n      <td>41361561.48</td>\n      <td>197595817.09</td>\n      <td>NaN</td>\n      <td>2016</td>\n      <td>1</td>\n    </tr>\n    <tr>\n      <th>552</th>\n      <td>ВСЕГО:</td>\n      <td>NaN</td>\n      <td>NaN</td>\n      <td>NaN</td>\n      <td>204875.82</td>\n      <td>204875.82</td>\n      <td>153157.09</td>\n      <td>17069.33</td>\n      <td>18674.22</td>\n      <td>3367.2</td>\n      <td>...</td>\n      <td>940.7</td>\n      <td>21015.65</td>\n      <td>0</td>\n      <td>2886277186.24</td>\n      <td>486324177.32</td>\n      <td>497271537.29</td>\n      <td>2389005648.95</td>\n      <td>NaN</td>\n      <td>2016</td>\n      <td>1</td>\n    </tr>\n  </tbody>\n</table>\n<p>545 rows × 27 columns</p>\n</div>"
     },
     "execution_count": 87,
     "metadata": {},
     "output_type": "execute_result"
    }
   ],
   "source": [
    "list_df = pd.read_excel(f\"{LISTS}/List ON_2016/1 quarter 2016.xls\", sheet_name=1)\n",
    "list_df = list_df[8:]\n",
    "list_df.columns = list_cols\n",
    "list_df[\"year\"] = 2016\n",
    "list_df[\"quarter\"] = 1\n",
    "list_df"
   ],
   "metadata": {
    "collapsed": false,
    "ExecuteTime": {
     "end_time": "2023-11-23T20:33:32.706819300Z",
     "start_time": "2023-11-23T20:33:32.625819400Z"
    }
   },
   "id": "955dd5ebbbfde1e9"
  },
  {
   "cell_type": "code",
   "execution_count": 88,
   "outputs": [
    {
     "name": "stderr",
     "output_type": "stream",
     "text": [
      " 75%|███████▌  | 6/8 [00:01<00:00,  5.68it/s]\n"
     ]
    },
    {
     "data": {
      "text/plain": "                      index  \\\n8    Отделение Благовещенск   \n9                         1   \n10                        2   \n11                        3   \n12                        4   \n..                      ...   \n288                     264   \n289                     265   \n290                     266   \n291                  Итого:   \n292                  ВСЕГО:   \n\n                                           object_name building_year  \\\n8                                                  NaN           NaN   \n9    Помещение объект № 2 (Вспомогательный), 675000...          1980   \n10   Административное здание, 676014, Амурская обла...          1978   \n11   Административное здание, лит. А, А1, 676980, К...          1959   \n12   Административное здание, 676530, Амурская обла...          1935   \n..                                                 ...           ...   \n288  Помещение гаража Здания РКЦ, 689450, Чукотский...          1987   \n289  пункт резервного энергоснабжения, 689100, Чуко...          1997   \n290  Теплая стоянка пункта резервного энергоснабжен...          1997   \n291                                                NaN           NaN   \n292                                                NaN           NaN   \n\n    balance_date object_square building_square using_object_square  \\\n8            NaN           NaN             NaN                 NaN   \n9     13.07.1990         217.7           217.7               217.7   \n10    27.12.1990         389.1           389.1                   0   \n11    27.12.1990         237.7           237.7                   0   \n12    27.12.1990         830.2           830.2                   0   \n..           ...           ...             ...                 ...   \n288   09.01.2016          70.1            70.1                70.1   \n289   09.01.2016          49.4            49.4                   0   \n290   09.01.2016          46.9            46.9                   0   \n291          NaN        5580.6          5580.6              3846.6   \n292          NaN      109813.4        109813.4            84045.36   \n\n    not_using_object for_rent_object rent_object  ... sub_rent_building  \\\n8                NaN             NaN         NaN  ...               NaN   \n9                  0               0           0  ...                 0   \n10                 0           389.1           0  ...                 0   \n11                 0               0           0  ...                 0   \n12             830.2               0           0  ...                 0   \n..               ...             ...         ...  ...               ...   \n288                0               0           0  ...                 0   \n289             49.4               0           0  ...                 0   \n290             46.9               0           0  ...                 0   \n291            609.3           234.8           0  ...                 0   \n292           1285.4         3741.95      2747.2  ...                 0   \n\n    transferred_building transferred_free_use_building        balance  \\\n8                    NaN                           NaN            NaN   \n9                      0                             0     1638812.21   \n10                     0                             0     1050734.76   \n11                 237.7                             0      126711.23   \n12                     0                             0     1657840.58   \n..                   ...                           ...            ...   \n288                    0                             0            NaN   \n289                    0                             0     3167024.29   \n290                    0                             0            NaN   \n291                808.3                             0   234982136.16   \n292             20154.99                         145.8  2377351319.11   \n\n      revaluation  depreciation residual_value technical_condition  year  \\\n8             NaN           NaN            NaN                 NaN  2016   \n9       937438.23     591497.66     1047314.55  Удовлетворительное  2016   \n10      771306.47     446494.59      604240.17  Удовлетворительное  2016   \n11       53749.02      93108.95       33602.28  Удовлетворительное  2016   \n12            NaN    1657840.58            NaN              Ветхое  2016   \n..            ...           ...            ...                 ...   ...   \n288           NaN           NaN            NaN             Хорошее  2022   \n289      78402.86      949871.4     2217152.89             Хорошее  2022   \n290           NaN           NaN            NaN             Хорошее  2022   \n291   25793069.44   54805238.68   180176897.48                 NaN  2022   \n292  217198289.21  600610325.78  1769533293.56                 NaN  2022   \n\n    quarter  \n8         1  \n9         1  \n10        1  \n11        1  \n12        1  \n..      ...  \n288       3  \n289       3  \n290       3  \n291       3  \n292       3  \n\n[11443 rows x 27 columns]",
      "text/html": "<div>\n<style scoped>\n    .dataframe tbody tr th:only-of-type {\n        vertical-align: middle;\n    }\n\n    .dataframe tbody tr th {\n        vertical-align: top;\n    }\n\n    .dataframe thead th {\n        text-align: right;\n    }\n</style>\n<table border=\"1\" class=\"dataframe\">\n  <thead>\n    <tr style=\"text-align: right;\">\n      <th></th>\n      <th>index</th>\n      <th>object_name</th>\n      <th>building_year</th>\n      <th>balance_date</th>\n      <th>object_square</th>\n      <th>building_square</th>\n      <th>using_object_square</th>\n      <th>not_using_object</th>\n      <th>for_rent_object</th>\n      <th>rent_object</th>\n      <th>...</th>\n      <th>sub_rent_building</th>\n      <th>transferred_building</th>\n      <th>transferred_free_use_building</th>\n      <th>balance</th>\n      <th>revaluation</th>\n      <th>depreciation</th>\n      <th>residual_value</th>\n      <th>technical_condition</th>\n      <th>year</th>\n      <th>quarter</th>\n    </tr>\n  </thead>\n  <tbody>\n    <tr>\n      <th>8</th>\n      <td>Отделение Благовещенск</td>\n      <td>NaN</td>\n      <td>NaN</td>\n      <td>NaN</td>\n      <td>NaN</td>\n      <td>NaN</td>\n      <td>NaN</td>\n      <td>NaN</td>\n      <td>NaN</td>\n      <td>NaN</td>\n      <td>...</td>\n      <td>NaN</td>\n      <td>NaN</td>\n      <td>NaN</td>\n      <td>NaN</td>\n      <td>NaN</td>\n      <td>NaN</td>\n      <td>NaN</td>\n      <td>NaN</td>\n      <td>2016</td>\n      <td>1</td>\n    </tr>\n    <tr>\n      <th>9</th>\n      <td>1</td>\n      <td>Помещение объект № 2 (Вспомогательный), 675000...</td>\n      <td>1980</td>\n      <td>13.07.1990</td>\n      <td>217.7</td>\n      <td>217.7</td>\n      <td>217.7</td>\n      <td>0</td>\n      <td>0</td>\n      <td>0</td>\n      <td>...</td>\n      <td>0</td>\n      <td>0</td>\n      <td>0</td>\n      <td>1638812.21</td>\n      <td>937438.23</td>\n      <td>591497.66</td>\n      <td>1047314.55</td>\n      <td>Удовлетворительное</td>\n      <td>2016</td>\n      <td>1</td>\n    </tr>\n    <tr>\n      <th>10</th>\n      <td>2</td>\n      <td>Административное здание, 676014, Амурская обла...</td>\n      <td>1978</td>\n      <td>27.12.1990</td>\n      <td>389.1</td>\n      <td>389.1</td>\n      <td>0</td>\n      <td>0</td>\n      <td>389.1</td>\n      <td>0</td>\n      <td>...</td>\n      <td>0</td>\n      <td>0</td>\n      <td>0</td>\n      <td>1050734.76</td>\n      <td>771306.47</td>\n      <td>446494.59</td>\n      <td>604240.17</td>\n      <td>Удовлетворительное</td>\n      <td>2016</td>\n      <td>1</td>\n    </tr>\n    <tr>\n      <th>11</th>\n      <td>3</td>\n      <td>Административное здание, лит. А, А1, 676980, К...</td>\n      <td>1959</td>\n      <td>27.12.1990</td>\n      <td>237.7</td>\n      <td>237.7</td>\n      <td>0</td>\n      <td>0</td>\n      <td>0</td>\n      <td>0</td>\n      <td>...</td>\n      <td>0</td>\n      <td>237.7</td>\n      <td>0</td>\n      <td>126711.23</td>\n      <td>53749.02</td>\n      <td>93108.95</td>\n      <td>33602.28</td>\n      <td>Удовлетворительное</td>\n      <td>2016</td>\n      <td>1</td>\n    </tr>\n    <tr>\n      <th>12</th>\n      <td>4</td>\n      <td>Административное здание, 676530, Амурская обла...</td>\n      <td>1935</td>\n      <td>27.12.1990</td>\n      <td>830.2</td>\n      <td>830.2</td>\n      <td>0</td>\n      <td>830.2</td>\n      <td>0</td>\n      <td>0</td>\n      <td>...</td>\n      <td>0</td>\n      <td>0</td>\n      <td>0</td>\n      <td>1657840.58</td>\n      <td>NaN</td>\n      <td>1657840.58</td>\n      <td>NaN</td>\n      <td>Ветхое</td>\n      <td>2016</td>\n      <td>1</td>\n    </tr>\n    <tr>\n      <th>...</th>\n      <td>...</td>\n      <td>...</td>\n      <td>...</td>\n      <td>...</td>\n      <td>...</td>\n      <td>...</td>\n      <td>...</td>\n      <td>...</td>\n      <td>...</td>\n      <td>...</td>\n      <td>...</td>\n      <td>...</td>\n      <td>...</td>\n      <td>...</td>\n      <td>...</td>\n      <td>...</td>\n      <td>...</td>\n      <td>...</td>\n      <td>...</td>\n      <td>...</td>\n      <td>...</td>\n    </tr>\n    <tr>\n      <th>288</th>\n      <td>264</td>\n      <td>Помещение гаража Здания РКЦ, 689450, Чукотский...</td>\n      <td>1987</td>\n      <td>09.01.2016</td>\n      <td>70.1</td>\n      <td>70.1</td>\n      <td>70.1</td>\n      <td>0</td>\n      <td>0</td>\n      <td>0</td>\n      <td>...</td>\n      <td>0</td>\n      <td>0</td>\n      <td>0</td>\n      <td>NaN</td>\n      <td>NaN</td>\n      <td>NaN</td>\n      <td>NaN</td>\n      <td>Хорошее</td>\n      <td>2022</td>\n      <td>3</td>\n    </tr>\n    <tr>\n      <th>289</th>\n      <td>265</td>\n      <td>пункт резервного энергоснабжения, 689100, Чуко...</td>\n      <td>1997</td>\n      <td>09.01.2016</td>\n      <td>49.4</td>\n      <td>49.4</td>\n      <td>0</td>\n      <td>49.4</td>\n      <td>0</td>\n      <td>0</td>\n      <td>...</td>\n      <td>0</td>\n      <td>0</td>\n      <td>0</td>\n      <td>3167024.29</td>\n      <td>78402.86</td>\n      <td>949871.4</td>\n      <td>2217152.89</td>\n      <td>Хорошее</td>\n      <td>2022</td>\n      <td>3</td>\n    </tr>\n    <tr>\n      <th>290</th>\n      <td>266</td>\n      <td>Теплая стоянка пункта резервного энергоснабжен...</td>\n      <td>1997</td>\n      <td>09.01.2016</td>\n      <td>46.9</td>\n      <td>46.9</td>\n      <td>0</td>\n      <td>46.9</td>\n      <td>0</td>\n      <td>0</td>\n      <td>...</td>\n      <td>0</td>\n      <td>0</td>\n      <td>0</td>\n      <td>NaN</td>\n      <td>NaN</td>\n      <td>NaN</td>\n      <td>NaN</td>\n      <td>Хорошее</td>\n      <td>2022</td>\n      <td>3</td>\n    </tr>\n    <tr>\n      <th>291</th>\n      <td>Итого:</td>\n      <td>NaN</td>\n      <td>NaN</td>\n      <td>NaN</td>\n      <td>5580.6</td>\n      <td>5580.6</td>\n      <td>3846.6</td>\n      <td>609.3</td>\n      <td>234.8</td>\n      <td>0</td>\n      <td>...</td>\n      <td>0</td>\n      <td>808.3</td>\n      <td>0</td>\n      <td>234982136.16</td>\n      <td>25793069.44</td>\n      <td>54805238.68</td>\n      <td>180176897.48</td>\n      <td>NaN</td>\n      <td>2022</td>\n      <td>3</td>\n    </tr>\n    <tr>\n      <th>292</th>\n      <td>ВСЕГО:</td>\n      <td>NaN</td>\n      <td>NaN</td>\n      <td>NaN</td>\n      <td>109813.4</td>\n      <td>109813.4</td>\n      <td>84045.36</td>\n      <td>1285.4</td>\n      <td>3741.95</td>\n      <td>2747.2</td>\n      <td>...</td>\n      <td>0</td>\n      <td>20154.99</td>\n      <td>145.8</td>\n      <td>2377351319.11</td>\n      <td>217198289.21</td>\n      <td>600610325.78</td>\n      <td>1769533293.56</td>\n      <td>NaN</td>\n      <td>2022</td>\n      <td>3</td>\n    </tr>\n  </tbody>\n</table>\n<p>11443 rows × 27 columns</p>\n</div>"
     },
     "execution_count": 88,
     "metadata": {},
     "output_type": "execute_result"
    }
   ],
   "source": [
    "from tqdm import tqdm\n",
    "\n",
    "count = 0\n",
    "flag = False\n",
    "for dir in tqdm(os.listdir(LISTS)):\n",
    "    for file in os.listdir(f\"{LISTS}/{dir}\"):\n",
    "        if count == 0:\n",
    "            count += 1\n",
    "            continue\n",
    "        if file == \"4 quarter 2022.xls\":\n",
    "            flag = True\n",
    "            break\n",
    "        year = int(dir.split(\"_\")[1])\n",
    "        quarter = int(file[0])\n",
    "        some_df = pd.read_excel(f\"{LISTS}/{dir}/{file}\", sheet_name=1)\n",
    "        some_df = some_df[8:]\n",
    "        some_df.columns = list_cols\n",
    "        some_df[\"year\"] = year\n",
    "        some_df[\"quarter\"] = quarter\n",
    "        list_df = pd.concat([list_df, some_df])\n",
    "        count += 1\n",
    "    if flag:\n",
    "        break\n",
    "list_df"
   ],
   "metadata": {
    "collapsed": false,
    "ExecuteTime": {
     "end_time": "2023-11-23T20:33:34.062175600Z",
     "start_time": "2023-11-23T20:33:32.963056500Z"
    }
   },
   "id": "b943351be109a283"
  },
  {
   "cell_type": "code",
   "execution_count": 89,
   "outputs": [
    {
     "data": {
      "text/plain": "20"
     },
     "execution_count": 89,
     "metadata": {},
     "output_type": "execute_result"
    }
   ],
   "source": [
    "new_list_cols = [\"index\", \"object_name\", \"building_year\", \"balance_date\", \"object_square\", \"using_object_square\",\n",
    "                 \"not_using_object\", \"rent_object\", \"transferred_free_use_object\", \"for_rent_object\", \"sub_rent_object\",\n",
    "                 \"transferred_object\", \"subusing\", \"another_agreement\", \"storage_agreement\", \"balance\", \"revaluation\",\n",
    "                 \"depreciation\", \"residual_value\", \"technical_condition\"]\n",
    "len(new_list_cols)"
   ],
   "metadata": {
    "collapsed": false,
    "ExecuteTime": {
     "end_time": "2023-11-23T20:33:34.094176400Z",
     "start_time": "2023-11-23T20:33:34.053177200Z"
    }
   },
   "id": "2019a52d61eae5f8"
  },
  {
   "cell_type": "code",
   "execution_count": 90,
   "outputs": [
    {
     "data": {
      "text/plain": "                      index  \\\n8    Отделение Благовещенск   \n9                         1   \n10                        2   \n11                        3   \n12                        4   \n..                      ...   \n229                    15.0   \n230                    16.0   \n231                    17.0   \n232                     NaN   \n233                     NaN   \n\n                                           object_name building_year  \\\n8                                                  NaN           NaN   \n9    Помещение объект № 2 (Вспомогательный), 675000...          1980   \n10   Административное здание, 676014, Амурская обла...          1978   \n11   Административное здание, лит. А, А1, 676980, К...          1959   \n12   Административное здание, 676530, Амурская обла...          1935   \n..                                                 ...           ...   \n229  пристройка к ТП № 2, Чукотский автономный окру...          1995   \n230  Здание РКЦ, Чукотский автономный округ, р-н Би...          1987   \n231  Пункт резервного энергоснабжения , Чукотский а...          1997   \n232                                                NaN           NaN   \n233                                                NaN           NaN   \n\n    balance_date object_square building_square using_object_square  \\\n8            NaN           NaN             NaN                 NaN   \n9     13.07.1990         217.7           217.7               217.7   \n10    27.12.1990         389.1           389.1                   0   \n11    27.12.1990         237.7           237.7                   0   \n12    27.12.1990         830.2           830.2                   0   \n..           ...           ...             ...                 ...   \n229          NaN          22.9             NaN                22.9   \n230   31.12.1987         546.3             NaN               546.3   \n231          NaN          96.3             NaN                 NaN   \n232          NaN        5555.7             NaN              3814.2   \n233          NaN      108817.1             NaN             82378.4   \n\n    not_using_object for_rent_object rent_object  ...        balance  \\\n8                NaN             NaN         NaN  ...            NaN   \n9                  0               0           0  ...     1638812.21   \n10                 0           389.1           0  ...     1050734.76   \n11                 0               0           0  ...      126711.23   \n12             830.2               0           0  ...     1657840.58   \n..               ...             ...         ...  ...            ...   \n229              NaN             NaN         NaN  ...      850482.96   \n230              NaN             NaN         NaN  ...    11038914.74   \n231             96.3             NaN         NaN  ...     3167024.29   \n232            745.8           234.8         NaN  ...   234982136.16   \n233           3737.2          2822.2         NaN  ...  2385527737.68   \n\n     revaluation  depreciation residual_value technical_condition  year  \\\n8            NaN           NaN            NaN                 NaN  2016   \n9      937438.23     591497.66     1047314.55  Удовлетворительное  2016   \n10     771306.47     446494.59      604240.17  Удовлетворительное  2016   \n11      53749.02      93108.95       33602.28  Удовлетворительное  2016   \n12           NaN    1657840.58            NaN              Ветхое  2016   \n..           ...           ...            ...                 ...   ...   \n229    344633.94     390371.53      460111.43             Хорошее  2022   \n230   9526978.74     3416036.2     7123878.54             Хорошее  2022   \n231     78402.86     959372.51     2207651.78             Хорошее  2022   \n232  25793069.44   55279254.79   179203881.37                 NaN  2022   \n233  216291222.6  611451160.03  1769752320.38                 NaN  2022   \n\n    quarter subusing another_agreement storage_agreement  \n8         1      NaN               NaN               NaN  \n9         1      NaN               NaN               NaN  \n10        1      NaN               NaN               NaN  \n11        1      NaN               NaN               NaN  \n12        1      NaN               NaN               NaN  \n..      ...      ...               ...               ...  \n229       4      NaN               NaN               NaN  \n230       4      NaN               NaN               NaN  \n231       4      NaN               NaN               NaN  \n232       4      NaN               NaN               NaN  \n233       4      NaN             419.4               NaN  \n\n[11677 rows x 30 columns]",
      "text/html": "<div>\n<style scoped>\n    .dataframe tbody tr th:only-of-type {\n        vertical-align: middle;\n    }\n\n    .dataframe tbody tr th {\n        vertical-align: top;\n    }\n\n    .dataframe thead th {\n        text-align: right;\n    }\n</style>\n<table border=\"1\" class=\"dataframe\">\n  <thead>\n    <tr style=\"text-align: right;\">\n      <th></th>\n      <th>index</th>\n      <th>object_name</th>\n      <th>building_year</th>\n      <th>balance_date</th>\n      <th>object_square</th>\n      <th>building_square</th>\n      <th>using_object_square</th>\n      <th>not_using_object</th>\n      <th>for_rent_object</th>\n      <th>rent_object</th>\n      <th>...</th>\n      <th>balance</th>\n      <th>revaluation</th>\n      <th>depreciation</th>\n      <th>residual_value</th>\n      <th>technical_condition</th>\n      <th>year</th>\n      <th>quarter</th>\n      <th>subusing</th>\n      <th>another_agreement</th>\n      <th>storage_agreement</th>\n    </tr>\n  </thead>\n  <tbody>\n    <tr>\n      <th>8</th>\n      <td>Отделение Благовещенск</td>\n      <td>NaN</td>\n      <td>NaN</td>\n      <td>NaN</td>\n      <td>NaN</td>\n      <td>NaN</td>\n      <td>NaN</td>\n      <td>NaN</td>\n      <td>NaN</td>\n      <td>NaN</td>\n      <td>...</td>\n      <td>NaN</td>\n      <td>NaN</td>\n      <td>NaN</td>\n      <td>NaN</td>\n      <td>NaN</td>\n      <td>2016</td>\n      <td>1</td>\n      <td>NaN</td>\n      <td>NaN</td>\n      <td>NaN</td>\n    </tr>\n    <tr>\n      <th>9</th>\n      <td>1</td>\n      <td>Помещение объект № 2 (Вспомогательный), 675000...</td>\n      <td>1980</td>\n      <td>13.07.1990</td>\n      <td>217.7</td>\n      <td>217.7</td>\n      <td>217.7</td>\n      <td>0</td>\n      <td>0</td>\n      <td>0</td>\n      <td>...</td>\n      <td>1638812.21</td>\n      <td>937438.23</td>\n      <td>591497.66</td>\n      <td>1047314.55</td>\n      <td>Удовлетворительное</td>\n      <td>2016</td>\n      <td>1</td>\n      <td>NaN</td>\n      <td>NaN</td>\n      <td>NaN</td>\n    </tr>\n    <tr>\n      <th>10</th>\n      <td>2</td>\n      <td>Административное здание, 676014, Амурская обла...</td>\n      <td>1978</td>\n      <td>27.12.1990</td>\n      <td>389.1</td>\n      <td>389.1</td>\n      <td>0</td>\n      <td>0</td>\n      <td>389.1</td>\n      <td>0</td>\n      <td>...</td>\n      <td>1050734.76</td>\n      <td>771306.47</td>\n      <td>446494.59</td>\n      <td>604240.17</td>\n      <td>Удовлетворительное</td>\n      <td>2016</td>\n      <td>1</td>\n      <td>NaN</td>\n      <td>NaN</td>\n      <td>NaN</td>\n    </tr>\n    <tr>\n      <th>11</th>\n      <td>3</td>\n      <td>Административное здание, лит. А, А1, 676980, К...</td>\n      <td>1959</td>\n      <td>27.12.1990</td>\n      <td>237.7</td>\n      <td>237.7</td>\n      <td>0</td>\n      <td>0</td>\n      <td>0</td>\n      <td>0</td>\n      <td>...</td>\n      <td>126711.23</td>\n      <td>53749.02</td>\n      <td>93108.95</td>\n      <td>33602.28</td>\n      <td>Удовлетворительное</td>\n      <td>2016</td>\n      <td>1</td>\n      <td>NaN</td>\n      <td>NaN</td>\n      <td>NaN</td>\n    </tr>\n    <tr>\n      <th>12</th>\n      <td>4</td>\n      <td>Административное здание, 676530, Амурская обла...</td>\n      <td>1935</td>\n      <td>27.12.1990</td>\n      <td>830.2</td>\n      <td>830.2</td>\n      <td>0</td>\n      <td>830.2</td>\n      <td>0</td>\n      <td>0</td>\n      <td>...</td>\n      <td>1657840.58</td>\n      <td>NaN</td>\n      <td>1657840.58</td>\n      <td>NaN</td>\n      <td>Ветхое</td>\n      <td>2016</td>\n      <td>1</td>\n      <td>NaN</td>\n      <td>NaN</td>\n      <td>NaN</td>\n    </tr>\n    <tr>\n      <th>...</th>\n      <td>...</td>\n      <td>...</td>\n      <td>...</td>\n      <td>...</td>\n      <td>...</td>\n      <td>...</td>\n      <td>...</td>\n      <td>...</td>\n      <td>...</td>\n      <td>...</td>\n      <td>...</td>\n      <td>...</td>\n      <td>...</td>\n      <td>...</td>\n      <td>...</td>\n      <td>...</td>\n      <td>...</td>\n      <td>...</td>\n      <td>...</td>\n      <td>...</td>\n      <td>...</td>\n    </tr>\n    <tr>\n      <th>229</th>\n      <td>15.0</td>\n      <td>пристройка к ТП № 2, Чукотский автономный окру...</td>\n      <td>1995</td>\n      <td>NaN</td>\n      <td>22.9</td>\n      <td>NaN</td>\n      <td>22.9</td>\n      <td>NaN</td>\n      <td>NaN</td>\n      <td>NaN</td>\n      <td>...</td>\n      <td>850482.96</td>\n      <td>344633.94</td>\n      <td>390371.53</td>\n      <td>460111.43</td>\n      <td>Хорошее</td>\n      <td>2022</td>\n      <td>4</td>\n      <td>NaN</td>\n      <td>NaN</td>\n      <td>NaN</td>\n    </tr>\n    <tr>\n      <th>230</th>\n      <td>16.0</td>\n      <td>Здание РКЦ, Чукотский автономный округ, р-н Би...</td>\n      <td>1987</td>\n      <td>31.12.1987</td>\n      <td>546.3</td>\n      <td>NaN</td>\n      <td>546.3</td>\n      <td>NaN</td>\n      <td>NaN</td>\n      <td>NaN</td>\n      <td>...</td>\n      <td>11038914.74</td>\n      <td>9526978.74</td>\n      <td>3416036.2</td>\n      <td>7123878.54</td>\n      <td>Хорошее</td>\n      <td>2022</td>\n      <td>4</td>\n      <td>NaN</td>\n      <td>NaN</td>\n      <td>NaN</td>\n    </tr>\n    <tr>\n      <th>231</th>\n      <td>17.0</td>\n      <td>Пункт резервного энергоснабжения , Чукотский а...</td>\n      <td>1997</td>\n      <td>NaN</td>\n      <td>96.3</td>\n      <td>NaN</td>\n      <td>NaN</td>\n      <td>96.3</td>\n      <td>NaN</td>\n      <td>NaN</td>\n      <td>...</td>\n      <td>3167024.29</td>\n      <td>78402.86</td>\n      <td>959372.51</td>\n      <td>2207651.78</td>\n      <td>Хорошее</td>\n      <td>2022</td>\n      <td>4</td>\n      <td>NaN</td>\n      <td>NaN</td>\n      <td>NaN</td>\n    </tr>\n    <tr>\n      <th>232</th>\n      <td>NaN</td>\n      <td>NaN</td>\n      <td>NaN</td>\n      <td>NaN</td>\n      <td>5555.7</td>\n      <td>NaN</td>\n      <td>3814.2</td>\n      <td>745.8</td>\n      <td>234.8</td>\n      <td>NaN</td>\n      <td>...</td>\n      <td>234982136.16</td>\n      <td>25793069.44</td>\n      <td>55279254.79</td>\n      <td>179203881.37</td>\n      <td>NaN</td>\n      <td>2022</td>\n      <td>4</td>\n      <td>NaN</td>\n      <td>NaN</td>\n      <td>NaN</td>\n    </tr>\n    <tr>\n      <th>233</th>\n      <td>NaN</td>\n      <td>NaN</td>\n      <td>NaN</td>\n      <td>NaN</td>\n      <td>108817.1</td>\n      <td>NaN</td>\n      <td>82378.4</td>\n      <td>3737.2</td>\n      <td>2822.2</td>\n      <td>NaN</td>\n      <td>...</td>\n      <td>2385527737.68</td>\n      <td>216291222.6</td>\n      <td>611451160.03</td>\n      <td>1769752320.38</td>\n      <td>NaN</td>\n      <td>2022</td>\n      <td>4</td>\n      <td>NaN</td>\n      <td>419.4</td>\n      <td>NaN</td>\n    </tr>\n  </tbody>\n</table>\n<p>11677 rows × 30 columns</p>\n</div>"
     },
     "execution_count": 90,
     "metadata": {},
     "output_type": "execute_result"
    }
   ],
   "source": [
    "new_ls_df = pd.read_excel(\"Lists ON/List ON_2022/4 quarter 2022.xls\", skiprows=8)\n",
    "new_ls_df.drop(new_ls_df.columns[:2], axis=1, inplace=True)\n",
    "new_ls_df.columns = new_list_cols\n",
    "new_ls_df['year'] = 2022\n",
    "new_ls_df[\"quarter\"] = 4\n",
    "pd.concat([list_df, new_ls_df])"
   ],
   "metadata": {
    "collapsed": false,
    "ExecuteTime": {
     "end_time": "2023-11-23T20:33:34.221175400Z",
     "start_time": "2023-11-23T20:33:34.068176300Z"
    }
   },
   "id": "ef8d845e30512775"
  },
  {
   "cell_type": "code",
   "execution_count": 91,
   "outputs": [
    {
     "name": "stderr",
     "output_type": "stream",
     "text": [
      "100%|██████████| 1/1 [00:00<00:00, 25.00it/s]\n"
     ]
    },
    {
     "data": {
      "text/plain": "     index                                        object_name  \\\n0      1.0  здание-Центральный банк Российской Федерации (...   \n1      2.0  здание, Российская Федерация, Приморский край,...   \n2      3.0  Центральный банк Российской Федерации, Российс...   \n3      4.0  помещения, Российская Федерация, Приморский кр...   \n4      5.0  Подземное сооружение (склад), Приморский край,...   \n..     ...                                                ...   \n227   14.0  Здание РКЦ, Российская Федерация, Чукотский ав...   \n228   15.0  Пункт резервного энергоснабжения , Чукотский а...   \n229   16.0  Квартира, Российская Федерация, Чукотский авто...   \n230    NaN                                                NaN   \n231    NaN                                                NaN   \n\n          building_year balance_date  object_square  using_object_square  \\\n0                  1907          NaN         1465.1               1465.1   \n1                  1997          NaN         1292.6               1286.1   \n2                  1996          NaN         3789.6               3779.0   \n3    Данные отсутствуют          NaN          130.1                130.1   \n4    Данные отсутствуют          NaN           94.3                 94.3   \n..                  ...          ...            ...                  ...   \n227                1987          NaN          546.3                546.3   \n228                1997          NaN           96.3                  NaN   \n229  данные отсутствуют          NaN           73.9                  NaN   \n230                 NaN          NaN         5548.0               3814.2   \n231                 NaN          NaN       108461.7              82421.6   \n\n     not_using_object  rent_object  transferred_free_use_object  \\\n0                 NaN          NaN                          NaN   \n1                 NaN          NaN                          NaN   \n2                 NaN          NaN                          NaN   \n3                 NaN          NaN                          NaN   \n4                 NaN          NaN                          NaN   \n..                ...          ...                          ...   \n227               NaN          NaN                          NaN   \n228              96.3          NaN                          NaN   \n229               NaN          NaN                          NaN   \n230             745.8          NaN                          NaN   \n231            2641.2          NaN                          NaN   \n\n     for_rent_object  ...  subusing  another_agreement  storage_agreement  \\\n0                NaN  ...       NaN                NaN                NaN   \n1                NaN  ...       NaN                6.5                NaN   \n2                NaN  ...       NaN               10.6                NaN   \n3                NaN  ...       NaN                NaN                NaN   \n4                NaN  ...       NaN                NaN                NaN   \n..               ...  ...       ...                ...                ...   \n227              NaN  ...       NaN                NaN                NaN   \n228              NaN  ...       NaN                NaN                NaN   \n229              NaN  ...       NaN                NaN                NaN   \n230            234.8  ...       NaN                NaN                NaN   \n231           2822.2  ...       NaN              415.5                NaN   \n\n          balance   revaluation  depreciation  residual_value  \\\n0    3.329127e+06  9.491056e+05  3.177779e+06    1.513473e+05   \n1    1.306612e+07  1.902471e+06  3.266529e+06    9.799587e+06   \n2    3.545058e+07           NaN  6.450788e+06    2.899979e+07   \n3    1.249596e+06           NaN  3.467629e+05    9.028331e+05   \n4    1.441265e+05  8.452339e+04  9.419324e+04    4.993329e+04   \n..            ...           ...           ...             ...   \n227  1.103891e+07  9.526979e+06  3.668173e+06    7.370742e+06   \n228  3.167024e+06  7.840286e+04  9.878757e+05    2.179149e+06   \n229           NaN           NaN           NaN             NaN   \n230  2.349821e+08  2.579307e+07  5.724512e+07    1.777370e+08   \n231  2.381971e+09  2.126044e+08  6.362865e+08    1.741859e+09   \n\n     technical_condition  year quarter  \n0     Удовлетворительное  2022       4  \n1                Хорошее  2022       4  \n2     Удовлетворительное  2022       4  \n3     Удовлетворительное  2022       4  \n4     Удовлетворительное  2022       4  \n..                   ...   ...     ...  \n227              Хорошее  2023       3  \n228              Хорошее  2023       3  \n229                  NaN  2023       3  \n230                  NaN  2023       3  \n231                  NaN  2023       3  \n\n[930 rows x 22 columns]",
      "text/html": "<div>\n<style scoped>\n    .dataframe tbody tr th:only-of-type {\n        vertical-align: middle;\n    }\n\n    .dataframe tbody tr th {\n        vertical-align: top;\n    }\n\n    .dataframe thead th {\n        text-align: right;\n    }\n</style>\n<table border=\"1\" class=\"dataframe\">\n  <thead>\n    <tr style=\"text-align: right;\">\n      <th></th>\n      <th>index</th>\n      <th>object_name</th>\n      <th>building_year</th>\n      <th>balance_date</th>\n      <th>object_square</th>\n      <th>using_object_square</th>\n      <th>not_using_object</th>\n      <th>rent_object</th>\n      <th>transferred_free_use_object</th>\n      <th>for_rent_object</th>\n      <th>...</th>\n      <th>subusing</th>\n      <th>another_agreement</th>\n      <th>storage_agreement</th>\n      <th>balance</th>\n      <th>revaluation</th>\n      <th>depreciation</th>\n      <th>residual_value</th>\n      <th>technical_condition</th>\n      <th>year</th>\n      <th>quarter</th>\n    </tr>\n  </thead>\n  <tbody>\n    <tr>\n      <th>0</th>\n      <td>1.0</td>\n      <td>здание-Центральный банк Российской Федерации (...</td>\n      <td>1907</td>\n      <td>NaN</td>\n      <td>1465.1</td>\n      <td>1465.1</td>\n      <td>NaN</td>\n      <td>NaN</td>\n      <td>NaN</td>\n      <td>NaN</td>\n      <td>...</td>\n      <td>NaN</td>\n      <td>NaN</td>\n      <td>NaN</td>\n      <td>3.329127e+06</td>\n      <td>9.491056e+05</td>\n      <td>3.177779e+06</td>\n      <td>1.513473e+05</td>\n      <td>Удовлетворительное</td>\n      <td>2022</td>\n      <td>4</td>\n    </tr>\n    <tr>\n      <th>1</th>\n      <td>2.0</td>\n      <td>здание, Российская Федерация, Приморский край,...</td>\n      <td>1997</td>\n      <td>NaN</td>\n      <td>1292.6</td>\n      <td>1286.1</td>\n      <td>NaN</td>\n      <td>NaN</td>\n      <td>NaN</td>\n      <td>NaN</td>\n      <td>...</td>\n      <td>NaN</td>\n      <td>6.5</td>\n      <td>NaN</td>\n      <td>1.306612e+07</td>\n      <td>1.902471e+06</td>\n      <td>3.266529e+06</td>\n      <td>9.799587e+06</td>\n      <td>Хорошее</td>\n      <td>2022</td>\n      <td>4</td>\n    </tr>\n    <tr>\n      <th>2</th>\n      <td>3.0</td>\n      <td>Центральный банк Российской Федерации, Российс...</td>\n      <td>1996</td>\n      <td>NaN</td>\n      <td>3789.6</td>\n      <td>3779.0</td>\n      <td>NaN</td>\n      <td>NaN</td>\n      <td>NaN</td>\n      <td>NaN</td>\n      <td>...</td>\n      <td>NaN</td>\n      <td>10.6</td>\n      <td>NaN</td>\n      <td>3.545058e+07</td>\n      <td>NaN</td>\n      <td>6.450788e+06</td>\n      <td>2.899979e+07</td>\n      <td>Удовлетворительное</td>\n      <td>2022</td>\n      <td>4</td>\n    </tr>\n    <tr>\n      <th>3</th>\n      <td>4.0</td>\n      <td>помещения, Российская Федерация, Приморский кр...</td>\n      <td>Данные отсутствуют</td>\n      <td>NaN</td>\n      <td>130.1</td>\n      <td>130.1</td>\n      <td>NaN</td>\n      <td>NaN</td>\n      <td>NaN</td>\n      <td>NaN</td>\n      <td>...</td>\n      <td>NaN</td>\n      <td>NaN</td>\n      <td>NaN</td>\n      <td>1.249596e+06</td>\n      <td>NaN</td>\n      <td>3.467629e+05</td>\n      <td>9.028331e+05</td>\n      <td>Удовлетворительное</td>\n      <td>2022</td>\n      <td>4</td>\n    </tr>\n    <tr>\n      <th>4</th>\n      <td>5.0</td>\n      <td>Подземное сооружение (склад), Приморский край,...</td>\n      <td>Данные отсутствуют</td>\n      <td>NaN</td>\n      <td>94.3</td>\n      <td>94.3</td>\n      <td>NaN</td>\n      <td>NaN</td>\n      <td>NaN</td>\n      <td>NaN</td>\n      <td>...</td>\n      <td>NaN</td>\n      <td>NaN</td>\n      <td>NaN</td>\n      <td>1.441265e+05</td>\n      <td>8.452339e+04</td>\n      <td>9.419324e+04</td>\n      <td>4.993329e+04</td>\n      <td>Удовлетворительное</td>\n      <td>2022</td>\n      <td>4</td>\n    </tr>\n    <tr>\n      <th>...</th>\n      <td>...</td>\n      <td>...</td>\n      <td>...</td>\n      <td>...</td>\n      <td>...</td>\n      <td>...</td>\n      <td>...</td>\n      <td>...</td>\n      <td>...</td>\n      <td>...</td>\n      <td>...</td>\n      <td>...</td>\n      <td>...</td>\n      <td>...</td>\n      <td>...</td>\n      <td>...</td>\n      <td>...</td>\n      <td>...</td>\n      <td>...</td>\n      <td>...</td>\n      <td>...</td>\n    </tr>\n    <tr>\n      <th>227</th>\n      <td>14.0</td>\n      <td>Здание РКЦ, Российская Федерация, Чукотский ав...</td>\n      <td>1987</td>\n      <td>NaN</td>\n      <td>546.3</td>\n      <td>546.3</td>\n      <td>NaN</td>\n      <td>NaN</td>\n      <td>NaN</td>\n      <td>NaN</td>\n      <td>...</td>\n      <td>NaN</td>\n      <td>NaN</td>\n      <td>NaN</td>\n      <td>1.103891e+07</td>\n      <td>9.526979e+06</td>\n      <td>3.668173e+06</td>\n      <td>7.370742e+06</td>\n      <td>Хорошее</td>\n      <td>2023</td>\n      <td>3</td>\n    </tr>\n    <tr>\n      <th>228</th>\n      <td>15.0</td>\n      <td>Пункт резервного энергоснабжения , Чукотский а...</td>\n      <td>1997</td>\n      <td>NaN</td>\n      <td>96.3</td>\n      <td>NaN</td>\n      <td>96.3</td>\n      <td>NaN</td>\n      <td>NaN</td>\n      <td>NaN</td>\n      <td>...</td>\n      <td>NaN</td>\n      <td>NaN</td>\n      <td>NaN</td>\n      <td>3.167024e+06</td>\n      <td>7.840286e+04</td>\n      <td>9.878757e+05</td>\n      <td>2.179149e+06</td>\n      <td>Хорошее</td>\n      <td>2023</td>\n      <td>3</td>\n    </tr>\n    <tr>\n      <th>229</th>\n      <td>16.0</td>\n      <td>Квартира, Российская Федерация, Чукотский авто...</td>\n      <td>данные отсутствуют</td>\n      <td>NaN</td>\n      <td>73.9</td>\n      <td>NaN</td>\n      <td>NaN</td>\n      <td>NaN</td>\n      <td>NaN</td>\n      <td>NaN</td>\n      <td>...</td>\n      <td>NaN</td>\n      <td>NaN</td>\n      <td>NaN</td>\n      <td>NaN</td>\n      <td>NaN</td>\n      <td>NaN</td>\n      <td>NaN</td>\n      <td>NaN</td>\n      <td>2023</td>\n      <td>3</td>\n    </tr>\n    <tr>\n      <th>230</th>\n      <td>NaN</td>\n      <td>NaN</td>\n      <td>NaN</td>\n      <td>NaN</td>\n      <td>5548.0</td>\n      <td>3814.2</td>\n      <td>745.8</td>\n      <td>NaN</td>\n      <td>NaN</td>\n      <td>234.8</td>\n      <td>...</td>\n      <td>NaN</td>\n      <td>NaN</td>\n      <td>NaN</td>\n      <td>2.349821e+08</td>\n      <td>2.579307e+07</td>\n      <td>5.724512e+07</td>\n      <td>1.777370e+08</td>\n      <td>NaN</td>\n      <td>2023</td>\n      <td>3</td>\n    </tr>\n    <tr>\n      <th>231</th>\n      <td>NaN</td>\n      <td>NaN</td>\n      <td>NaN</td>\n      <td>NaN</td>\n      <td>108461.7</td>\n      <td>82421.6</td>\n      <td>2641.2</td>\n      <td>NaN</td>\n      <td>NaN</td>\n      <td>2822.2</td>\n      <td>...</td>\n      <td>NaN</td>\n      <td>415.5</td>\n      <td>NaN</td>\n      <td>2.381971e+09</td>\n      <td>2.126044e+08</td>\n      <td>6.362865e+08</td>\n      <td>1.741859e+09</td>\n      <td>NaN</td>\n      <td>2023</td>\n      <td>3</td>\n    </tr>\n  </tbody>\n</table>\n<p>930 rows × 22 columns</p>\n</div>"
     },
     "execution_count": 91,
     "metadata": {},
     "output_type": "execute_result"
    }
   ],
   "source": [
    "\n",
    "for dir in tqdm(os.listdir(LISTS)[7:]):\n",
    "    for file in os.listdir(f\"{LISTS}/{dir}\"):\n",
    "        year = int(dir.split(\"_\")[1])\n",
    "        quarter = int(file[0])\n",
    "        new_some_df = pd.read_excel(f\"{LISTS}/{dir}/{file}\", skiprows=8)\n",
    "        new_some_df.drop(new_some_df.columns[:2], axis=1, inplace=True)\n",
    "        new_some_df.columns = new_list_cols\n",
    "        new_some_df['year'] = year\n",
    "        new_some_df[\"quarter\"] = quarter\n",
    "        new_ls_df = pd.concat([new_ls_df, new_some_df])\n",
    "new_ls_df"
   ],
   "metadata": {
    "collapsed": false,
    "ExecuteTime": {
     "end_time": "2023-11-23T20:33:34.249177700Z",
     "start_time": "2023-11-23T20:33:34.114178400Z"
    }
   },
   "id": "a6645d8e0eef393c"
  },
  {
   "cell_type": "code",
   "execution_count": 92,
   "outputs": [
    {
     "data": {
      "text/plain": "                      index  \\\n8    Отделение Благовещенск   \n9                         1   \n10                        2   \n11                        3   \n12                        4   \n..                      ...   \n227                    14.0   \n228                    15.0   \n229                    16.0   \n230                     NaN   \n231                     NaN   \n\n                                           object_name       building_year  \\\n8                                                  NaN                 NaN   \n9    Помещение объект № 2 (Вспомогательный), 675000...                1980   \n10   Административное здание, 676014, Амурская обла...                1978   \n11   Административное здание, лит. А, А1, 676980, К...                1959   \n12   Административное здание, 676530, Амурская обла...                1935   \n..                                                 ...                 ...   \n227  Здание РКЦ, Российская Федерация, Чукотский ав...                1987   \n228  Пункт резервного энергоснабжения , Чукотский а...                1997   \n229  Квартира, Российская Федерация, Чукотский авто...  данные отсутствуют   \n230                                                NaN                 NaN   \n231                                                NaN                 NaN   \n\n    balance_date object_square building_square using_object_square  \\\n8            NaN           NaN             NaN                 NaN   \n9     13.07.1990         217.7           217.7               217.7   \n10    27.12.1990         389.1           389.1                   0   \n11    27.12.1990         237.7           237.7                   0   \n12    27.12.1990         830.2           830.2                   0   \n..           ...           ...             ...                 ...   \n227          NaN         546.3             NaN               546.3   \n228          NaN          96.3             NaN                 NaN   \n229          NaN          73.9             NaN                 NaN   \n230          NaN        5548.0             NaN              3814.2   \n231          NaN      108461.7             NaN             82421.6   \n\n    not_using_object for_rent_object rent_object  ...        balance  \\\n8                NaN             NaN         NaN  ...            NaN   \n9                  0               0           0  ...     1638812.21   \n10                 0           389.1           0  ...     1050734.76   \n11                 0               0           0  ...      126711.23   \n12             830.2               0           0  ...     1657840.58   \n..               ...             ...         ...  ...            ...   \n227              NaN             NaN         NaN  ...    11038914.74   \n228             96.3             NaN         NaN  ...     3167024.29   \n229              NaN             NaN         NaN  ...            NaN   \n230            745.8           234.8         NaN  ...   234982136.16   \n231           2641.2          2822.2         NaN  ...  2381971293.73   \n\n      revaluation  depreciation residual_value technical_condition  year  \\\n8             NaN           NaN            NaN                 NaN  2016   \n9       937438.23     591497.66     1047314.55  Удовлетворительное  2016   \n10      771306.47     446494.59      604240.17  Удовлетворительное  2016   \n11       53749.02      93108.95       33602.28  Удовлетворительное  2016   \n12            NaN    1657840.58            NaN              Ветхое  2016   \n..            ...           ...            ...                 ...   ...   \n227    9526978.74    3668172.74      7370742.0             Хорошее  2023   \n228      78402.86     987875.69      2179148.6             Хорошее  2023   \n229           NaN           NaN            NaN                 NaN  2023   \n230   25793069.44   57245123.18   177737012.98                 NaN  2023   \n231  212604421.06  636286544.89  1741859491.57                 NaN  2023   \n\n    quarter subusing another_agreement storage_agreement  \n8         1      NaN               NaN               NaN  \n9         1      NaN               NaN               NaN  \n10        1      NaN               NaN               NaN  \n11        1      NaN               NaN               NaN  \n12        1      NaN               NaN               NaN  \n..      ...      ...               ...               ...  \n227       3      NaN               NaN               NaN  \n228       3      NaN               NaN               NaN  \n229       3      NaN               NaN               NaN  \n230       3      NaN               NaN               NaN  \n231       3      NaN             415.5               NaN  \n\n[12373 rows x 30 columns]",
      "text/html": "<div>\n<style scoped>\n    .dataframe tbody tr th:only-of-type {\n        vertical-align: middle;\n    }\n\n    .dataframe tbody tr th {\n        vertical-align: top;\n    }\n\n    .dataframe thead th {\n        text-align: right;\n    }\n</style>\n<table border=\"1\" class=\"dataframe\">\n  <thead>\n    <tr style=\"text-align: right;\">\n      <th></th>\n      <th>index</th>\n      <th>object_name</th>\n      <th>building_year</th>\n      <th>balance_date</th>\n      <th>object_square</th>\n      <th>building_square</th>\n      <th>using_object_square</th>\n      <th>not_using_object</th>\n      <th>for_rent_object</th>\n      <th>rent_object</th>\n      <th>...</th>\n      <th>balance</th>\n      <th>revaluation</th>\n      <th>depreciation</th>\n      <th>residual_value</th>\n      <th>technical_condition</th>\n      <th>year</th>\n      <th>quarter</th>\n      <th>subusing</th>\n      <th>another_agreement</th>\n      <th>storage_agreement</th>\n    </tr>\n  </thead>\n  <tbody>\n    <tr>\n      <th>8</th>\n      <td>Отделение Благовещенск</td>\n      <td>NaN</td>\n      <td>NaN</td>\n      <td>NaN</td>\n      <td>NaN</td>\n      <td>NaN</td>\n      <td>NaN</td>\n      <td>NaN</td>\n      <td>NaN</td>\n      <td>NaN</td>\n      <td>...</td>\n      <td>NaN</td>\n      <td>NaN</td>\n      <td>NaN</td>\n      <td>NaN</td>\n      <td>NaN</td>\n      <td>2016</td>\n      <td>1</td>\n      <td>NaN</td>\n      <td>NaN</td>\n      <td>NaN</td>\n    </tr>\n    <tr>\n      <th>9</th>\n      <td>1</td>\n      <td>Помещение объект № 2 (Вспомогательный), 675000...</td>\n      <td>1980</td>\n      <td>13.07.1990</td>\n      <td>217.7</td>\n      <td>217.7</td>\n      <td>217.7</td>\n      <td>0</td>\n      <td>0</td>\n      <td>0</td>\n      <td>...</td>\n      <td>1638812.21</td>\n      <td>937438.23</td>\n      <td>591497.66</td>\n      <td>1047314.55</td>\n      <td>Удовлетворительное</td>\n      <td>2016</td>\n      <td>1</td>\n      <td>NaN</td>\n      <td>NaN</td>\n      <td>NaN</td>\n    </tr>\n    <tr>\n      <th>10</th>\n      <td>2</td>\n      <td>Административное здание, 676014, Амурская обла...</td>\n      <td>1978</td>\n      <td>27.12.1990</td>\n      <td>389.1</td>\n      <td>389.1</td>\n      <td>0</td>\n      <td>0</td>\n      <td>389.1</td>\n      <td>0</td>\n      <td>...</td>\n      <td>1050734.76</td>\n      <td>771306.47</td>\n      <td>446494.59</td>\n      <td>604240.17</td>\n      <td>Удовлетворительное</td>\n      <td>2016</td>\n      <td>1</td>\n      <td>NaN</td>\n      <td>NaN</td>\n      <td>NaN</td>\n    </tr>\n    <tr>\n      <th>11</th>\n      <td>3</td>\n      <td>Административное здание, лит. А, А1, 676980, К...</td>\n      <td>1959</td>\n      <td>27.12.1990</td>\n      <td>237.7</td>\n      <td>237.7</td>\n      <td>0</td>\n      <td>0</td>\n      <td>0</td>\n      <td>0</td>\n      <td>...</td>\n      <td>126711.23</td>\n      <td>53749.02</td>\n      <td>93108.95</td>\n      <td>33602.28</td>\n      <td>Удовлетворительное</td>\n      <td>2016</td>\n      <td>1</td>\n      <td>NaN</td>\n      <td>NaN</td>\n      <td>NaN</td>\n    </tr>\n    <tr>\n      <th>12</th>\n      <td>4</td>\n      <td>Административное здание, 676530, Амурская обла...</td>\n      <td>1935</td>\n      <td>27.12.1990</td>\n      <td>830.2</td>\n      <td>830.2</td>\n      <td>0</td>\n      <td>830.2</td>\n      <td>0</td>\n      <td>0</td>\n      <td>...</td>\n      <td>1657840.58</td>\n      <td>NaN</td>\n      <td>1657840.58</td>\n      <td>NaN</td>\n      <td>Ветхое</td>\n      <td>2016</td>\n      <td>1</td>\n      <td>NaN</td>\n      <td>NaN</td>\n      <td>NaN</td>\n    </tr>\n    <tr>\n      <th>...</th>\n      <td>...</td>\n      <td>...</td>\n      <td>...</td>\n      <td>...</td>\n      <td>...</td>\n      <td>...</td>\n      <td>...</td>\n      <td>...</td>\n      <td>...</td>\n      <td>...</td>\n      <td>...</td>\n      <td>...</td>\n      <td>...</td>\n      <td>...</td>\n      <td>...</td>\n      <td>...</td>\n      <td>...</td>\n      <td>...</td>\n      <td>...</td>\n      <td>...</td>\n      <td>...</td>\n    </tr>\n    <tr>\n      <th>227</th>\n      <td>14.0</td>\n      <td>Здание РКЦ, Российская Федерация, Чукотский ав...</td>\n      <td>1987</td>\n      <td>NaN</td>\n      <td>546.3</td>\n      <td>NaN</td>\n      <td>546.3</td>\n      <td>NaN</td>\n      <td>NaN</td>\n      <td>NaN</td>\n      <td>...</td>\n      <td>11038914.74</td>\n      <td>9526978.74</td>\n      <td>3668172.74</td>\n      <td>7370742.0</td>\n      <td>Хорошее</td>\n      <td>2023</td>\n      <td>3</td>\n      <td>NaN</td>\n      <td>NaN</td>\n      <td>NaN</td>\n    </tr>\n    <tr>\n      <th>228</th>\n      <td>15.0</td>\n      <td>Пункт резервного энергоснабжения , Чукотский а...</td>\n      <td>1997</td>\n      <td>NaN</td>\n      <td>96.3</td>\n      <td>NaN</td>\n      <td>NaN</td>\n      <td>96.3</td>\n      <td>NaN</td>\n      <td>NaN</td>\n      <td>...</td>\n      <td>3167024.29</td>\n      <td>78402.86</td>\n      <td>987875.69</td>\n      <td>2179148.6</td>\n      <td>Хорошее</td>\n      <td>2023</td>\n      <td>3</td>\n      <td>NaN</td>\n      <td>NaN</td>\n      <td>NaN</td>\n    </tr>\n    <tr>\n      <th>229</th>\n      <td>16.0</td>\n      <td>Квартира, Российская Федерация, Чукотский авто...</td>\n      <td>данные отсутствуют</td>\n      <td>NaN</td>\n      <td>73.9</td>\n      <td>NaN</td>\n      <td>NaN</td>\n      <td>NaN</td>\n      <td>NaN</td>\n      <td>NaN</td>\n      <td>...</td>\n      <td>NaN</td>\n      <td>NaN</td>\n      <td>NaN</td>\n      <td>NaN</td>\n      <td>NaN</td>\n      <td>2023</td>\n      <td>3</td>\n      <td>NaN</td>\n      <td>NaN</td>\n      <td>NaN</td>\n    </tr>\n    <tr>\n      <th>230</th>\n      <td>NaN</td>\n      <td>NaN</td>\n      <td>NaN</td>\n      <td>NaN</td>\n      <td>5548.0</td>\n      <td>NaN</td>\n      <td>3814.2</td>\n      <td>745.8</td>\n      <td>234.8</td>\n      <td>NaN</td>\n      <td>...</td>\n      <td>234982136.16</td>\n      <td>25793069.44</td>\n      <td>57245123.18</td>\n      <td>177737012.98</td>\n      <td>NaN</td>\n      <td>2023</td>\n      <td>3</td>\n      <td>NaN</td>\n      <td>NaN</td>\n      <td>NaN</td>\n    </tr>\n    <tr>\n      <th>231</th>\n      <td>NaN</td>\n      <td>NaN</td>\n      <td>NaN</td>\n      <td>NaN</td>\n      <td>108461.7</td>\n      <td>NaN</td>\n      <td>82421.6</td>\n      <td>2641.2</td>\n      <td>2822.2</td>\n      <td>NaN</td>\n      <td>...</td>\n      <td>2381971293.73</td>\n      <td>212604421.06</td>\n      <td>636286544.89</td>\n      <td>1741859491.57</td>\n      <td>NaN</td>\n      <td>2023</td>\n      <td>3</td>\n      <td>NaN</td>\n      <td>415.5</td>\n      <td>NaN</td>\n    </tr>\n  </tbody>\n</table>\n<p>12373 rows × 30 columns</p>\n</div>"
     },
     "execution_count": 92,
     "metadata": {},
     "output_type": "execute_result"
    }
   ],
   "source": [
    "list_df = pd.concat([list_df, new_ls_df])\n",
    "list_df"
   ],
   "metadata": {
    "collapsed": false,
    "ExecuteTime": {
     "end_time": "2023-11-23T20:33:36.497931100Z",
     "start_time": "2023-11-23T20:33:36.449929200Z"
    }
   },
   "id": "f9b0644e2a323c3b"
  },
  {
   "cell_type": "code",
   "execution_count": 93,
   "outputs": [],
   "source": [
    "#list_df = list_df.dropna(subset=[\"building_year\"])\n",
    "#building_year balance_date, drop technical_condition Nan\n",
    "list_df['object_square'].fillna(0, inplace=True)\n",
    "list_df[\"building_square\"].fillna(0, inplace=True)\n",
    "list_df[\"balance\"].fillna(list_df[\"balance\"].mean(), inplace=True)\n",
    "list_df[\"revaluation\"].fillna(0, inplace=True)\n",
    "list_df[\"depreciation\"].fillna(0, inplace=True)\n",
    "list_df[\"residual_value\"].fillna(0, inplace=True)\n",
    "list_df[\"building_year\"].fillna(\"данные отсутствуют\", inplace=True)\n"
   ],
   "metadata": {
    "collapsed": false,
    "ExecuteTime": {
     "end_time": "2023-11-23T20:33:41.145942700Z",
     "start_time": "2023-11-23T20:33:41.127943300Z"
    }
   },
   "id": "9ff8f0a40790fa47"
  },
  {
   "cell_type": "code",
   "execution_count": 94,
   "outputs": [
    {
     "data": {
      "text/plain": "                        index  \\\n0      Отделение Благовещенск   \n1                           1   \n2                           2   \n3                           3   \n4                           4   \n...                       ...   \n12368                    14.0   \n12369                    15.0   \n12370                    16.0   \n12371                     NaN   \n12372                     NaN   \n\n                                             object_name       building_year  \\\n0                                                    NaN  данные отсутствуют   \n1      Помещение объект № 2 (Вспомогательный), 675000...                1980   \n2      Административное здание, 676014, Амурская обла...                1978   \n3      Административное здание, лит. А, А1, 676980, К...                1959   \n4      Административное здание, 676530, Амурская обла...                1935   \n...                                                  ...                 ...   \n12368  Здание РКЦ, Российская Федерация, Чукотский ав...                1987   \n12369  Пункт резервного энергоснабжения , Чукотский а...                1997   \n12370  Квартира, Российская Федерация, Чукотский авто...  данные отсутствуют   \n12371                                                NaN  данные отсутствуют   \n12372                                                NaN  данные отсутствуют   \n\n      balance_date  object_square  building_square using_object_square  \\\n0              NaN            0.0              0.0                 NaN   \n1       13.07.1990          217.7            217.7               217.7   \n2       27.12.1990          389.1            389.1                   0   \n3       27.12.1990          237.7            237.7                   0   \n4       27.12.1990          830.2            830.2                   0   \n...            ...            ...              ...                 ...   \n12368          NaN          546.3              0.0               546.3   \n12369          NaN           96.3              0.0                 NaN   \n12370          NaN           73.9              0.0                 NaN   \n12371          NaN         5548.0              0.0              3814.2   \n12372          NaN       108461.7              0.0             82421.6   \n\n      not_using_object for_rent_object rent_object  ...       balance  \\\n0                  NaN             NaN         NaN  ...  2.376797e+07   \n1                    0               0           0  ...  1.638812e+06   \n2                    0           389.1           0  ...  1.050735e+06   \n3                    0               0           0  ...  1.267112e+05   \n4                830.2               0           0  ...  1.657841e+06   \n...                ...             ...         ...  ...           ...   \n12368              NaN             NaN         NaN  ...  1.103891e+07   \n12369             96.3             NaN         NaN  ...  3.167024e+06   \n12370              NaN             NaN         NaN  ...  2.376797e+07   \n12371            745.8           234.8         NaN  ...  2.349821e+08   \n12372           2641.2          2822.2         NaN  ...  2.381971e+09   \n\n        revaluation  depreciation residual_value technical_condition  year  \\\n0      0.000000e+00  0.000000e+00   0.000000e+00                 NaN  2016   \n1      9.374382e+05  5.914977e+05   1.047315e+06  Удовлетворительное  2016   \n2      7.713065e+05  4.464946e+05   6.042402e+05  Удовлетворительное  2016   \n3      5.374902e+04  9.310895e+04   3.360228e+04  Удовлетворительное  2016   \n4      0.000000e+00  1.657841e+06   0.000000e+00              Ветхое  2016   \n...             ...           ...            ...                 ...   ...   \n12368  9.526979e+06  3.668173e+06   7.370742e+06             Хорошее  2023   \n12369  7.840286e+04  9.878757e+05   2.179149e+06             Хорошее  2023   \n12370  0.000000e+00  0.000000e+00   0.000000e+00                 NaN  2023   \n12371  2.579307e+07  5.724512e+07   1.777370e+08                 NaN  2023   \n12372  2.126044e+08  6.362865e+08   1.741859e+09                 NaN  2023   \n\n      quarter subusing another_agreement storage_agreement  \n0           1      NaN               NaN               NaN  \n1           1      NaN               NaN               NaN  \n2           1      NaN               NaN               NaN  \n3           1      NaN               NaN               NaN  \n4           1      NaN               NaN               NaN  \n...       ...      ...               ...               ...  \n12368       3      NaN               NaN               NaN  \n12369       3      NaN               NaN               NaN  \n12370       3      NaN               NaN               NaN  \n12371       3      NaN               NaN               NaN  \n12372       3      NaN             415.5               NaN  \n\n[12373 rows x 30 columns]",
      "text/html": "<div>\n<style scoped>\n    .dataframe tbody tr th:only-of-type {\n        vertical-align: middle;\n    }\n\n    .dataframe tbody tr th {\n        vertical-align: top;\n    }\n\n    .dataframe thead th {\n        text-align: right;\n    }\n</style>\n<table border=\"1\" class=\"dataframe\">\n  <thead>\n    <tr style=\"text-align: right;\">\n      <th></th>\n      <th>index</th>\n      <th>object_name</th>\n      <th>building_year</th>\n      <th>balance_date</th>\n      <th>object_square</th>\n      <th>building_square</th>\n      <th>using_object_square</th>\n      <th>not_using_object</th>\n      <th>for_rent_object</th>\n      <th>rent_object</th>\n      <th>...</th>\n      <th>balance</th>\n      <th>revaluation</th>\n      <th>depreciation</th>\n      <th>residual_value</th>\n      <th>technical_condition</th>\n      <th>year</th>\n      <th>quarter</th>\n      <th>subusing</th>\n      <th>another_agreement</th>\n      <th>storage_agreement</th>\n    </tr>\n  </thead>\n  <tbody>\n    <tr>\n      <th>0</th>\n      <td>Отделение Благовещенск</td>\n      <td>NaN</td>\n      <td>данные отсутствуют</td>\n      <td>NaN</td>\n      <td>0.0</td>\n      <td>0.0</td>\n      <td>NaN</td>\n      <td>NaN</td>\n      <td>NaN</td>\n      <td>NaN</td>\n      <td>...</td>\n      <td>2.376797e+07</td>\n      <td>0.000000e+00</td>\n      <td>0.000000e+00</td>\n      <td>0.000000e+00</td>\n      <td>NaN</td>\n      <td>2016</td>\n      <td>1</td>\n      <td>NaN</td>\n      <td>NaN</td>\n      <td>NaN</td>\n    </tr>\n    <tr>\n      <th>1</th>\n      <td>1</td>\n      <td>Помещение объект № 2 (Вспомогательный), 675000...</td>\n      <td>1980</td>\n      <td>13.07.1990</td>\n      <td>217.7</td>\n      <td>217.7</td>\n      <td>217.7</td>\n      <td>0</td>\n      <td>0</td>\n      <td>0</td>\n      <td>...</td>\n      <td>1.638812e+06</td>\n      <td>9.374382e+05</td>\n      <td>5.914977e+05</td>\n      <td>1.047315e+06</td>\n      <td>Удовлетворительное</td>\n      <td>2016</td>\n      <td>1</td>\n      <td>NaN</td>\n      <td>NaN</td>\n      <td>NaN</td>\n    </tr>\n    <tr>\n      <th>2</th>\n      <td>2</td>\n      <td>Административное здание, 676014, Амурская обла...</td>\n      <td>1978</td>\n      <td>27.12.1990</td>\n      <td>389.1</td>\n      <td>389.1</td>\n      <td>0</td>\n      <td>0</td>\n      <td>389.1</td>\n      <td>0</td>\n      <td>...</td>\n      <td>1.050735e+06</td>\n      <td>7.713065e+05</td>\n      <td>4.464946e+05</td>\n      <td>6.042402e+05</td>\n      <td>Удовлетворительное</td>\n      <td>2016</td>\n      <td>1</td>\n      <td>NaN</td>\n      <td>NaN</td>\n      <td>NaN</td>\n    </tr>\n    <tr>\n      <th>3</th>\n      <td>3</td>\n      <td>Административное здание, лит. А, А1, 676980, К...</td>\n      <td>1959</td>\n      <td>27.12.1990</td>\n      <td>237.7</td>\n      <td>237.7</td>\n      <td>0</td>\n      <td>0</td>\n      <td>0</td>\n      <td>0</td>\n      <td>...</td>\n      <td>1.267112e+05</td>\n      <td>5.374902e+04</td>\n      <td>9.310895e+04</td>\n      <td>3.360228e+04</td>\n      <td>Удовлетворительное</td>\n      <td>2016</td>\n      <td>1</td>\n      <td>NaN</td>\n      <td>NaN</td>\n      <td>NaN</td>\n    </tr>\n    <tr>\n      <th>4</th>\n      <td>4</td>\n      <td>Административное здание, 676530, Амурская обла...</td>\n      <td>1935</td>\n      <td>27.12.1990</td>\n      <td>830.2</td>\n      <td>830.2</td>\n      <td>0</td>\n      <td>830.2</td>\n      <td>0</td>\n      <td>0</td>\n      <td>...</td>\n      <td>1.657841e+06</td>\n      <td>0.000000e+00</td>\n      <td>1.657841e+06</td>\n      <td>0.000000e+00</td>\n      <td>Ветхое</td>\n      <td>2016</td>\n      <td>1</td>\n      <td>NaN</td>\n      <td>NaN</td>\n      <td>NaN</td>\n    </tr>\n    <tr>\n      <th>...</th>\n      <td>...</td>\n      <td>...</td>\n      <td>...</td>\n      <td>...</td>\n      <td>...</td>\n      <td>...</td>\n      <td>...</td>\n      <td>...</td>\n      <td>...</td>\n      <td>...</td>\n      <td>...</td>\n      <td>...</td>\n      <td>...</td>\n      <td>...</td>\n      <td>...</td>\n      <td>...</td>\n      <td>...</td>\n      <td>...</td>\n      <td>...</td>\n      <td>...</td>\n      <td>...</td>\n    </tr>\n    <tr>\n      <th>12368</th>\n      <td>14.0</td>\n      <td>Здание РКЦ, Российская Федерация, Чукотский ав...</td>\n      <td>1987</td>\n      <td>NaN</td>\n      <td>546.3</td>\n      <td>0.0</td>\n      <td>546.3</td>\n      <td>NaN</td>\n      <td>NaN</td>\n      <td>NaN</td>\n      <td>...</td>\n      <td>1.103891e+07</td>\n      <td>9.526979e+06</td>\n      <td>3.668173e+06</td>\n      <td>7.370742e+06</td>\n      <td>Хорошее</td>\n      <td>2023</td>\n      <td>3</td>\n      <td>NaN</td>\n      <td>NaN</td>\n      <td>NaN</td>\n    </tr>\n    <tr>\n      <th>12369</th>\n      <td>15.0</td>\n      <td>Пункт резервного энергоснабжения , Чукотский а...</td>\n      <td>1997</td>\n      <td>NaN</td>\n      <td>96.3</td>\n      <td>0.0</td>\n      <td>NaN</td>\n      <td>96.3</td>\n      <td>NaN</td>\n      <td>NaN</td>\n      <td>...</td>\n      <td>3.167024e+06</td>\n      <td>7.840286e+04</td>\n      <td>9.878757e+05</td>\n      <td>2.179149e+06</td>\n      <td>Хорошее</td>\n      <td>2023</td>\n      <td>3</td>\n      <td>NaN</td>\n      <td>NaN</td>\n      <td>NaN</td>\n    </tr>\n    <tr>\n      <th>12370</th>\n      <td>16.0</td>\n      <td>Квартира, Российская Федерация, Чукотский авто...</td>\n      <td>данные отсутствуют</td>\n      <td>NaN</td>\n      <td>73.9</td>\n      <td>0.0</td>\n      <td>NaN</td>\n      <td>NaN</td>\n      <td>NaN</td>\n      <td>NaN</td>\n      <td>...</td>\n      <td>2.376797e+07</td>\n      <td>0.000000e+00</td>\n      <td>0.000000e+00</td>\n      <td>0.000000e+00</td>\n      <td>NaN</td>\n      <td>2023</td>\n      <td>3</td>\n      <td>NaN</td>\n      <td>NaN</td>\n      <td>NaN</td>\n    </tr>\n    <tr>\n      <th>12371</th>\n      <td>NaN</td>\n      <td>NaN</td>\n      <td>данные отсутствуют</td>\n      <td>NaN</td>\n      <td>5548.0</td>\n      <td>0.0</td>\n      <td>3814.2</td>\n      <td>745.8</td>\n      <td>234.8</td>\n      <td>NaN</td>\n      <td>...</td>\n      <td>2.349821e+08</td>\n      <td>2.579307e+07</td>\n      <td>5.724512e+07</td>\n      <td>1.777370e+08</td>\n      <td>NaN</td>\n      <td>2023</td>\n      <td>3</td>\n      <td>NaN</td>\n      <td>NaN</td>\n      <td>NaN</td>\n    </tr>\n    <tr>\n      <th>12372</th>\n      <td>NaN</td>\n      <td>NaN</td>\n      <td>данные отсутствуют</td>\n      <td>NaN</td>\n      <td>108461.7</td>\n      <td>0.0</td>\n      <td>82421.6</td>\n      <td>2641.2</td>\n      <td>2822.2</td>\n      <td>NaN</td>\n      <td>...</td>\n      <td>2.381971e+09</td>\n      <td>2.126044e+08</td>\n      <td>6.362865e+08</td>\n      <td>1.741859e+09</td>\n      <td>NaN</td>\n      <td>2023</td>\n      <td>3</td>\n      <td>NaN</td>\n      <td>415.5</td>\n      <td>NaN</td>\n    </tr>\n  </tbody>\n</table>\n<p>12373 rows × 30 columns</p>\n</div>"
     },
     "execution_count": 94,
     "metadata": {},
     "output_type": "execute_result"
    }
   ],
   "source": [
    "list_df.reset_index(drop=True, inplace=True)\n",
    "list_df"
   ],
   "metadata": {
    "collapsed": false,
    "ExecuteTime": {
     "end_time": "2023-11-23T20:33:42.577833600Z",
     "start_time": "2023-11-23T20:33:42.527835200Z"
    }
   },
   "id": "b30637c2226f3a4d"
  },
  {
   "cell_type": "code",
   "execution_count": 95,
   "outputs": [
    {
     "data": {
      "text/plain": "                        index  \\\n0      Отделение Благовещенск   \n1                           1   \n2                           2   \n3                           3   \n4                           4   \n...                       ...   \n12368                    14.0   \n12369                    15.0   \n12370                    16.0   \n12371                     NaN   \n12372                     NaN   \n\n                                             object_name       building_year  \\\n0                                                    NaN  данные отсутствуют   \n1      Помещение объект № 2 (Вспомогательный), 675000...                1980   \n2      Административное здание, 676014, Амурская обла...                1978   \n3      Административное здание, лит. А, А1, 676980, К...                1959   \n4      Административное здание, 676530, Амурская обла...                1935   \n...                                                  ...                 ...   \n12368  Здание РКЦ, Российская Федерация, Чукотский ав...                1987   \n12369  Пункт резервного энергоснабжения , Чукотский а...                1997   \n12370  Квартира, Российская Федерация, Чукотский авто...  данные отсутствуют   \n12371                                                NaN  данные отсутствуют   \n12372                                                NaN  данные отсутствуют   \n\n      balance_date  object_square  building_square using_object_square  \\\n0              NaN            0.0              0.0                 NaN   \n1       13.07.1990          217.7            217.7               217.7   \n2       27.12.1990          389.1            389.1                   0   \n3       27.12.1990          237.7            237.7                   0   \n4       27.12.1990          830.2            830.2                   0   \n...            ...            ...              ...                 ...   \n12368          NaN          546.3              0.0               546.3   \n12369          NaN           96.3              0.0                 NaN   \n12370          NaN           73.9              0.0                 NaN   \n12371          NaN         5548.0              0.0              3814.2   \n12372          NaN       108461.7              0.0             82421.6   \n\n      not_using_object for_rent_object rent_object  ...   revaluation  \\\n0                  NaN             NaN         NaN  ...  0.000000e+00   \n1                    0               0           0  ...  9.374382e+05   \n2                    0           389.1           0  ...  7.713065e+05   \n3                    0               0           0  ...  5.374902e+04   \n4                830.2               0           0  ...  0.000000e+00   \n...                ...             ...         ...  ...           ...   \n12368              NaN             NaN         NaN  ...  9.526979e+06   \n12369             96.3             NaN         NaN  ...  7.840286e+04   \n12370              NaN             NaN         NaN  ...  0.000000e+00   \n12371            745.8           234.8         NaN  ...  2.579307e+07   \n12372           2641.2          2822.2         NaN  ...  2.126044e+08   \n\n       depreciation residual_value technical_condition  year quarter subusing  \\\n0      0.000000e+00   0.000000e+00                 NaN  2016       1      NaN   \n1      5.914977e+05   1.047315e+06  Удовлетворительное  2016       1      NaN   \n2      4.464946e+05   6.042402e+05  Удовлетворительное  2016       1      NaN   \n3      9.310895e+04   3.360228e+04  Удовлетворительное  2016       1      NaN   \n4      1.657841e+06   0.000000e+00              Ветхое  2016       1      NaN   \n...             ...            ...                 ...   ...     ...      ...   \n12368  3.668173e+06   7.370742e+06             Хорошее  2023       3      NaN   \n12369  9.878757e+05   2.179149e+06             Хорошее  2023       3      NaN   \n12370  0.000000e+00   0.000000e+00                 NaN  2023       3      NaN   \n12371  5.724512e+07   1.777370e+08                 NaN  2023       3      NaN   \n12372  6.362865e+08   1.741859e+09                 NaN  2023       3      NaN   \n\n      another_agreement storage_agreement otdel  \n0                   NaN               NaN   NaN  \n1                   NaN               NaN   NaN  \n2                   NaN               NaN   NaN  \n3                   NaN               NaN   NaN  \n4                   NaN               NaN   NaN  \n...                 ...               ...   ...  \n12368               NaN               NaN   NaN  \n12369               NaN               NaN   NaN  \n12370               NaN               NaN   NaN  \n12371               NaN               NaN   NaN  \n12372             415.5               NaN   NaN  \n\n[12373 rows x 31 columns]",
      "text/html": "<div>\n<style scoped>\n    .dataframe tbody tr th:only-of-type {\n        vertical-align: middle;\n    }\n\n    .dataframe tbody tr th {\n        vertical-align: top;\n    }\n\n    .dataframe thead th {\n        text-align: right;\n    }\n</style>\n<table border=\"1\" class=\"dataframe\">\n  <thead>\n    <tr style=\"text-align: right;\">\n      <th></th>\n      <th>index</th>\n      <th>object_name</th>\n      <th>building_year</th>\n      <th>balance_date</th>\n      <th>object_square</th>\n      <th>building_square</th>\n      <th>using_object_square</th>\n      <th>not_using_object</th>\n      <th>for_rent_object</th>\n      <th>rent_object</th>\n      <th>...</th>\n      <th>revaluation</th>\n      <th>depreciation</th>\n      <th>residual_value</th>\n      <th>technical_condition</th>\n      <th>year</th>\n      <th>quarter</th>\n      <th>subusing</th>\n      <th>another_agreement</th>\n      <th>storage_agreement</th>\n      <th>otdel</th>\n    </tr>\n  </thead>\n  <tbody>\n    <tr>\n      <th>0</th>\n      <td>Отделение Благовещенск</td>\n      <td>NaN</td>\n      <td>данные отсутствуют</td>\n      <td>NaN</td>\n      <td>0.0</td>\n      <td>0.0</td>\n      <td>NaN</td>\n      <td>NaN</td>\n      <td>NaN</td>\n      <td>NaN</td>\n      <td>...</td>\n      <td>0.000000e+00</td>\n      <td>0.000000e+00</td>\n      <td>0.000000e+00</td>\n      <td>NaN</td>\n      <td>2016</td>\n      <td>1</td>\n      <td>NaN</td>\n      <td>NaN</td>\n      <td>NaN</td>\n      <td>NaN</td>\n    </tr>\n    <tr>\n      <th>1</th>\n      <td>1</td>\n      <td>Помещение объект № 2 (Вспомогательный), 675000...</td>\n      <td>1980</td>\n      <td>13.07.1990</td>\n      <td>217.7</td>\n      <td>217.7</td>\n      <td>217.7</td>\n      <td>0</td>\n      <td>0</td>\n      <td>0</td>\n      <td>...</td>\n      <td>9.374382e+05</td>\n      <td>5.914977e+05</td>\n      <td>1.047315e+06</td>\n      <td>Удовлетворительное</td>\n      <td>2016</td>\n      <td>1</td>\n      <td>NaN</td>\n      <td>NaN</td>\n      <td>NaN</td>\n      <td>NaN</td>\n    </tr>\n    <tr>\n      <th>2</th>\n      <td>2</td>\n      <td>Административное здание, 676014, Амурская обла...</td>\n      <td>1978</td>\n      <td>27.12.1990</td>\n      <td>389.1</td>\n      <td>389.1</td>\n      <td>0</td>\n      <td>0</td>\n      <td>389.1</td>\n      <td>0</td>\n      <td>...</td>\n      <td>7.713065e+05</td>\n      <td>4.464946e+05</td>\n      <td>6.042402e+05</td>\n      <td>Удовлетворительное</td>\n      <td>2016</td>\n      <td>1</td>\n      <td>NaN</td>\n      <td>NaN</td>\n      <td>NaN</td>\n      <td>NaN</td>\n    </tr>\n    <tr>\n      <th>3</th>\n      <td>3</td>\n      <td>Административное здание, лит. А, А1, 676980, К...</td>\n      <td>1959</td>\n      <td>27.12.1990</td>\n      <td>237.7</td>\n      <td>237.7</td>\n      <td>0</td>\n      <td>0</td>\n      <td>0</td>\n      <td>0</td>\n      <td>...</td>\n      <td>5.374902e+04</td>\n      <td>9.310895e+04</td>\n      <td>3.360228e+04</td>\n      <td>Удовлетворительное</td>\n      <td>2016</td>\n      <td>1</td>\n      <td>NaN</td>\n      <td>NaN</td>\n      <td>NaN</td>\n      <td>NaN</td>\n    </tr>\n    <tr>\n      <th>4</th>\n      <td>4</td>\n      <td>Административное здание, 676530, Амурская обла...</td>\n      <td>1935</td>\n      <td>27.12.1990</td>\n      <td>830.2</td>\n      <td>830.2</td>\n      <td>0</td>\n      <td>830.2</td>\n      <td>0</td>\n      <td>0</td>\n      <td>...</td>\n      <td>0.000000e+00</td>\n      <td>1.657841e+06</td>\n      <td>0.000000e+00</td>\n      <td>Ветхое</td>\n      <td>2016</td>\n      <td>1</td>\n      <td>NaN</td>\n      <td>NaN</td>\n      <td>NaN</td>\n      <td>NaN</td>\n    </tr>\n    <tr>\n      <th>...</th>\n      <td>...</td>\n      <td>...</td>\n      <td>...</td>\n      <td>...</td>\n      <td>...</td>\n      <td>...</td>\n      <td>...</td>\n      <td>...</td>\n      <td>...</td>\n      <td>...</td>\n      <td>...</td>\n      <td>...</td>\n      <td>...</td>\n      <td>...</td>\n      <td>...</td>\n      <td>...</td>\n      <td>...</td>\n      <td>...</td>\n      <td>...</td>\n      <td>...</td>\n      <td>...</td>\n    </tr>\n    <tr>\n      <th>12368</th>\n      <td>14.0</td>\n      <td>Здание РКЦ, Российская Федерация, Чукотский ав...</td>\n      <td>1987</td>\n      <td>NaN</td>\n      <td>546.3</td>\n      <td>0.0</td>\n      <td>546.3</td>\n      <td>NaN</td>\n      <td>NaN</td>\n      <td>NaN</td>\n      <td>...</td>\n      <td>9.526979e+06</td>\n      <td>3.668173e+06</td>\n      <td>7.370742e+06</td>\n      <td>Хорошее</td>\n      <td>2023</td>\n      <td>3</td>\n      <td>NaN</td>\n      <td>NaN</td>\n      <td>NaN</td>\n      <td>NaN</td>\n    </tr>\n    <tr>\n      <th>12369</th>\n      <td>15.0</td>\n      <td>Пункт резервного энергоснабжения , Чукотский а...</td>\n      <td>1997</td>\n      <td>NaN</td>\n      <td>96.3</td>\n      <td>0.0</td>\n      <td>NaN</td>\n      <td>96.3</td>\n      <td>NaN</td>\n      <td>NaN</td>\n      <td>...</td>\n      <td>7.840286e+04</td>\n      <td>9.878757e+05</td>\n      <td>2.179149e+06</td>\n      <td>Хорошее</td>\n      <td>2023</td>\n      <td>3</td>\n      <td>NaN</td>\n      <td>NaN</td>\n      <td>NaN</td>\n      <td>NaN</td>\n    </tr>\n    <tr>\n      <th>12370</th>\n      <td>16.0</td>\n      <td>Квартира, Российская Федерация, Чукотский авто...</td>\n      <td>данные отсутствуют</td>\n      <td>NaN</td>\n      <td>73.9</td>\n      <td>0.0</td>\n      <td>NaN</td>\n      <td>NaN</td>\n      <td>NaN</td>\n      <td>NaN</td>\n      <td>...</td>\n      <td>0.000000e+00</td>\n      <td>0.000000e+00</td>\n      <td>0.000000e+00</td>\n      <td>NaN</td>\n      <td>2023</td>\n      <td>3</td>\n      <td>NaN</td>\n      <td>NaN</td>\n      <td>NaN</td>\n      <td>NaN</td>\n    </tr>\n    <tr>\n      <th>12371</th>\n      <td>NaN</td>\n      <td>NaN</td>\n      <td>данные отсутствуют</td>\n      <td>NaN</td>\n      <td>5548.0</td>\n      <td>0.0</td>\n      <td>3814.2</td>\n      <td>745.8</td>\n      <td>234.8</td>\n      <td>NaN</td>\n      <td>...</td>\n      <td>2.579307e+07</td>\n      <td>5.724512e+07</td>\n      <td>1.777370e+08</td>\n      <td>NaN</td>\n      <td>2023</td>\n      <td>3</td>\n      <td>NaN</td>\n      <td>NaN</td>\n      <td>NaN</td>\n      <td>NaN</td>\n    </tr>\n    <tr>\n      <th>12372</th>\n      <td>NaN</td>\n      <td>NaN</td>\n      <td>данные отсутствуют</td>\n      <td>NaN</td>\n      <td>108461.7</td>\n      <td>0.0</td>\n      <td>82421.6</td>\n      <td>2641.2</td>\n      <td>2822.2</td>\n      <td>NaN</td>\n      <td>...</td>\n      <td>2.126044e+08</td>\n      <td>6.362865e+08</td>\n      <td>1.741859e+09</td>\n      <td>NaN</td>\n      <td>2023</td>\n      <td>3</td>\n      <td>NaN</td>\n      <td>415.5</td>\n      <td>NaN</td>\n      <td>NaN</td>\n    </tr>\n  </tbody>\n</table>\n<p>12373 rows × 31 columns</p>\n</div>"
     },
     "execution_count": 95,
     "metadata": {},
     "output_type": "execute_result"
    }
   ],
   "source": [
    "import numpy as np\n",
    "\n",
    "list_df['otdel'] = np.nan\n",
    "list_df"
   ],
   "metadata": {
    "collapsed": false,
    "ExecuteTime": {
     "end_time": "2023-11-23T20:33:44.212378700Z",
     "start_time": "2023-11-23T20:33:44.180379700Z"
    }
   },
   "id": "a2eae383a6605195"
  },
  {
   "cell_type": "code",
   "execution_count": 96,
   "outputs": [
    {
     "data": {
      "text/plain": "                        index  \\\n0      Отделение Благовещенск   \n1                           1   \n2                           2   \n3                           3   \n4                           4   \n...                       ...   \n12368                    14.0   \n12369                    15.0   \n12370                    16.0   \n12371                     NaN   \n12372                     NaN   \n\n                                             object_name       building_year  \\\n0                                                    NaN  данные отсутствуют   \n1      Помещение объект № 2 (Вспомогательный), 675000...                1980   \n2      Административное здание, 676014, Амурская обла...                1978   \n3      Административное здание, лит. А, А1, 676980, К...                1959   \n4      Административное здание, 676530, Амурская обла...                1935   \n...                                                  ...                 ...   \n12368  Здание РКЦ, Российская Федерация, Чукотский ав...                1987   \n12369  Пункт резервного энергоснабжения , Чукотский а...                1997   \n12370  Квартира, Российская Федерация, Чукотский авто...  данные отсутствуют   \n12371                                                NaN  данные отсутствуют   \n12372                                                NaN  данные отсутствуют   \n\n      balance_date  object_square  building_square using_object_square  \\\n0              NaN            0.0              0.0                 NaN   \n1       13.07.1990          217.7            217.7               217.7   \n2       27.12.1990          389.1            389.1                   0   \n3       27.12.1990          237.7            237.7                   0   \n4       27.12.1990          830.2            830.2                   0   \n...            ...            ...              ...                 ...   \n12368          NaN          546.3              0.0               546.3   \n12369          NaN           96.3              0.0                 NaN   \n12370          NaN           73.9              0.0                 NaN   \n12371          NaN         5548.0              0.0              3814.2   \n12372          NaN       108461.7              0.0             82421.6   \n\n      not_using_object for_rent_object rent_object  ...   revaluation  \\\n0                  NaN             NaN         NaN  ...  0.000000e+00   \n1                    0               0           0  ...  9.374382e+05   \n2                    0           389.1           0  ...  7.713065e+05   \n3                    0               0           0  ...  5.374902e+04   \n4                830.2               0           0  ...  0.000000e+00   \n...                ...             ...         ...  ...           ...   \n12368              NaN             NaN         NaN  ...  9.526979e+06   \n12369             96.3             NaN         NaN  ...  7.840286e+04   \n12370              NaN             NaN         NaN  ...  0.000000e+00   \n12371            745.8           234.8         NaN  ...  2.579307e+07   \n12372           2641.2          2822.2         NaN  ...  2.126044e+08   \n\n       depreciation residual_value technical_condition  year quarter subusing  \\\n0      0.000000e+00   0.000000e+00                 NaN  2016       1      NaN   \n1      5.914977e+05   1.047315e+06  Удовлетворительное  2016       1      NaN   \n2      4.464946e+05   6.042402e+05  Удовлетворительное  2016       1      NaN   \n3      9.310895e+04   3.360228e+04  Удовлетворительное  2016       1      NaN   \n4      1.657841e+06   0.000000e+00              Ветхое  2016       1      NaN   \n...             ...            ...                 ...   ...     ...      ...   \n12368  3.668173e+06   7.370742e+06             Хорошее  2023       3      NaN   \n12369  9.878757e+05   2.179149e+06             Хорошее  2023       3      NaN   \n12370  0.000000e+00   0.000000e+00                 NaN  2023       3      NaN   \n12371  5.724512e+07   1.777370e+08                 NaN  2023       3      NaN   \n12372  6.362865e+08   1.741859e+09                 NaN  2023       3      NaN   \n\n      another_agreement storage_agreement                   otdel  \n0                   NaN               NaN                     NaN  \n1                   NaN               NaN  Отделение Благовещенск  \n2                   NaN               NaN  Отделение Благовещенск  \n3                   NaN               NaN  Отделение Благовещенск  \n4                   NaN               NaN  Отделение Благовещенск  \n...                 ...               ...                     ...  \n12368               NaN               NaN       Отделение Анадырь  \n12369               NaN               NaN       Отделение Анадырь  \n12370               NaN               NaN       Отделение Анадырь  \n12371               NaN               NaN       Отделение Анадырь  \n12372             415.5               NaN       Отделение Анадырь  \n\n[12373 rows x 31 columns]",
      "text/html": "<div>\n<style scoped>\n    .dataframe tbody tr th:only-of-type {\n        vertical-align: middle;\n    }\n\n    .dataframe tbody tr th {\n        vertical-align: top;\n    }\n\n    .dataframe thead th {\n        text-align: right;\n    }\n</style>\n<table border=\"1\" class=\"dataframe\">\n  <thead>\n    <tr style=\"text-align: right;\">\n      <th></th>\n      <th>index</th>\n      <th>object_name</th>\n      <th>building_year</th>\n      <th>balance_date</th>\n      <th>object_square</th>\n      <th>building_square</th>\n      <th>using_object_square</th>\n      <th>not_using_object</th>\n      <th>for_rent_object</th>\n      <th>rent_object</th>\n      <th>...</th>\n      <th>revaluation</th>\n      <th>depreciation</th>\n      <th>residual_value</th>\n      <th>technical_condition</th>\n      <th>year</th>\n      <th>quarter</th>\n      <th>subusing</th>\n      <th>another_agreement</th>\n      <th>storage_agreement</th>\n      <th>otdel</th>\n    </tr>\n  </thead>\n  <tbody>\n    <tr>\n      <th>0</th>\n      <td>Отделение Благовещенск</td>\n      <td>NaN</td>\n      <td>данные отсутствуют</td>\n      <td>NaN</td>\n      <td>0.0</td>\n      <td>0.0</td>\n      <td>NaN</td>\n      <td>NaN</td>\n      <td>NaN</td>\n      <td>NaN</td>\n      <td>...</td>\n      <td>0.000000e+00</td>\n      <td>0.000000e+00</td>\n      <td>0.000000e+00</td>\n      <td>NaN</td>\n      <td>2016</td>\n      <td>1</td>\n      <td>NaN</td>\n      <td>NaN</td>\n      <td>NaN</td>\n      <td>NaN</td>\n    </tr>\n    <tr>\n      <th>1</th>\n      <td>1</td>\n      <td>Помещение объект № 2 (Вспомогательный), 675000...</td>\n      <td>1980</td>\n      <td>13.07.1990</td>\n      <td>217.7</td>\n      <td>217.7</td>\n      <td>217.7</td>\n      <td>0</td>\n      <td>0</td>\n      <td>0</td>\n      <td>...</td>\n      <td>9.374382e+05</td>\n      <td>5.914977e+05</td>\n      <td>1.047315e+06</td>\n      <td>Удовлетворительное</td>\n      <td>2016</td>\n      <td>1</td>\n      <td>NaN</td>\n      <td>NaN</td>\n      <td>NaN</td>\n      <td>Отделение Благовещенск</td>\n    </tr>\n    <tr>\n      <th>2</th>\n      <td>2</td>\n      <td>Административное здание, 676014, Амурская обла...</td>\n      <td>1978</td>\n      <td>27.12.1990</td>\n      <td>389.1</td>\n      <td>389.1</td>\n      <td>0</td>\n      <td>0</td>\n      <td>389.1</td>\n      <td>0</td>\n      <td>...</td>\n      <td>7.713065e+05</td>\n      <td>4.464946e+05</td>\n      <td>6.042402e+05</td>\n      <td>Удовлетворительное</td>\n      <td>2016</td>\n      <td>1</td>\n      <td>NaN</td>\n      <td>NaN</td>\n      <td>NaN</td>\n      <td>Отделение Благовещенск</td>\n    </tr>\n    <tr>\n      <th>3</th>\n      <td>3</td>\n      <td>Административное здание, лит. А, А1, 676980, К...</td>\n      <td>1959</td>\n      <td>27.12.1990</td>\n      <td>237.7</td>\n      <td>237.7</td>\n      <td>0</td>\n      <td>0</td>\n      <td>0</td>\n      <td>0</td>\n      <td>...</td>\n      <td>5.374902e+04</td>\n      <td>9.310895e+04</td>\n      <td>3.360228e+04</td>\n      <td>Удовлетворительное</td>\n      <td>2016</td>\n      <td>1</td>\n      <td>NaN</td>\n      <td>NaN</td>\n      <td>NaN</td>\n      <td>Отделение Благовещенск</td>\n    </tr>\n    <tr>\n      <th>4</th>\n      <td>4</td>\n      <td>Административное здание, 676530, Амурская обла...</td>\n      <td>1935</td>\n      <td>27.12.1990</td>\n      <td>830.2</td>\n      <td>830.2</td>\n      <td>0</td>\n      <td>830.2</td>\n      <td>0</td>\n      <td>0</td>\n      <td>...</td>\n      <td>0.000000e+00</td>\n      <td>1.657841e+06</td>\n      <td>0.000000e+00</td>\n      <td>Ветхое</td>\n      <td>2016</td>\n      <td>1</td>\n      <td>NaN</td>\n      <td>NaN</td>\n      <td>NaN</td>\n      <td>Отделение Благовещенск</td>\n    </tr>\n    <tr>\n      <th>...</th>\n      <td>...</td>\n      <td>...</td>\n      <td>...</td>\n      <td>...</td>\n      <td>...</td>\n      <td>...</td>\n      <td>...</td>\n      <td>...</td>\n      <td>...</td>\n      <td>...</td>\n      <td>...</td>\n      <td>...</td>\n      <td>...</td>\n      <td>...</td>\n      <td>...</td>\n      <td>...</td>\n      <td>...</td>\n      <td>...</td>\n      <td>...</td>\n      <td>...</td>\n      <td>...</td>\n    </tr>\n    <tr>\n      <th>12368</th>\n      <td>14.0</td>\n      <td>Здание РКЦ, Российская Федерация, Чукотский ав...</td>\n      <td>1987</td>\n      <td>NaN</td>\n      <td>546.3</td>\n      <td>0.0</td>\n      <td>546.3</td>\n      <td>NaN</td>\n      <td>NaN</td>\n      <td>NaN</td>\n      <td>...</td>\n      <td>9.526979e+06</td>\n      <td>3.668173e+06</td>\n      <td>7.370742e+06</td>\n      <td>Хорошее</td>\n      <td>2023</td>\n      <td>3</td>\n      <td>NaN</td>\n      <td>NaN</td>\n      <td>NaN</td>\n      <td>Отделение Анадырь</td>\n    </tr>\n    <tr>\n      <th>12369</th>\n      <td>15.0</td>\n      <td>Пункт резервного энергоснабжения , Чукотский а...</td>\n      <td>1997</td>\n      <td>NaN</td>\n      <td>96.3</td>\n      <td>0.0</td>\n      <td>NaN</td>\n      <td>96.3</td>\n      <td>NaN</td>\n      <td>NaN</td>\n      <td>...</td>\n      <td>7.840286e+04</td>\n      <td>9.878757e+05</td>\n      <td>2.179149e+06</td>\n      <td>Хорошее</td>\n      <td>2023</td>\n      <td>3</td>\n      <td>NaN</td>\n      <td>NaN</td>\n      <td>NaN</td>\n      <td>Отделение Анадырь</td>\n    </tr>\n    <tr>\n      <th>12370</th>\n      <td>16.0</td>\n      <td>Квартира, Российская Федерация, Чукотский авто...</td>\n      <td>данные отсутствуют</td>\n      <td>NaN</td>\n      <td>73.9</td>\n      <td>0.0</td>\n      <td>NaN</td>\n      <td>NaN</td>\n      <td>NaN</td>\n      <td>NaN</td>\n      <td>...</td>\n      <td>0.000000e+00</td>\n      <td>0.000000e+00</td>\n      <td>0.000000e+00</td>\n      <td>NaN</td>\n      <td>2023</td>\n      <td>3</td>\n      <td>NaN</td>\n      <td>NaN</td>\n      <td>NaN</td>\n      <td>Отделение Анадырь</td>\n    </tr>\n    <tr>\n      <th>12371</th>\n      <td>NaN</td>\n      <td>NaN</td>\n      <td>данные отсутствуют</td>\n      <td>NaN</td>\n      <td>5548.0</td>\n      <td>0.0</td>\n      <td>3814.2</td>\n      <td>745.8</td>\n      <td>234.8</td>\n      <td>NaN</td>\n      <td>...</td>\n      <td>2.579307e+07</td>\n      <td>5.724512e+07</td>\n      <td>1.777370e+08</td>\n      <td>NaN</td>\n      <td>2023</td>\n      <td>3</td>\n      <td>NaN</td>\n      <td>NaN</td>\n      <td>NaN</td>\n      <td>Отделение Анадырь</td>\n    </tr>\n    <tr>\n      <th>12372</th>\n      <td>NaN</td>\n      <td>NaN</td>\n      <td>данные отсутствуют</td>\n      <td>NaN</td>\n      <td>108461.7</td>\n      <td>0.0</td>\n      <td>82421.6</td>\n      <td>2641.2</td>\n      <td>2822.2</td>\n      <td>NaN</td>\n      <td>...</td>\n      <td>2.126044e+08</td>\n      <td>6.362865e+08</td>\n      <td>1.741859e+09</td>\n      <td>NaN</td>\n      <td>2023</td>\n      <td>3</td>\n      <td>NaN</td>\n      <td>415.5</td>\n      <td>NaN</td>\n      <td>Отделение Анадырь</td>\n    </tr>\n  </tbody>\n</table>\n<p>12373 rows × 31 columns</p>\n</div>"
     },
     "execution_count": 96,
     "metadata": {},
     "output_type": "execute_result"
    }
   ],
   "source": [
    "otdel_df = list_df[\n",
    "    list_df['index'].apply(lambda x: (isinstance(x, str)) and \"итого\" not in x.lower() and \"всего\" not in x.lower())]\n",
    "indexes = []\n",
    "for index, row in otdel_df.iterrows():\n",
    "    indexes.append(index)\n",
    "\n",
    "for i in range(len(indexes) - 1):\n",
    "    index = indexes[i]\n",
    "    start = index + 1\n",
    "    stop = indexes[i + 1]\n",
    "    name = otdel_df.loc[index, \"index\"]\n",
    "    list_df.loc[start: stop, \"otdel\"] = name\n",
    "\n",
    "index = indexes[-1]\n",
    "start = index + 1\n",
    "name = otdel_df.loc[index, \"index\"]\n",
    "list_df.loc[start:, \"otdel\"] = name\n",
    "list_df"
   ],
   "metadata": {
    "collapsed": false,
    "ExecuteTime": {
     "end_time": "2023-11-23T20:33:44.891097400Z",
     "start_time": "2023-11-23T20:33:44.817436800Z"
    }
   },
   "id": "2b89861d913fc5ce"
  },
  {
   "cell_type": "code",
   "execution_count": 97,
   "outputs": [
    {
     "data": {
      "text/plain": "      index                                        object_name  \\\n1         1  Помещение объект № 2 (Вспомогательный), 675000...   \n2         2  Административное здание, 676014, Амурская обла...   \n3         3  Административное здание, лит. А, А1, 676980, К...   \n4         4  Административное здание, 676530, Амурская обла...   \n5         5  Административное здание, 675000, Амурская обла...   \n...     ...                                                ...   \n12366  12.0  резервное электроснабжение Административных зд...   \n12367  13.0  пристройка к ТП № 2, Российская Федерация, Чук...   \n12368  14.0  Здание РКЦ, Российская Федерация, Чукотский ав...   \n12369  15.0  Пункт резервного энергоснабжения , Чукотский а...   \n12370  16.0  Квартира, Российская Федерация, Чукотский авто...   \n\n            building_year balance_date  object_square  building_square  \\\n1                    1980   13.07.1990          217.7            217.7   \n2                    1978   27.12.1990          389.1            389.1   \n3                    1959   27.12.1990          237.7            237.7   \n4                    1935   27.12.1990          830.2            830.2   \n5                    1958   14.02.1992          403.9            403.9   \n...                   ...          ...            ...              ...   \n12366  Данные отсутствуют          NaN            0.0              0.0   \n12367                1995          NaN           22.9              0.0   \n12368                1987          NaN          546.3              0.0   \n12369                1997          NaN           96.3              0.0   \n12370  данные отсутствуют          NaN           73.9              0.0   \n\n      using_object_square not_using_object for_rent_object rent_object  ...  \\\n1                   217.7                0               0           0  ...   \n2                       0                0           389.1           0  ...   \n3                       0                0               0           0  ...   \n4                       0            830.2               0           0  ...   \n5                   403.9                0               0           0  ...   \n...                   ...              ...             ...         ...  ...   \n12366                 NaN              NaN             NaN         NaN  ...   \n12367                22.9              NaN             NaN         NaN  ...   \n12368               546.3              NaN             NaN         NaN  ...   \n12369                 NaN             96.3             NaN         NaN  ...   \n12370                 NaN              NaN             NaN         NaN  ...   \n\n      revaluation depreciation residual_value technical_condition  year  \\\n1       937438.23    591497.66     1047314.55  Удовлетворительное  2016   \n2       771306.47    446494.59      604240.17  Удовлетворительное  2016   \n3        53749.02     93108.95       33602.28  Удовлетворительное  2016   \n4            0.00   1657840.58           0.00              Ветхое  2016   \n5       162432.93    208772.46       95120.17  Удовлетворительное  2016   \n...           ...          ...            ...                 ...   ...   \n12366   206785.79    510303.18           0.00  Удовлетворительное  2023   \n12367   344633.94    401215.18      449267.78             Хорошее  2023   \n12368  9526978.74   3668172.74     7370742.00             Хорошее  2023   \n12369    78402.86    987875.69     2179148.60             Хорошее  2023   \n12370        0.00         0.00           0.00                 NaN  2023   \n\n      quarter subusing another_agreement storage_agreement  \\\n1           1      NaN               NaN               NaN   \n2           1      NaN               NaN               NaN   \n3           1      NaN               NaN               NaN   \n4           1      NaN               NaN               NaN   \n5           1      NaN               NaN               NaN   \n...       ...      ...               ...               ...   \n12366       3      NaN               NaN               NaN   \n12367       3      NaN               NaN               NaN   \n12368       3      NaN               NaN               NaN   \n12369       3      NaN               NaN               NaN   \n12370       3      NaN               NaN               NaN   \n\n                        otdel  \n1      Отделение Благовещенск  \n2      Отделение Благовещенск  \n3      Отделение Благовещенск  \n4      Отделение Благовещенск  \n5      Отделение Благовещенск  \n...                       ...  \n12366       Отделение Анадырь  \n12367       Отделение Анадырь  \n12368       Отделение Анадырь  \n12369       Отделение Анадырь  \n12370       Отделение Анадырь  \n\n[11742 rows x 31 columns]",
      "text/html": "<div>\n<style scoped>\n    .dataframe tbody tr th:only-of-type {\n        vertical-align: middle;\n    }\n\n    .dataframe tbody tr th {\n        vertical-align: top;\n    }\n\n    .dataframe thead th {\n        text-align: right;\n    }\n</style>\n<table border=\"1\" class=\"dataframe\">\n  <thead>\n    <tr style=\"text-align: right;\">\n      <th></th>\n      <th>index</th>\n      <th>object_name</th>\n      <th>building_year</th>\n      <th>balance_date</th>\n      <th>object_square</th>\n      <th>building_square</th>\n      <th>using_object_square</th>\n      <th>not_using_object</th>\n      <th>for_rent_object</th>\n      <th>rent_object</th>\n      <th>...</th>\n      <th>revaluation</th>\n      <th>depreciation</th>\n      <th>residual_value</th>\n      <th>technical_condition</th>\n      <th>year</th>\n      <th>quarter</th>\n      <th>subusing</th>\n      <th>another_agreement</th>\n      <th>storage_agreement</th>\n      <th>otdel</th>\n    </tr>\n  </thead>\n  <tbody>\n    <tr>\n      <th>1</th>\n      <td>1</td>\n      <td>Помещение объект № 2 (Вспомогательный), 675000...</td>\n      <td>1980</td>\n      <td>13.07.1990</td>\n      <td>217.7</td>\n      <td>217.7</td>\n      <td>217.7</td>\n      <td>0</td>\n      <td>0</td>\n      <td>0</td>\n      <td>...</td>\n      <td>937438.23</td>\n      <td>591497.66</td>\n      <td>1047314.55</td>\n      <td>Удовлетворительное</td>\n      <td>2016</td>\n      <td>1</td>\n      <td>NaN</td>\n      <td>NaN</td>\n      <td>NaN</td>\n      <td>Отделение Благовещенск</td>\n    </tr>\n    <tr>\n      <th>2</th>\n      <td>2</td>\n      <td>Административное здание, 676014, Амурская обла...</td>\n      <td>1978</td>\n      <td>27.12.1990</td>\n      <td>389.1</td>\n      <td>389.1</td>\n      <td>0</td>\n      <td>0</td>\n      <td>389.1</td>\n      <td>0</td>\n      <td>...</td>\n      <td>771306.47</td>\n      <td>446494.59</td>\n      <td>604240.17</td>\n      <td>Удовлетворительное</td>\n      <td>2016</td>\n      <td>1</td>\n      <td>NaN</td>\n      <td>NaN</td>\n      <td>NaN</td>\n      <td>Отделение Благовещенск</td>\n    </tr>\n    <tr>\n      <th>3</th>\n      <td>3</td>\n      <td>Административное здание, лит. А, А1, 676980, К...</td>\n      <td>1959</td>\n      <td>27.12.1990</td>\n      <td>237.7</td>\n      <td>237.7</td>\n      <td>0</td>\n      <td>0</td>\n      <td>0</td>\n      <td>0</td>\n      <td>...</td>\n      <td>53749.02</td>\n      <td>93108.95</td>\n      <td>33602.28</td>\n      <td>Удовлетворительное</td>\n      <td>2016</td>\n      <td>1</td>\n      <td>NaN</td>\n      <td>NaN</td>\n      <td>NaN</td>\n      <td>Отделение Благовещенск</td>\n    </tr>\n    <tr>\n      <th>4</th>\n      <td>4</td>\n      <td>Административное здание, 676530, Амурская обла...</td>\n      <td>1935</td>\n      <td>27.12.1990</td>\n      <td>830.2</td>\n      <td>830.2</td>\n      <td>0</td>\n      <td>830.2</td>\n      <td>0</td>\n      <td>0</td>\n      <td>...</td>\n      <td>0.00</td>\n      <td>1657840.58</td>\n      <td>0.00</td>\n      <td>Ветхое</td>\n      <td>2016</td>\n      <td>1</td>\n      <td>NaN</td>\n      <td>NaN</td>\n      <td>NaN</td>\n      <td>Отделение Благовещенск</td>\n    </tr>\n    <tr>\n      <th>5</th>\n      <td>5</td>\n      <td>Административное здание, 675000, Амурская обла...</td>\n      <td>1958</td>\n      <td>14.02.1992</td>\n      <td>403.9</td>\n      <td>403.9</td>\n      <td>403.9</td>\n      <td>0</td>\n      <td>0</td>\n      <td>0</td>\n      <td>...</td>\n      <td>162432.93</td>\n      <td>208772.46</td>\n      <td>95120.17</td>\n      <td>Удовлетворительное</td>\n      <td>2016</td>\n      <td>1</td>\n      <td>NaN</td>\n      <td>NaN</td>\n      <td>NaN</td>\n      <td>Отделение Благовещенск</td>\n    </tr>\n    <tr>\n      <th>...</th>\n      <td>...</td>\n      <td>...</td>\n      <td>...</td>\n      <td>...</td>\n      <td>...</td>\n      <td>...</td>\n      <td>...</td>\n      <td>...</td>\n      <td>...</td>\n      <td>...</td>\n      <td>...</td>\n      <td>...</td>\n      <td>...</td>\n      <td>...</td>\n      <td>...</td>\n      <td>...</td>\n      <td>...</td>\n      <td>...</td>\n      <td>...</td>\n      <td>...</td>\n      <td>...</td>\n    </tr>\n    <tr>\n      <th>12366</th>\n      <td>12.0</td>\n      <td>резервное электроснабжение Административных зд...</td>\n      <td>Данные отсутствуют</td>\n      <td>NaN</td>\n      <td>0.0</td>\n      <td>0.0</td>\n      <td>NaN</td>\n      <td>NaN</td>\n      <td>NaN</td>\n      <td>NaN</td>\n      <td>...</td>\n      <td>206785.79</td>\n      <td>510303.18</td>\n      <td>0.00</td>\n      <td>Удовлетворительное</td>\n      <td>2023</td>\n      <td>3</td>\n      <td>NaN</td>\n      <td>NaN</td>\n      <td>NaN</td>\n      <td>Отделение Анадырь</td>\n    </tr>\n    <tr>\n      <th>12367</th>\n      <td>13.0</td>\n      <td>пристройка к ТП № 2, Российская Федерация, Чук...</td>\n      <td>1995</td>\n      <td>NaN</td>\n      <td>22.9</td>\n      <td>0.0</td>\n      <td>22.9</td>\n      <td>NaN</td>\n      <td>NaN</td>\n      <td>NaN</td>\n      <td>...</td>\n      <td>344633.94</td>\n      <td>401215.18</td>\n      <td>449267.78</td>\n      <td>Хорошее</td>\n      <td>2023</td>\n      <td>3</td>\n      <td>NaN</td>\n      <td>NaN</td>\n      <td>NaN</td>\n      <td>Отделение Анадырь</td>\n    </tr>\n    <tr>\n      <th>12368</th>\n      <td>14.0</td>\n      <td>Здание РКЦ, Российская Федерация, Чукотский ав...</td>\n      <td>1987</td>\n      <td>NaN</td>\n      <td>546.3</td>\n      <td>0.0</td>\n      <td>546.3</td>\n      <td>NaN</td>\n      <td>NaN</td>\n      <td>NaN</td>\n      <td>...</td>\n      <td>9526978.74</td>\n      <td>3668172.74</td>\n      <td>7370742.00</td>\n      <td>Хорошее</td>\n      <td>2023</td>\n      <td>3</td>\n      <td>NaN</td>\n      <td>NaN</td>\n      <td>NaN</td>\n      <td>Отделение Анадырь</td>\n    </tr>\n    <tr>\n      <th>12369</th>\n      <td>15.0</td>\n      <td>Пункт резервного энергоснабжения , Чукотский а...</td>\n      <td>1997</td>\n      <td>NaN</td>\n      <td>96.3</td>\n      <td>0.0</td>\n      <td>NaN</td>\n      <td>96.3</td>\n      <td>NaN</td>\n      <td>NaN</td>\n      <td>...</td>\n      <td>78402.86</td>\n      <td>987875.69</td>\n      <td>2179148.60</td>\n      <td>Хорошее</td>\n      <td>2023</td>\n      <td>3</td>\n      <td>NaN</td>\n      <td>NaN</td>\n      <td>NaN</td>\n      <td>Отделение Анадырь</td>\n    </tr>\n    <tr>\n      <th>12370</th>\n      <td>16.0</td>\n      <td>Квартира, Российская Федерация, Чукотский авто...</td>\n      <td>данные отсутствуют</td>\n      <td>NaN</td>\n      <td>73.9</td>\n      <td>0.0</td>\n      <td>NaN</td>\n      <td>NaN</td>\n      <td>NaN</td>\n      <td>NaN</td>\n      <td>...</td>\n      <td>0.00</td>\n      <td>0.00</td>\n      <td>0.00</td>\n      <td>NaN</td>\n      <td>2023</td>\n      <td>3</td>\n      <td>NaN</td>\n      <td>NaN</td>\n      <td>NaN</td>\n      <td>Отделение Анадырь</td>\n    </tr>\n  </tbody>\n</table>\n<p>11742 rows × 31 columns</p>\n</div>"
     },
     "execution_count": 97,
     "metadata": {},
     "output_type": "execute_result"
    }
   ],
   "source": [
    "list_df = list_df.drop((list_df[list_df['index'].apply(lambda x: (isinstance(x, str)) or pd.isna(x))]).index)\n",
    "list_df"
   ],
   "metadata": {
    "collapsed": false,
    "ExecuteTime": {
     "end_time": "2023-11-23T20:33:50.543020700Z",
     "start_time": "2023-11-23T20:33:50.479019400Z"
    }
   },
   "id": "9259866cece2073d"
  },
  {
   "cell_type": "code",
   "execution_count": 98,
   "outputs": [
    {
     "data": {
      "text/plain": "                                             object_name       building_year  \\\n1      Помещение объект № 2 (Вспомогательный), 675000...                1980   \n2      Административное здание, 676014, Амурская обла...                1978   \n3      Административное здание, лит. А, А1, 676980, К...                1959   \n4      Административное здание, 676530, Амурская обла...                1935   \n5      Административное здание, 675000, Амурская обла...                1958   \n...                                                  ...                 ...   \n12366  резервное электроснабжение Административных зд...  Данные отсутствуют   \n12367  пристройка к ТП № 2, Российская Федерация, Чук...                1995   \n12368  Здание РКЦ, Российская Федерация, Чукотский ав...                1987   \n12369  Пункт резервного энергоснабжения , Чукотский а...                1997   \n12370  Квартира, Российская Федерация, Чукотский авто...  данные отсутствуют   \n\n      balance_date  object_square  building_square       balance  revaluation  \\\n1       13.07.1990          217.7            217.7  1.638812e+06    937438.23   \n2       27.12.1990          389.1            389.1  1.050735e+06    771306.47   \n3       27.12.1990          237.7            237.7  1.267112e+05     53749.02   \n4       27.12.1990          830.2            830.2  1.657841e+06         0.00   \n5       14.02.1992          403.9            403.9  3.038926e+05    162432.93   \n...            ...            ...              ...           ...          ...   \n12366          NaN            0.0              0.0  5.103032e+05    206785.79   \n12367          NaN           22.9              0.0  8.504830e+05    344633.94   \n12368          NaN          546.3              0.0  1.103891e+07   9526978.74   \n12369          NaN           96.3              0.0  3.167024e+06     78402.86   \n12370          NaN           73.9              0.0  2.376797e+07         0.00   \n\n       depreciation  residual_value technical_condition  year  quarter  \\\n1         591497.66      1047314.55  Удовлетворительное  2016        1   \n2         446494.59       604240.17  Удовлетворительное  2016        1   \n3          93108.95        33602.28  Удовлетворительное  2016        1   \n4        1657840.58            0.00              Ветхое  2016        1   \n5         208772.46        95120.17  Удовлетворительное  2016        1   \n...             ...             ...                 ...   ...      ...   \n12366     510303.18            0.00  Удовлетворительное  2023        3   \n12367     401215.18       449267.78             Хорошее  2023        3   \n12368    3668172.74      7370742.00             Хорошее  2023        3   \n12369     987875.69      2179148.60             Хорошее  2023        3   \n12370          0.00            0.00                 NaN  2023        3   \n\n                        otdel  \n1      Отделение Благовещенск  \n2      Отделение Благовещенск  \n3      Отделение Благовещенск  \n4      Отделение Благовещенск  \n5      Отделение Благовещенск  \n...                       ...  \n12366       Отделение Анадырь  \n12367       Отделение Анадырь  \n12368       Отделение Анадырь  \n12369       Отделение Анадырь  \n12370       Отделение Анадырь  \n\n[11742 rows x 13 columns]",
      "text/html": "<div>\n<style scoped>\n    .dataframe tbody tr th:only-of-type {\n        vertical-align: middle;\n    }\n\n    .dataframe tbody tr th {\n        vertical-align: top;\n    }\n\n    .dataframe thead th {\n        text-align: right;\n    }\n</style>\n<table border=\"1\" class=\"dataframe\">\n  <thead>\n    <tr style=\"text-align: right;\">\n      <th></th>\n      <th>object_name</th>\n      <th>building_year</th>\n      <th>balance_date</th>\n      <th>object_square</th>\n      <th>building_square</th>\n      <th>balance</th>\n      <th>revaluation</th>\n      <th>depreciation</th>\n      <th>residual_value</th>\n      <th>technical_condition</th>\n      <th>year</th>\n      <th>quarter</th>\n      <th>otdel</th>\n    </tr>\n  </thead>\n  <tbody>\n    <tr>\n      <th>1</th>\n      <td>Помещение объект № 2 (Вспомогательный), 675000...</td>\n      <td>1980</td>\n      <td>13.07.1990</td>\n      <td>217.7</td>\n      <td>217.7</td>\n      <td>1.638812e+06</td>\n      <td>937438.23</td>\n      <td>591497.66</td>\n      <td>1047314.55</td>\n      <td>Удовлетворительное</td>\n      <td>2016</td>\n      <td>1</td>\n      <td>Отделение Благовещенск</td>\n    </tr>\n    <tr>\n      <th>2</th>\n      <td>Административное здание, 676014, Амурская обла...</td>\n      <td>1978</td>\n      <td>27.12.1990</td>\n      <td>389.1</td>\n      <td>389.1</td>\n      <td>1.050735e+06</td>\n      <td>771306.47</td>\n      <td>446494.59</td>\n      <td>604240.17</td>\n      <td>Удовлетворительное</td>\n      <td>2016</td>\n      <td>1</td>\n      <td>Отделение Благовещенск</td>\n    </tr>\n    <tr>\n      <th>3</th>\n      <td>Административное здание, лит. А, А1, 676980, К...</td>\n      <td>1959</td>\n      <td>27.12.1990</td>\n      <td>237.7</td>\n      <td>237.7</td>\n      <td>1.267112e+05</td>\n      <td>53749.02</td>\n      <td>93108.95</td>\n      <td>33602.28</td>\n      <td>Удовлетворительное</td>\n      <td>2016</td>\n      <td>1</td>\n      <td>Отделение Благовещенск</td>\n    </tr>\n    <tr>\n      <th>4</th>\n      <td>Административное здание, 676530, Амурская обла...</td>\n      <td>1935</td>\n      <td>27.12.1990</td>\n      <td>830.2</td>\n      <td>830.2</td>\n      <td>1.657841e+06</td>\n      <td>0.00</td>\n      <td>1657840.58</td>\n      <td>0.00</td>\n      <td>Ветхое</td>\n      <td>2016</td>\n      <td>1</td>\n      <td>Отделение Благовещенск</td>\n    </tr>\n    <tr>\n      <th>5</th>\n      <td>Административное здание, 675000, Амурская обла...</td>\n      <td>1958</td>\n      <td>14.02.1992</td>\n      <td>403.9</td>\n      <td>403.9</td>\n      <td>3.038926e+05</td>\n      <td>162432.93</td>\n      <td>208772.46</td>\n      <td>95120.17</td>\n      <td>Удовлетворительное</td>\n      <td>2016</td>\n      <td>1</td>\n      <td>Отделение Благовещенск</td>\n    </tr>\n    <tr>\n      <th>...</th>\n      <td>...</td>\n      <td>...</td>\n      <td>...</td>\n      <td>...</td>\n      <td>...</td>\n      <td>...</td>\n      <td>...</td>\n      <td>...</td>\n      <td>...</td>\n      <td>...</td>\n      <td>...</td>\n      <td>...</td>\n      <td>...</td>\n    </tr>\n    <tr>\n      <th>12366</th>\n      <td>резервное электроснабжение Административных зд...</td>\n      <td>Данные отсутствуют</td>\n      <td>NaN</td>\n      <td>0.0</td>\n      <td>0.0</td>\n      <td>5.103032e+05</td>\n      <td>206785.79</td>\n      <td>510303.18</td>\n      <td>0.00</td>\n      <td>Удовлетворительное</td>\n      <td>2023</td>\n      <td>3</td>\n      <td>Отделение Анадырь</td>\n    </tr>\n    <tr>\n      <th>12367</th>\n      <td>пристройка к ТП № 2, Российская Федерация, Чук...</td>\n      <td>1995</td>\n      <td>NaN</td>\n      <td>22.9</td>\n      <td>0.0</td>\n      <td>8.504830e+05</td>\n      <td>344633.94</td>\n      <td>401215.18</td>\n      <td>449267.78</td>\n      <td>Хорошее</td>\n      <td>2023</td>\n      <td>3</td>\n      <td>Отделение Анадырь</td>\n    </tr>\n    <tr>\n      <th>12368</th>\n      <td>Здание РКЦ, Российская Федерация, Чукотский ав...</td>\n      <td>1987</td>\n      <td>NaN</td>\n      <td>546.3</td>\n      <td>0.0</td>\n      <td>1.103891e+07</td>\n      <td>9526978.74</td>\n      <td>3668172.74</td>\n      <td>7370742.00</td>\n      <td>Хорошее</td>\n      <td>2023</td>\n      <td>3</td>\n      <td>Отделение Анадырь</td>\n    </tr>\n    <tr>\n      <th>12369</th>\n      <td>Пункт резервного энергоснабжения , Чукотский а...</td>\n      <td>1997</td>\n      <td>NaN</td>\n      <td>96.3</td>\n      <td>0.0</td>\n      <td>3.167024e+06</td>\n      <td>78402.86</td>\n      <td>987875.69</td>\n      <td>2179148.60</td>\n      <td>Хорошее</td>\n      <td>2023</td>\n      <td>3</td>\n      <td>Отделение Анадырь</td>\n    </tr>\n    <tr>\n      <th>12370</th>\n      <td>Квартира, Российская Федерация, Чукотский авто...</td>\n      <td>данные отсутствуют</td>\n      <td>NaN</td>\n      <td>73.9</td>\n      <td>0.0</td>\n      <td>2.376797e+07</td>\n      <td>0.00</td>\n      <td>0.00</td>\n      <td>0.00</td>\n      <td>NaN</td>\n      <td>2023</td>\n      <td>3</td>\n      <td>Отделение Анадырь</td>\n    </tr>\n  </tbody>\n</table>\n<p>11742 rows × 13 columns</p>\n</div>"
     },
     "execution_count": 98,
     "metadata": {},
     "output_type": "execute_result"
    }
   ],
   "source": [
    "list_df = list_df.drop(\n",
    "    ['index', \"using_object_square\", \"not_using_object\", \"for_rent_object\", \"rent_object\", \"sub_rent_object\",\n",
    "     \"transferred_object\", \"using_building_square\", \"not_using_building\", \"for_rent_building\", \"rent_building\",\n",
    "     \"sub_rent_building\", \"transferred_building\", \"transferred_free_use_building\", 'transferred_free_use_object',\n",
    "     \"subusing\", \"another_agreement\", \"storage_agreement\"], axis=1)\n",
    "list_df"
   ],
   "metadata": {
    "collapsed": false,
    "ExecuteTime": {
     "end_time": "2023-11-23T20:33:51.643880200Z",
     "start_time": "2023-11-23T20:33:51.608879600Z"
    }
   },
   "id": "fdeeebd9430e37ef"
  },
  {
   "cell_type": "code",
   "execution_count": 99,
   "outputs": [
    {
     "data": {
      "text/plain": "                                             object_name       building_year  \\\n42     Павильон, 675000, Амурская область, г.Благовещ...                1990   \n43     Летняя кухня, 675000, Амурская область, г.Благ...                1990   \n165    Спортивный зал в пансионате \"Светлячок\" ГУ Бан...  данные отсутствуют   \n182    Нежилые помещения, 685000, Магаданская обл., г...                1995   \n185    Нежилые помещения, 685000, Магаданская обл., г...                1953   \n...                                                  ...                 ...   \n11613  Земельный участок, Российская Федерация, Хабар...  Данные отсутствуют   \n11848  Земельный участок, Российская Федерация, Хабар...  Данные отсутствуют   \n12079  Земельный участок, Российская Федерация, Хабар...  Данные отсутствуют   \n12310  Земельный участок, Российская Федерация, Хабар...  Данные отсутствуют   \n12370  Квартира, Российская Федерация, Чукотский авто...  данные отсутствуют   \n\n      balance_date  object_square  building_square       balance  revaluation  \\\n42      22.07.1992          148.8            148.8  3.967488e+04      5330.82   \n43      22.12.1992            8.8              8.8  1.569913e+04      5781.73   \n165            NaN         1461.1           1461.1  2.376797e+07         0.00   \n182            NaN           34.3             34.3  2.376797e+07         0.00   \n185            NaN          585.7            585.7  2.376797e+07         0.00   \n...            ...            ...              ...           ...          ...   \n11613          NaN            0.0              0.0  2.376797e+07         0.00   \n11848          NaN            0.0              0.0  2.376797e+07         0.00   \n12079          NaN            0.0              0.0  2.376797e+07         0.00   \n12310          NaN            0.0              0.0  2.376797e+07         0.00   \n12370          NaN           73.9              0.0  2.376797e+07         0.00   \n\n       depreciation  residual_value technical_condition  year  quarter  \\\n42         39674.88             0.0                 NaN  2016        1   \n43         15699.13             0.0                 NaN  2016        1   \n165            0.00             0.0                 NaN  2016        1   \n182            0.00             0.0                 NaN  2016        1   \n185            0.00             0.0                 NaN  2016        1   \n...             ...             ...                 ...   ...      ...   \n11613          0.00             0.0                 NaN  2022        4   \n11848          0.00             0.0                 NaN  2023        1   \n12079          0.00             0.0                 NaN  2023        2   \n12310          0.00             0.0                 NaN  2023        3   \n12370          0.00             0.0                 NaN  2023        3   \n\n                                    otdel  \n42                 Отделение Благовещенск  \n43                 Отделение Благовещенск  \n165    Отделение Петропавловск-Камчатский  \n182                     Отделение Магадан  \n185                     Отделение Магадан  \n...                                   ...  \n11613                   Отделение Анадырь  \n11848                   Отделение Анадырь  \n12079                   Отделение Анадырь  \n12310                   Отделение Анадырь  \n12370                   Отделение Анадырь  \n\n[2490 rows x 13 columns]",
      "text/html": "<div>\n<style scoped>\n    .dataframe tbody tr th:only-of-type {\n        vertical-align: middle;\n    }\n\n    .dataframe tbody tr th {\n        vertical-align: top;\n    }\n\n    .dataframe thead th {\n        text-align: right;\n    }\n</style>\n<table border=\"1\" class=\"dataframe\">\n  <thead>\n    <tr style=\"text-align: right;\">\n      <th></th>\n      <th>object_name</th>\n      <th>building_year</th>\n      <th>balance_date</th>\n      <th>object_square</th>\n      <th>building_square</th>\n      <th>balance</th>\n      <th>revaluation</th>\n      <th>depreciation</th>\n      <th>residual_value</th>\n      <th>technical_condition</th>\n      <th>year</th>\n      <th>quarter</th>\n      <th>otdel</th>\n    </tr>\n  </thead>\n  <tbody>\n    <tr>\n      <th>42</th>\n      <td>Павильон, 675000, Амурская область, г.Благовещ...</td>\n      <td>1990</td>\n      <td>22.07.1992</td>\n      <td>148.8</td>\n      <td>148.8</td>\n      <td>3.967488e+04</td>\n      <td>5330.82</td>\n      <td>39674.88</td>\n      <td>0.0</td>\n      <td>NaN</td>\n      <td>2016</td>\n      <td>1</td>\n      <td>Отделение Благовещенск</td>\n    </tr>\n    <tr>\n      <th>43</th>\n      <td>Летняя кухня, 675000, Амурская область, г.Благ...</td>\n      <td>1990</td>\n      <td>22.12.1992</td>\n      <td>8.8</td>\n      <td>8.8</td>\n      <td>1.569913e+04</td>\n      <td>5781.73</td>\n      <td>15699.13</td>\n      <td>0.0</td>\n      <td>NaN</td>\n      <td>2016</td>\n      <td>1</td>\n      <td>Отделение Благовещенск</td>\n    </tr>\n    <tr>\n      <th>165</th>\n      <td>Спортивный зал в пансионате \"Светлячок\" ГУ Бан...</td>\n      <td>данные отсутствуют</td>\n      <td>NaN</td>\n      <td>1461.1</td>\n      <td>1461.1</td>\n      <td>2.376797e+07</td>\n      <td>0.00</td>\n      <td>0.00</td>\n      <td>0.0</td>\n      <td>NaN</td>\n      <td>2016</td>\n      <td>1</td>\n      <td>Отделение Петропавловск-Камчатский</td>\n    </tr>\n    <tr>\n      <th>182</th>\n      <td>Нежилые помещения, 685000, Магаданская обл., г...</td>\n      <td>1995</td>\n      <td>NaN</td>\n      <td>34.3</td>\n      <td>34.3</td>\n      <td>2.376797e+07</td>\n      <td>0.00</td>\n      <td>0.00</td>\n      <td>0.0</td>\n      <td>NaN</td>\n      <td>2016</td>\n      <td>1</td>\n      <td>Отделение Магадан</td>\n    </tr>\n    <tr>\n      <th>185</th>\n      <td>Нежилые помещения, 685000, Магаданская обл., г...</td>\n      <td>1953</td>\n      <td>NaN</td>\n      <td>585.7</td>\n      <td>585.7</td>\n      <td>2.376797e+07</td>\n      <td>0.00</td>\n      <td>0.00</td>\n      <td>0.0</td>\n      <td>NaN</td>\n      <td>2016</td>\n      <td>1</td>\n      <td>Отделение Магадан</td>\n    </tr>\n    <tr>\n      <th>...</th>\n      <td>...</td>\n      <td>...</td>\n      <td>...</td>\n      <td>...</td>\n      <td>...</td>\n      <td>...</td>\n      <td>...</td>\n      <td>...</td>\n      <td>...</td>\n      <td>...</td>\n      <td>...</td>\n      <td>...</td>\n      <td>...</td>\n    </tr>\n    <tr>\n      <th>11613</th>\n      <td>Земельный участок, Российская Федерация, Хабар...</td>\n      <td>Данные отсутствуют</td>\n      <td>NaN</td>\n      <td>0.0</td>\n      <td>0.0</td>\n      <td>2.376797e+07</td>\n      <td>0.00</td>\n      <td>0.00</td>\n      <td>0.0</td>\n      <td>NaN</td>\n      <td>2022</td>\n      <td>4</td>\n      <td>Отделение Анадырь</td>\n    </tr>\n    <tr>\n      <th>11848</th>\n      <td>Земельный участок, Российская Федерация, Хабар...</td>\n      <td>Данные отсутствуют</td>\n      <td>NaN</td>\n      <td>0.0</td>\n      <td>0.0</td>\n      <td>2.376797e+07</td>\n      <td>0.00</td>\n      <td>0.00</td>\n      <td>0.0</td>\n      <td>NaN</td>\n      <td>2023</td>\n      <td>1</td>\n      <td>Отделение Анадырь</td>\n    </tr>\n    <tr>\n      <th>12079</th>\n      <td>Земельный участок, Российская Федерация, Хабар...</td>\n      <td>Данные отсутствуют</td>\n      <td>NaN</td>\n      <td>0.0</td>\n      <td>0.0</td>\n      <td>2.376797e+07</td>\n      <td>0.00</td>\n      <td>0.00</td>\n      <td>0.0</td>\n      <td>NaN</td>\n      <td>2023</td>\n      <td>2</td>\n      <td>Отделение Анадырь</td>\n    </tr>\n    <tr>\n      <th>12310</th>\n      <td>Земельный участок, Российская Федерация, Хабар...</td>\n      <td>Данные отсутствуют</td>\n      <td>NaN</td>\n      <td>0.0</td>\n      <td>0.0</td>\n      <td>2.376797e+07</td>\n      <td>0.00</td>\n      <td>0.00</td>\n      <td>0.0</td>\n      <td>NaN</td>\n      <td>2023</td>\n      <td>3</td>\n      <td>Отделение Анадырь</td>\n    </tr>\n    <tr>\n      <th>12370</th>\n      <td>Квартира, Российская Федерация, Чукотский авто...</td>\n      <td>данные отсутствуют</td>\n      <td>NaN</td>\n      <td>73.9</td>\n      <td>0.0</td>\n      <td>2.376797e+07</td>\n      <td>0.00</td>\n      <td>0.00</td>\n      <td>0.0</td>\n      <td>NaN</td>\n      <td>2023</td>\n      <td>3</td>\n      <td>Отделение Анадырь</td>\n    </tr>\n  </tbody>\n</table>\n<p>2490 rows × 13 columns</p>\n</div>"
     },
     "execution_count": 99,
     "metadata": {},
     "output_type": "execute_result"
    }
   ],
   "source": [
    "list_df[list_df['technical_condition'].isna()]"
   ],
   "metadata": {
    "collapsed": false,
    "ExecuteTime": {
     "end_time": "2023-11-23T20:33:52.536408900Z",
     "start_time": "2023-11-23T20:33:52.505408200Z"
    }
   },
   "id": "ca61e5e6f7fc93c7"
  },
  {
   "cell_type": "code",
   "execution_count": 31,
   "outputs": [],
   "source": [
    "import re\n",
    "\n",
    "kp = r'кп[^,]+'\n",
    "kurort = r'курортный поселок[^,]+'\n",
    "city_pattern = r'г\\.\\s*([^,]+)'\n",
    "selo_pattern = r'с\\.\\s*([^,]+)'\n",
    "pgt_pattern = r'пгт\\.\\s*([^,]+)'\n",
    "pgt2_pattern = r'пгт[^,]+'\n",
    "poselok_patter = r'п\\.\\s*([^,]+)'\n",
    "city_pattern2 = r'город[^,]+'\n",
    "poselok_pattern2 = r'поселок[^,]+'\n",
    "poselok_pattern3 = r'Рабочий Поселок[^,]+'\n",
    "mountain = r'гора[^,]+'\n",
    "selo_pattern2 = r'с[^,]+'\n",
    "\n",
    "patterns = [kp, city_pattern, selo_pattern, pgt_pattern, poselok_patter, pgt2_pattern, city_pattern2, poselok_pattern2,\n",
    "            poselok_pattern3, mountain, selo_pattern2, kurort]"
   ],
   "metadata": {
    "collapsed": false,
    "ExecuteTime": {
     "end_time": "2023-11-24T09:17:35.461280900Z",
     "start_time": "2023-11-24T09:17:35.445283100Z"
    }
   },
   "id": "9857451eb4c552ee"
  },
  {
   "cell_type": "code",
   "execution_count": 146,
   "outputs": [
    {
     "name": "stderr",
     "output_type": "stream",
     "text": [
      "11742it [00:00, 27927.08it/s]\n"
     ]
    },
    {
     "data": {
      "text/plain": "11742"
     },
     "execution_count": 146,
     "metadata": {},
     "output_type": "execute_result"
    }
   ],
   "source": [
    "cities = []\n",
    "for index, row in tqdm(list_df.iterrows()):\n",
    "    txt = row[0]\n",
    "    group = 1\n",
    "    for pattern in patterns:\n",
    "        match = re.search(pattern, txt)\n",
    "        if match:\n",
    "            if len(match.groups()) == 0:\n",
    "                group = 0\n",
    "            break\n",
    "    city = match.group(group)\n",
    "    cities.append(city)\n",
    "len(cities)"
   ],
   "metadata": {
    "collapsed": false,
    "ExecuteTime": {
     "end_time": "2023-11-23T21:49:42.285165300Z",
     "start_time": "2023-11-23T21:49:41.825714300Z"
    }
   },
   "id": "81703170347c7bec"
  },
  {
   "cell_type": "code",
   "execution_count": 147,
   "outputs": [
    {
     "data": {
      "text/plain": "                                             object_name       building_year  \\\n1      Помещение объект № 2 (Вспомогательный), 675000...                1980   \n2      Административное здание, 676014, Амурская обла...                1978   \n3      Административное здание, лит. А, А1, 676980, К...                1959   \n4      Административное здание, 676530, Амурская обла...                1935   \n5      Административное здание, 675000, Амурская обла...                1958   \n...                                                  ...                 ...   \n12366  резервное электроснабжение Административных зд...  Данные отсутствуют   \n12367  пристройка к ТП № 2, Российская Федерация, Чук...                1995   \n12368  Здание РКЦ, Российская Федерация, Чукотский ав...                1987   \n12369  Пункт резервного энергоснабжения , Чукотский а...                1997   \n12370  Квартира, Российская Федерация, Чукотский авто...  данные отсутствуют   \n\n      balance_date  object_square  building_square       balance  revaluation  \\\n1       13.07.1990          217.7            217.7  1.638812e+06    937438.23   \n2       27.12.1990          389.1            389.1  1.050735e+06    771306.47   \n3       27.12.1990          237.7            237.7  1.267112e+05     53749.02   \n4       27.12.1990          830.2            830.2  1.657841e+06         0.00   \n5       14.02.1992          403.9            403.9  3.038926e+05    162432.93   \n...            ...            ...              ...           ...          ...   \n12366          NaN            0.0              0.0  5.103032e+05    206785.79   \n12367          NaN           22.9              0.0  8.504830e+05    344633.94   \n12368          NaN          546.3              0.0  1.103891e+07   9526978.74   \n12369          NaN           96.3              0.0  3.167024e+06     78402.86   \n12370          NaN           73.9              0.0  2.376797e+07         0.00   \n\n       depreciation  residual_value technical_condition  year  quarter  \\\n1         591497.66      1047314.55  Удовлетворительное  2016        1   \n2         446494.59       604240.17  Удовлетворительное  2016        1   \n3          93108.95        33602.28  Удовлетворительное  2016        1   \n4        1657840.58            0.00              Ветхое  2016        1   \n5         208772.46        95120.17  Удовлетворительное  2016        1   \n...             ...             ...                 ...   ...      ...   \n12366     510303.18            0.00  Удовлетворительное  2023        3   \n12367     401215.18       449267.78             Хорошее  2023        3   \n12368    3668172.74      7370742.00             Хорошее  2023        3   \n12369     987875.69      2179148.60             Хорошее  2023        3   \n12370          0.00            0.00                 NaN  2023        3   \n\n                        otdel                               city  \n1      Отделение Благовещенск                       Благовещенск  \n2      Отделение Благовещенск                        Сковородино  \n3      Отделение Благовещенск                     Константиновка  \n4      Отделение Благовещенск                  Новокиевский Увал  \n5      Отделение Благовещенск                       Благовещенск  \n...                       ...                                ...  \n12366       Отделение Анадырь  снабжение Административных зданий  \n12367       Отделение Анадырь            городской округ Анадырь  \n12368       Отделение Анадырь       городское поселение Билибино  \n12369       Отделение Анадырь                   пгт Беринговский  \n12370       Отделение Анадырь                    городской округ  \n\n[11742 rows x 14 columns]",
      "text/html": "<div>\n<style scoped>\n    .dataframe tbody tr th:only-of-type {\n        vertical-align: middle;\n    }\n\n    .dataframe tbody tr th {\n        vertical-align: top;\n    }\n\n    .dataframe thead th {\n        text-align: right;\n    }\n</style>\n<table border=\"1\" class=\"dataframe\">\n  <thead>\n    <tr style=\"text-align: right;\">\n      <th></th>\n      <th>object_name</th>\n      <th>building_year</th>\n      <th>balance_date</th>\n      <th>object_square</th>\n      <th>building_square</th>\n      <th>balance</th>\n      <th>revaluation</th>\n      <th>depreciation</th>\n      <th>residual_value</th>\n      <th>technical_condition</th>\n      <th>year</th>\n      <th>quarter</th>\n      <th>otdel</th>\n      <th>city</th>\n    </tr>\n  </thead>\n  <tbody>\n    <tr>\n      <th>1</th>\n      <td>Помещение объект № 2 (Вспомогательный), 675000...</td>\n      <td>1980</td>\n      <td>13.07.1990</td>\n      <td>217.7</td>\n      <td>217.7</td>\n      <td>1.638812e+06</td>\n      <td>937438.23</td>\n      <td>591497.66</td>\n      <td>1047314.55</td>\n      <td>Удовлетворительное</td>\n      <td>2016</td>\n      <td>1</td>\n      <td>Отделение Благовещенск</td>\n      <td>Благовещенск</td>\n    </tr>\n    <tr>\n      <th>2</th>\n      <td>Административное здание, 676014, Амурская обла...</td>\n      <td>1978</td>\n      <td>27.12.1990</td>\n      <td>389.1</td>\n      <td>389.1</td>\n      <td>1.050735e+06</td>\n      <td>771306.47</td>\n      <td>446494.59</td>\n      <td>604240.17</td>\n      <td>Удовлетворительное</td>\n      <td>2016</td>\n      <td>1</td>\n      <td>Отделение Благовещенск</td>\n      <td>Сковородино</td>\n    </tr>\n    <tr>\n      <th>3</th>\n      <td>Административное здание, лит. А, А1, 676980, К...</td>\n      <td>1959</td>\n      <td>27.12.1990</td>\n      <td>237.7</td>\n      <td>237.7</td>\n      <td>1.267112e+05</td>\n      <td>53749.02</td>\n      <td>93108.95</td>\n      <td>33602.28</td>\n      <td>Удовлетворительное</td>\n      <td>2016</td>\n      <td>1</td>\n      <td>Отделение Благовещенск</td>\n      <td>Константиновка</td>\n    </tr>\n    <tr>\n      <th>4</th>\n      <td>Административное здание, 676530, Амурская обла...</td>\n      <td>1935</td>\n      <td>27.12.1990</td>\n      <td>830.2</td>\n      <td>830.2</td>\n      <td>1.657841e+06</td>\n      <td>0.00</td>\n      <td>1657840.58</td>\n      <td>0.00</td>\n      <td>Ветхое</td>\n      <td>2016</td>\n      <td>1</td>\n      <td>Отделение Благовещенск</td>\n      <td>Новокиевский Увал</td>\n    </tr>\n    <tr>\n      <th>5</th>\n      <td>Административное здание, 675000, Амурская обла...</td>\n      <td>1958</td>\n      <td>14.02.1992</td>\n      <td>403.9</td>\n      <td>403.9</td>\n      <td>3.038926e+05</td>\n      <td>162432.93</td>\n      <td>208772.46</td>\n      <td>95120.17</td>\n      <td>Удовлетворительное</td>\n      <td>2016</td>\n      <td>1</td>\n      <td>Отделение Благовещенск</td>\n      <td>Благовещенск</td>\n    </tr>\n    <tr>\n      <th>...</th>\n      <td>...</td>\n      <td>...</td>\n      <td>...</td>\n      <td>...</td>\n      <td>...</td>\n      <td>...</td>\n      <td>...</td>\n      <td>...</td>\n      <td>...</td>\n      <td>...</td>\n      <td>...</td>\n      <td>...</td>\n      <td>...</td>\n      <td>...</td>\n    </tr>\n    <tr>\n      <th>12366</th>\n      <td>резервное электроснабжение Административных зд...</td>\n      <td>Данные отсутствуют</td>\n      <td>NaN</td>\n      <td>0.0</td>\n      <td>0.0</td>\n      <td>5.103032e+05</td>\n      <td>206785.79</td>\n      <td>510303.18</td>\n      <td>0.00</td>\n      <td>Удовлетворительное</td>\n      <td>2023</td>\n      <td>3</td>\n      <td>Отделение Анадырь</td>\n      <td>снабжение Административных зданий</td>\n    </tr>\n    <tr>\n      <th>12367</th>\n      <td>пристройка к ТП № 2, Российская Федерация, Чук...</td>\n      <td>1995</td>\n      <td>NaN</td>\n      <td>22.9</td>\n      <td>0.0</td>\n      <td>8.504830e+05</td>\n      <td>344633.94</td>\n      <td>401215.18</td>\n      <td>449267.78</td>\n      <td>Хорошее</td>\n      <td>2023</td>\n      <td>3</td>\n      <td>Отделение Анадырь</td>\n      <td>городской округ Анадырь</td>\n    </tr>\n    <tr>\n      <th>12368</th>\n      <td>Здание РКЦ, Российская Федерация, Чукотский ав...</td>\n      <td>1987</td>\n      <td>NaN</td>\n      <td>546.3</td>\n      <td>0.0</td>\n      <td>1.103891e+07</td>\n      <td>9526978.74</td>\n      <td>3668172.74</td>\n      <td>7370742.00</td>\n      <td>Хорошее</td>\n      <td>2023</td>\n      <td>3</td>\n      <td>Отделение Анадырь</td>\n      <td>городское поселение Билибино</td>\n    </tr>\n    <tr>\n      <th>12369</th>\n      <td>Пункт резервного энергоснабжения , Чукотский а...</td>\n      <td>1997</td>\n      <td>NaN</td>\n      <td>96.3</td>\n      <td>0.0</td>\n      <td>3.167024e+06</td>\n      <td>78402.86</td>\n      <td>987875.69</td>\n      <td>2179148.60</td>\n      <td>Хорошее</td>\n      <td>2023</td>\n      <td>3</td>\n      <td>Отделение Анадырь</td>\n      <td>пгт Беринговский</td>\n    </tr>\n    <tr>\n      <th>12370</th>\n      <td>Квартира, Российская Федерация, Чукотский авто...</td>\n      <td>данные отсутствуют</td>\n      <td>NaN</td>\n      <td>73.9</td>\n      <td>0.0</td>\n      <td>2.376797e+07</td>\n      <td>0.00</td>\n      <td>0.00</td>\n      <td>0.00</td>\n      <td>NaN</td>\n      <td>2023</td>\n      <td>3</td>\n      <td>Отделение Анадырь</td>\n      <td>городской округ</td>\n    </tr>\n  </tbody>\n</table>\n<p>11742 rows × 14 columns</p>\n</div>"
     },
     "execution_count": 147,
     "metadata": {},
     "output_type": "execute_result"
    }
   ],
   "source": [
    "list_df['city'] = cities\n",
    "list_df"
   ],
   "metadata": {
    "collapsed": false,
    "ExecuteTime": {
     "end_time": "2023-11-23T21:50:12.366865700Z",
     "start_time": "2023-11-23T21:50:12.318867900Z"
    }
   },
   "id": "f6cf14250ca6ed8a"
  },
  {
   "cell_type": "code",
   "execution_count": 279,
   "outputs": [],
   "source": [
    "list_df.to_csv(\"list.csv\", index=False)"
   ],
   "metadata": {
    "collapsed": false,
    "ExecuteTime": {
     "end_time": "2023-11-24T18:58:42.017440400Z",
     "start_time": "2023-11-24T18:58:41.844441400Z"
    }
   },
   "id": "51e5465dfef786e"
  },
  {
   "cell_type": "code",
   "execution_count": 64,
   "outputs": [
    {
     "data": {
      "text/plain": "                                             object_name       building_year  \\\n0      Помещение объект № 2 (Вспомогательный), 675000...                1980   \n1      Административное здание, 676014, Амурская обла...                1978   \n2      Административное здание, лит. А, А1, 676980, К...                1959   \n3      Административное здание, 676530, Амурская обла...                1935   \n4      Административное здание, 675000, Амурская обла...                1958   \n...                                                  ...                 ...   \n11737  резервное электроснабжение Административных зд...  Данные отсутствуют   \n11738  пристройка к ТП № 2, Российская Федерация, Чук...                1995   \n11739  Здание РКЦ, Российская Федерация, Чукотский ав...                1987   \n11740  Пункт резервного энергоснабжения , Чукотский а...                1997   \n11741  Квартира, Российская Федерация, Чукотский авто...  данные отсутствуют   \n\n      balance_date  object_square  building_square       balance  revaluation  \\\n0       13.07.1990          217.7            217.7  1.638812e+06    937438.23   \n1       27.12.1990          389.1            389.1  1.050735e+06    771306.47   \n2       27.12.1990          237.7            237.7  1.267112e+05     53749.02   \n3       27.12.1990          830.2            830.2  1.657841e+06         0.00   \n4       14.02.1992          403.9            403.9  3.038926e+05    162432.93   \n...            ...            ...              ...           ...          ...   \n11737          NaN            0.0              0.0  5.103032e+05    206785.79   \n11738          NaN           22.9              0.0  8.504830e+05    344633.94   \n11739          NaN          546.3              0.0  1.103891e+07   9526978.74   \n11740          NaN           96.3              0.0  3.167024e+06     78402.86   \n11741          NaN           73.9              0.0  2.376797e+07         0.00   \n\n       depreciation  residual_value technical_condition  year  quarter  \\\n0         591497.66      1047314.55  Удовлетворительное  2016        1   \n1         446494.59       604240.17  Удовлетворительное  2016        1   \n2          93108.95        33602.28  Удовлетворительное  2016        1   \n3        1657840.58            0.00              Ветхое  2016        1   \n4         208772.46        95120.17  Удовлетворительное  2016        1   \n...             ...             ...                 ...   ...      ...   \n11737     510303.18            0.00  Удовлетворительное  2023        3   \n11738     401215.18       449267.78             Хорошее  2023        3   \n11739    3668172.74      7370742.00             Хорошее  2023        3   \n11740     987875.69      2179148.60             Хорошее  2023        3   \n11741          0.00            0.00                 NaN  2023        3   \n\n                        otdel                               city  \n0      Отделение Благовещенск                       Благовещенск  \n1      Отделение Благовещенск                        Сковородино  \n2      Отделение Благовещенск                     Константиновка  \n3      Отделение Благовещенск                  Новокиевский Увал  \n4      Отделение Благовещенск                       Благовещенск  \n...                       ...                                ...  \n11737       Отделение Анадырь  снабжение Административных зданий  \n11738       Отделение Анадырь            городской округ Анадырь  \n11739       Отделение Анадырь       городское поселение Билибино  \n11740       Отделение Анадырь                   пгт Беринговский  \n11741       Отделение Анадырь                    городской округ  \n\n[11742 rows x 14 columns]",
      "text/html": "<div>\n<style scoped>\n    .dataframe tbody tr th:only-of-type {\n        vertical-align: middle;\n    }\n\n    .dataframe tbody tr th {\n        vertical-align: top;\n    }\n\n    .dataframe thead th {\n        text-align: right;\n    }\n</style>\n<table border=\"1\" class=\"dataframe\">\n  <thead>\n    <tr style=\"text-align: right;\">\n      <th></th>\n      <th>object_name</th>\n      <th>building_year</th>\n      <th>balance_date</th>\n      <th>object_square</th>\n      <th>building_square</th>\n      <th>balance</th>\n      <th>revaluation</th>\n      <th>depreciation</th>\n      <th>residual_value</th>\n      <th>technical_condition</th>\n      <th>year</th>\n      <th>quarter</th>\n      <th>otdel</th>\n      <th>city</th>\n    </tr>\n  </thead>\n  <tbody>\n    <tr>\n      <th>0</th>\n      <td>Помещение объект № 2 (Вспомогательный), 675000...</td>\n      <td>1980</td>\n      <td>13.07.1990</td>\n      <td>217.7</td>\n      <td>217.7</td>\n      <td>1.638812e+06</td>\n      <td>937438.23</td>\n      <td>591497.66</td>\n      <td>1047314.55</td>\n      <td>Удовлетворительное</td>\n      <td>2016</td>\n      <td>1</td>\n      <td>Отделение Благовещенск</td>\n      <td>Благовещенск</td>\n    </tr>\n    <tr>\n      <th>1</th>\n      <td>Административное здание, 676014, Амурская обла...</td>\n      <td>1978</td>\n      <td>27.12.1990</td>\n      <td>389.1</td>\n      <td>389.1</td>\n      <td>1.050735e+06</td>\n      <td>771306.47</td>\n      <td>446494.59</td>\n      <td>604240.17</td>\n      <td>Удовлетворительное</td>\n      <td>2016</td>\n      <td>1</td>\n      <td>Отделение Благовещенск</td>\n      <td>Сковородино</td>\n    </tr>\n    <tr>\n      <th>2</th>\n      <td>Административное здание, лит. А, А1, 676980, К...</td>\n      <td>1959</td>\n      <td>27.12.1990</td>\n      <td>237.7</td>\n      <td>237.7</td>\n      <td>1.267112e+05</td>\n      <td>53749.02</td>\n      <td>93108.95</td>\n      <td>33602.28</td>\n      <td>Удовлетворительное</td>\n      <td>2016</td>\n      <td>1</td>\n      <td>Отделение Благовещенск</td>\n      <td>Константиновка</td>\n    </tr>\n    <tr>\n      <th>3</th>\n      <td>Административное здание, 676530, Амурская обла...</td>\n      <td>1935</td>\n      <td>27.12.1990</td>\n      <td>830.2</td>\n      <td>830.2</td>\n      <td>1.657841e+06</td>\n      <td>0.00</td>\n      <td>1657840.58</td>\n      <td>0.00</td>\n      <td>Ветхое</td>\n      <td>2016</td>\n      <td>1</td>\n      <td>Отделение Благовещенск</td>\n      <td>Новокиевский Увал</td>\n    </tr>\n    <tr>\n      <th>4</th>\n      <td>Административное здание, 675000, Амурская обла...</td>\n      <td>1958</td>\n      <td>14.02.1992</td>\n      <td>403.9</td>\n      <td>403.9</td>\n      <td>3.038926e+05</td>\n      <td>162432.93</td>\n      <td>208772.46</td>\n      <td>95120.17</td>\n      <td>Удовлетворительное</td>\n      <td>2016</td>\n      <td>1</td>\n      <td>Отделение Благовещенск</td>\n      <td>Благовещенск</td>\n    </tr>\n    <tr>\n      <th>...</th>\n      <td>...</td>\n      <td>...</td>\n      <td>...</td>\n      <td>...</td>\n      <td>...</td>\n      <td>...</td>\n      <td>...</td>\n      <td>...</td>\n      <td>...</td>\n      <td>...</td>\n      <td>...</td>\n      <td>...</td>\n      <td>...</td>\n      <td>...</td>\n    </tr>\n    <tr>\n      <th>11737</th>\n      <td>резервное электроснабжение Административных зд...</td>\n      <td>Данные отсутствуют</td>\n      <td>NaN</td>\n      <td>0.0</td>\n      <td>0.0</td>\n      <td>5.103032e+05</td>\n      <td>206785.79</td>\n      <td>510303.18</td>\n      <td>0.00</td>\n      <td>Удовлетворительное</td>\n      <td>2023</td>\n      <td>3</td>\n      <td>Отделение Анадырь</td>\n      <td>снабжение Административных зданий</td>\n    </tr>\n    <tr>\n      <th>11738</th>\n      <td>пристройка к ТП № 2, Российская Федерация, Чук...</td>\n      <td>1995</td>\n      <td>NaN</td>\n      <td>22.9</td>\n      <td>0.0</td>\n      <td>8.504830e+05</td>\n      <td>344633.94</td>\n      <td>401215.18</td>\n      <td>449267.78</td>\n      <td>Хорошее</td>\n      <td>2023</td>\n      <td>3</td>\n      <td>Отделение Анадырь</td>\n      <td>городской округ Анадырь</td>\n    </tr>\n    <tr>\n      <th>11739</th>\n      <td>Здание РКЦ, Российская Федерация, Чукотский ав...</td>\n      <td>1987</td>\n      <td>NaN</td>\n      <td>546.3</td>\n      <td>0.0</td>\n      <td>1.103891e+07</td>\n      <td>9526978.74</td>\n      <td>3668172.74</td>\n      <td>7370742.00</td>\n      <td>Хорошее</td>\n      <td>2023</td>\n      <td>3</td>\n      <td>Отделение Анадырь</td>\n      <td>городское поселение Билибино</td>\n    </tr>\n    <tr>\n      <th>11740</th>\n      <td>Пункт резервного энергоснабжения , Чукотский а...</td>\n      <td>1997</td>\n      <td>NaN</td>\n      <td>96.3</td>\n      <td>0.0</td>\n      <td>3.167024e+06</td>\n      <td>78402.86</td>\n      <td>987875.69</td>\n      <td>2179148.60</td>\n      <td>Хорошее</td>\n      <td>2023</td>\n      <td>3</td>\n      <td>Отделение Анадырь</td>\n      <td>пгт Беринговский</td>\n    </tr>\n    <tr>\n      <th>11741</th>\n      <td>Квартира, Российская Федерация, Чукотский авто...</td>\n      <td>данные отсутствуют</td>\n      <td>NaN</td>\n      <td>73.9</td>\n      <td>0.0</td>\n      <td>2.376797e+07</td>\n      <td>0.00</td>\n      <td>0.00</td>\n      <td>0.00</td>\n      <td>NaN</td>\n      <td>2023</td>\n      <td>3</td>\n      <td>Отделение Анадырь</td>\n      <td>городской округ</td>\n    </tr>\n  </tbody>\n</table>\n<p>11742 rows × 14 columns</p>\n</div>"
     },
     "execution_count": 64,
     "metadata": {},
     "output_type": "execute_result"
    }
   ],
   "source": [
    "list_df = pd.read_csv(\"list.csv\")\n",
    "list_df"
   ],
   "metadata": {
    "collapsed": false,
    "ExecuteTime": {
     "end_time": "2023-11-24T09:41:12.323728500Z",
     "start_time": "2023-11-24T09:41:12.223729300Z"
    }
   },
   "id": "cb9c5bb7bff6366f"
  },
  {
   "cell_type": "code",
   "execution_count": null,
   "outputs": [],
   "source": [
    "t = \"Соболево Главного Управления Центрального банка Российской Федерации по Камчатскому краю\""
   ],
   "metadata": {
    "collapsed": false
   },
   "id": "efcbbfeb3a0e1c41"
  },
  {
   "cell_type": "code",
   "execution_count": 27,
   "outputs": [],
   "source": [
    "list_df.loc[list_df['city'].str.lower().str.endswith(\".\"), 'city'] = list_df.loc[\n",
    "                                                                         list_df['city'].str.lower().str.endswith(\n",
    "                                                                             \".\"), 'city'].str[:-1]"
   ],
   "metadata": {
    "collapsed": false,
    "ExecuteTime": {
     "end_time": "2023-11-24T09:14:54.966140400Z",
     "start_time": "2023-11-24T09:14:54.941092Z"
    }
   },
   "id": "7331ac694a348006"
  },
  {
   "cell_type": "code",
   "execution_count": 49,
   "outputs": [
    {
     "name": "stderr",
     "output_type": "stream",
     "text": [
      "100%|██████████| 302/302 [00:00<00:00, 1330.42it/s]\n"
     ]
    },
    {
     "data": {
      "text/plain": "                                             object_name       building_year  \\\n0      Помещение объект № 2 (Вспомогательный), 675000...                1980   \n1      Административное здание, 676014, Амурская обла...                1978   \n2      Административное здание, лит. А, А1, 676980, К...                1959   \n3      Административное здание, 676530, Амурская обла...                1935   \n4      Административное здание, 675000, Амурская обла...                1958   \n...                                                  ...                 ...   \n11737  резервное электроснабжение Административных зд...  Данные отсутствуют   \n11738  пристройка к ТП № 2, Российская Федерация, Чук...                1995   \n11739  Здание РКЦ, Российская Федерация, Чукотский ав...                1987   \n11740  Пункт резервного энергоснабжения , Чукотский а...                1997   \n11741  Квартира, Российская Федерация, Чукотский авто...  данные отсутствуют   \n\n      balance_date  object_square  building_square       balance  revaluation  \\\n0       13.07.1990          217.7            217.7  1.638812e+06    937438.23   \n1       27.12.1990          389.1            389.1  1.050735e+06    771306.47   \n2       27.12.1990          237.7            237.7  1.267112e+05     53749.02   \n3       27.12.1990          830.2            830.2  1.657841e+06         0.00   \n4       14.02.1992          403.9            403.9  3.038926e+05    162432.93   \n...            ...            ...              ...           ...          ...   \n11737          NaN            0.0              0.0  5.103032e+05    206785.79   \n11738          NaN           22.9              0.0  8.504830e+05    344633.94   \n11739          NaN          546.3              0.0  1.103891e+07   9526978.74   \n11740          NaN           96.3              0.0  3.167024e+06     78402.86   \n11741          NaN           73.9              0.0  2.376797e+07         0.00   \n\n       depreciation  residual_value technical_condition  year  quarter  \\\n0         591497.66      1047314.55  Удовлетворительное  2016        1   \n1         446494.59       604240.17  Удовлетворительное  2016        1   \n2          93108.95        33602.28  Удовлетворительное  2016        1   \n3        1657840.58            0.00              Ветхое  2016        1   \n4         208772.46        95120.17  Удовлетворительное  2016        1   \n...             ...             ...                 ...   ...      ...   \n11737     510303.18            0.00  Удовлетворительное  2023        3   \n11738     401215.18       449267.78             Хорошее  2023        3   \n11739    3668172.74      7370742.00             Хорошее  2023        3   \n11740     987875.69      2179148.60             Хорошее  2023        3   \n11741          0.00            0.00                 NaN  2023        3   \n\n                        otdel                               city  \n0      Отделение Благовещенск                       Благовещенск  \n1      Отделение Благовещенск                        Сковородино  \n2      Отделение Благовещенск                     Константиновка  \n3      Отделение Благовещенск                  Новокиевский Увал  \n4      Отделение Благовещенск                       Благовещенск  \n...                       ...                                ...  \n11737       Отделение Анадырь  снабжение Административных зданий  \n11738       Отделение Анадырь            городской округ Анадырь  \n11739       Отделение Анадырь       городское поселение Билибино  \n11740       Отделение Анадырь                   пгт Беринговский  \n11741       Отделение Анадырь                    городской округ  \n\n[11742 rows x 14 columns]",
      "text/html": "<div>\n<style scoped>\n    .dataframe tbody tr th:only-of-type {\n        vertical-align: middle;\n    }\n\n    .dataframe tbody tr th {\n        vertical-align: top;\n    }\n\n    .dataframe thead th {\n        text-align: right;\n    }\n</style>\n<table border=\"1\" class=\"dataframe\">\n  <thead>\n    <tr style=\"text-align: right;\">\n      <th></th>\n      <th>object_name</th>\n      <th>building_year</th>\n      <th>balance_date</th>\n      <th>object_square</th>\n      <th>building_square</th>\n      <th>balance</th>\n      <th>revaluation</th>\n      <th>depreciation</th>\n      <th>residual_value</th>\n      <th>technical_condition</th>\n      <th>year</th>\n      <th>quarter</th>\n      <th>otdel</th>\n      <th>city</th>\n    </tr>\n  </thead>\n  <tbody>\n    <tr>\n      <th>0</th>\n      <td>Помещение объект № 2 (Вспомогательный), 675000...</td>\n      <td>1980</td>\n      <td>13.07.1990</td>\n      <td>217.7</td>\n      <td>217.7</td>\n      <td>1.638812e+06</td>\n      <td>937438.23</td>\n      <td>591497.66</td>\n      <td>1047314.55</td>\n      <td>Удовлетворительное</td>\n      <td>2016</td>\n      <td>1</td>\n      <td>Отделение Благовещенск</td>\n      <td>Благовещенск</td>\n    </tr>\n    <tr>\n      <th>1</th>\n      <td>Административное здание, 676014, Амурская обла...</td>\n      <td>1978</td>\n      <td>27.12.1990</td>\n      <td>389.1</td>\n      <td>389.1</td>\n      <td>1.050735e+06</td>\n      <td>771306.47</td>\n      <td>446494.59</td>\n      <td>604240.17</td>\n      <td>Удовлетворительное</td>\n      <td>2016</td>\n      <td>1</td>\n      <td>Отделение Благовещенск</td>\n      <td>Сковородино</td>\n    </tr>\n    <tr>\n      <th>2</th>\n      <td>Административное здание, лит. А, А1, 676980, К...</td>\n      <td>1959</td>\n      <td>27.12.1990</td>\n      <td>237.7</td>\n      <td>237.7</td>\n      <td>1.267112e+05</td>\n      <td>53749.02</td>\n      <td>93108.95</td>\n      <td>33602.28</td>\n      <td>Удовлетворительное</td>\n      <td>2016</td>\n      <td>1</td>\n      <td>Отделение Благовещенск</td>\n      <td>Константиновка</td>\n    </tr>\n    <tr>\n      <th>3</th>\n      <td>Административное здание, 676530, Амурская обла...</td>\n      <td>1935</td>\n      <td>27.12.1990</td>\n      <td>830.2</td>\n      <td>830.2</td>\n      <td>1.657841e+06</td>\n      <td>0.00</td>\n      <td>1657840.58</td>\n      <td>0.00</td>\n      <td>Ветхое</td>\n      <td>2016</td>\n      <td>1</td>\n      <td>Отделение Благовещенск</td>\n      <td>Новокиевский Увал</td>\n    </tr>\n    <tr>\n      <th>4</th>\n      <td>Административное здание, 675000, Амурская обла...</td>\n      <td>1958</td>\n      <td>14.02.1992</td>\n      <td>403.9</td>\n      <td>403.9</td>\n      <td>3.038926e+05</td>\n      <td>162432.93</td>\n      <td>208772.46</td>\n      <td>95120.17</td>\n      <td>Удовлетворительное</td>\n      <td>2016</td>\n      <td>1</td>\n      <td>Отделение Благовещенск</td>\n      <td>Благовещенск</td>\n    </tr>\n    <tr>\n      <th>...</th>\n      <td>...</td>\n      <td>...</td>\n      <td>...</td>\n      <td>...</td>\n      <td>...</td>\n      <td>...</td>\n      <td>...</td>\n      <td>...</td>\n      <td>...</td>\n      <td>...</td>\n      <td>...</td>\n      <td>...</td>\n      <td>...</td>\n      <td>...</td>\n    </tr>\n    <tr>\n      <th>11737</th>\n      <td>резервное электроснабжение Административных зд...</td>\n      <td>Данные отсутствуют</td>\n      <td>NaN</td>\n      <td>0.0</td>\n      <td>0.0</td>\n      <td>5.103032e+05</td>\n      <td>206785.79</td>\n      <td>510303.18</td>\n      <td>0.00</td>\n      <td>Удовлетворительное</td>\n      <td>2023</td>\n      <td>3</td>\n      <td>Отделение Анадырь</td>\n      <td>снабжение Административных зданий</td>\n    </tr>\n    <tr>\n      <th>11738</th>\n      <td>пристройка к ТП № 2, Российская Федерация, Чук...</td>\n      <td>1995</td>\n      <td>NaN</td>\n      <td>22.9</td>\n      <td>0.0</td>\n      <td>8.504830e+05</td>\n      <td>344633.94</td>\n      <td>401215.18</td>\n      <td>449267.78</td>\n      <td>Хорошее</td>\n      <td>2023</td>\n      <td>3</td>\n      <td>Отделение Анадырь</td>\n      <td>городской округ Анадырь</td>\n    </tr>\n    <tr>\n      <th>11739</th>\n      <td>Здание РКЦ, Российская Федерация, Чукотский ав...</td>\n      <td>1987</td>\n      <td>NaN</td>\n      <td>546.3</td>\n      <td>0.0</td>\n      <td>1.103891e+07</td>\n      <td>9526978.74</td>\n      <td>3668172.74</td>\n      <td>7370742.00</td>\n      <td>Хорошее</td>\n      <td>2023</td>\n      <td>3</td>\n      <td>Отделение Анадырь</td>\n      <td>городское поселение Билибино</td>\n    </tr>\n    <tr>\n      <th>11740</th>\n      <td>Пункт резервного энергоснабжения , Чукотский а...</td>\n      <td>1997</td>\n      <td>NaN</td>\n      <td>96.3</td>\n      <td>0.0</td>\n      <td>3.167024e+06</td>\n      <td>78402.86</td>\n      <td>987875.69</td>\n      <td>2179148.60</td>\n      <td>Хорошее</td>\n      <td>2023</td>\n      <td>3</td>\n      <td>Отделение Анадырь</td>\n      <td>пгт Беринговский</td>\n    </tr>\n    <tr>\n      <th>11741</th>\n      <td>Квартира, Российская Федерация, Чукотский авто...</td>\n      <td>данные отсутствуют</td>\n      <td>NaN</td>\n      <td>73.9</td>\n      <td>0.0</td>\n      <td>2.376797e+07</td>\n      <td>0.00</td>\n      <td>0.00</td>\n      <td>0.00</td>\n      <td>NaN</td>\n      <td>2023</td>\n      <td>3</td>\n      <td>Отделение Анадырь</td>\n      <td>городской округ</td>\n    </tr>\n  </tbody>\n</table>\n<p>11742 rows × 14 columns</p>\n</div>"
     },
     "execution_count": 49,
     "metadata": {},
     "output_type": "execute_result"
    }
   ],
   "source": [
    "from tqdm import tqdm\n",
    "\n",
    "lst = list_df[list_df['city'] == ')']['object_name'].unique().tolist()\n",
    "\n",
    "for txt in tqdm(lst):\n",
    "    group = 1\n",
    "    for pattern in patterns:\n",
    "        match = re.search(pattern, txt)\n",
    "        if match:\n",
    "            group = len(match.groups())\n",
    "            if match.group(group) != ')':\n",
    "                break\n",
    "    city1 = match.group(group)\n",
    "    list_df.loc[list_df['object_name'] == txt, 'city'] = city1\n",
    "\n",
    "list_df\n"
   ],
   "metadata": {
    "collapsed": false,
    "ExecuteTime": {
     "end_time": "2023-11-24T09:24:52.534291300Z",
     "start_time": "2023-11-24T09:24:52.280294400Z"
    }
   },
   "id": "23abe45cf83e198a"
  },
  {
   "cell_type": "code",
   "execution_count": 65,
   "outputs": [],
   "source": [
    "list_df.loc[list_df['building_year'] == 'Данные отсутствуют', 'building_year'] = \"данные отсутствуют\""
   ],
   "metadata": {
    "collapsed": false,
    "ExecuteTime": {
     "end_time": "2023-11-24T09:41:19.085709Z",
     "start_time": "2023-11-24T09:41:19.067711100Z"
    }
   },
   "id": "bdb5288a2d269cfc"
  },
  {
   "cell_type": "code",
   "execution_count": 66,
   "outputs": [],
   "source": [
    "years = list_df.loc[(list_df['building_year'] != \"данные отсутствуют\") & (list_df['balance_date'].isna())][\n",
    "    'building_year'].to_list()\n",
    "txt_years = []\n",
    "for year in years:\n",
    "    if int(year) < 1990:\n",
    "        txt = f\"01.01.1990\"\n",
    "    else:\n",
    "        txt = f\"01.01.{year}\"\n",
    "    txt_years.append(txt)\n",
    "years = list_df.loc[\n",
    "    (list_df['building_year'] != \"данные отсутствуют\") & (list_df['balance_date'].isna()), 'balance_date'] = txt_years\n"
   ],
   "metadata": {
    "collapsed": false,
    "ExecuteTime": {
     "end_time": "2023-11-24T09:41:30.164773600Z",
     "start_time": "2023-11-24T09:41:30.115753700Z"
    }
   },
   "id": "8ab13f45f647adc4"
  },
  {
   "cell_type": "code",
   "execution_count": 67,
   "outputs": [
    {
     "data": {
      "text/plain": "                                             object_name building_year  \\\n0      Помещение объект № 2 (Вспомогательный), 675000...          1980   \n1      Административное здание, 676014, Амурская обла...          1978   \n2      Административное здание, лит. А, А1, 676980, К...          1959   \n3      Административное здание, 676530, Амурская обла...          1935   \n4      Административное здание, 675000, Амурская обла...          1958   \n...                                                  ...           ...   \n11735  РКЦ, Чукотский автономный округ, р-н Анадырски...          1991   \n11736  Административное здание, Российская Федерация,...          2001   \n11738  пристройка к ТП № 2, Российская Федерация, Чук...          1995   \n11739  Здание РКЦ, Российская Федерация, Чукотский ав...          1987   \n11740  Пункт резервного энергоснабжения , Чукотский а...          1997   \n\n      balance_date  object_square  building_square       balance  revaluation  \\\n0       13.07.1990          217.7            217.7  1.638812e+06    937438.23   \n1       27.12.1990          389.1            389.1  1.050735e+06    771306.47   \n2       27.12.1990          237.7            237.7  1.267112e+05     53749.02   \n3       27.12.1990          830.2            830.2  1.657841e+06         0.00   \n4       14.02.1992          403.9            403.9  3.038926e+05    162432.93   \n...            ...            ...              ...           ...          ...   \n11735   01.01.1991          513.0              0.0  5.010097e+06   1892900.30   \n11736   01.01.2001         2690.2              0.0  2.076046e+08  10444758.74   \n11738   01.01.1995           22.9              0.0  8.504830e+05    344633.94   \n11739   01.01.1990          546.3              0.0  1.103891e+07   9526978.74   \n11740   01.01.1997           96.3              0.0  3.167024e+06     78402.86   \n\n       depreciation  residual_value technical_condition  year  quarter  \\\n0         591497.66    1.047315e+06  Удовлетворительное  2016        1   \n1         446494.59    6.042402e+05  Удовлетворительное  2016        1   \n2          93108.95    3.360228e+04  Удовлетворительное  2016        1   \n3        1657840.58    0.000000e+00              Ветхое  2016        1   \n4         208772.46    9.512017e+04  Удовлетворительное  2016        1   \n...             ...             ...                 ...   ...      ...   \n11735    2341139.51    2.668958e+06  Удовлетворительное  2023        3   \n11736   45153764.60    1.624508e+08             Хорошее  2023        3   \n11738     401215.18    4.492678e+05             Хорошее  2023        3   \n11739    3668172.74    7.370742e+06             Хорошее  2023        3   \n11740     987875.69    2.179149e+06             Хорошее  2023        3   \n\n                        otdel                          city  \n0      Отделение Благовещенск                  Благовещенск  \n1      Отделение Благовещенск                   Сковородино  \n2      Отделение Благовещенск                Константиновка  \n3      Отделение Благовещенск             Новокиевский Увал  \n4      Отделение Благовещенск                  Благовещенск  \n...                       ...                           ...  \n11735       Отделение Анадырь              пгт Беринговский  \n11736       Отделение Анадырь       городской округ Анадырь  \n11738       Отделение Анадырь       городской округ Анадырь  \n11739       Отделение Анадырь  городское поселение Билибино  \n11740       Отделение Анадырь              пгт Беринговский  \n\n[11417 rows x 14 columns]",
      "text/html": "<div>\n<style scoped>\n    .dataframe tbody tr th:only-of-type {\n        vertical-align: middle;\n    }\n\n    .dataframe tbody tr th {\n        vertical-align: top;\n    }\n\n    .dataframe thead th {\n        text-align: right;\n    }\n</style>\n<table border=\"1\" class=\"dataframe\">\n  <thead>\n    <tr style=\"text-align: right;\">\n      <th></th>\n      <th>object_name</th>\n      <th>building_year</th>\n      <th>balance_date</th>\n      <th>object_square</th>\n      <th>building_square</th>\n      <th>balance</th>\n      <th>revaluation</th>\n      <th>depreciation</th>\n      <th>residual_value</th>\n      <th>technical_condition</th>\n      <th>year</th>\n      <th>quarter</th>\n      <th>otdel</th>\n      <th>city</th>\n    </tr>\n  </thead>\n  <tbody>\n    <tr>\n      <th>0</th>\n      <td>Помещение объект № 2 (Вспомогательный), 675000...</td>\n      <td>1980</td>\n      <td>13.07.1990</td>\n      <td>217.7</td>\n      <td>217.7</td>\n      <td>1.638812e+06</td>\n      <td>937438.23</td>\n      <td>591497.66</td>\n      <td>1.047315e+06</td>\n      <td>Удовлетворительное</td>\n      <td>2016</td>\n      <td>1</td>\n      <td>Отделение Благовещенск</td>\n      <td>Благовещенск</td>\n    </tr>\n    <tr>\n      <th>1</th>\n      <td>Административное здание, 676014, Амурская обла...</td>\n      <td>1978</td>\n      <td>27.12.1990</td>\n      <td>389.1</td>\n      <td>389.1</td>\n      <td>1.050735e+06</td>\n      <td>771306.47</td>\n      <td>446494.59</td>\n      <td>6.042402e+05</td>\n      <td>Удовлетворительное</td>\n      <td>2016</td>\n      <td>1</td>\n      <td>Отделение Благовещенск</td>\n      <td>Сковородино</td>\n    </tr>\n    <tr>\n      <th>2</th>\n      <td>Административное здание, лит. А, А1, 676980, К...</td>\n      <td>1959</td>\n      <td>27.12.1990</td>\n      <td>237.7</td>\n      <td>237.7</td>\n      <td>1.267112e+05</td>\n      <td>53749.02</td>\n      <td>93108.95</td>\n      <td>3.360228e+04</td>\n      <td>Удовлетворительное</td>\n      <td>2016</td>\n      <td>1</td>\n      <td>Отделение Благовещенск</td>\n      <td>Константиновка</td>\n    </tr>\n    <tr>\n      <th>3</th>\n      <td>Административное здание, 676530, Амурская обла...</td>\n      <td>1935</td>\n      <td>27.12.1990</td>\n      <td>830.2</td>\n      <td>830.2</td>\n      <td>1.657841e+06</td>\n      <td>0.00</td>\n      <td>1657840.58</td>\n      <td>0.000000e+00</td>\n      <td>Ветхое</td>\n      <td>2016</td>\n      <td>1</td>\n      <td>Отделение Благовещенск</td>\n      <td>Новокиевский Увал</td>\n    </tr>\n    <tr>\n      <th>4</th>\n      <td>Административное здание, 675000, Амурская обла...</td>\n      <td>1958</td>\n      <td>14.02.1992</td>\n      <td>403.9</td>\n      <td>403.9</td>\n      <td>3.038926e+05</td>\n      <td>162432.93</td>\n      <td>208772.46</td>\n      <td>9.512017e+04</td>\n      <td>Удовлетворительное</td>\n      <td>2016</td>\n      <td>1</td>\n      <td>Отделение Благовещенск</td>\n      <td>Благовещенск</td>\n    </tr>\n    <tr>\n      <th>...</th>\n      <td>...</td>\n      <td>...</td>\n      <td>...</td>\n      <td>...</td>\n      <td>...</td>\n      <td>...</td>\n      <td>...</td>\n      <td>...</td>\n      <td>...</td>\n      <td>...</td>\n      <td>...</td>\n      <td>...</td>\n      <td>...</td>\n      <td>...</td>\n    </tr>\n    <tr>\n      <th>11735</th>\n      <td>РКЦ, Чукотский автономный округ, р-н Анадырски...</td>\n      <td>1991</td>\n      <td>01.01.1991</td>\n      <td>513.0</td>\n      <td>0.0</td>\n      <td>5.010097e+06</td>\n      <td>1892900.30</td>\n      <td>2341139.51</td>\n      <td>2.668958e+06</td>\n      <td>Удовлетворительное</td>\n      <td>2023</td>\n      <td>3</td>\n      <td>Отделение Анадырь</td>\n      <td>пгт Беринговский</td>\n    </tr>\n    <tr>\n      <th>11736</th>\n      <td>Административное здание, Российская Федерация,...</td>\n      <td>2001</td>\n      <td>01.01.2001</td>\n      <td>2690.2</td>\n      <td>0.0</td>\n      <td>2.076046e+08</td>\n      <td>10444758.74</td>\n      <td>45153764.60</td>\n      <td>1.624508e+08</td>\n      <td>Хорошее</td>\n      <td>2023</td>\n      <td>3</td>\n      <td>Отделение Анадырь</td>\n      <td>городской округ Анадырь</td>\n    </tr>\n    <tr>\n      <th>11738</th>\n      <td>пристройка к ТП № 2, Российская Федерация, Чук...</td>\n      <td>1995</td>\n      <td>01.01.1995</td>\n      <td>22.9</td>\n      <td>0.0</td>\n      <td>8.504830e+05</td>\n      <td>344633.94</td>\n      <td>401215.18</td>\n      <td>4.492678e+05</td>\n      <td>Хорошее</td>\n      <td>2023</td>\n      <td>3</td>\n      <td>Отделение Анадырь</td>\n      <td>городской округ Анадырь</td>\n    </tr>\n    <tr>\n      <th>11739</th>\n      <td>Здание РКЦ, Российская Федерация, Чукотский ав...</td>\n      <td>1987</td>\n      <td>01.01.1990</td>\n      <td>546.3</td>\n      <td>0.0</td>\n      <td>1.103891e+07</td>\n      <td>9526978.74</td>\n      <td>3668172.74</td>\n      <td>7.370742e+06</td>\n      <td>Хорошее</td>\n      <td>2023</td>\n      <td>3</td>\n      <td>Отделение Анадырь</td>\n      <td>городское поселение Билибино</td>\n    </tr>\n    <tr>\n      <th>11740</th>\n      <td>Пункт резервного энергоснабжения , Чукотский а...</td>\n      <td>1997</td>\n      <td>01.01.1997</td>\n      <td>96.3</td>\n      <td>0.0</td>\n      <td>3.167024e+06</td>\n      <td>78402.86</td>\n      <td>987875.69</td>\n      <td>2.179149e+06</td>\n      <td>Хорошее</td>\n      <td>2023</td>\n      <td>3</td>\n      <td>Отделение Анадырь</td>\n      <td>пгт Беринговский</td>\n    </tr>\n  </tbody>\n</table>\n<p>11417 rows × 14 columns</p>\n</div>"
     },
     "execution_count": 67,
     "metadata": {},
     "output_type": "execute_result"
    }
   ],
   "source": [
    "list_df = list_df.drop(list_df[list_df['building_year'] == 'данные отсутствуют'].index)\n",
    "list_df"
   ],
   "metadata": {
    "collapsed": false,
    "ExecuteTime": {
     "end_time": "2023-11-24T09:41:32.037763300Z",
     "start_time": "2023-11-24T09:41:32.007748900Z"
    }
   },
   "id": "a7656a387ba8d808"
  },
  {
   "cell_type": "code",
   "execution_count": 71,
   "outputs": [
    {
     "data": {
      "text/plain": "                                            object_name building_year  \\\n497   \"Квартира\" (служебная), 689000, Чукотский авто...          1977   \n7145  \"Квартира\" (служебная), 689000, Чукотский авто...          1977   \n4533  \"Квартира\" (служебная), 689000, Чукотский авто...          1977   \n4980  \"Квартира\" (служебная), 689000, Чукотский авто...          1977   \n1542  \"Квартира\" (служебная), 689000, Чукотский авто...          1977   \n...                                                 ...           ...   \n5240  эллинг с эстакадой в составе: здание - эллинг ...          1978   \n3858  эллинг с эстакадой в составе: здание - эллинг ...          1978   \n4337  эллинг с эстакадой в составе: здание - эллинг ...          1978   \n2364  эллинг с эстакадой в составе: здание - эллинг ...          1978   \n2867  эллинг с эстакадой в составе: здание - эллинг ...          1978   \n\n     balance_date  object_square  building_square     balance  revaluation  \\\n497    13.10.1998           71.4             71.4   113300.00         0.00   \n7145   13.10.1998           71.4             71.4   113300.00         0.00   \n4533   13.10.1998           71.4             71.4   113300.00         0.00   \n4980   13.10.1998           71.4             71.4   113300.00         0.00   \n1542   13.10.1998           71.4             71.4   113300.00         0.00   \n...           ...            ...              ...         ...          ...   \n5240   03.12.1997          196.4            196.4  1894552.01   1416127.99   \n3858   03.12.1997          196.4            196.4  1894552.01   1416127.99   \n4337   03.12.1997          196.4            196.4  1894552.01   1416127.99   \n2364   03.12.1997          196.4            196.4  1894552.01   1416127.99   \n2867   03.12.1997          196.4            196.4  1894552.01   1416127.99   \n\n      depreciation  residual_value technical_condition  year  quarter  \\\n497       13812.93        99487.07  Удовлетворительное  2016        1   \n7145      16588.77        96711.23  Удовлетворительное  2019        3   \n4533      15399.13        97900.87  Удовлетворительное  2018        1   \n4980      15597.40        97702.60  Удовлетворительное  2018        2   \n1542      14209.47        99090.53  Удовлетворительное  2016        3   \n...            ...             ...                 ...   ...      ...   \n5240    1195263.06       699288.95  Удовлетворительное  2018        3   \n3858    1171107.60       723444.41  Удовлетворительное  2017        4   \n4337    1179159.42       715392.59  Удовлетворительное  2018        1   \n2364    1146952.04       747599.97  Удовлетворительное  2017        1   \n2867    1155003.86       739548.15  Удовлетворительное  2017        2   \n\n                                otdel                                    city  \n497                 Отделение Анадырь                                 Анадырь  \n7145                Отделение Анадырь                                 Анадырь  \n4533                Отделение Анадырь                                 Анадырь  \n4980                Отделение Анадырь                                 Анадырь  \n1542                Отделение Анадырь                                 Анадырь  \n...                               ...                                     ...  \n5240  Дальневосточное ГУ Банка России  поселок Горные Ключи Кировского района  \n3858  Дальневосточное ГУ Банка России  поселок Горные Ключи Кировского района  \n4337  Дальневосточное ГУ Банка России  поселок Горные Ключи Кировского района  \n2364  Дальневосточное ГУ Банка России  поселок Горные Ключи Кировского района  \n2867  Дальневосточное ГУ Банка России  поселок Горные Ключи Кировского района  \n\n[10937 rows x 14 columns]",
      "text/html": "<div>\n<style scoped>\n    .dataframe tbody tr th:only-of-type {\n        vertical-align: middle;\n    }\n\n    .dataframe tbody tr th {\n        vertical-align: top;\n    }\n\n    .dataframe thead th {\n        text-align: right;\n    }\n</style>\n<table border=\"1\" class=\"dataframe\">\n  <thead>\n    <tr style=\"text-align: right;\">\n      <th></th>\n      <th>object_name</th>\n      <th>building_year</th>\n      <th>balance_date</th>\n      <th>object_square</th>\n      <th>building_square</th>\n      <th>balance</th>\n      <th>revaluation</th>\n      <th>depreciation</th>\n      <th>residual_value</th>\n      <th>technical_condition</th>\n      <th>year</th>\n      <th>quarter</th>\n      <th>otdel</th>\n      <th>city</th>\n    </tr>\n  </thead>\n  <tbody>\n    <tr>\n      <th>497</th>\n      <td>\"Квартира\" (служебная), 689000, Чукотский авто...</td>\n      <td>1977</td>\n      <td>13.10.1998</td>\n      <td>71.4</td>\n      <td>71.4</td>\n      <td>113300.00</td>\n      <td>0.00</td>\n      <td>13812.93</td>\n      <td>99487.07</td>\n      <td>Удовлетворительное</td>\n      <td>2016</td>\n      <td>1</td>\n      <td>Отделение Анадырь</td>\n      <td>Анадырь</td>\n    </tr>\n    <tr>\n      <th>7145</th>\n      <td>\"Квартира\" (служебная), 689000, Чукотский авто...</td>\n      <td>1977</td>\n      <td>13.10.1998</td>\n      <td>71.4</td>\n      <td>71.4</td>\n      <td>113300.00</td>\n      <td>0.00</td>\n      <td>16588.77</td>\n      <td>96711.23</td>\n      <td>Удовлетворительное</td>\n      <td>2019</td>\n      <td>3</td>\n      <td>Отделение Анадырь</td>\n      <td>Анадырь</td>\n    </tr>\n    <tr>\n      <th>4533</th>\n      <td>\"Квартира\" (служебная), 689000, Чукотский авто...</td>\n      <td>1977</td>\n      <td>13.10.1998</td>\n      <td>71.4</td>\n      <td>71.4</td>\n      <td>113300.00</td>\n      <td>0.00</td>\n      <td>15399.13</td>\n      <td>97900.87</td>\n      <td>Удовлетворительное</td>\n      <td>2018</td>\n      <td>1</td>\n      <td>Отделение Анадырь</td>\n      <td>Анадырь</td>\n    </tr>\n    <tr>\n      <th>4980</th>\n      <td>\"Квартира\" (служебная), 689000, Чукотский авто...</td>\n      <td>1977</td>\n      <td>13.10.1998</td>\n      <td>71.4</td>\n      <td>71.4</td>\n      <td>113300.00</td>\n      <td>0.00</td>\n      <td>15597.40</td>\n      <td>97702.60</td>\n      <td>Удовлетворительное</td>\n      <td>2018</td>\n      <td>2</td>\n      <td>Отделение Анадырь</td>\n      <td>Анадырь</td>\n    </tr>\n    <tr>\n      <th>1542</th>\n      <td>\"Квартира\" (служебная), 689000, Чукотский авто...</td>\n      <td>1977</td>\n      <td>13.10.1998</td>\n      <td>71.4</td>\n      <td>71.4</td>\n      <td>113300.00</td>\n      <td>0.00</td>\n      <td>14209.47</td>\n      <td>99090.53</td>\n      <td>Удовлетворительное</td>\n      <td>2016</td>\n      <td>3</td>\n      <td>Отделение Анадырь</td>\n      <td>Анадырь</td>\n    </tr>\n    <tr>\n      <th>...</th>\n      <td>...</td>\n      <td>...</td>\n      <td>...</td>\n      <td>...</td>\n      <td>...</td>\n      <td>...</td>\n      <td>...</td>\n      <td>...</td>\n      <td>...</td>\n      <td>...</td>\n      <td>...</td>\n      <td>...</td>\n      <td>...</td>\n      <td>...</td>\n    </tr>\n    <tr>\n      <th>5240</th>\n      <td>эллинг с эстакадой в составе: здание - эллинг ...</td>\n      <td>1978</td>\n      <td>03.12.1997</td>\n      <td>196.4</td>\n      <td>196.4</td>\n      <td>1894552.01</td>\n      <td>1416127.99</td>\n      <td>1195263.06</td>\n      <td>699288.95</td>\n      <td>Удовлетворительное</td>\n      <td>2018</td>\n      <td>3</td>\n      <td>Дальневосточное ГУ Банка России</td>\n      <td>поселок Горные Ключи Кировского района</td>\n    </tr>\n    <tr>\n      <th>3858</th>\n      <td>эллинг с эстакадой в составе: здание - эллинг ...</td>\n      <td>1978</td>\n      <td>03.12.1997</td>\n      <td>196.4</td>\n      <td>196.4</td>\n      <td>1894552.01</td>\n      <td>1416127.99</td>\n      <td>1171107.60</td>\n      <td>723444.41</td>\n      <td>Удовлетворительное</td>\n      <td>2017</td>\n      <td>4</td>\n      <td>Дальневосточное ГУ Банка России</td>\n      <td>поселок Горные Ключи Кировского района</td>\n    </tr>\n    <tr>\n      <th>4337</th>\n      <td>эллинг с эстакадой в составе: здание - эллинг ...</td>\n      <td>1978</td>\n      <td>03.12.1997</td>\n      <td>196.4</td>\n      <td>196.4</td>\n      <td>1894552.01</td>\n      <td>1416127.99</td>\n      <td>1179159.42</td>\n      <td>715392.59</td>\n      <td>Удовлетворительное</td>\n      <td>2018</td>\n      <td>1</td>\n      <td>Дальневосточное ГУ Банка России</td>\n      <td>поселок Горные Ключи Кировского района</td>\n    </tr>\n    <tr>\n      <th>2364</th>\n      <td>эллинг с эстакадой в составе: здание - эллинг ...</td>\n      <td>1978</td>\n      <td>03.12.1997</td>\n      <td>196.4</td>\n      <td>196.4</td>\n      <td>1894552.01</td>\n      <td>1416127.99</td>\n      <td>1146952.04</td>\n      <td>747599.97</td>\n      <td>Удовлетворительное</td>\n      <td>2017</td>\n      <td>1</td>\n      <td>Дальневосточное ГУ Банка России</td>\n      <td>поселок Горные Ключи Кировского района</td>\n    </tr>\n    <tr>\n      <th>2867</th>\n      <td>эллинг с эстакадой в составе: здание - эллинг ...</td>\n      <td>1978</td>\n      <td>03.12.1997</td>\n      <td>196.4</td>\n      <td>196.4</td>\n      <td>1894552.01</td>\n      <td>1416127.99</td>\n      <td>1155003.86</td>\n      <td>739548.15</td>\n      <td>Удовлетворительное</td>\n      <td>2017</td>\n      <td>2</td>\n      <td>Дальневосточное ГУ Банка России</td>\n      <td>поселок Горные Ключи Кировского района</td>\n    </tr>\n  </tbody>\n</table>\n<p>10937 rows × 14 columns</p>\n</div>"
     },
     "execution_count": 71,
     "metadata": {},
     "output_type": "execute_result"
    }
   ],
   "source": [
    "ids = list_df[\"object_name\"]\n",
    "list_df[ids.isin(ids[ids.duplicated()])].sort_values(\"object_name\")"
   ],
   "metadata": {
    "collapsed": false,
    "ExecuteTime": {
     "end_time": "2023-11-24T10:40:28.001542800Z",
     "start_time": "2023-11-24T10:40:27.952547600Z"
    }
   },
   "id": "6f8fa303f37730e0"
  },
  {
   "cell_type": "code",
   "execution_count": 70,
   "outputs": [
    {
     "data": {
      "text/plain": "                                             object_name building_year  \\\n522    Помещение объект № 2 (Вспомогательный), 675000...          1980   \n524    Административное здание, лит. А, А1, 676980, К...          1959   \n525    Административное здание, 676530, Амурская обла...          1935   \n526    Административное здание, 675000, Амурская обла...          1958   \n527    Административное здание, 676246, Амурская обла...          1978   \n...                                                  ...           ...   \n11735  РКЦ, Чукотский автономный округ, р-н Анадырски...          1991   \n11736  Административное здание, Российская Федерация,...          2001   \n11738  пристройка к ТП № 2, Российская Федерация, Чук...          1995   \n11739  Здание РКЦ, Российская Федерация, Чукотский ав...          1987   \n11740  Пункт резервного энергоснабжения , Чукотский а...          1997   \n\n      balance_date  object_square  building_square       balance  revaluation  \\\n522     13.07.1990          217.7            217.7  1.638812e+06    937438.23   \n524     27.12.1990          237.7            237.7  1.267112e+05     53749.02   \n525     27.12.1990          830.2            830.2  1.657841e+06         0.00   \n526     14.02.1992          403.9            403.9  3.038926e+05    162432.93   \n527     14.02.1992         1080.4           1080.4  2.623702e+06   1867577.03   \n...            ...            ...              ...           ...          ...   \n11735   01.01.1991          513.0              0.0  5.010097e+06   1892900.30   \n11736   01.01.2001         2690.2              0.0  2.076046e+08  10444758.74   \n11738   01.01.1995           22.9              0.0  8.504830e+05    344633.94   \n11739   01.01.1990          546.3              0.0  1.103891e+07   9526978.74   \n11740   01.01.1997           96.3              0.0  3.167024e+06     78402.86   \n\n       depreciation  residual_value technical_condition  year  quarter  \\\n522       596414.09    1.042398e+06  Удовлетворительное  2016        2   \n524        93489.08    3.322215e+04  Удовлетворительное  2016        2   \n525      1657840.58    0.000000e+00              Ветхое  2016        2   \n526       209684.13    9.420850e+04  Удовлетворительное  2016        2   \n527      1181164.54    1.442538e+06  Удовлетворительное  2016        2   \n...             ...             ...                 ...   ...      ...   \n11735    2341139.51    2.668958e+06  Удовлетворительное  2023        3   \n11736   45153764.60    1.624508e+08             Хорошее  2023        3   \n11738     401215.18    4.492678e+05             Хорошее  2023        3   \n11739    3668172.74    7.370742e+06             Хорошее  2023        3   \n11740     987875.69    2.179149e+06             Хорошее  2023        3   \n\n                        otdel                          city  \n522    Отделение Благовещенск                  Благовещенск  \n524    Отделение Благовещенск                Константиновка  \n525    Отделение Благовещенск             Новокиевский Увал  \n526    Отделение Благовещенск                  Благовещенск  \n527    Отделение Благовещенск                           Зея  \n...                       ...                           ...  \n11735       Отделение Анадырь              пгт Беринговский  \n11736       Отделение Анадырь       городской округ Анадырь  \n11738       Отделение Анадырь       городской округ Анадырь  \n11739       Отделение Анадырь  городское поселение Билибино  \n11740       Отделение Анадырь              пгт Беринговский  \n\n[8887 rows x 14 columns]",
      "text/html": "<div>\n<style scoped>\n    .dataframe tbody tr th:only-of-type {\n        vertical-align: middle;\n    }\n\n    .dataframe tbody tr th {\n        vertical-align: top;\n    }\n\n    .dataframe thead th {\n        text-align: right;\n    }\n</style>\n<table border=\"1\" class=\"dataframe\">\n  <thead>\n    <tr style=\"text-align: right;\">\n      <th></th>\n      <th>object_name</th>\n      <th>building_year</th>\n      <th>balance_date</th>\n      <th>object_square</th>\n      <th>building_square</th>\n      <th>balance</th>\n      <th>revaluation</th>\n      <th>depreciation</th>\n      <th>residual_value</th>\n      <th>technical_condition</th>\n      <th>year</th>\n      <th>quarter</th>\n      <th>otdel</th>\n      <th>city</th>\n    </tr>\n  </thead>\n  <tbody>\n    <tr>\n      <th>522</th>\n      <td>Помещение объект № 2 (Вспомогательный), 675000...</td>\n      <td>1980</td>\n      <td>13.07.1990</td>\n      <td>217.7</td>\n      <td>217.7</td>\n      <td>1.638812e+06</td>\n      <td>937438.23</td>\n      <td>596414.09</td>\n      <td>1.042398e+06</td>\n      <td>Удовлетворительное</td>\n      <td>2016</td>\n      <td>2</td>\n      <td>Отделение Благовещенск</td>\n      <td>Благовещенск</td>\n    </tr>\n    <tr>\n      <th>524</th>\n      <td>Административное здание, лит. А, А1, 676980, К...</td>\n      <td>1959</td>\n      <td>27.12.1990</td>\n      <td>237.7</td>\n      <td>237.7</td>\n      <td>1.267112e+05</td>\n      <td>53749.02</td>\n      <td>93489.08</td>\n      <td>3.322215e+04</td>\n      <td>Удовлетворительное</td>\n      <td>2016</td>\n      <td>2</td>\n      <td>Отделение Благовещенск</td>\n      <td>Константиновка</td>\n    </tr>\n    <tr>\n      <th>525</th>\n      <td>Административное здание, 676530, Амурская обла...</td>\n      <td>1935</td>\n      <td>27.12.1990</td>\n      <td>830.2</td>\n      <td>830.2</td>\n      <td>1.657841e+06</td>\n      <td>0.00</td>\n      <td>1657840.58</td>\n      <td>0.000000e+00</td>\n      <td>Ветхое</td>\n      <td>2016</td>\n      <td>2</td>\n      <td>Отделение Благовещенск</td>\n      <td>Новокиевский Увал</td>\n    </tr>\n    <tr>\n      <th>526</th>\n      <td>Административное здание, 675000, Амурская обла...</td>\n      <td>1958</td>\n      <td>14.02.1992</td>\n      <td>403.9</td>\n      <td>403.9</td>\n      <td>3.038926e+05</td>\n      <td>162432.93</td>\n      <td>209684.13</td>\n      <td>9.420850e+04</td>\n      <td>Удовлетворительное</td>\n      <td>2016</td>\n      <td>2</td>\n      <td>Отделение Благовещенск</td>\n      <td>Благовещенск</td>\n    </tr>\n    <tr>\n      <th>527</th>\n      <td>Административное здание, 676246, Амурская обла...</td>\n      <td>1978</td>\n      <td>14.02.1992</td>\n      <td>1080.4</td>\n      <td>1080.4</td>\n      <td>2.623702e+06</td>\n      <td>1867577.03</td>\n      <td>1181164.54</td>\n      <td>1.442538e+06</td>\n      <td>Удовлетворительное</td>\n      <td>2016</td>\n      <td>2</td>\n      <td>Отделение Благовещенск</td>\n      <td>Зея</td>\n    </tr>\n    <tr>\n      <th>...</th>\n      <td>...</td>\n      <td>...</td>\n      <td>...</td>\n      <td>...</td>\n      <td>...</td>\n      <td>...</td>\n      <td>...</td>\n      <td>...</td>\n      <td>...</td>\n      <td>...</td>\n      <td>...</td>\n      <td>...</td>\n      <td>...</td>\n      <td>...</td>\n    </tr>\n    <tr>\n      <th>11735</th>\n      <td>РКЦ, Чукотский автономный округ, р-н Анадырски...</td>\n      <td>1991</td>\n      <td>01.01.1991</td>\n      <td>513.0</td>\n      <td>0.0</td>\n      <td>5.010097e+06</td>\n      <td>1892900.30</td>\n      <td>2341139.51</td>\n      <td>2.668958e+06</td>\n      <td>Удовлетворительное</td>\n      <td>2023</td>\n      <td>3</td>\n      <td>Отделение Анадырь</td>\n      <td>пгт Беринговский</td>\n    </tr>\n    <tr>\n      <th>11736</th>\n      <td>Административное здание, Российская Федерация,...</td>\n      <td>2001</td>\n      <td>01.01.2001</td>\n      <td>2690.2</td>\n      <td>0.0</td>\n      <td>2.076046e+08</td>\n      <td>10444758.74</td>\n      <td>45153764.60</td>\n      <td>1.624508e+08</td>\n      <td>Хорошее</td>\n      <td>2023</td>\n      <td>3</td>\n      <td>Отделение Анадырь</td>\n      <td>городской округ Анадырь</td>\n    </tr>\n    <tr>\n      <th>11738</th>\n      <td>пристройка к ТП № 2, Российская Федерация, Чук...</td>\n      <td>1995</td>\n      <td>01.01.1995</td>\n      <td>22.9</td>\n      <td>0.0</td>\n      <td>8.504830e+05</td>\n      <td>344633.94</td>\n      <td>401215.18</td>\n      <td>4.492678e+05</td>\n      <td>Хорошее</td>\n      <td>2023</td>\n      <td>3</td>\n      <td>Отделение Анадырь</td>\n      <td>городской округ Анадырь</td>\n    </tr>\n    <tr>\n      <th>11739</th>\n      <td>Здание РКЦ, Российская Федерация, Чукотский ав...</td>\n      <td>1987</td>\n      <td>01.01.1990</td>\n      <td>546.3</td>\n      <td>0.0</td>\n      <td>1.103891e+07</td>\n      <td>9526978.74</td>\n      <td>3668172.74</td>\n      <td>7.370742e+06</td>\n      <td>Хорошее</td>\n      <td>2023</td>\n      <td>3</td>\n      <td>Отделение Анадырь</td>\n      <td>городское поселение Билибино</td>\n    </tr>\n    <tr>\n      <th>11740</th>\n      <td>Пункт резервного энергоснабжения , Чукотский а...</td>\n      <td>1997</td>\n      <td>01.01.1997</td>\n      <td>96.3</td>\n      <td>0.0</td>\n      <td>3.167024e+06</td>\n      <td>78402.86</td>\n      <td>987875.69</td>\n      <td>2.179149e+06</td>\n      <td>Хорошее</td>\n      <td>2023</td>\n      <td>3</td>\n      <td>Отделение Анадырь</td>\n      <td>пгт Беринговский</td>\n    </tr>\n  </tbody>\n</table>\n<p>8887 rows × 14 columns</p>\n</div>"
     },
     "execution_count": 70,
     "metadata": {},
     "output_type": "execute_result"
    }
   ],
   "source": [
    "list_df[list_df['object_name'].duplicated()]"
   ],
   "metadata": {
    "collapsed": false,
    "ExecuteTime": {
     "end_time": "2023-11-24T10:37:18.067680800Z",
     "start_time": "2023-11-24T10:37:18.019680800Z"
    }
   },
   "id": "f8371fe7b52e9841"
  },
  {
   "cell_type": "code",
   "execution_count": 277,
   "outputs": [
    {
     "data": {
      "text/plain": "                                             object_name building_year  \\\n0      помещение объект № 2 (вспомогательный), 675000...          1980   \n1      административное здание, 676014, амурская обла...          1978   \n2      административное здание, лит. а, а1, 676980, к...          1959   \n3      административное здание, 676530, амурская обла...          1935   \n4      административное здание, 675000, амурская обла...          1958   \n...                                                  ...           ...   \n11735  ркц, чукотский автономный округ, р-н анадырски...          1991   \n11736  административное здание, российская федерация,...          2001   \n11738  пристройка к тп № 2, российская федерация, чук...          1995   \n11739  здание ркц, российская федерация, чукотский ав...          1987   \n11740  пункт резервного энергоснабжения , чукотский а...          1997   \n\n      balance_date  object_square  building_square       balance  revaluation  \\\n0       13.07.1990          217.7            217.7  1.638812e+06    937438.23   \n1       27.12.1990          389.1            389.1  1.050735e+06    771306.47   \n2       27.12.1990          237.7            237.7  1.267112e+05     53749.02   \n3       27.12.1990          830.2            830.2  1.657841e+06         0.00   \n4       14.02.1992          403.9            403.9  3.038926e+05    162432.93   \n...            ...            ...              ...           ...          ...   \n11735   01.01.1991          513.0              0.0  5.010097e+06   1892900.30   \n11736   01.01.2001         2690.2              0.0  2.076046e+08  10444758.74   \n11738   01.01.1995           22.9              0.0  8.504830e+05    344633.94   \n11739   01.01.1990          546.3              0.0  1.103891e+07   9526978.74   \n11740   01.01.1997           96.3              0.0  3.167024e+06     78402.86   \n\n       depreciation  residual_value technical_condition  year  quarter  \\\n0         591497.66    1.047315e+06  Удовлетворительное  2016        1   \n1         446494.59    6.042402e+05  Удовлетворительное  2016        1   \n2          93108.95    3.360228e+04  Удовлетворительное  2016        1   \n3        1657840.58    0.000000e+00              Ветхое  2016        1   \n4         208772.46    9.512017e+04  Удовлетворительное  2016        1   \n...             ...             ...                 ...   ...      ...   \n11735    2341139.51    2.668958e+06  Удовлетворительное  2023        3   \n11736   45153764.60    1.624508e+08             Хорошее  2023        3   \n11738     401215.18    4.492678e+05             Хорошее  2023        3   \n11739    3668172.74    7.370742e+06             Хорошее  2023        3   \n11740     987875.69    2.179149e+06             Хорошее  2023        3   \n\n                        otdel                          city    id  \n0      Отделение Благовещенск                  Благовещенск     0  \n1      Отделение Благовещенск                   Сковородино     1  \n2      Отделение Благовещенск                Константиновка     2  \n3      Отделение Благовещенск             Новокиевский Увал     3  \n4      Отделение Благовещенск                  Благовещенск     4  \n...                       ...                           ...   ...  \n11735       Отделение Анадырь              пгт Беринговский  2398  \n11736       Отделение Анадырь       городской округ Анадырь  2399  \n11738       Отделение Анадырь       городской округ Анадырь  2429  \n11739       Отделение Анадырь  городское поселение Билибино  2430  \n11740       Отделение Анадырь              пгт Беринговский  2402  \n\n[11417 rows x 15 columns]",
      "text/html": "<div>\n<style scoped>\n    .dataframe tbody tr th:only-of-type {\n        vertical-align: middle;\n    }\n\n    .dataframe tbody tr th {\n        vertical-align: top;\n    }\n\n    .dataframe thead th {\n        text-align: right;\n    }\n</style>\n<table border=\"1\" class=\"dataframe\">\n  <thead>\n    <tr style=\"text-align: right;\">\n      <th></th>\n      <th>object_name</th>\n      <th>building_year</th>\n      <th>balance_date</th>\n      <th>object_square</th>\n      <th>building_square</th>\n      <th>balance</th>\n      <th>revaluation</th>\n      <th>depreciation</th>\n      <th>residual_value</th>\n      <th>technical_condition</th>\n      <th>year</th>\n      <th>quarter</th>\n      <th>otdel</th>\n      <th>city</th>\n      <th>id</th>\n    </tr>\n  </thead>\n  <tbody>\n    <tr>\n      <th>0</th>\n      <td>помещение объект № 2 (вспомогательный), 675000...</td>\n      <td>1980</td>\n      <td>13.07.1990</td>\n      <td>217.7</td>\n      <td>217.7</td>\n      <td>1.638812e+06</td>\n      <td>937438.23</td>\n      <td>591497.66</td>\n      <td>1.047315e+06</td>\n      <td>Удовлетворительное</td>\n      <td>2016</td>\n      <td>1</td>\n      <td>Отделение Благовещенск</td>\n      <td>Благовещенск</td>\n      <td>0</td>\n    </tr>\n    <tr>\n      <th>1</th>\n      <td>административное здание, 676014, амурская обла...</td>\n      <td>1978</td>\n      <td>27.12.1990</td>\n      <td>389.1</td>\n      <td>389.1</td>\n      <td>1.050735e+06</td>\n      <td>771306.47</td>\n      <td>446494.59</td>\n      <td>6.042402e+05</td>\n      <td>Удовлетворительное</td>\n      <td>2016</td>\n      <td>1</td>\n      <td>Отделение Благовещенск</td>\n      <td>Сковородино</td>\n      <td>1</td>\n    </tr>\n    <tr>\n      <th>2</th>\n      <td>административное здание, лит. а, а1, 676980, к...</td>\n      <td>1959</td>\n      <td>27.12.1990</td>\n      <td>237.7</td>\n      <td>237.7</td>\n      <td>1.267112e+05</td>\n      <td>53749.02</td>\n      <td>93108.95</td>\n      <td>3.360228e+04</td>\n      <td>Удовлетворительное</td>\n      <td>2016</td>\n      <td>1</td>\n      <td>Отделение Благовещенск</td>\n      <td>Константиновка</td>\n      <td>2</td>\n    </tr>\n    <tr>\n      <th>3</th>\n      <td>административное здание, 676530, амурская обла...</td>\n      <td>1935</td>\n      <td>27.12.1990</td>\n      <td>830.2</td>\n      <td>830.2</td>\n      <td>1.657841e+06</td>\n      <td>0.00</td>\n      <td>1657840.58</td>\n      <td>0.000000e+00</td>\n      <td>Ветхое</td>\n      <td>2016</td>\n      <td>1</td>\n      <td>Отделение Благовещенск</td>\n      <td>Новокиевский Увал</td>\n      <td>3</td>\n    </tr>\n    <tr>\n      <th>4</th>\n      <td>административное здание, 675000, амурская обла...</td>\n      <td>1958</td>\n      <td>14.02.1992</td>\n      <td>403.9</td>\n      <td>403.9</td>\n      <td>3.038926e+05</td>\n      <td>162432.93</td>\n      <td>208772.46</td>\n      <td>9.512017e+04</td>\n      <td>Удовлетворительное</td>\n      <td>2016</td>\n      <td>1</td>\n      <td>Отделение Благовещенск</td>\n      <td>Благовещенск</td>\n      <td>4</td>\n    </tr>\n    <tr>\n      <th>...</th>\n      <td>...</td>\n      <td>...</td>\n      <td>...</td>\n      <td>...</td>\n      <td>...</td>\n      <td>...</td>\n      <td>...</td>\n      <td>...</td>\n      <td>...</td>\n      <td>...</td>\n      <td>...</td>\n      <td>...</td>\n      <td>...</td>\n      <td>...</td>\n      <td>...</td>\n    </tr>\n    <tr>\n      <th>11735</th>\n      <td>ркц, чукотский автономный округ, р-н анадырски...</td>\n      <td>1991</td>\n      <td>01.01.1991</td>\n      <td>513.0</td>\n      <td>0.0</td>\n      <td>5.010097e+06</td>\n      <td>1892900.30</td>\n      <td>2341139.51</td>\n      <td>2.668958e+06</td>\n      <td>Удовлетворительное</td>\n      <td>2023</td>\n      <td>3</td>\n      <td>Отделение Анадырь</td>\n      <td>пгт Беринговский</td>\n      <td>2398</td>\n    </tr>\n    <tr>\n      <th>11736</th>\n      <td>административное здание, российская федерация,...</td>\n      <td>2001</td>\n      <td>01.01.2001</td>\n      <td>2690.2</td>\n      <td>0.0</td>\n      <td>2.076046e+08</td>\n      <td>10444758.74</td>\n      <td>45153764.60</td>\n      <td>1.624508e+08</td>\n      <td>Хорошее</td>\n      <td>2023</td>\n      <td>3</td>\n      <td>Отделение Анадырь</td>\n      <td>городской округ Анадырь</td>\n      <td>2399</td>\n    </tr>\n    <tr>\n      <th>11738</th>\n      <td>пристройка к тп № 2, российская федерация, чук...</td>\n      <td>1995</td>\n      <td>01.01.1995</td>\n      <td>22.9</td>\n      <td>0.0</td>\n      <td>8.504830e+05</td>\n      <td>344633.94</td>\n      <td>401215.18</td>\n      <td>4.492678e+05</td>\n      <td>Хорошее</td>\n      <td>2023</td>\n      <td>3</td>\n      <td>Отделение Анадырь</td>\n      <td>городской округ Анадырь</td>\n      <td>2429</td>\n    </tr>\n    <tr>\n      <th>11739</th>\n      <td>здание ркц, российская федерация, чукотский ав...</td>\n      <td>1987</td>\n      <td>01.01.1990</td>\n      <td>546.3</td>\n      <td>0.0</td>\n      <td>1.103891e+07</td>\n      <td>9526978.74</td>\n      <td>3668172.74</td>\n      <td>7.370742e+06</td>\n      <td>Хорошее</td>\n      <td>2023</td>\n      <td>3</td>\n      <td>Отделение Анадырь</td>\n      <td>городское поселение Билибино</td>\n      <td>2430</td>\n    </tr>\n    <tr>\n      <th>11740</th>\n      <td>пункт резервного энергоснабжения , чукотский а...</td>\n      <td>1997</td>\n      <td>01.01.1997</td>\n      <td>96.3</td>\n      <td>0.0</td>\n      <td>3.167024e+06</td>\n      <td>78402.86</td>\n      <td>987875.69</td>\n      <td>2.179149e+06</td>\n      <td>Хорошее</td>\n      <td>2023</td>\n      <td>3</td>\n      <td>Отделение Анадырь</td>\n      <td>пгт Беринговский</td>\n      <td>2402</td>\n    </tr>\n  </tbody>\n</table>\n<p>11417 rows × 15 columns</p>\n</div>"
     },
     "execution_count": 277,
     "metadata": {},
     "output_type": "execute_result"
    }
   ],
   "source": [
    "list_df['id'] = -1\n",
    "list_df['object_name'] = list_df['object_name'].apply(lambda x: x.lower())\n",
    "names = list_df['object_name'].unique()\n",
    "\n",
    "for i in range(len(names)):\n",
    "    name = names[i]\n",
    "    list_df.loc[list_df['object_name'] == name, 'id'] = i\n",
    "list_df"
   ],
   "metadata": {
    "collapsed": false,
    "ExecuteTime": {
     "end_time": "2023-11-24T18:57:29.785415800Z",
     "start_time": "2023-11-24T18:57:27.799689600Z"
    }
   },
   "id": "d4bf659683983a28"
  },
  {
   "cell_type": "code",
   "execution_count": 278,
   "outputs": [
    {
     "data": {
      "text/plain": "875     22\n878     22\n1025    20\n1034    20\n1026    20\n        ..\n1752     1\n1753     1\n1754     1\n1759     1\n2480     1\nName: id, Length: 2481, dtype: int64"
     },
     "execution_count": 278,
     "metadata": {},
     "output_type": "execute_result"
    }
   ],
   "source": [
    "list_df[\"id\"].value_counts()"
   ],
   "metadata": {
    "collapsed": false,
    "ExecuteTime": {
     "end_time": "2023-11-24T18:57:48.056858100Z",
     "start_time": "2023-11-24T18:57:48.012858700Z"
    }
   },
   "id": "548251e6398b6379"
  },
  {
   "cell_type": "code",
   "execution_count": 103,
   "outputs": [
    {
     "data": {
      "text/plain": "0"
     },
     "execution_count": 103,
     "metadata": {},
     "output_type": "execute_result"
    }
   ],
   "source": [
    "list_df.loc[list_df[\n",
    "                'object_name'] == \"Помещение объект № 2 (Вспомогательный), 675000, Амурская область, г.Благовещенск, Святителя Иннокентия переулок, д.17, 04-07-01-00-00-003\", \"id\"][\n",
    "    0]"
   ],
   "metadata": {
    "collapsed": false,
    "ExecuteTime": {
     "end_time": "2023-11-24T11:39:12.208041700Z",
     "start_time": "2023-11-24T11:39:12.197040Z"
    }
   },
   "id": "fd220fad5a0f900a"
  },
  {
   "cell_type": "code",
   "execution_count": 144,
   "outputs": [
    {
     "ename": "PermissionError",
     "evalue": "[Errno 13] Permission denied: 'Expenses/~$2017.xlsx'",
     "output_type": "error",
     "traceback": [
      "\u001B[1;31m---------------------------------------------------------------------------\u001B[0m",
      "\u001B[1;31mPermissionError\u001B[0m                           Traceback (most recent call last)",
      "Cell \u001B[1;32mIn[144], line 7\u001B[0m\n\u001B[0;32m      5\u001B[0m         count \u001B[38;5;241m+\u001B[39m\u001B[38;5;241m=\u001B[39m \u001B[38;5;241m1\u001B[39m\n\u001B[0;32m      6\u001B[0m         \u001B[38;5;28;01mcontinue\u001B[39;00m\n\u001B[1;32m----> 7\u001B[0m     some_df \u001B[38;5;241m=\u001B[39m \u001B[43mpd\u001B[49m\u001B[38;5;241;43m.\u001B[39;49m\u001B[43mread_excel\u001B[49m\u001B[43m(\u001B[49m\u001B[38;5;124;43mf\u001B[39;49m\u001B[38;5;124;43m\"\u001B[39;49m\u001B[38;5;124;43mExpenses/\u001B[39;49m\u001B[38;5;132;43;01m{\u001B[39;49;00m\u001B[43mfile\u001B[49m\u001B[38;5;132;43;01m}\u001B[39;49;00m\u001B[38;5;124;43m\"\u001B[39;49m\u001B[43m)\u001B[49m\n\u001B[0;32m      8\u001B[0m     expense \u001B[38;5;241m=\u001B[39m pd\u001B[38;5;241m.\u001B[39mconcat([expense, some_df])\n\u001B[0;32m      9\u001B[0m expense\n",
      "File \u001B[1;32mc:\\users\\zayyc\\desktop\\programming\\mts_venv\\lib\\site-packages\\pandas\\util\\_decorators.py:211\u001B[0m, in \u001B[0;36mdeprecate_kwarg.<locals>._deprecate_kwarg.<locals>.wrapper\u001B[1;34m(*args, **kwargs)\u001B[0m\n\u001B[0;32m    209\u001B[0m     \u001B[38;5;28;01melse\u001B[39;00m:\n\u001B[0;32m    210\u001B[0m         kwargs[new_arg_name] \u001B[38;5;241m=\u001B[39m new_arg_value\n\u001B[1;32m--> 211\u001B[0m \u001B[38;5;28;01mreturn\u001B[39;00m func(\u001B[38;5;241m*\u001B[39margs, \u001B[38;5;241m*\u001B[39m\u001B[38;5;241m*\u001B[39mkwargs)\n",
      "File \u001B[1;32mc:\\users\\zayyc\\desktop\\programming\\mts_venv\\lib\\site-packages\\pandas\\util\\_decorators.py:331\u001B[0m, in \u001B[0;36mdeprecate_nonkeyword_arguments.<locals>.decorate.<locals>.wrapper\u001B[1;34m(*args, **kwargs)\u001B[0m\n\u001B[0;32m    325\u001B[0m \u001B[38;5;28;01mif\u001B[39;00m \u001B[38;5;28mlen\u001B[39m(args) \u001B[38;5;241m>\u001B[39m num_allow_args:\n\u001B[0;32m    326\u001B[0m     warnings\u001B[38;5;241m.\u001B[39mwarn(\n\u001B[0;32m    327\u001B[0m         msg\u001B[38;5;241m.\u001B[39mformat(arguments\u001B[38;5;241m=\u001B[39m_format_argument_list(allow_args)),\n\u001B[0;32m    328\u001B[0m         \u001B[38;5;167;01mFutureWarning\u001B[39;00m,\n\u001B[0;32m    329\u001B[0m         stacklevel\u001B[38;5;241m=\u001B[39mfind_stack_level(),\n\u001B[0;32m    330\u001B[0m     )\n\u001B[1;32m--> 331\u001B[0m \u001B[38;5;28;01mreturn\u001B[39;00m func(\u001B[38;5;241m*\u001B[39margs, \u001B[38;5;241m*\u001B[39m\u001B[38;5;241m*\u001B[39mkwargs)\n",
      "File \u001B[1;32mc:\\users\\zayyc\\desktop\\programming\\mts_venv\\lib\\site-packages\\pandas\\io\\excel\\_base.py:482\u001B[0m, in \u001B[0;36mread_excel\u001B[1;34m(io, sheet_name, header, names, index_col, usecols, squeeze, dtype, engine, converters, true_values, false_values, skiprows, nrows, na_values, keep_default_na, na_filter, verbose, parse_dates, date_parser, thousands, decimal, comment, skipfooter, convert_float, mangle_dupe_cols, storage_options)\u001B[0m\n\u001B[0;32m    480\u001B[0m \u001B[38;5;28;01mif\u001B[39;00m \u001B[38;5;129;01mnot\u001B[39;00m \u001B[38;5;28misinstance\u001B[39m(io, ExcelFile):\n\u001B[0;32m    481\u001B[0m     should_close \u001B[38;5;241m=\u001B[39m \u001B[38;5;28;01mTrue\u001B[39;00m\n\u001B[1;32m--> 482\u001B[0m     io \u001B[38;5;241m=\u001B[39m \u001B[43mExcelFile\u001B[49m\u001B[43m(\u001B[49m\u001B[43mio\u001B[49m\u001B[43m,\u001B[49m\u001B[43m \u001B[49m\u001B[43mstorage_options\u001B[49m\u001B[38;5;241;43m=\u001B[39;49m\u001B[43mstorage_options\u001B[49m\u001B[43m,\u001B[49m\u001B[43m \u001B[49m\u001B[43mengine\u001B[49m\u001B[38;5;241;43m=\u001B[39;49m\u001B[43mengine\u001B[49m\u001B[43m)\u001B[49m\n\u001B[0;32m    483\u001B[0m \u001B[38;5;28;01melif\u001B[39;00m engine \u001B[38;5;129;01mand\u001B[39;00m engine \u001B[38;5;241m!=\u001B[39m io\u001B[38;5;241m.\u001B[39mengine:\n\u001B[0;32m    484\u001B[0m     \u001B[38;5;28;01mraise\u001B[39;00m \u001B[38;5;167;01mValueError\u001B[39;00m(\n\u001B[0;32m    485\u001B[0m         \u001B[38;5;124m\"\u001B[39m\u001B[38;5;124mEngine should not be specified when passing \u001B[39m\u001B[38;5;124m\"\u001B[39m\n\u001B[0;32m    486\u001B[0m         \u001B[38;5;124m\"\u001B[39m\u001B[38;5;124man ExcelFile - ExcelFile already has the engine set\u001B[39m\u001B[38;5;124m\"\u001B[39m\n\u001B[0;32m    487\u001B[0m     )\n",
      "File \u001B[1;32mc:\\users\\zayyc\\desktop\\programming\\mts_venv\\lib\\site-packages\\pandas\\io\\excel\\_base.py:1652\u001B[0m, in \u001B[0;36mExcelFile.__init__\u001B[1;34m(self, path_or_buffer, engine, storage_options)\u001B[0m\n\u001B[0;32m   1650\u001B[0m     ext \u001B[38;5;241m=\u001B[39m \u001B[38;5;124m\"\u001B[39m\u001B[38;5;124mxls\u001B[39m\u001B[38;5;124m\"\u001B[39m\n\u001B[0;32m   1651\u001B[0m \u001B[38;5;28;01melse\u001B[39;00m:\n\u001B[1;32m-> 1652\u001B[0m     ext \u001B[38;5;241m=\u001B[39m \u001B[43minspect_excel_format\u001B[49m\u001B[43m(\u001B[49m\n\u001B[0;32m   1653\u001B[0m \u001B[43m        \u001B[49m\u001B[43mcontent_or_path\u001B[49m\u001B[38;5;241;43m=\u001B[39;49m\u001B[43mpath_or_buffer\u001B[49m\u001B[43m,\u001B[49m\u001B[43m \u001B[49m\u001B[43mstorage_options\u001B[49m\u001B[38;5;241;43m=\u001B[39;49m\u001B[43mstorage_options\u001B[49m\n\u001B[0;32m   1654\u001B[0m \u001B[43m    \u001B[49m\u001B[43m)\u001B[49m\n\u001B[0;32m   1655\u001B[0m     \u001B[38;5;28;01mif\u001B[39;00m ext \u001B[38;5;129;01mis\u001B[39;00m \u001B[38;5;28;01mNone\u001B[39;00m:\n\u001B[0;32m   1656\u001B[0m         \u001B[38;5;28;01mraise\u001B[39;00m \u001B[38;5;167;01mValueError\u001B[39;00m(\n\u001B[0;32m   1657\u001B[0m             \u001B[38;5;124m\"\u001B[39m\u001B[38;5;124mExcel file format cannot be determined, you must specify \u001B[39m\u001B[38;5;124m\"\u001B[39m\n\u001B[0;32m   1658\u001B[0m             \u001B[38;5;124m\"\u001B[39m\u001B[38;5;124man engine manually.\u001B[39m\u001B[38;5;124m\"\u001B[39m\n\u001B[0;32m   1659\u001B[0m         )\n",
      "File \u001B[1;32mc:\\users\\zayyc\\desktop\\programming\\mts_venv\\lib\\site-packages\\pandas\\io\\excel\\_base.py:1525\u001B[0m, in \u001B[0;36minspect_excel_format\u001B[1;34m(content_or_path, storage_options)\u001B[0m\n\u001B[0;32m   1522\u001B[0m \u001B[38;5;28;01mif\u001B[39;00m \u001B[38;5;28misinstance\u001B[39m(content_or_path, \u001B[38;5;28mbytes\u001B[39m):\n\u001B[0;32m   1523\u001B[0m     content_or_path \u001B[38;5;241m=\u001B[39m BytesIO(content_or_path)\n\u001B[1;32m-> 1525\u001B[0m \u001B[38;5;28;01mwith\u001B[39;00m \u001B[43mget_handle\u001B[49m\u001B[43m(\u001B[49m\n\u001B[0;32m   1526\u001B[0m \u001B[43m    \u001B[49m\u001B[43mcontent_or_path\u001B[49m\u001B[43m,\u001B[49m\u001B[43m \u001B[49m\u001B[38;5;124;43m\"\u001B[39;49m\u001B[38;5;124;43mrb\u001B[39;49m\u001B[38;5;124;43m\"\u001B[39;49m\u001B[43m,\u001B[49m\u001B[43m \u001B[49m\u001B[43mstorage_options\u001B[49m\u001B[38;5;241;43m=\u001B[39;49m\u001B[43mstorage_options\u001B[49m\u001B[43m,\u001B[49m\u001B[43m \u001B[49m\u001B[43mis_text\u001B[49m\u001B[38;5;241;43m=\u001B[39;49m\u001B[38;5;28;43;01mFalse\u001B[39;49;00m\n\u001B[0;32m   1527\u001B[0m \u001B[43m\u001B[49m\u001B[43m)\u001B[49m \u001B[38;5;28;01mas\u001B[39;00m handle:\n\u001B[0;32m   1528\u001B[0m     stream \u001B[38;5;241m=\u001B[39m handle\u001B[38;5;241m.\u001B[39mhandle\n\u001B[0;32m   1529\u001B[0m     stream\u001B[38;5;241m.\u001B[39mseek(\u001B[38;5;241m0\u001B[39m)\n",
      "File \u001B[1;32mc:\\users\\zayyc\\desktop\\programming\\mts_venv\\lib\\site-packages\\pandas\\io\\common.py:865\u001B[0m, in \u001B[0;36mget_handle\u001B[1;34m(path_or_buf, mode, encoding, compression, memory_map, is_text, errors, storage_options)\u001B[0m\n\u001B[0;32m    856\u001B[0m         handle \u001B[38;5;241m=\u001B[39m \u001B[38;5;28mopen\u001B[39m(\n\u001B[0;32m    857\u001B[0m             handle,\n\u001B[0;32m    858\u001B[0m             ioargs\u001B[38;5;241m.\u001B[39mmode,\n\u001B[1;32m   (...)\u001B[0m\n\u001B[0;32m    861\u001B[0m             newline\u001B[38;5;241m=\u001B[39m\u001B[38;5;124m\"\u001B[39m\u001B[38;5;124m\"\u001B[39m,\n\u001B[0;32m    862\u001B[0m         )\n\u001B[0;32m    863\u001B[0m     \u001B[38;5;28;01melse\u001B[39;00m:\n\u001B[0;32m    864\u001B[0m         \u001B[38;5;66;03m# Binary mode\u001B[39;00m\n\u001B[1;32m--> 865\u001B[0m         handle \u001B[38;5;241m=\u001B[39m \u001B[38;5;28;43mopen\u001B[39;49m\u001B[43m(\u001B[49m\u001B[43mhandle\u001B[49m\u001B[43m,\u001B[49m\u001B[43m \u001B[49m\u001B[43mioargs\u001B[49m\u001B[38;5;241;43m.\u001B[39;49m\u001B[43mmode\u001B[49m\u001B[43m)\u001B[49m\n\u001B[0;32m    866\u001B[0m     handles\u001B[38;5;241m.\u001B[39mappend(handle)\n\u001B[0;32m    868\u001B[0m \u001B[38;5;66;03m# Convert BytesIO or file objects passed with an encoding\u001B[39;00m\n",
      "\u001B[1;31mPermissionError\u001B[0m: [Errno 13] Permission denied: 'Expenses/~$2017.xlsx'"
     ]
    }
   ],
   "source": [
    "expense = pd.read_excel(\"Expenses/2016.xlsx\")\n",
    "count = 0\n",
    "for file in os.listdir(\"Expenses\"):\n",
    "    if count == 0:\n",
    "        count += 1\n",
    "        continue\n",
    "    some_df = pd.read_excel(f\"Expenses/{file}\")\n",
    "    expense = pd.concat([expense, some_df])\n",
    "expense"
   ],
   "metadata": {
    "collapsed": false,
    "ExecuteTime": {
     "end_time": "2023-11-24T13:44:10.817478200Z",
     "start_time": "2023-11-24T13:44:07.188948700Z"
    }
   },
   "id": "1a8a4d3e8b654d87"
  },
  {
   "cell_type": "code",
   "execution_count": 145,
   "outputs": [
    {
     "data": {
      "text/plain": "Оплата водоснабжения, канализации                                                        5692\nОплата потребления электроэнергии                                                        4205\nОплата потребления тепловой энергии                                                      2862\nОплата услуг водоснабжения, водоотведения                                                1925\nОплата всех видов отопления зданий и сооружений (кроме электро- и газового снабжения)     783\nОплата потребления газа                                                                    79\nName: Unnamed: 6, dtype: int64"
     },
     "execution_count": 145,
     "metadata": {},
     "output_type": "execute_result"
    }
   ],
   "source": [
    "\n",
    "expense = expense[expense['Unnamed: 6'].apply(lambda x: \"оплата\" in str(x).lower())]\n",
    "expense['Unnamed: 6'].value_counts()"
   ],
   "metadata": {
    "collapsed": false,
    "ExecuteTime": {
     "end_time": "2023-11-24T13:44:12.315470Z",
     "start_time": "2023-11-24T13:44:12.258458500Z"
    }
   },
   "id": "ed4bb3114fd83c6b"
  },
  {
   "cell_type": "code",
   "execution_count": 146,
   "outputs": [],
   "source": [
    "expense = expense.drop(columns=[\"Unnamed: 0\", \"Unnamed: 3\", \"Unnamed: 8\", \"Unnamed: 11\"], axis=1)"
   ],
   "metadata": {
    "collapsed": false,
    "ExecuteTime": {
     "end_time": "2023-11-24T13:44:14.080346700Z",
     "start_time": "2023-11-24T13:44:14.059347400Z"
    }
   },
   "id": "848b83ec713e7cf"
  },
  {
   "cell_type": "code",
   "execution_count": 147,
   "outputs": [
    {
     "data": {
      "text/plain": "      year                                              smeta      code  \\\n24    2016  Смета Аппарата Дальневосточного ГУ Банка Росси...  132.0111   \n25    2016  Смета Аппарата Дальневосточного ГУ Банка Росси...  132.0111   \n26    2016  Смета Аппарата Дальневосточного ГУ Банка Росси...  132.0111   \n27    2016  Смета Аппарата Дальневосточного ГУ Банка Росси...  132.0111   \n28    2016  Смета Аппарата Дальневосточного ГУ Банка Росси...  132.0111   \n...    ...                                                ...       ...   \n3714  2021                       Столовая Отделения Хабаровск  134.1000   \n3715  2021                       Столовая Отделения Хабаровск  134.1000   \n3716  2021                       Столовая Отделения Хабаровск  134.1000   \n3717  2021                       Столовая Отделения Хабаровск  134.1000   \n3718  2021                       Столовая Отделения Хабаровск  134.1000   \n\n                code2                                rashod_name  \\\n24    132.0111.000000          Оплата потребления электроэнергии   \n25    132.0111.000000          Оплата потребления электроэнергии   \n26    132.0111.000000          Оплата потребления электроэнергии   \n27    132.0111.000000          Оплата потребления электроэнергии   \n28    132.0111.000000          Оплата потребления электроэнергии   \n...               ...                                        ...   \n3714  134.1000.030000  Оплата услуг водоснабжения, водоотведения   \n3715  134.1000.030000  Оплата услуг водоснабжения, водоотведения   \n3716  134.1000.030000  Оплата услуг водоснабжения, водоотведения   \n3717  134.1000.030000  Оплата услуг водоснабжения, водоотведения   \n3718  134.1000.030000  Оплата услуг водоснабжения, водоотведения   \n\n                                            naprvalenie         y1         y2  \n24    Расходы прошлого года. Оплата потребления элек...    9498.58    9498.58  \n25    Расходы прошлого года. Оплата потребления элек...    9498.58    9498.58  \n26    Расходы прошлого года. Оплата потребления элек...   16294.01   16294.01  \n27    Расходы прошлого года. Оплата потребления элек...   16294.01   16294.01  \n28    Оплата потребления электроэнергии ул.Светланск...  304853.05  304853.05  \n...                                                 ...        ...        ...  \n3714  ЗО 134.1000.03 Столовая Хабаровск. Оплата за в...     400.93     400.93  \n3715  ЗО 134.1000.03 Столовая Хабаровск. Оплата за х...     380.25     380.25  \n3716  ЗО 134.1000.03 Столовая Хабаровск. Оплата за х...     380.25     380.25  \n3717  ЗО 134.1000.03 Столовая Хабаровск. Оплата за х...    2081.38    2081.38  \n3718  ЗО 134.1000.03 Столовая Хабаровск. Оплата за х...    2081.38    2081.38  \n\n[14660 rows x 8 columns]",
      "text/html": "<div>\n<style scoped>\n    .dataframe tbody tr th:only-of-type {\n        vertical-align: middle;\n    }\n\n    .dataframe tbody tr th {\n        vertical-align: top;\n    }\n\n    .dataframe thead th {\n        text-align: right;\n    }\n</style>\n<table border=\"1\" class=\"dataframe\">\n  <thead>\n    <tr style=\"text-align: right;\">\n      <th></th>\n      <th>year</th>\n      <th>smeta</th>\n      <th>code</th>\n      <th>code2</th>\n      <th>rashod_name</th>\n      <th>naprvalenie</th>\n      <th>y1</th>\n      <th>y2</th>\n    </tr>\n  </thead>\n  <tbody>\n    <tr>\n      <th>24</th>\n      <td>2016</td>\n      <td>Смета Аппарата Дальневосточного ГУ Банка Росси...</td>\n      <td>132.0111</td>\n      <td>132.0111.000000</td>\n      <td>Оплата потребления электроэнергии</td>\n      <td>Расходы прошлого года. Оплата потребления элек...</td>\n      <td>9498.58</td>\n      <td>9498.58</td>\n    </tr>\n    <tr>\n      <th>25</th>\n      <td>2016</td>\n      <td>Смета Аппарата Дальневосточного ГУ Банка Росси...</td>\n      <td>132.0111</td>\n      <td>132.0111.000000</td>\n      <td>Оплата потребления электроэнергии</td>\n      <td>Расходы прошлого года. Оплата потребления элек...</td>\n      <td>9498.58</td>\n      <td>9498.58</td>\n    </tr>\n    <tr>\n      <th>26</th>\n      <td>2016</td>\n      <td>Смета Аппарата Дальневосточного ГУ Банка Росси...</td>\n      <td>132.0111</td>\n      <td>132.0111.000000</td>\n      <td>Оплата потребления электроэнергии</td>\n      <td>Расходы прошлого года. Оплата потребления элек...</td>\n      <td>16294.01</td>\n      <td>16294.01</td>\n    </tr>\n    <tr>\n      <th>27</th>\n      <td>2016</td>\n      <td>Смета Аппарата Дальневосточного ГУ Банка Росси...</td>\n      <td>132.0111</td>\n      <td>132.0111.000000</td>\n      <td>Оплата потребления электроэнергии</td>\n      <td>Расходы прошлого года. Оплата потребления элек...</td>\n      <td>16294.01</td>\n      <td>16294.01</td>\n    </tr>\n    <tr>\n      <th>28</th>\n      <td>2016</td>\n      <td>Смета Аппарата Дальневосточного ГУ Банка Росси...</td>\n      <td>132.0111</td>\n      <td>132.0111.000000</td>\n      <td>Оплата потребления электроэнергии</td>\n      <td>Оплата потребления электроэнергии ул.Светланск...</td>\n      <td>304853.05</td>\n      <td>304853.05</td>\n    </tr>\n    <tr>\n      <th>...</th>\n      <td>...</td>\n      <td>...</td>\n      <td>...</td>\n      <td>...</td>\n      <td>...</td>\n      <td>...</td>\n      <td>...</td>\n      <td>...</td>\n    </tr>\n    <tr>\n      <th>3714</th>\n      <td>2021</td>\n      <td>Столовая Отделения Хабаровск</td>\n      <td>134.1000</td>\n      <td>134.1000.030000</td>\n      <td>Оплата услуг водоснабжения, водоотведения</td>\n      <td>ЗО 134.1000.03 Столовая Хабаровск. Оплата за в...</td>\n      <td>400.93</td>\n      <td>400.93</td>\n    </tr>\n    <tr>\n      <th>3715</th>\n      <td>2021</td>\n      <td>Столовая Отделения Хабаровск</td>\n      <td>134.1000</td>\n      <td>134.1000.030000</td>\n      <td>Оплата услуг водоснабжения, водоотведения</td>\n      <td>ЗО 134.1000.03 Столовая Хабаровск. Оплата за х...</td>\n      <td>380.25</td>\n      <td>380.25</td>\n    </tr>\n    <tr>\n      <th>3716</th>\n      <td>2021</td>\n      <td>Столовая Отделения Хабаровск</td>\n      <td>134.1000</td>\n      <td>134.1000.030000</td>\n      <td>Оплата услуг водоснабжения, водоотведения</td>\n      <td>ЗО 134.1000.03 Столовая Хабаровск. Оплата за х...</td>\n      <td>380.25</td>\n      <td>380.25</td>\n    </tr>\n    <tr>\n      <th>3717</th>\n      <td>2021</td>\n      <td>Столовая Отделения Хабаровск</td>\n      <td>134.1000</td>\n      <td>134.1000.030000</td>\n      <td>Оплата услуг водоснабжения, водоотведения</td>\n      <td>ЗО 134.1000.03 Столовая Хабаровск. Оплата за х...</td>\n      <td>2081.38</td>\n      <td>2081.38</td>\n    </tr>\n    <tr>\n      <th>3718</th>\n      <td>2021</td>\n      <td>Столовая Отделения Хабаровск</td>\n      <td>134.1000</td>\n      <td>134.1000.030000</td>\n      <td>Оплата услуг водоснабжения, водоотведения</td>\n      <td>ЗО 134.1000.03 Столовая Хабаровск. Оплата за х...</td>\n      <td>2081.38</td>\n      <td>2081.38</td>\n    </tr>\n  </tbody>\n</table>\n<p>14660 rows × 8 columns</p>\n</div>"
     },
     "execution_count": 147,
     "metadata": {},
     "output_type": "execute_result"
    }
   ],
   "source": [
    "\n",
    "#expense = expense.drop((expense['Unnamed: 7'].apply(lambda x: '132.' in str(x) or pd.isna(x))).index)\n",
    "expense.dropna(subset=['Unnamed: 7'], inplace=True)\n",
    "expense = expense.drop(expense[expense['Unnamed: 7'].apply(\n",
    "    lambda x: len(str(x).split()) == 1 and (\"132.\" in str(x).lower() or \"134.\" in str(x).lower()))].index)\n",
    "expense.columns = ['year', 'smeta', 'code', 'code2', 'rashod_name', 'naprvalenie', 'y1', 'y2']\n",
    "expense"
   ],
   "metadata": {
    "collapsed": false,
    "ExecuteTime": {
     "end_time": "2023-11-24T13:44:14.931168900Z",
     "start_time": "2023-11-24T13:44:14.853557300Z"
    }
   },
   "id": "6af5f44cc7ff81c1"
  },
  {
   "cell_type": "code",
   "execution_count": 281,
   "outputs": [
    {
     "data": {
      "text/plain": "      year                                              smeta      code  \\\n24    2016  Смета Аппарата Дальневосточного ГУ Банка Росси...  132.0111   \n25    2016  Смета Аппарата Дальневосточного ГУ Банка Росси...  132.0111   \n26    2016  Смета Аппарата Дальневосточного ГУ Банка Росси...  132.0111   \n27    2016  Смета Аппарата Дальневосточного ГУ Банка Росси...  132.0111   \n28    2016  Смета Аппарата Дальневосточного ГУ Банка Росси...  132.0111   \n...    ...                                                ...       ...   \n3714  2021                       Столовая Отделения Хабаровск  134.1000   \n3715  2021                       Столовая Отделения Хабаровск  134.1000   \n3716  2021                       Столовая Отделения Хабаровск  134.1000   \n3717  2021                       Столовая Отделения Хабаровск  134.1000   \n3718  2021                       Столовая Отделения Хабаровск  134.1000   \n\n                code2                                rashod_name  \\\n24    132.0111.000000          Оплата потребления электроэнергии   \n25    132.0111.000000          Оплата потребления электроэнергии   \n26    132.0111.000000          Оплата потребления электроэнергии   \n27    132.0111.000000          Оплата потребления электроэнергии   \n28    132.0111.000000          Оплата потребления электроэнергии   \n...               ...                                        ...   \n3714  134.1000.030000  Оплата услуг водоснабжения, водоотведения   \n3715  134.1000.030000  Оплата услуг водоснабжения, водоотведения   \n3716  134.1000.030000  Оплата услуг водоснабжения, водоотведения   \n3717  134.1000.030000  Оплата услуг водоснабжения, водоотведения   \n3718  134.1000.030000  Оплата услуг водоснабжения, водоотведения   \n\n                                            naprvalenie         y1         y2  \\\n24    расходы прошлого года. оплата потребления элек...    9498.58    9498.58   \n25    расходы прошлого года. оплата потребления элек...    9498.58    9498.58   \n26    расходы прошлого года. оплата потребления элек...   16294.01   16294.01   \n27    расходы прошлого года. оплата потребления элек...   16294.01   16294.01   \n28    оплата потребления электроэнергии ул.светланск...  304853.05  304853.05   \n...                                                 ...        ...        ...   \n3714  зо 134.1000.03 столовая хабаровск. оплата за в...     400.93     400.93   \n3715  зо 134.1000.03 столовая хабаровск. оплата за х...     380.25     380.25   \n3716  зо 134.1000.03 столовая хабаровск. оплата за х...     380.25     380.25   \n3717  зо 134.1000.03 столовая хабаровск. оплата за х...    2081.38    2081.38   \n3718  зо 134.1000.03 столовая хабаровск. оплата за х...    2081.38    2081.38   \n\n      id  \n24    -1  \n25    -1  \n26    -1  \n27    -1  \n28    -1  \n...   ..  \n3714  -1  \n3715  -1  \n3716  -1  \n3717  -1  \n3718  -1  \n\n[14660 rows x 9 columns]",
      "text/html": "<div>\n<style scoped>\n    .dataframe tbody tr th:only-of-type {\n        vertical-align: middle;\n    }\n\n    .dataframe tbody tr th {\n        vertical-align: top;\n    }\n\n    .dataframe thead th {\n        text-align: right;\n    }\n</style>\n<table border=\"1\" class=\"dataframe\">\n  <thead>\n    <tr style=\"text-align: right;\">\n      <th></th>\n      <th>year</th>\n      <th>smeta</th>\n      <th>code</th>\n      <th>code2</th>\n      <th>rashod_name</th>\n      <th>naprvalenie</th>\n      <th>y1</th>\n      <th>y2</th>\n      <th>id</th>\n    </tr>\n  </thead>\n  <tbody>\n    <tr>\n      <th>24</th>\n      <td>2016</td>\n      <td>Смета Аппарата Дальневосточного ГУ Банка Росси...</td>\n      <td>132.0111</td>\n      <td>132.0111.000000</td>\n      <td>Оплата потребления электроэнергии</td>\n      <td>расходы прошлого года. оплата потребления элек...</td>\n      <td>9498.58</td>\n      <td>9498.58</td>\n      <td>-1</td>\n    </tr>\n    <tr>\n      <th>25</th>\n      <td>2016</td>\n      <td>Смета Аппарата Дальневосточного ГУ Банка Росси...</td>\n      <td>132.0111</td>\n      <td>132.0111.000000</td>\n      <td>Оплата потребления электроэнергии</td>\n      <td>расходы прошлого года. оплата потребления элек...</td>\n      <td>9498.58</td>\n      <td>9498.58</td>\n      <td>-1</td>\n    </tr>\n    <tr>\n      <th>26</th>\n      <td>2016</td>\n      <td>Смета Аппарата Дальневосточного ГУ Банка Росси...</td>\n      <td>132.0111</td>\n      <td>132.0111.000000</td>\n      <td>Оплата потребления электроэнергии</td>\n      <td>расходы прошлого года. оплата потребления элек...</td>\n      <td>16294.01</td>\n      <td>16294.01</td>\n      <td>-1</td>\n    </tr>\n    <tr>\n      <th>27</th>\n      <td>2016</td>\n      <td>Смета Аппарата Дальневосточного ГУ Банка Росси...</td>\n      <td>132.0111</td>\n      <td>132.0111.000000</td>\n      <td>Оплата потребления электроэнергии</td>\n      <td>расходы прошлого года. оплата потребления элек...</td>\n      <td>16294.01</td>\n      <td>16294.01</td>\n      <td>-1</td>\n    </tr>\n    <tr>\n      <th>28</th>\n      <td>2016</td>\n      <td>Смета Аппарата Дальневосточного ГУ Банка Росси...</td>\n      <td>132.0111</td>\n      <td>132.0111.000000</td>\n      <td>Оплата потребления электроэнергии</td>\n      <td>оплата потребления электроэнергии ул.светланск...</td>\n      <td>304853.05</td>\n      <td>304853.05</td>\n      <td>-1</td>\n    </tr>\n    <tr>\n      <th>...</th>\n      <td>...</td>\n      <td>...</td>\n      <td>...</td>\n      <td>...</td>\n      <td>...</td>\n      <td>...</td>\n      <td>...</td>\n      <td>...</td>\n      <td>...</td>\n    </tr>\n    <tr>\n      <th>3714</th>\n      <td>2021</td>\n      <td>Столовая Отделения Хабаровск</td>\n      <td>134.1000</td>\n      <td>134.1000.030000</td>\n      <td>Оплата услуг водоснабжения, водоотведения</td>\n      <td>зо 134.1000.03 столовая хабаровск. оплата за в...</td>\n      <td>400.93</td>\n      <td>400.93</td>\n      <td>-1</td>\n    </tr>\n    <tr>\n      <th>3715</th>\n      <td>2021</td>\n      <td>Столовая Отделения Хабаровск</td>\n      <td>134.1000</td>\n      <td>134.1000.030000</td>\n      <td>Оплата услуг водоснабжения, водоотведения</td>\n      <td>зо 134.1000.03 столовая хабаровск. оплата за х...</td>\n      <td>380.25</td>\n      <td>380.25</td>\n      <td>-1</td>\n    </tr>\n    <tr>\n      <th>3716</th>\n      <td>2021</td>\n      <td>Столовая Отделения Хабаровск</td>\n      <td>134.1000</td>\n      <td>134.1000.030000</td>\n      <td>Оплата услуг водоснабжения, водоотведения</td>\n      <td>зо 134.1000.03 столовая хабаровск. оплата за х...</td>\n      <td>380.25</td>\n      <td>380.25</td>\n      <td>-1</td>\n    </tr>\n    <tr>\n      <th>3717</th>\n      <td>2021</td>\n      <td>Столовая Отделения Хабаровск</td>\n      <td>134.1000</td>\n      <td>134.1000.030000</td>\n      <td>Оплата услуг водоснабжения, водоотведения</td>\n      <td>зо 134.1000.03 столовая хабаровск. оплата за х...</td>\n      <td>2081.38</td>\n      <td>2081.38</td>\n      <td>-1</td>\n    </tr>\n    <tr>\n      <th>3718</th>\n      <td>2021</td>\n      <td>Столовая Отделения Хабаровск</td>\n      <td>134.1000</td>\n      <td>134.1000.030000</td>\n      <td>Оплата услуг водоснабжения, водоотведения</td>\n      <td>зо 134.1000.03 столовая хабаровск. оплата за х...</td>\n      <td>2081.38</td>\n      <td>2081.38</td>\n      <td>-1</td>\n    </tr>\n  </tbody>\n</table>\n<p>14660 rows × 9 columns</p>\n</div>"
     },
     "execution_count": 281,
     "metadata": {},
     "output_type": "execute_result"
    }
   ],
   "source": [
    "from difflib import SequenceMatcher\n",
    "from fuzzywuzzy import fuzz\n",
    "expense[\"naprvalenie\"] = expense[\"naprvalenie\"].apply(lambda x: x.lower())\n",
    "\n",
    "expense[\"id\"] = -1\n",
    "expense"
   ],
   "metadata": {
    "collapsed": false,
    "ExecuteTime": {
     "end_time": "2023-11-24T18:59:28.133525100Z",
     "start_time": "2023-11-24T18:59:28.088523600Z"
    }
   },
   "id": "ecb68d78c7d7ac43"
  },
  {
   "cell_type": "code",
   "execution_count": 155,
   "outputs": [
    {
     "data": {
      "text/plain": "[222,\n 285,\n 678,\n 301,\n 678,\n 678,\n 216,\n 188,\n 354,\n 175,\n 678,\n 301,\n 215,\n 222,\n 175,\n 513,\n 534,\n 678,\n 678,\n 432,\n 172,\n 388,\n 467,\n 678,\n 513,\n 187,\n 222,\n 30,\n 185,\n 298,\n 394,\n 394,\n 222,\n 534,\n 222,\n 222,\n 636,\n 233,\n 185,\n 394,\n 534,\n 222,\n 187,\n 298,\n 28,\n 210,\n 513,\n 222,\n 194,\n 239,\n 195,\n 285,\n 235,\n 195,\n 239,\n 239,\n 239,\n 195,\n 195,\n 285,\n 246,\n 190,\n 406,\n 192,\n 436,\n 192,\n 513,\n 245,\n 202,\n 190,\n 202,\n 192,\n 52,\n 44,\n 38,\n 10,\n 27,\n 17,\n 8,\n 38,\n 7,\n 28,\n 369,\n 239,\n 10,\n 17,\n 27,\n 38,\n 7,\n 8,\n 203,\n 28,\n 9,\n 2,\n 10,\n 24,\n 10,\n 17,\n 26,\n 24,\n 0,\n 513,\n 6,\n 28,\n 8,\n 8,\n 8,\n 8,\n 19,\n 17,\n 22,\n 25,\n 25,\n 24,\n 0,\n 17,\n 27,\n 22,\n 24,\n 4,\n 20,\n 28,\n 28,\n 19,\n 19,\n 17,\n 17,\n 8,\n 8,\n 0,\n 0,\n 30,\n 30,\n 192,\n 287,\n 52,\n 215,\n 301,\n 513,\n 53,\n 222,\n 58,\n 631,\n 254,\n 285,\n 301,\n 301,\n 301,\n 374,\n 298,\n 111,\n 513,\n 114,\n 111,\n 513,\n 192,\n 398,\n 75,\n 103,\n 398,\n 75,\n 398,\n 297,\n 297,\n 639,\n 371,\n 285,\n 32,\n 222,\n 222,\n 287,\n 210,\n 512,\n 222,\n 222,\n 222,\n 301,\n 645,\n 415,\n 285,\n 235,\n 386,\n 58,\n 301,\n 298,\n 172,\n 172,\n 502,\n 395,\n 162,\n 301,\n 172,\n 176,\n 239,\n 186,\n 327,\n 172,\n 172,\n 161,\n 160,\n 561,\n 162,\n 176,\n 172,\n 158,\n 192,\n 545,\n 545,\n 192,\n 545,\n 53,\n 161,\n 172,\n 545,\n 498,\n 394,\n 394,\n 577,\n 374,\n 182,\n 31,\n 504,\n 182,\n 165,\n 222,\n 407,\n 190,\n 285,\n 301,\n 301,\n 406,\n 388,\n 397,\n 399,\n 414,\n 407,\n 310,\n 406,\n 433,\n 433,\n 636,\n 377,\n 433,\n 545,\n 380,\n 388,\n 385,\n 393,\n 48,\n 190,\n 222,\n 301,\n 233,\n 301,\n 620,\n 301,\n 487,\n 369,\n 369,\n 215,\n 190,\n 379,\n 427,\n 427,\n 285,\n 620,\n 285,\n 424,\n 439,\n 513,\n 386,\n 285,\n 16,\n 427,\n 427,\n 16,\n 616,\n 424,\n 16,\n 16,\n 423,\n 471,\n 427,\n 427,\n 427,\n 392,\n 616,\n 424,\n 172,\n 379,\n 203,\n 203,\n 185,\n 618,\n 30,\n 22,\n 427,\n 298,\n 5,\n 5,\n 205,\n 427,\n 22,\n 38,\n 5,\n 332,\n 427,\n 427,\n 618,\n 381,\n 423,\n 30,\n 30,\n 379,\n 461,\n 30,\n 619,\n 461,\n 423,\n 222,\n 421,\n 421,\n 421,\n 421,\n 421,\n 421,\n 16,\n 16,\n 215,\n 282,\n 16,\n 245,\n 30,\n 190,\n 285,\n 285,\n 493,\n 497,\n 285,\n 285,\n 490,\n 285,\n 172,\n 301,\n 301,\n 493,\n 497,\n 496,\n 490,\n 210,\n 301,\n 301,\n 301,\n 215,\n 437,\n 513,\n 513,\n 388,\n 388,\n 513,\n 16,\n 205,\n 28,\n 493,\n 493,\n 239,\n 16,\n 233,\n 513,\n 513,\n 30,\n 30,\n 30,\n 58,\n 28,\n 28,\n 28,\n 493,\n 498,\n 5,\n 489,\n 31,\n 30,\n 31,\n 5,\n 5,\n 30,\n 30,\n 30,\n 489,\n 285,\n 534,\n 513,\n 510,\n 683,\n 28,\n 222,\n 287,\n 501,\n 501,\n 56,\n 222,\n 222,\n 301,\n 285,\n 497,\n 185,\n 58,\n 185,\n 639,\n 504,\n 301,\n 215,\n 504,\n 186,\n 504,\n 505,\n 504,\n 215,\n 301,\n 301,\n 298,\n 330,\n 285,\n 301,\n 368,\n 316,\n 312,\n 312,\n 192,\n 504,\n 327,\n 539,\n 606,\n 539,\n 606,\n 192,\n 606,\n 190,\n 327,\n 327,\n 618,\n 190,\n 172,\n 279,\n 360,\n 203,\n 190,\n 309,\n 309,\n 309,\n 190,\n 347,\n 619,\n 327,\n 619,\n 327,\n 298,\n 325,\n 354,\n 354,\n 354,\n 504,\n 356,\n 187,\n 393,\n 683,\n 301,\n 534,\n 681,\n 681,\n 301,\n 210,\n 678,\n 678,\n 222,\n 222,\n 433,\n 222,\n 10,\n 10,\n 23,\n 25,\n 10,\n 683,\n 633,\n 222,\n 222,\n 222,\n 172,\n 381,\n 178,\n 498,\n 301,\n 369,\n 427,\n 16,\n 427,\n 427,\n 392,\n 30,\n 5,\n 5,\n 38,\n 5,\n 5,\n 30,\n 30,\n 301,\n 222,\n 205,\n 300,\n 194,\n 406,\n 294,\n 210,\n 371,\n 61,\n 301,\n 504,\n 374,\n 16,\n 222,\n 186,\n 285,\n 301,\n 248,\n 294,\n 285,\n 285,\n 247,\n 285,\n 285,\n 254,\n 285,\n 16,\n 252,\n 222,\n 285,\n 248,\n 203,\n 293,\n 172,\n 16,\n 16,\n 239,\n 35,\n 513,\n 248,\n 56,\n 203,\n 203,\n 203,\n 203,\n 222,\n 636,\n 203,\n 192,\n 203,\n 222,\n 40,\n 249,\n 222,\n 56,\n 406,\n 533,\n 619,\n 297,\n 196,\n 30,\n 619,\n 52,\n 37,\n 329,\n 35,\n 222,\n 237,\n 30,\n 5,\n 30,\n 0,\n 0,\n 706,\n 706,\n 748,\n 5,\n 239,\n 30,\n 239,\n 745,\n 750,\n 718,\n 10,\n 804,\n 804,\n 30,\n 1017,\n 810,\n 30,\n 5,\n 75,\n 316,\n 75,\n 285,\n 819,\n 840,\n 0,\n 30,\n 5,\n 301,\n 332,\n 606,\n 332,\n 606,\n 606,\n 619,\n 976,\n 14,\n 380,\n 838,\n 818,\n 30,\n 30,\n 848,\n 618,\n 619,\n 810,\n 619,\n 6,\n 810,\n 504,\n 504,\n 504,\n 732,\n 5,\n 30,\n 114,\n 1014,\n 10,\n 300,\n 31,\n 810,\n -1,\n -1,\n -1,\n -1,\n -1,\n -1,\n -1,\n -1,\n 1542,\n -1,\n -1,\n -1,\n -1,\n -1,\n -1,\n -1,\n -1,\n -1,\n -1,\n 1800,\n -1,\n -1,\n -1,\n -1,\n 2101,\n -1,\n -1,\n 1800,\n -1,\n -1,\n -1,\n 2101,\n -1,\n -1,\n -1,\n -1,\n 2101,\n -1,\n 1800,\n 1800,\n 2157,\n -1,\n -1,\n -1,\n -1,\n -1,\n -1,\n 1542,\n 1800,\n -1,\n -1,\n -1,\n -1,\n -1,\n -1,\n -1,\n -1,\n -1,\n -1,\n -1,\n -1,\n -1,\n -1,\n -1,\n -1,\n -1,\n 1795,\n 1795,\n -1,\n -1,\n -1,\n 1795,\n 1795,\n -1,\n -1,\n -1,\n -1,\n -1,\n -1,\n -1,\n -1,\n -1,\n 1802,\n -1,\n -1,\n -1,\n 1802,\n -1,\n -1,\n -1,\n -1,\n -1,\n -1,\n -1,\n -1,\n -1,\n -1,\n -1,\n -1,\n -1,\n -1,\n -1,\n -1,\n -1,\n -1,\n -1,\n 1800,\n 1800,\n -1,\n -1,\n -1,\n -1,\n -1,\n -1,\n -1,\n -1,\n 1638,\n -1,\n -1,\n 1800,\n 1800,\n -1,\n -1,\n -1,\n 2029,\n 2029,\n 1876,\n -1,\n -1,\n 1876,\n -1,\n 1876,\n 2029,\n 2029,\n -1,\n -1,\n 2029,\n 1876,\n -1,\n -1,\n -1,\n -1,\n 1876,\n 2029,\n -1,\n -1,\n 2096,\n -1,\n -1,\n -1,\n 2096,\n -1,\n -1,\n -1,\n -1,\n -1,\n 1469,\n 2096,\n -1,\n -1,\n -1,\n 2027,\n 2096,\n -1,\n -1,\n 2096,\n -1,\n -1,\n -1,\n -1,\n -1,\n -1,\n -1,\n -1,\n -1,\n -1,\n -1,\n -1,\n -1,\n -1,\n -1,\n -1,\n -1,\n -1,\n -1,\n -1,\n -1,\n -1,\n -1,\n -1,\n -1,\n -1,\n -1,\n -1,\n 1903,\n -1,\n -1,\n -1,\n -1,\n -1,\n -1,\n -1,\n -1,\n -1,\n -1,\n -1,\n -1,\n -1,\n -1,\n 1903,\n 1903,\n -1,\n -1,\n -1,\n 1903,\n -1,\n 1903,\n -1,\n -1,\n -1,\n -1,\n -1,\n -1,\n -1,\n -1,\n -1,\n -1,\n -1,\n -1,\n -1,\n -1,\n 1903,\n -1,\n -1,\n -1,\n -1,\n -1,\n -1,\n -1,\n -1,\n -1,\n -1,\n -1,\n -1,\n -1,\n -1,\n -1,\n -1,\n -1,\n -1,\n -1,\n 1942,\n -1,\n -1,\n 1942,\n -1,\n -1,\n -1,\n -1,\n -1,\n 2157,\n -1,\n -1,\n -1,\n -1,\n -1,\n -1,\n 1802,\n -1,\n -1,\n 1802,\n -1,\n -1,\n 1638,\n 1638,\n -1,\n -1,\n -1,\n -1,\n -1,\n -1,\n -1,\n -1,\n 1638,\n 1638,\n -1,\n 1621,\n 1621,\n -1,\n -1,\n -1,\n -1,\n -1,\n -1,\n -1,\n -1,\n -1,\n 1621,\n 1621,\n -1,\n 1621,\n 1621,\n -1,\n -1,\n -1,\n -1,\n -1,\n -1,\n -1,\n -1,\n -1,\n 1621,\n 1621,\n -1,\n -1,\n -1,\n -1,\n -1,\n -1,\n -1,\n -1,\n -1,\n -1,\n -1,\n -1,\n -1,\n -1,\n -1,\n -1,\n -1,\n -1,\n -1,\n -1,\n -1,\n -1,\n -1,\n -1,\n -1,\n -1,\n -1,\n -1,\n -1,\n -1,\n -1,\n -1,\n -1,\n -1,\n -1,\n -1,\n -1,\n -1,\n -1,\n -1,\n -1,\n 1589,\n -1,\n 1538,\n -1,\n ...]"
     },
     "execution_count": 155,
     "metadata": {},
     "output_type": "execute_result"
    }
   ],
   "source": [
    "indexes"
   ],
   "metadata": {
    "collapsed": false,
    "ExecuteTime": {
     "end_time": "2023-11-24T14:47:59.002463Z",
     "start_time": "2023-11-24T14:47:58.992465200Z"
    }
   },
   "id": "913ee733c1473be5"
  },
  {
   "cell_type": "code",
   "execution_count": 157,
   "outputs": [
    {
     "data": {
      "text/plain": "-1      2836\n 222     890\n 301     802\n 513     448\n 210     429\n        ... \n 437       2\n 633       2\n 252       2\n 247       2\n 279       2\nName: id, Length: 201, dtype: int64"
     },
     "execution_count": 157,
     "metadata": {},
     "output_type": "execute_result"
    }
   ],
   "source": [
    "expense['id'].value_counts()"
   ],
   "metadata": {
    "collapsed": false,
    "ExecuteTime": {
     "end_time": "2023-11-24T14:48:43.552394700Z",
     "start_time": "2023-11-24T14:48:43.531395600Z"
    }
   },
   "id": "fe10ac86597c9a6c"
  },
  {
   "cell_type": "code",
   "execution_count": 283,
   "outputs": [],
   "source": [
    "expense.to_csv(\"expenses.csv\", index=False)"
   ],
   "metadata": {
    "collapsed": false,
    "ExecuteTime": {
     "end_time": "2023-11-24T19:00:11.048345700Z",
     "start_time": "2023-11-24T19:00:10.931349Z"
    }
   },
   "id": "79823105485dfee3"
  },
  {
   "cell_type": "code",
   "execution_count": 251,
   "outputs": [],
   "source": [
    "files = os.listdir(\"KC_TR_KR\")"
   ],
   "metadata": {
    "collapsed": false,
    "ExecuteTime": {
     "end_time": "2023-11-24T17:44:18.239627Z",
     "start_time": "2023-11-24T17:44:18.223627400Z"
    }
   },
   "id": "f7f4914f981798cc"
  },
  {
   "cell_type": "code",
   "execution_count": 257,
   "outputs": [],
   "source": [
    "kr = pd.read_excel(\"KC_TR_KR/KR on 01.01.2017.xlsx\", header=None)\n",
    "ks = pd.read_excel(\"KC_TR_KR/KS on 01.01.2017.xlsx\", header=None)\n",
    "tr = pd.read_excel(\"KC_TR_KR/TR on 01.01.2019.xlsx\", header=None)"
   ],
   "metadata": {
    "collapsed": false,
    "ExecuteTime": {
     "end_time": "2023-11-24T17:45:48.680127600Z",
     "start_time": "2023-11-24T17:45:48.613128200Z"
    }
   },
   "id": "88753676520b0931"
  },
  {
   "cell_type": "code",
   "execution_count": 258,
   "outputs": [
    {
     "name": "stdout",
     "output_type": "stream",
     "text": [
      "KR on 01.01.2018.xlsx\n",
      "KR on 01.01.2019.xlsx\n",
      "KR on 01.01.2020.xlsx\n",
      "KR on 01.01.2021.xlsx\n",
      "KR on 01.01.2022.xlsx\n",
      "KR on 01.01.2023.xlsx\n"
     ]
    },
    {
     "data": {
      "text/plain": "                                                    0            1     2  \\\n0   Капитальный ремонт подземного сооружения (Лит....      4088.43  2017   \n1   Капитальный ремонт здания РКЦ Находка, располо...     19001.91  2017   \n2   Капитальный ремонт гаража по адресу: Амурская ...     13677.35  2017   \n3   Выборочный капитальный ремонт административног...     18034.12  2017   \n4   Выборочный капитальный ремонт административног...       448.72  2017   \n..                                                ...          ...   ...   \n10  Капитальный ремонт кровли с устройством электр...  15992094.00  2023   \n11  Выборочный капитальный ремонт крыльца централь...   3480781.00  2023   \n12  Выборочный капитальный ремонт помещений №№60, ...   3507454.00  2023   \n13  Выборочный капитальный ремонт Административног...   1256612.00  2023   \n14  Выборочный капитальный ремонт Административног...    356108.00  2023   \n\n                     3  \n0   Капитальный ремонт  \n1   Капитальный ремонт  \n2   Капитальный ремонт  \n3   Капитальный ремонт  \n4   Капитальный ремонт  \n..                 ...  \n10  Капитальный ремонт  \n11  Капитальный ремонт  \n12  Капитальный ремонт  \n13  Капитальный ремонт  \n14  Капитальный ремонт  \n\n[141 rows x 4 columns]",
      "text/html": "<div>\n<style scoped>\n    .dataframe tbody tr th:only-of-type {\n        vertical-align: middle;\n    }\n\n    .dataframe tbody tr th {\n        vertical-align: top;\n    }\n\n    .dataframe thead th {\n        text-align: right;\n    }\n</style>\n<table border=\"1\" class=\"dataframe\">\n  <thead>\n    <tr style=\"text-align: right;\">\n      <th></th>\n      <th>0</th>\n      <th>1</th>\n      <th>2</th>\n      <th>3</th>\n    </tr>\n  </thead>\n  <tbody>\n    <tr>\n      <th>0</th>\n      <td>Капитальный ремонт подземного сооружения (Лит....</td>\n      <td>4088.43</td>\n      <td>2017</td>\n      <td>Капитальный ремонт</td>\n    </tr>\n    <tr>\n      <th>1</th>\n      <td>Капитальный ремонт здания РКЦ Находка, располо...</td>\n      <td>19001.91</td>\n      <td>2017</td>\n      <td>Капитальный ремонт</td>\n    </tr>\n    <tr>\n      <th>2</th>\n      <td>Капитальный ремонт гаража по адресу: Амурская ...</td>\n      <td>13677.35</td>\n      <td>2017</td>\n      <td>Капитальный ремонт</td>\n    </tr>\n    <tr>\n      <th>3</th>\n      <td>Выборочный капитальный ремонт административног...</td>\n      <td>18034.12</td>\n      <td>2017</td>\n      <td>Капитальный ремонт</td>\n    </tr>\n    <tr>\n      <th>4</th>\n      <td>Выборочный капитальный ремонт административног...</td>\n      <td>448.72</td>\n      <td>2017</td>\n      <td>Капитальный ремонт</td>\n    </tr>\n    <tr>\n      <th>...</th>\n      <td>...</td>\n      <td>...</td>\n      <td>...</td>\n      <td>...</td>\n    </tr>\n    <tr>\n      <th>10</th>\n      <td>Капитальный ремонт кровли с устройством электр...</td>\n      <td>15992094.00</td>\n      <td>2023</td>\n      <td>Капитальный ремонт</td>\n    </tr>\n    <tr>\n      <th>11</th>\n      <td>Выборочный капитальный ремонт крыльца централь...</td>\n      <td>3480781.00</td>\n      <td>2023</td>\n      <td>Капитальный ремонт</td>\n    </tr>\n    <tr>\n      <th>12</th>\n      <td>Выборочный капитальный ремонт помещений №№60, ...</td>\n      <td>3507454.00</td>\n      <td>2023</td>\n      <td>Капитальный ремонт</td>\n    </tr>\n    <tr>\n      <th>13</th>\n      <td>Выборочный капитальный ремонт Административног...</td>\n      <td>1256612.00</td>\n      <td>2023</td>\n      <td>Капитальный ремонт</td>\n    </tr>\n    <tr>\n      <th>14</th>\n      <td>Выборочный капитальный ремонт Административног...</td>\n      <td>356108.00</td>\n      <td>2023</td>\n      <td>Капитальный ремонт</td>\n    </tr>\n  </tbody>\n</table>\n<p>141 rows × 4 columns</p>\n</div>"
     },
     "execution_count": 258,
     "metadata": {},
     "output_type": "execute_result"
    }
   ],
   "source": [
    "for i in range(1, len(files)):\n",
    "    if i == 7:\n",
    "        break\n",
    "    file = files[i]\n",
    "    print(file)\n",
    "    year = int(file.split()[-1].split(\".\")[2])\n",
    "    sm_df = pd.read_excel(f\"KC_TR_KR/{file}\", header=None)\n",
    "    kr = pd.concat([kr, sm_df])\n",
    "kr"
   ],
   "metadata": {
    "collapsed": false,
    "ExecuteTime": {
     "end_time": "2023-11-24T17:45:48.995126200Z",
     "start_time": "2023-11-24T17:45:48.929132200Z"
    }
   },
   "id": "4d91e84ed1a426b"
  },
  {
   "cell_type": "code",
   "execution_count": 259,
   "outputs": [
    {
     "name": "stdout",
     "output_type": "stream",
     "text": [
      "KS on 01.01.2018.xlsx\n",
      "KS on 01.01.2019.xlsx\n",
      "KS on 01.01.2020.xlsx\n",
      "KS on 01.01.2021.xlsx\n",
      "KS on 01.01.2022.xlsx\n",
      "KS on 01.01.2023.xlsx\n"
     ]
    },
    {
     "data": {
      "text/plain": "                                                    0            1     2  \\\n0   Реконструкция объектов  \"Функциональное помеще...     29266.71  2017   \n1   Реконструкция здания Расчетно-кассового центра...      1778.91  2017   \n2   Строительство Административного здания №1 Наци...    333748.33  2017   \n3   Реконструкция здания Расчетно-кассового центра...       196.79  2017   \n4   Реконструкция   объекта  \"Сооружение  ливневая...     10945.44  2017   \n..                                                ...          ...   ...   \n9   Создание автоматизированной системы коммерческ...   2609976.00  2023   \n10  Создание системы электрообогрева фрагментов кр...   1714184.00  2023   \n11  Создание автоматической системы пожаротушения ...   8921488.00  2023   \n12  Создание системы кондиционирования администрат...  14255841.00  2023   \n13  Создание системы приточно-вытяжной вентиляции ...   7687106.00  2023   \n\n                            3  \n0   Капитальное строительство  \n1   Капитальное строительство  \n2   Капитальное строительство  \n3   Капитальное строительство  \n4   Капитальное строительство  \n..                        ...  \n9   Капитальное строительство  \n10  Капитальное строительство  \n11  Капитальное строительство  \n12  Капитальное строительство  \n13  Капитальное строительство  \n\n[97 rows x 4 columns]",
      "text/html": "<div>\n<style scoped>\n    .dataframe tbody tr th:only-of-type {\n        vertical-align: middle;\n    }\n\n    .dataframe tbody tr th {\n        vertical-align: top;\n    }\n\n    .dataframe thead th {\n        text-align: right;\n    }\n</style>\n<table border=\"1\" class=\"dataframe\">\n  <thead>\n    <tr style=\"text-align: right;\">\n      <th></th>\n      <th>0</th>\n      <th>1</th>\n      <th>2</th>\n      <th>3</th>\n    </tr>\n  </thead>\n  <tbody>\n    <tr>\n      <th>0</th>\n      <td>Реконструкция объектов  \"Функциональное помеще...</td>\n      <td>29266.71</td>\n      <td>2017</td>\n      <td>Капитальное строительство</td>\n    </tr>\n    <tr>\n      <th>1</th>\n      <td>Реконструкция здания Расчетно-кассового центра...</td>\n      <td>1778.91</td>\n      <td>2017</td>\n      <td>Капитальное строительство</td>\n    </tr>\n    <tr>\n      <th>2</th>\n      <td>Строительство Административного здания №1 Наци...</td>\n      <td>333748.33</td>\n      <td>2017</td>\n      <td>Капитальное строительство</td>\n    </tr>\n    <tr>\n      <th>3</th>\n      <td>Реконструкция здания Расчетно-кассового центра...</td>\n      <td>196.79</td>\n      <td>2017</td>\n      <td>Капитальное строительство</td>\n    </tr>\n    <tr>\n      <th>4</th>\n      <td>Реконструкция   объекта  \"Сооружение  ливневая...</td>\n      <td>10945.44</td>\n      <td>2017</td>\n      <td>Капитальное строительство</td>\n    </tr>\n    <tr>\n      <th>...</th>\n      <td>...</td>\n      <td>...</td>\n      <td>...</td>\n      <td>...</td>\n    </tr>\n    <tr>\n      <th>9</th>\n      <td>Создание автоматизированной системы коммерческ...</td>\n      <td>2609976.00</td>\n      <td>2023</td>\n      <td>Капитальное строительство</td>\n    </tr>\n    <tr>\n      <th>10</th>\n      <td>Создание системы электрообогрева фрагментов кр...</td>\n      <td>1714184.00</td>\n      <td>2023</td>\n      <td>Капитальное строительство</td>\n    </tr>\n    <tr>\n      <th>11</th>\n      <td>Создание автоматической системы пожаротушения ...</td>\n      <td>8921488.00</td>\n      <td>2023</td>\n      <td>Капитальное строительство</td>\n    </tr>\n    <tr>\n      <th>12</th>\n      <td>Создание системы кондиционирования администрат...</td>\n      <td>14255841.00</td>\n      <td>2023</td>\n      <td>Капитальное строительство</td>\n    </tr>\n    <tr>\n      <th>13</th>\n      <td>Создание системы приточно-вытяжной вентиляции ...</td>\n      <td>7687106.00</td>\n      <td>2023</td>\n      <td>Капитальное строительство</td>\n    </tr>\n  </tbody>\n</table>\n<p>97 rows × 4 columns</p>\n</div>"
     },
     "execution_count": 259,
     "metadata": {},
     "output_type": "execute_result"
    }
   ],
   "source": [
    "for i in range(8, len(files)):\n",
    "    if i == 14:\n",
    "        break\n",
    "    file = files[i]\n",
    "    print(file)\n",
    "    year = int(file.split()[-1].split(\".\")[2])\n",
    "    sm_df = pd.read_excel(f\"KC_TR_KR/{file}\", header=None)\n",
    "    ks = pd.concat([ks, sm_df])\n",
    "ks"
   ],
   "metadata": {
    "collapsed": false,
    "ExecuteTime": {
     "end_time": "2023-11-24T17:45:49.679183300Z",
     "start_time": "2023-11-24T17:45:49.606182800Z"
    }
   },
   "id": "b2f4d6c179810c65"
  },
  {
   "cell_type": "code",
   "execution_count": 260,
   "outputs": [
    {
     "name": "stdout",
     "output_type": "stream",
     "text": [
      "TR on 01.01.2020.xlsx\n",
      "TR on 01.01.2021.xlsx\n",
      "TR on 01.01.2022.xlsx\n",
      "TR on 01.01.2023.xlsx\n"
     ]
    },
    {
     "data": {
      "text/plain": "                                                    0        1     2  \\\n0   1. Здание- Центральный банк Российской Федерац...  1021.76  2019   \n1   2. Пятиэтажное здание (лит.А2-пристройка, Цент...   186.37  2019   \n2   3. Здание - Центральный банк Российской Федера...  1993.03  2019   \n3   4. Нежилые помещения в здании (лит 1,А). Влади...   260.80  2019   \n4   5. Нежилые помещения в здании (лит.А); номера ...    36.14  2019   \n..                                                ...      ...   ...   \n53  Здание \"Нежилое помещение\" РКЦ г. Комсомольск-...    76.67  2023   \n54  «Здание «Банк» (РКЦ г. Советская Гавань), горо...    21.00  2023   \n55  «Сеть тепловая магистральная» Хабаровский край...   224.91  2023   \n56  Здание Отделения Анадырь, по адресу: г. Анадыр...  6423.02  2023   \n57  РКЦ Эгвекинот Отделеия Анадырь, пгт Эгвекинот,...     0.00  2023   \n\n                                    3  \n0   Текущий ремонт зданий, сооружений  \n1   Текущий ремонт зданий, сооружений  \n2   Текущий ремонт зданий, сооружений  \n3   Текущий ремонт зданий, сооружений  \n4   Текущий ремонт зданий, сооружений  \n..                                ...  \n53  Текущий ремонт зданий, сооружений  \n54  Текущий ремонт зданий, сооружений  \n55  Текущий ремонт зданий, сооружений  \n56  Текущий ремонт зданий, сооружений  \n57  Текущий ремонт зданий, сооружений  \n\n[295 rows x 4 columns]",
      "text/html": "<div>\n<style scoped>\n    .dataframe tbody tr th:only-of-type {\n        vertical-align: middle;\n    }\n\n    .dataframe tbody tr th {\n        vertical-align: top;\n    }\n\n    .dataframe thead th {\n        text-align: right;\n    }\n</style>\n<table border=\"1\" class=\"dataframe\">\n  <thead>\n    <tr style=\"text-align: right;\">\n      <th></th>\n      <th>0</th>\n      <th>1</th>\n      <th>2</th>\n      <th>3</th>\n    </tr>\n  </thead>\n  <tbody>\n    <tr>\n      <th>0</th>\n      <td>1. Здание- Центральный банк Российской Федерац...</td>\n      <td>1021.76</td>\n      <td>2019</td>\n      <td>Текущий ремонт зданий, сооружений</td>\n    </tr>\n    <tr>\n      <th>1</th>\n      <td>2. Пятиэтажное здание (лит.А2-пристройка, Цент...</td>\n      <td>186.37</td>\n      <td>2019</td>\n      <td>Текущий ремонт зданий, сооружений</td>\n    </tr>\n    <tr>\n      <th>2</th>\n      <td>3. Здание - Центральный банк Российской Федера...</td>\n      <td>1993.03</td>\n      <td>2019</td>\n      <td>Текущий ремонт зданий, сооружений</td>\n    </tr>\n    <tr>\n      <th>3</th>\n      <td>4. Нежилые помещения в здании (лит 1,А). Влади...</td>\n      <td>260.80</td>\n      <td>2019</td>\n      <td>Текущий ремонт зданий, сооружений</td>\n    </tr>\n    <tr>\n      <th>4</th>\n      <td>5. Нежилые помещения в здании (лит.А); номера ...</td>\n      <td>36.14</td>\n      <td>2019</td>\n      <td>Текущий ремонт зданий, сооружений</td>\n    </tr>\n    <tr>\n      <th>...</th>\n      <td>...</td>\n      <td>...</td>\n      <td>...</td>\n      <td>...</td>\n    </tr>\n    <tr>\n      <th>53</th>\n      <td>Здание \"Нежилое помещение\" РКЦ г. Комсомольск-...</td>\n      <td>76.67</td>\n      <td>2023</td>\n      <td>Текущий ремонт зданий, сооружений</td>\n    </tr>\n    <tr>\n      <th>54</th>\n      <td>«Здание «Банк» (РКЦ г. Советская Гавань), горо...</td>\n      <td>21.00</td>\n      <td>2023</td>\n      <td>Текущий ремонт зданий, сооружений</td>\n    </tr>\n    <tr>\n      <th>55</th>\n      <td>«Сеть тепловая магистральная» Хабаровский край...</td>\n      <td>224.91</td>\n      <td>2023</td>\n      <td>Текущий ремонт зданий, сооружений</td>\n    </tr>\n    <tr>\n      <th>56</th>\n      <td>Здание Отделения Анадырь, по адресу: г. Анадыр...</td>\n      <td>6423.02</td>\n      <td>2023</td>\n      <td>Текущий ремонт зданий, сооружений</td>\n    </tr>\n    <tr>\n      <th>57</th>\n      <td>РКЦ Эгвекинот Отделеия Анадырь, пгт Эгвекинот,...</td>\n      <td>0.00</td>\n      <td>2023</td>\n      <td>Текущий ремонт зданий, сооружений</td>\n    </tr>\n  </tbody>\n</table>\n<p>295 rows × 4 columns</p>\n</div>"
     },
     "execution_count": 260,
     "metadata": {},
     "output_type": "execute_result"
    }
   ],
   "source": [
    "for i in range(15, len(files)):\n",
    "    file = files[i]\n",
    "    print(file)\n",
    "    year = int(file.split()[-1].split(\".\")[2])\n",
    "    sm_df = pd.read_excel(f\"KC_TR_KR/{file}\", header=None)\n",
    "    tr = pd.concat([tr, sm_df])\n",
    "tr"
   ],
   "metadata": {
    "collapsed": false,
    "ExecuteTime": {
     "end_time": "2023-11-24T17:45:50.200113600Z",
     "start_time": "2023-11-24T17:45:50.127115200Z"
    }
   },
   "id": "aeeed5accae6c217"
  },
  {
   "cell_type": "code",
   "execution_count": 269,
   "outputs": [
    {
     "data": {
      "text/plain": "                                                    0            1     2  \\\n0   Капитальный ремонт подземного сооружения (Лит....      4088.43  2017   \n1   Капитальный ремонт здания РКЦ Находка, располо...     19001.91  2017   \n2   Капитальный ремонт гаража по адресу: Амурская ...     13677.35  2017   \n3   Выборочный капитальный ремонт административног...     18034.12  2017   \n4   Выборочный капитальный ремонт административног...       448.72  2017   \n..                                                ...          ...   ...   \n10  Капитальный ремонт кровли с устройством электр...  15992094.00  2023   \n11  Выборочный капитальный ремонт крыльца централь...   3480781.00  2023   \n12  Выборочный капитальный ремонт помещений №№60, ...   3507454.00  2023   \n13  Выборочный капитальный ремонт Административног...   1256612.00  2023   \n14  Выборочный капитальный ремонт Административног...    356108.00  2023   \n\n                     3  id  \n0   Капитальный ремонт  -1  \n1   Капитальный ремонт  -1  \n2   Капитальный ремонт  -1  \n3   Капитальный ремонт  -1  \n4   Капитальный ремонт  -1  \n..                 ...  ..  \n10  Капитальный ремонт  -1  \n11  Капитальный ремонт  -1  \n12  Капитальный ремонт  -1  \n13  Капитальный ремонт  -1  \n14  Капитальный ремонт  -1  \n\n[141 rows x 5 columns]",
      "text/html": "<div>\n<style scoped>\n    .dataframe tbody tr th:only-of-type {\n        vertical-align: middle;\n    }\n\n    .dataframe tbody tr th {\n        vertical-align: top;\n    }\n\n    .dataframe thead th {\n        text-align: right;\n    }\n</style>\n<table border=\"1\" class=\"dataframe\">\n  <thead>\n    <tr style=\"text-align: right;\">\n      <th></th>\n      <th>0</th>\n      <th>1</th>\n      <th>2</th>\n      <th>3</th>\n      <th>id</th>\n    </tr>\n  </thead>\n  <tbody>\n    <tr>\n      <th>0</th>\n      <td>Капитальный ремонт подземного сооружения (Лит....</td>\n      <td>4088.43</td>\n      <td>2017</td>\n      <td>Капитальный ремонт</td>\n      <td>-1</td>\n    </tr>\n    <tr>\n      <th>1</th>\n      <td>Капитальный ремонт здания РКЦ Находка, располо...</td>\n      <td>19001.91</td>\n      <td>2017</td>\n      <td>Капитальный ремонт</td>\n      <td>-1</td>\n    </tr>\n    <tr>\n      <th>2</th>\n      <td>Капитальный ремонт гаража по адресу: Амурская ...</td>\n      <td>13677.35</td>\n      <td>2017</td>\n      <td>Капитальный ремонт</td>\n      <td>-1</td>\n    </tr>\n    <tr>\n      <th>3</th>\n      <td>Выборочный капитальный ремонт административног...</td>\n      <td>18034.12</td>\n      <td>2017</td>\n      <td>Капитальный ремонт</td>\n      <td>-1</td>\n    </tr>\n    <tr>\n      <th>4</th>\n      <td>Выборочный капитальный ремонт административног...</td>\n      <td>448.72</td>\n      <td>2017</td>\n      <td>Капитальный ремонт</td>\n      <td>-1</td>\n    </tr>\n    <tr>\n      <th>...</th>\n      <td>...</td>\n      <td>...</td>\n      <td>...</td>\n      <td>...</td>\n      <td>...</td>\n    </tr>\n    <tr>\n      <th>10</th>\n      <td>Капитальный ремонт кровли с устройством электр...</td>\n      <td>15992094.00</td>\n      <td>2023</td>\n      <td>Капитальный ремонт</td>\n      <td>-1</td>\n    </tr>\n    <tr>\n      <th>11</th>\n      <td>Выборочный капитальный ремонт крыльца централь...</td>\n      <td>3480781.00</td>\n      <td>2023</td>\n      <td>Капитальный ремонт</td>\n      <td>-1</td>\n    </tr>\n    <tr>\n      <th>12</th>\n      <td>Выборочный капитальный ремонт помещений №№60, ...</td>\n      <td>3507454.00</td>\n      <td>2023</td>\n      <td>Капитальный ремонт</td>\n      <td>-1</td>\n    </tr>\n    <tr>\n      <th>13</th>\n      <td>Выборочный капитальный ремонт Административног...</td>\n      <td>1256612.00</td>\n      <td>2023</td>\n      <td>Капитальный ремонт</td>\n      <td>-1</td>\n    </tr>\n    <tr>\n      <th>14</th>\n      <td>Выборочный капитальный ремонт Административног...</td>\n      <td>356108.00</td>\n      <td>2023</td>\n      <td>Капитальный ремонт</td>\n      <td>-1</td>\n    </tr>\n  </tbody>\n</table>\n<p>141 rows × 5 columns</p>\n</div>"
     },
     "execution_count": 269,
     "metadata": {},
     "output_type": "execute_result"
    }
   ],
   "source": [
    "kr[\"id\"] = -1\n",
    "ks[\"id\"] = -1\n",
    "tr[\"id\"] = -1\n",
    "kr"
   ],
   "metadata": {
    "collapsed": false,
    "ExecuteTime": {
     "end_time": "2023-11-24T18:45:41.298073800Z",
     "start_time": "2023-11-24T18:45:41.280071500Z"
    }
   },
   "id": "2015062294f9b89"
  },
  {
   "cell_type": "code",
   "execution_count": null,
   "outputs": [],
   "source": [],
   "metadata": {
    "collapsed": false
   },
   "id": "aae0eee8dd92dcd2"
  },
  {
   "cell_type": "code",
   "execution_count": 270,
   "outputs": [
    {
     "data": {
      "text/plain": "                                                    0         1     2  \\\n0   Капитальный ремонт подземного сооружения (Лит....   4088.43  2017   \n1   Капитальный ремонт здания РКЦ Находка, располо...  19001.91  2017   \n2   Капитальный ремонт гаража по адресу: Амурская ...  13677.35  2017   \n3   Выборочный капитальный ремонт административног...  18034.12  2017   \n4   Выборочный капитальный ремонт административног...    448.72  2017   \n..                                                ...       ...   ...   \n53  Здание \"Нежилое помещение\" РКЦ г. Комсомольск-...     76.67  2023   \n54  «Здание «Банк» (РКЦ г. Советская Гавань), горо...     21.00  2023   \n55  «Сеть тепловая магистральная» Хабаровский край...    224.91  2023   \n56  Здание Отделения Анадырь, по адресу: г. Анадыр...   6423.02  2023   \n57  РКЦ Эгвекинот Отделеия Анадырь, пгт Эгвекинот,...      0.00  2023   \n\n                                    3  id  \n0                  Капитальный ремонт  -1  \n1                  Капитальный ремонт  -1  \n2                  Капитальный ремонт  -1  \n3                  Капитальный ремонт  -1  \n4                  Капитальный ремонт  -1  \n..                                ...  ..  \n53  Текущий ремонт зданий, сооружений  -1  \n54  Текущий ремонт зданий, сооружений  -1  \n55  Текущий ремонт зданий, сооружений  -1  \n56  Текущий ремонт зданий, сооружений  -1  \n57  Текущий ремонт зданий, сооружений  -1  \n\n[533 rows x 5 columns]",
      "text/html": "<div>\n<style scoped>\n    .dataframe tbody tr th:only-of-type {\n        vertical-align: middle;\n    }\n\n    .dataframe tbody tr th {\n        vertical-align: top;\n    }\n\n    .dataframe thead th {\n        text-align: right;\n    }\n</style>\n<table border=\"1\" class=\"dataframe\">\n  <thead>\n    <tr style=\"text-align: right;\">\n      <th></th>\n      <th>0</th>\n      <th>1</th>\n      <th>2</th>\n      <th>3</th>\n      <th>id</th>\n    </tr>\n  </thead>\n  <tbody>\n    <tr>\n      <th>0</th>\n      <td>Капитальный ремонт подземного сооружения (Лит....</td>\n      <td>4088.43</td>\n      <td>2017</td>\n      <td>Капитальный ремонт</td>\n      <td>-1</td>\n    </tr>\n    <tr>\n      <th>1</th>\n      <td>Капитальный ремонт здания РКЦ Находка, располо...</td>\n      <td>19001.91</td>\n      <td>2017</td>\n      <td>Капитальный ремонт</td>\n      <td>-1</td>\n    </tr>\n    <tr>\n      <th>2</th>\n      <td>Капитальный ремонт гаража по адресу: Амурская ...</td>\n      <td>13677.35</td>\n      <td>2017</td>\n      <td>Капитальный ремонт</td>\n      <td>-1</td>\n    </tr>\n    <tr>\n      <th>3</th>\n      <td>Выборочный капитальный ремонт административног...</td>\n      <td>18034.12</td>\n      <td>2017</td>\n      <td>Капитальный ремонт</td>\n      <td>-1</td>\n    </tr>\n    <tr>\n      <th>4</th>\n      <td>Выборочный капитальный ремонт административног...</td>\n      <td>448.72</td>\n      <td>2017</td>\n      <td>Капитальный ремонт</td>\n      <td>-1</td>\n    </tr>\n    <tr>\n      <th>...</th>\n      <td>...</td>\n      <td>...</td>\n      <td>...</td>\n      <td>...</td>\n      <td>...</td>\n    </tr>\n    <tr>\n      <th>53</th>\n      <td>Здание \"Нежилое помещение\" РКЦ г. Комсомольск-...</td>\n      <td>76.67</td>\n      <td>2023</td>\n      <td>Текущий ремонт зданий, сооружений</td>\n      <td>-1</td>\n    </tr>\n    <tr>\n      <th>54</th>\n      <td>«Здание «Банк» (РКЦ г. Советская Гавань), горо...</td>\n      <td>21.00</td>\n      <td>2023</td>\n      <td>Текущий ремонт зданий, сооружений</td>\n      <td>-1</td>\n    </tr>\n    <tr>\n      <th>55</th>\n      <td>«Сеть тепловая магистральная» Хабаровский край...</td>\n      <td>224.91</td>\n      <td>2023</td>\n      <td>Текущий ремонт зданий, сооружений</td>\n      <td>-1</td>\n    </tr>\n    <tr>\n      <th>56</th>\n      <td>Здание Отделения Анадырь, по адресу: г. Анадыр...</td>\n      <td>6423.02</td>\n      <td>2023</td>\n      <td>Текущий ремонт зданий, сооружений</td>\n      <td>-1</td>\n    </tr>\n    <tr>\n      <th>57</th>\n      <td>РКЦ Эгвекинот Отделеия Анадырь, пгт Эгвекинот,...</td>\n      <td>0.00</td>\n      <td>2023</td>\n      <td>Текущий ремонт зданий, сооружений</td>\n      <td>-1</td>\n    </tr>\n  </tbody>\n</table>\n<p>533 rows × 5 columns</p>\n</div>"
     },
     "execution_count": 270,
     "metadata": {},
     "output_type": "execute_result"
    }
   ],
   "source": [
    "kr_ks_tp = pd.concat([kr, ks, tr])\n",
    "kr_ks_tp"
   ],
   "metadata": {
    "collapsed": false,
    "ExecuteTime": {
     "end_time": "2023-11-24T18:46:01.206184100Z",
     "start_time": "2023-11-24T18:46:01.160185200Z"
    }
   },
   "id": "57b2af71ca783e4"
  },
  {
   "cell_type": "code",
   "execution_count": 284,
   "outputs": [],
   "source": [
    "kr_ks_tp[0] = kr_ks_tp[0].apply(lambda x: x.lower())"
   ],
   "metadata": {
    "collapsed": false,
    "ExecuteTime": {
     "end_time": "2023-11-24T19:01:18.193766800Z",
     "start_time": "2023-11-24T19:01:18.170766Z"
    }
   },
   "id": "c62c38056e2b4ea3"
  },
  {
   "cell_type": "code",
   "execution_count": 285,
   "outputs": [],
   "source": [
    "kr_ks_tp.to_csv(\"kr_ks_tp.csv\", index=False)"
   ],
   "metadata": {
    "collapsed": false,
    "ExecuteTime": {
     "end_time": "2023-11-24T19:01:20.240906200Z",
     "start_time": "2023-11-24T19:01:20.208908400Z"
    }
   },
   "id": "d2e73c1cce8ae16a"
  },
  {
   "cell_type": "code",
   "execution_count": 304,
   "outputs": [
    {
     "data": {
      "text/plain": "                                             object_name building_year  \\\n409    сооружение коммунального хозяйства, 693000, са...          1983   \n931    сооружение коммунального хозяйства, 693000, са...          1983   \n1449   сооружение коммунального хозяйства, 693000, са...          1983   \n1971   сооружение коммунального хозяйства, 693000, са...          1983   \n2478   сооружение коммунального хозяйства, 693000, са...          1983   \n8143   сооружения коммунального хозяйства, 693000, са...          1983   \n8472   сооружения коммунального хозяйства, 693000, са...          1983   \n8785   сооружения коммунального хозяйства, 693000, са...          1983   \n9093   сооружения коммунального хозяйства, 693000, са...          1983   \n9390   сооружения коммунального хозяйства, 693000, са...          1983   \n9682   сооружения коммунального хозяйства, 693000, са...          1983   \n9973   сооружения коммунального хозяйства, 693000, са...          1983   \n10253  сооружения коммунального хозяйства, 693000, са...          1983   \n10524  сооружения коммунального хозяйства, 693000, са...          1983   \n10793  сооружения коммунального хозяйства, 693000, са...          1983   \n11031  сооружения коммунального хозяйства, сахалинска...          1983   \n11246  сооружения коммунального хозяйства, сахалинска...          1983   \n11459  сооружения коммунального хозяйства, сахалинска...          1983   \n11672  сооружения коммунального хозяйства, сахалинска...          1983   \n\n      balance_date  object_square  building_square    balance  revaluation  \\\n409     02.09.2015            0.0              0.0  2750000.0   2312605.34   \n931     02.09.2015            0.0              0.0  2750000.0   2312605.34   \n1449    02.09.2015            0.0              0.0  2750000.0   2312605.34   \n1971    02.09.2015            0.0              0.0  2750000.0   2312605.34   \n2478    02.09.2015            0.0              0.0  2750000.0   2312605.34   \n8143    09.01.2016            0.0              0.0  2750000.0   2312605.34   \n8472    09.01.2016            0.0              0.0  2750000.0   2312605.34   \n8785    09.01.2016            0.0              0.0  2750000.0   2312605.34   \n9093    09.01.2016            0.0              0.0  2750000.0   2312605.34   \n9390    09.01.2016            0.0              0.0  2750000.0   2312605.34   \n9682    09.01.2016            0.0              0.0  2750000.0   2312605.34   \n9973    09.01.2016            0.0              0.0  2750000.0   2312605.34   \n10253   09.01.2016            0.0              0.0  2750000.0   2312605.34   \n10524   09.01.2016            0.0              0.0  2750000.0   2312605.34   \n10793   09.01.2016            0.0              0.0  2750000.0   2312605.34   \n11031   23.12.1983            0.0              0.0  2750000.0   2312605.34   \n11246   23.12.1983            0.0              0.0  2750000.0   2312605.34   \n11459   23.12.1983            0.0              0.0  2750000.0   2312605.34   \n11672   01.01.1990            0.0              0.0  2750000.0   2312605.34   \n\n       depreciation  residual_value technical_condition  year  quarter  \\\n409       2750000.0             0.0  Удовлетворительное  2016        1   \n931       2750000.0             0.0  Удовлетворительное  2016        2   \n1449      2750000.0             0.0  Удовлетворительное  2016        3   \n1971      2750000.0             0.0                 NaN  2016        4   \n2478      2750000.0             0.0                 NaN  2017        1   \n8143      2750000.0             0.0  Удовлетворительное  2020        2   \n8472      2750000.0             0.0  Удовлетворительное  2020        3   \n8785      2750000.0             0.0  Удовлетворительное  2020        4   \n9093      2750000.0             0.0  Удовлетворительное  2021        1   \n9390      2750000.0             0.0  Удовлетворительное  2021        2   \n9682      2750000.0             0.0  Удовлетворительное  2021        3   \n9973      2750000.0             0.0  Удовлетворительное  2021        4   \n10253     2750000.0             0.0  Удовлетворительное  2022        1   \n10524     2750000.0             0.0  Удовлетворительное  2022        2   \n10793     2750000.0             0.0  Удовлетворительное  2022        3   \n11031     2750000.0             0.0  Удовлетворительное  2022        4   \n11246     2750000.0             0.0  Удовлетворительное  2023        1   \n11459     2750000.0             0.0  Удовлетворительное  2023        2   \n11672     2750000.0             0.0  Удовлетворительное  2023        3   \n\n                          otdel            city    id  \n409    Отделение Южно-Сахалинск  Южно-Сахалинск   404  \n931    Отделение Южно-Сахалинск  Южно-Сахалинск   404  \n1449   Отделение Южно-Сахалинск  Южно-Сахалинск   404  \n1971   Отделение Южно-Сахалинск  Южно-Сахалинск   404  \n2478   Отделение Южно-Сахалинск  Южно-Сахалинск   404  \n8143   Отделение Южно-Сахалинск  Южно-Сахалинск  1583  \n8472   Отделение Южно-Сахалинск  Южно-Сахалинск  1661  \n8785   Отделение Южно-Сахалинск  Южно-Сахалинск  1661  \n9093   Отделение Южно-Сахалинск            ства  1947  \n9390   Отделение Южно-Сахалинск            ства  1947  \n9682   Отделение Южно-Сахалинск            ства  1947  \n9973   Отделение Южно-Сахалинск            ства  1947  \n10253  Отделение Южно-Сахалинск            ства  1947  \n10524  Отделение Южно-Сахалинск            ства  1947  \n10793  Отделение Южно-Сахалинск            ства  1947  \n11031         Отделение Анадырь            ства  2341  \n11246         Отделение Анадырь            ства  2341  \n11459         Отделение Анадырь            ства  2455  \n11672         Отделение Анадырь            ства  2455  ",
      "text/html": "<div>\n<style scoped>\n    .dataframe tbody tr th:only-of-type {\n        vertical-align: middle;\n    }\n\n    .dataframe tbody tr th {\n        vertical-align: top;\n    }\n\n    .dataframe thead th {\n        text-align: right;\n    }\n</style>\n<table border=\"1\" class=\"dataframe\">\n  <thead>\n    <tr style=\"text-align: right;\">\n      <th></th>\n      <th>object_name</th>\n      <th>building_year</th>\n      <th>balance_date</th>\n      <th>object_square</th>\n      <th>building_square</th>\n      <th>balance</th>\n      <th>revaluation</th>\n      <th>depreciation</th>\n      <th>residual_value</th>\n      <th>technical_condition</th>\n      <th>year</th>\n      <th>quarter</th>\n      <th>otdel</th>\n      <th>city</th>\n      <th>id</th>\n    </tr>\n  </thead>\n  <tbody>\n    <tr>\n      <th>409</th>\n      <td>сооружение коммунального хозяйства, 693000, са...</td>\n      <td>1983</td>\n      <td>02.09.2015</td>\n      <td>0.0</td>\n      <td>0.0</td>\n      <td>2750000.0</td>\n      <td>2312605.34</td>\n      <td>2750000.0</td>\n      <td>0.0</td>\n      <td>Удовлетворительное</td>\n      <td>2016</td>\n      <td>1</td>\n      <td>Отделение Южно-Сахалинск</td>\n      <td>Южно-Сахалинск</td>\n      <td>404</td>\n    </tr>\n    <tr>\n      <th>931</th>\n      <td>сооружение коммунального хозяйства, 693000, са...</td>\n      <td>1983</td>\n      <td>02.09.2015</td>\n      <td>0.0</td>\n      <td>0.0</td>\n      <td>2750000.0</td>\n      <td>2312605.34</td>\n      <td>2750000.0</td>\n      <td>0.0</td>\n      <td>Удовлетворительное</td>\n      <td>2016</td>\n      <td>2</td>\n      <td>Отделение Южно-Сахалинск</td>\n      <td>Южно-Сахалинск</td>\n      <td>404</td>\n    </tr>\n    <tr>\n      <th>1449</th>\n      <td>сооружение коммунального хозяйства, 693000, са...</td>\n      <td>1983</td>\n      <td>02.09.2015</td>\n      <td>0.0</td>\n      <td>0.0</td>\n      <td>2750000.0</td>\n      <td>2312605.34</td>\n      <td>2750000.0</td>\n      <td>0.0</td>\n      <td>Удовлетворительное</td>\n      <td>2016</td>\n      <td>3</td>\n      <td>Отделение Южно-Сахалинск</td>\n      <td>Южно-Сахалинск</td>\n      <td>404</td>\n    </tr>\n    <tr>\n      <th>1971</th>\n      <td>сооружение коммунального хозяйства, 693000, са...</td>\n      <td>1983</td>\n      <td>02.09.2015</td>\n      <td>0.0</td>\n      <td>0.0</td>\n      <td>2750000.0</td>\n      <td>2312605.34</td>\n      <td>2750000.0</td>\n      <td>0.0</td>\n      <td>NaN</td>\n      <td>2016</td>\n      <td>4</td>\n      <td>Отделение Южно-Сахалинск</td>\n      <td>Южно-Сахалинск</td>\n      <td>404</td>\n    </tr>\n    <tr>\n      <th>2478</th>\n      <td>сооружение коммунального хозяйства, 693000, са...</td>\n      <td>1983</td>\n      <td>02.09.2015</td>\n      <td>0.0</td>\n      <td>0.0</td>\n      <td>2750000.0</td>\n      <td>2312605.34</td>\n      <td>2750000.0</td>\n      <td>0.0</td>\n      <td>NaN</td>\n      <td>2017</td>\n      <td>1</td>\n      <td>Отделение Южно-Сахалинск</td>\n      <td>Южно-Сахалинск</td>\n      <td>404</td>\n    </tr>\n    <tr>\n      <th>8143</th>\n      <td>сооружения коммунального хозяйства, 693000, са...</td>\n      <td>1983</td>\n      <td>09.01.2016</td>\n      <td>0.0</td>\n      <td>0.0</td>\n      <td>2750000.0</td>\n      <td>2312605.34</td>\n      <td>2750000.0</td>\n      <td>0.0</td>\n      <td>Удовлетворительное</td>\n      <td>2020</td>\n      <td>2</td>\n      <td>Отделение Южно-Сахалинск</td>\n      <td>Южно-Сахалинск</td>\n      <td>1583</td>\n    </tr>\n    <tr>\n      <th>8472</th>\n      <td>сооружения коммунального хозяйства, 693000, са...</td>\n      <td>1983</td>\n      <td>09.01.2016</td>\n      <td>0.0</td>\n      <td>0.0</td>\n      <td>2750000.0</td>\n      <td>2312605.34</td>\n      <td>2750000.0</td>\n      <td>0.0</td>\n      <td>Удовлетворительное</td>\n      <td>2020</td>\n      <td>3</td>\n      <td>Отделение Южно-Сахалинск</td>\n      <td>Южно-Сахалинск</td>\n      <td>1661</td>\n    </tr>\n    <tr>\n      <th>8785</th>\n      <td>сооружения коммунального хозяйства, 693000, са...</td>\n      <td>1983</td>\n      <td>09.01.2016</td>\n      <td>0.0</td>\n      <td>0.0</td>\n      <td>2750000.0</td>\n      <td>2312605.34</td>\n      <td>2750000.0</td>\n      <td>0.0</td>\n      <td>Удовлетворительное</td>\n      <td>2020</td>\n      <td>4</td>\n      <td>Отделение Южно-Сахалинск</td>\n      <td>Южно-Сахалинск</td>\n      <td>1661</td>\n    </tr>\n    <tr>\n      <th>9093</th>\n      <td>сооружения коммунального хозяйства, 693000, са...</td>\n      <td>1983</td>\n      <td>09.01.2016</td>\n      <td>0.0</td>\n      <td>0.0</td>\n      <td>2750000.0</td>\n      <td>2312605.34</td>\n      <td>2750000.0</td>\n      <td>0.0</td>\n      <td>Удовлетворительное</td>\n      <td>2021</td>\n      <td>1</td>\n      <td>Отделение Южно-Сахалинск</td>\n      <td>ства</td>\n      <td>1947</td>\n    </tr>\n    <tr>\n      <th>9390</th>\n      <td>сооружения коммунального хозяйства, 693000, са...</td>\n      <td>1983</td>\n      <td>09.01.2016</td>\n      <td>0.0</td>\n      <td>0.0</td>\n      <td>2750000.0</td>\n      <td>2312605.34</td>\n      <td>2750000.0</td>\n      <td>0.0</td>\n      <td>Удовлетворительное</td>\n      <td>2021</td>\n      <td>2</td>\n      <td>Отделение Южно-Сахалинск</td>\n      <td>ства</td>\n      <td>1947</td>\n    </tr>\n    <tr>\n      <th>9682</th>\n      <td>сооружения коммунального хозяйства, 693000, са...</td>\n      <td>1983</td>\n      <td>09.01.2016</td>\n      <td>0.0</td>\n      <td>0.0</td>\n      <td>2750000.0</td>\n      <td>2312605.34</td>\n      <td>2750000.0</td>\n      <td>0.0</td>\n      <td>Удовлетворительное</td>\n      <td>2021</td>\n      <td>3</td>\n      <td>Отделение Южно-Сахалинск</td>\n      <td>ства</td>\n      <td>1947</td>\n    </tr>\n    <tr>\n      <th>9973</th>\n      <td>сооружения коммунального хозяйства, 693000, са...</td>\n      <td>1983</td>\n      <td>09.01.2016</td>\n      <td>0.0</td>\n      <td>0.0</td>\n      <td>2750000.0</td>\n      <td>2312605.34</td>\n      <td>2750000.0</td>\n      <td>0.0</td>\n      <td>Удовлетворительное</td>\n      <td>2021</td>\n      <td>4</td>\n      <td>Отделение Южно-Сахалинск</td>\n      <td>ства</td>\n      <td>1947</td>\n    </tr>\n    <tr>\n      <th>10253</th>\n      <td>сооружения коммунального хозяйства, 693000, са...</td>\n      <td>1983</td>\n      <td>09.01.2016</td>\n      <td>0.0</td>\n      <td>0.0</td>\n      <td>2750000.0</td>\n      <td>2312605.34</td>\n      <td>2750000.0</td>\n      <td>0.0</td>\n      <td>Удовлетворительное</td>\n      <td>2022</td>\n      <td>1</td>\n      <td>Отделение Южно-Сахалинск</td>\n      <td>ства</td>\n      <td>1947</td>\n    </tr>\n    <tr>\n      <th>10524</th>\n      <td>сооружения коммунального хозяйства, 693000, са...</td>\n      <td>1983</td>\n      <td>09.01.2016</td>\n      <td>0.0</td>\n      <td>0.0</td>\n      <td>2750000.0</td>\n      <td>2312605.34</td>\n      <td>2750000.0</td>\n      <td>0.0</td>\n      <td>Удовлетворительное</td>\n      <td>2022</td>\n      <td>2</td>\n      <td>Отделение Южно-Сахалинск</td>\n      <td>ства</td>\n      <td>1947</td>\n    </tr>\n    <tr>\n      <th>10793</th>\n      <td>сооружения коммунального хозяйства, 693000, са...</td>\n      <td>1983</td>\n      <td>09.01.2016</td>\n      <td>0.0</td>\n      <td>0.0</td>\n      <td>2750000.0</td>\n      <td>2312605.34</td>\n      <td>2750000.0</td>\n      <td>0.0</td>\n      <td>Удовлетворительное</td>\n      <td>2022</td>\n      <td>3</td>\n      <td>Отделение Южно-Сахалинск</td>\n      <td>ства</td>\n      <td>1947</td>\n    </tr>\n    <tr>\n      <th>11031</th>\n      <td>сооружения коммунального хозяйства, сахалинска...</td>\n      <td>1983</td>\n      <td>23.12.1983</td>\n      <td>0.0</td>\n      <td>0.0</td>\n      <td>2750000.0</td>\n      <td>2312605.34</td>\n      <td>2750000.0</td>\n      <td>0.0</td>\n      <td>Удовлетворительное</td>\n      <td>2022</td>\n      <td>4</td>\n      <td>Отделение Анадырь</td>\n      <td>ства</td>\n      <td>2341</td>\n    </tr>\n    <tr>\n      <th>11246</th>\n      <td>сооружения коммунального хозяйства, сахалинска...</td>\n      <td>1983</td>\n      <td>23.12.1983</td>\n      <td>0.0</td>\n      <td>0.0</td>\n      <td>2750000.0</td>\n      <td>2312605.34</td>\n      <td>2750000.0</td>\n      <td>0.0</td>\n      <td>Удовлетворительное</td>\n      <td>2023</td>\n      <td>1</td>\n      <td>Отделение Анадырь</td>\n      <td>ства</td>\n      <td>2341</td>\n    </tr>\n    <tr>\n      <th>11459</th>\n      <td>сооружения коммунального хозяйства, сахалинска...</td>\n      <td>1983</td>\n      <td>23.12.1983</td>\n      <td>0.0</td>\n      <td>0.0</td>\n      <td>2750000.0</td>\n      <td>2312605.34</td>\n      <td>2750000.0</td>\n      <td>0.0</td>\n      <td>Удовлетворительное</td>\n      <td>2023</td>\n      <td>2</td>\n      <td>Отделение Анадырь</td>\n      <td>ства</td>\n      <td>2455</td>\n    </tr>\n    <tr>\n      <th>11672</th>\n      <td>сооружения коммунального хозяйства, сахалинска...</td>\n      <td>1983</td>\n      <td>01.01.1990</td>\n      <td>0.0</td>\n      <td>0.0</td>\n      <td>2750000.0</td>\n      <td>2312605.34</td>\n      <td>2750000.0</td>\n      <td>0.0</td>\n      <td>Удовлетворительное</td>\n      <td>2023</td>\n      <td>3</td>\n      <td>Отделение Анадырь</td>\n      <td>ства</td>\n      <td>2455</td>\n    </tr>\n  </tbody>\n</table>\n</div>"
     },
     "execution_count": 304,
     "metadata": {},
     "output_type": "execute_result"
    }
   ],
   "source": [
    "list_df.loc[(list_df['object_name'].apply(lambda x: \"хозяйства\" in str(x)))]"
   ],
   "metadata": {
    "collapsed": false,
    "ExecuteTime": {
     "end_time": "2023-11-24T19:17:47.617162900Z",
     "start_time": "2023-11-24T19:17:47.571162600Z"
    }
   },
   "id": "5c518c2a17b40f5"
  },
  {
   "cell_type": "code",
   "execution_count": 321,
   "outputs": [
    {
     "data": {
      "text/plain": "                                               Column1    Column2 Column3  \\\n0     административное здание, лит. а,  г.  ю-сахал...     3239.4    2023   \n1     административное здание, лит. а,  г.  ю-сахал...      497.9    2021   \n2     выборочный капитальный ремонт в части системы...  2223558.0    2021   \n3     выборочный капитальный ремонт кровли здания, ...    2394.55    2019   \n4     пристрой к административному зданию литер а1 ...      24.24    2021   \n..                                                 ...        ...     ...   \n532  строительство тепловой сети к зданию расчетно-...    3367.16    2018   \n533  текущий ремонт пристройки к зданию главного уп...      483.0    2023   \n534  текущий ремонт пристройки к зданию главного уп...      62.99    2023   \n535  центральный банк (гараж), по адресу: г. хабаро...      312.4    2021   \n536  центральный банк (убежище 300 мест), по адресу...       95.9    2021   \n\n                               Column4 Column5  ids_row  \n0    Текущий ремонт зданий, сооружений    1948      NaN  \n1    Текущий ремонт зданий, сооружений    1948      NaN  \n2                   Капитальный ремонт    2052      NaN  \n3                   Капитальный ремонт    2052      NaN  \n4    Текущий ремонт зданий, сооружений    1510      NaN  \n..                                 ...     ...      ...  \n532          Капитальное строительство      -1      NaN  \n533  Текущий ремонт зданий, сооружений      -1      NaN  \n534  Текущий ремонт зданий, сооружений      -1      NaN  \n535  Текущий ремонт зданий, сооружений      -1      NaN  \n536  Текущий ремонт зданий, сооружений      -1      NaN  \n\n[537 rows x 6 columns]",
      "text/html": "<div>\n<style scoped>\n    .dataframe tbody tr th:only-of-type {\n        vertical-align: middle;\n    }\n\n    .dataframe tbody tr th {\n        vertical-align: top;\n    }\n\n    .dataframe thead th {\n        text-align: right;\n    }\n</style>\n<table border=\"1\" class=\"dataframe\">\n  <thead>\n    <tr style=\"text-align: right;\">\n      <th></th>\n      <th>Column1</th>\n      <th>Column2</th>\n      <th>Column3</th>\n      <th>Column4</th>\n      <th>Column5</th>\n      <th>ids_row</th>\n    </tr>\n  </thead>\n  <tbody>\n    <tr>\n      <th>0</th>\n      <td>административное здание, лит. а,  г.  ю-сахал...</td>\n      <td>3239.4</td>\n      <td>2023</td>\n      <td>Текущий ремонт зданий, сооружений</td>\n      <td>1948</td>\n      <td>NaN</td>\n    </tr>\n    <tr>\n      <th>1</th>\n      <td>административное здание, лит. а,  г.  ю-сахал...</td>\n      <td>497.9</td>\n      <td>2021</td>\n      <td>Текущий ремонт зданий, сооружений</td>\n      <td>1948</td>\n      <td>NaN</td>\n    </tr>\n    <tr>\n      <th>2</th>\n      <td>выборочный капитальный ремонт в части системы...</td>\n      <td>2223558.0</td>\n      <td>2021</td>\n      <td>Капитальный ремонт</td>\n      <td>2052</td>\n      <td>NaN</td>\n    </tr>\n    <tr>\n      <th>3</th>\n      <td>выборочный капитальный ремонт кровли здания, ...</td>\n      <td>2394.55</td>\n      <td>2019</td>\n      <td>Капитальный ремонт</td>\n      <td>2052</td>\n      <td>NaN</td>\n    </tr>\n    <tr>\n      <th>4</th>\n      <td>пристрой к административному зданию литер а1 ...</td>\n      <td>24.24</td>\n      <td>2021</td>\n      <td>Текущий ремонт зданий, сооружений</td>\n      <td>1510</td>\n      <td>NaN</td>\n    </tr>\n    <tr>\n      <th>...</th>\n      <td>...</td>\n      <td>...</td>\n      <td>...</td>\n      <td>...</td>\n      <td>...</td>\n      <td>...</td>\n    </tr>\n    <tr>\n      <th>532</th>\n      <td>строительство тепловой сети к зданию расчетно-...</td>\n      <td>3367.16</td>\n      <td>2018</td>\n      <td>Капитальное строительство</td>\n      <td>-1</td>\n      <td>NaN</td>\n    </tr>\n    <tr>\n      <th>533</th>\n      <td>текущий ремонт пристройки к зданию главного уп...</td>\n      <td>483.0</td>\n      <td>2023</td>\n      <td>Текущий ремонт зданий, сооружений</td>\n      <td>-1</td>\n      <td>NaN</td>\n    </tr>\n    <tr>\n      <th>534</th>\n      <td>текущий ремонт пристройки к зданию главного уп...</td>\n      <td>62.99</td>\n      <td>2023</td>\n      <td>Текущий ремонт зданий, сооружений</td>\n      <td>-1</td>\n      <td>NaN</td>\n    </tr>\n    <tr>\n      <th>535</th>\n      <td>центральный банк (гараж), по адресу: г. хабаро...</td>\n      <td>312.4</td>\n      <td>2021</td>\n      <td>Текущий ремонт зданий, сооружений</td>\n      <td>-1</td>\n      <td>NaN</td>\n    </tr>\n    <tr>\n      <th>536</th>\n      <td>центральный банк (убежище 300 мест), по адресу...</td>\n      <td>95.9</td>\n      <td>2021</td>\n      <td>Текущий ремонт зданий, сооружений</td>\n      <td>-1</td>\n      <td>NaN</td>\n    </tr>\n  </tbody>\n</table>\n<p>537 rows × 6 columns</p>\n</div>"
     },
     "execution_count": 321,
     "metadata": {},
     "output_type": "execute_result"
    }
   ],
   "source": [
    "kr_ks_tp"
   ],
   "metadata": {
    "collapsed": false,
    "ExecuteTime": {
     "end_time": "2023-11-24T20:49:27.158489Z",
     "start_time": "2023-11-24T20:49:27.114487700Z"
    }
   },
   "id": "c2835a3f926e562d"
  },
  {
   "cell_type": "code",
   "execution_count": 334,
   "outputs": [
    {
     "data": {
      "text/plain": "                                               Column1    Column2 Column3  \\\n0     административное здание, лит. а,  г.  ю-сахал...     3239.4    2023   \n1     административное здание, лит. а,  г.  ю-сахал...      497.9    2021   \n2     выборочный капитальный ремонт в части системы...  2223558.0    2021   \n3     выборочный капитальный ремонт кровли здания, ...    2394.55    2019   \n4     пристрой к административному зданию литер а1 ...      24.24    2021   \n..                                                 ...        ...     ...   \n532  строительство тепловой сети к зданию расчетно-...    3367.16    2018   \n533  текущий ремонт пристройки к зданию главного уп...      483.0    2023   \n534  текущий ремонт пристройки к зданию главного уп...      62.99    2023   \n535  центральный банк (гараж), по адресу: г. хабаро...      312.4    2021   \n536  центральный банк (убежище 300 мест), по адресу...       95.9    2021   \n\n                               Column4 Column5             ids_row  \n0    Текущий ремонт зданий, сооружений    1948  59-01-01-00-02-019  \n1    Текущий ремонт зданий, сооружений    1948  59-01-01-00-02-019  \n2                   Капитальный ремонт    2052                 NaN  \n3                   Капитальный ремонт    2052                 NaN  \n4    Текущий ремонт зданий, сооружений    1510  58-01-01-00-00-005  \n..                                 ...     ...                 ...  \n532          Капитальное строительство      -1                 NaN  \n533  Текущий ремонт зданий, сооружений      -1                 NaN  \n534  Текущий ремонт зданий, сооружений      -1                 NaN  \n535  Текущий ремонт зданий, сооружений      -1  73-05-01-00-03-032  \n536  Текущий ремонт зданий, сооружений      -1  73-07-01-00-00-005  \n\n[537 rows x 6 columns]",
      "text/html": "<div>\n<style scoped>\n    .dataframe tbody tr th:only-of-type {\n        vertical-align: middle;\n    }\n\n    .dataframe tbody tr th {\n        vertical-align: top;\n    }\n\n    .dataframe thead th {\n        text-align: right;\n    }\n</style>\n<table border=\"1\" class=\"dataframe\">\n  <thead>\n    <tr style=\"text-align: right;\">\n      <th></th>\n      <th>Column1</th>\n      <th>Column2</th>\n      <th>Column3</th>\n      <th>Column4</th>\n      <th>Column5</th>\n      <th>ids_row</th>\n    </tr>\n  </thead>\n  <tbody>\n    <tr>\n      <th>0</th>\n      <td>административное здание, лит. а,  г.  ю-сахал...</td>\n      <td>3239.4</td>\n      <td>2023</td>\n      <td>Текущий ремонт зданий, сооружений</td>\n      <td>1948</td>\n      <td>59-01-01-00-02-019</td>\n    </tr>\n    <tr>\n      <th>1</th>\n      <td>административное здание, лит. а,  г.  ю-сахал...</td>\n      <td>497.9</td>\n      <td>2021</td>\n      <td>Текущий ремонт зданий, сооружений</td>\n      <td>1948</td>\n      <td>59-01-01-00-02-019</td>\n    </tr>\n    <tr>\n      <th>2</th>\n      <td>выборочный капитальный ремонт в части системы...</td>\n      <td>2223558.0</td>\n      <td>2021</td>\n      <td>Капитальный ремонт</td>\n      <td>2052</td>\n      <td>NaN</td>\n    </tr>\n    <tr>\n      <th>3</th>\n      <td>выборочный капитальный ремонт кровли здания, ...</td>\n      <td>2394.55</td>\n      <td>2019</td>\n      <td>Капитальный ремонт</td>\n      <td>2052</td>\n      <td>NaN</td>\n    </tr>\n    <tr>\n      <th>4</th>\n      <td>пристрой к административному зданию литер а1 ...</td>\n      <td>24.24</td>\n      <td>2021</td>\n      <td>Текущий ремонт зданий, сооружений</td>\n      <td>1510</td>\n      <td>58-01-01-00-00-005</td>\n    </tr>\n    <tr>\n      <th>...</th>\n      <td>...</td>\n      <td>...</td>\n      <td>...</td>\n      <td>...</td>\n      <td>...</td>\n      <td>...</td>\n    </tr>\n    <tr>\n      <th>532</th>\n      <td>строительство тепловой сети к зданию расчетно-...</td>\n      <td>3367.16</td>\n      <td>2018</td>\n      <td>Капитальное строительство</td>\n      <td>-1</td>\n      <td>NaN</td>\n    </tr>\n    <tr>\n      <th>533</th>\n      <td>текущий ремонт пристройки к зданию главного уп...</td>\n      <td>483.0</td>\n      <td>2023</td>\n      <td>Текущий ремонт зданий, сооружений</td>\n      <td>-1</td>\n      <td>NaN</td>\n    </tr>\n    <tr>\n      <th>534</th>\n      <td>текущий ремонт пристройки к зданию главного уп...</td>\n      <td>62.99</td>\n      <td>2023</td>\n      <td>Текущий ремонт зданий, сооружений</td>\n      <td>-1</td>\n      <td>NaN</td>\n    </tr>\n    <tr>\n      <th>535</th>\n      <td>центральный банк (гараж), по адресу: г. хабаро...</td>\n      <td>312.4</td>\n      <td>2021</td>\n      <td>Текущий ремонт зданий, сооружений</td>\n      <td>-1</td>\n      <td>73-05-01-00-03-032</td>\n    </tr>\n    <tr>\n      <th>536</th>\n      <td>центральный банк (убежище 300 мест), по адресу...</td>\n      <td>95.9</td>\n      <td>2021</td>\n      <td>Текущий ремонт зданий, сооружений</td>\n      <td>-1</td>\n      <td>73-07-01-00-00-005</td>\n    </tr>\n  </tbody>\n</table>\n<p>537 rows × 6 columns</p>\n</div>"
     },
     "execution_count": 334,
     "metadata": {},
     "output_type": "execute_result"
    }
   ],
   "source": [
    "kr_ks_tp = pd.read_csv(\"kr_ks_tp.csv\", sep=\";\")\n",
    "import numpy as np\n",
    "pattern = r'\\d{2}-\\d{2}-\\d{2}-\\d{2}-\\d{2}-\\d{3}'\n",
    "pattern2 = r'\\d{2}-\\d{2}-\\d{2}-\\d{3}'\n",
    "\n",
    "kr_ks_tp[\"ids_row\"] = np.nan\n",
    "for index, row in kr_ks_tp.iterrows():\n",
    "    txt = row[0]\n",
    "    matches = re.findall(pattern, txt)\n",
    "    if matches:\n",
    "        kr_ks_tp.loc[kr_ks_tp[\"Column1\"] == txt, \"ids_row\"] = matches[0]\n",
    "    else:\n",
    "        matches2 = re.findall(pattern2, txt)\n",
    "        if matches2:\n",
    "            kr_ks_tp.loc[kr_ks_tp[\"Column1\"] == txt, \"ids_row\"] = matches2[0]\n",
    "kr_ks_tp"
   ],
   "metadata": {
    "collapsed": false,
    "ExecuteTime": {
     "end_time": "2023-11-24T20:59:29.753604900Z",
     "start_time": "2023-11-24T20:59:29.659606100Z"
    }
   },
   "id": "e87d4e2175f1d4f5"
  },
  {
   "cell_type": "code",
   "execution_count": 335,
   "outputs": [
    {
     "data": {
      "text/plain": "                                             object_name building_year  \\\n0      помещение объект № 2 (вспомогательный), 675000...          1980   \n1      административное здание, 676014, амурская обла...          1978   \n2      административное здание, лит. а, а1, 676980, к...          1959   \n3      административное здание, 676530, амурская обла...          1935   \n4      административное здание, 675000, амурская обла...          1958   \n...                                                  ...           ...   \n11735  ркц, чукотский автономный округ, р-н анадырски...          1991   \n11736  административное здание, российская федерация,...          2001   \n11738  пристройка к тп № 2, российская федерация, чук...          1995   \n11739  здание ркц, российская федерация, чукотский ав...          1987   \n11740  пункт резервного энергоснабжения , чукотский а...          1997   \n\n      balance_date  object_square  building_square       balance  revaluation  \\\n0       13.07.1990          217.7            217.7  1.638812e+06    937438.23   \n1       27.12.1990          389.1            389.1  1.050735e+06    771306.47   \n2       27.12.1990          237.7            237.7  1.267112e+05     53749.02   \n3       27.12.1990          830.2            830.2  1.657841e+06         0.00   \n4       14.02.1992          403.9            403.9  3.038926e+05    162432.93   \n...            ...            ...              ...           ...          ...   \n11735   01.01.1991          513.0              0.0  5.010097e+06   1892900.30   \n11736   01.01.2001         2690.2              0.0  2.076046e+08  10444758.74   \n11738   01.01.1995           22.9              0.0  8.504830e+05    344633.94   \n11739   01.01.1990          546.3              0.0  1.103891e+07   9526978.74   \n11740   01.01.1997           96.3              0.0  3.167024e+06     78402.86   \n\n       depreciation  residual_value technical_condition  year  quarter  \\\n0         591497.66    1.047315e+06  Удовлетворительное  2016        1   \n1         446494.59    6.042402e+05  Удовлетворительное  2016        1   \n2          93108.95    3.360228e+04  Удовлетворительное  2016        1   \n3        1657840.58    0.000000e+00              Ветхое  2016        1   \n4         208772.46    9.512017e+04  Удовлетворительное  2016        1   \n...             ...             ...                 ...   ...      ...   \n11735    2341139.51    2.668958e+06  Удовлетворительное  2023        3   \n11736   45153764.60    1.624508e+08             Хорошее  2023        3   \n11738     401215.18    4.492678e+05             Хорошее  2023        3   \n11739    3668172.74    7.370742e+06             Хорошее  2023        3   \n11740     987875.69    2.179149e+06             Хорошее  2023        3   \n\n                        otdel                          city    id  \\\n0      Отделение Благовещенск                  Благовещенск     0   \n1      Отделение Благовещенск                   Сковородино     1   \n2      Отделение Благовещенск                Константиновка     2   \n3      Отделение Благовещенск             Новокиевский Увал     3   \n4      Отделение Благовещенск                  Благовещенск     4   \n...                       ...                           ...   ...   \n11735       Отделение Анадырь              пгт Беринговский  2398   \n11736       Отделение Анадырь       городской округ Анадырь  2399   \n11738       Отделение Анадырь       городской округ Анадырь  2429   \n11739       Отделение Анадырь  городское поселение Билибино  2430   \n11740       Отделение Анадырь              пгт Беринговский  2402   \n\n                  ids_row  \n0      04-07-01-00-00-003  \n1      04-01-06-00-00-005  \n2      04-01-09-00-00-007  \n3      04-01-03-00-00-008  \n4      04-01-01-00-00-009  \n...                   ...  \n11735        79-01-03-036  \n11736        79-01-01-039  \n11738        79-04-01-042  \n11739        79-01-01-043  \n11740        79-04-03-045  \n\n[11417 rows x 16 columns]",
      "text/html": "<div>\n<style scoped>\n    .dataframe tbody tr th:only-of-type {\n        vertical-align: middle;\n    }\n\n    .dataframe tbody tr th {\n        vertical-align: top;\n    }\n\n    .dataframe thead th {\n        text-align: right;\n    }\n</style>\n<table border=\"1\" class=\"dataframe\">\n  <thead>\n    <tr style=\"text-align: right;\">\n      <th></th>\n      <th>object_name</th>\n      <th>building_year</th>\n      <th>balance_date</th>\n      <th>object_square</th>\n      <th>building_square</th>\n      <th>balance</th>\n      <th>revaluation</th>\n      <th>depreciation</th>\n      <th>residual_value</th>\n      <th>technical_condition</th>\n      <th>year</th>\n      <th>quarter</th>\n      <th>otdel</th>\n      <th>city</th>\n      <th>id</th>\n      <th>ids_row</th>\n    </tr>\n  </thead>\n  <tbody>\n    <tr>\n      <th>0</th>\n      <td>помещение объект № 2 (вспомогательный), 675000...</td>\n      <td>1980</td>\n      <td>13.07.1990</td>\n      <td>217.7</td>\n      <td>217.7</td>\n      <td>1.638812e+06</td>\n      <td>937438.23</td>\n      <td>591497.66</td>\n      <td>1.047315e+06</td>\n      <td>Удовлетворительное</td>\n      <td>2016</td>\n      <td>1</td>\n      <td>Отделение Благовещенск</td>\n      <td>Благовещенск</td>\n      <td>0</td>\n      <td>04-07-01-00-00-003</td>\n    </tr>\n    <tr>\n      <th>1</th>\n      <td>административное здание, 676014, амурская обла...</td>\n      <td>1978</td>\n      <td>27.12.1990</td>\n      <td>389.1</td>\n      <td>389.1</td>\n      <td>1.050735e+06</td>\n      <td>771306.47</td>\n      <td>446494.59</td>\n      <td>6.042402e+05</td>\n      <td>Удовлетворительное</td>\n      <td>2016</td>\n      <td>1</td>\n      <td>Отделение Благовещенск</td>\n      <td>Сковородино</td>\n      <td>1</td>\n      <td>04-01-06-00-00-005</td>\n    </tr>\n    <tr>\n      <th>2</th>\n      <td>административное здание, лит. а, а1, 676980, к...</td>\n      <td>1959</td>\n      <td>27.12.1990</td>\n      <td>237.7</td>\n      <td>237.7</td>\n      <td>1.267112e+05</td>\n      <td>53749.02</td>\n      <td>93108.95</td>\n      <td>3.360228e+04</td>\n      <td>Удовлетворительное</td>\n      <td>2016</td>\n      <td>1</td>\n      <td>Отделение Благовещенск</td>\n      <td>Константиновка</td>\n      <td>2</td>\n      <td>04-01-09-00-00-007</td>\n    </tr>\n    <tr>\n      <th>3</th>\n      <td>административное здание, 676530, амурская обла...</td>\n      <td>1935</td>\n      <td>27.12.1990</td>\n      <td>830.2</td>\n      <td>830.2</td>\n      <td>1.657841e+06</td>\n      <td>0.00</td>\n      <td>1657840.58</td>\n      <td>0.000000e+00</td>\n      <td>Ветхое</td>\n      <td>2016</td>\n      <td>1</td>\n      <td>Отделение Благовещенск</td>\n      <td>Новокиевский Увал</td>\n      <td>3</td>\n      <td>04-01-03-00-00-008</td>\n    </tr>\n    <tr>\n      <th>4</th>\n      <td>административное здание, 675000, амурская обла...</td>\n      <td>1958</td>\n      <td>14.02.1992</td>\n      <td>403.9</td>\n      <td>403.9</td>\n      <td>3.038926e+05</td>\n      <td>162432.93</td>\n      <td>208772.46</td>\n      <td>9.512017e+04</td>\n      <td>Удовлетворительное</td>\n      <td>2016</td>\n      <td>1</td>\n      <td>Отделение Благовещенск</td>\n      <td>Благовещенск</td>\n      <td>4</td>\n      <td>04-01-01-00-00-009</td>\n    </tr>\n    <tr>\n      <th>...</th>\n      <td>...</td>\n      <td>...</td>\n      <td>...</td>\n      <td>...</td>\n      <td>...</td>\n      <td>...</td>\n      <td>...</td>\n      <td>...</td>\n      <td>...</td>\n      <td>...</td>\n      <td>...</td>\n      <td>...</td>\n      <td>...</td>\n      <td>...</td>\n      <td>...</td>\n      <td>...</td>\n    </tr>\n    <tr>\n      <th>11735</th>\n      <td>ркц, чукотский автономный округ, р-н анадырски...</td>\n      <td>1991</td>\n      <td>01.01.1991</td>\n      <td>513.0</td>\n      <td>0.0</td>\n      <td>5.010097e+06</td>\n      <td>1892900.30</td>\n      <td>2341139.51</td>\n      <td>2.668958e+06</td>\n      <td>Удовлетворительное</td>\n      <td>2023</td>\n      <td>3</td>\n      <td>Отделение Анадырь</td>\n      <td>пгт Беринговский</td>\n      <td>2398</td>\n      <td>79-01-03-036</td>\n    </tr>\n    <tr>\n      <th>11736</th>\n      <td>административное здание, российская федерация,...</td>\n      <td>2001</td>\n      <td>01.01.2001</td>\n      <td>2690.2</td>\n      <td>0.0</td>\n      <td>2.076046e+08</td>\n      <td>10444758.74</td>\n      <td>45153764.60</td>\n      <td>1.624508e+08</td>\n      <td>Хорошее</td>\n      <td>2023</td>\n      <td>3</td>\n      <td>Отделение Анадырь</td>\n      <td>городской округ Анадырь</td>\n      <td>2399</td>\n      <td>79-01-01-039</td>\n    </tr>\n    <tr>\n      <th>11738</th>\n      <td>пристройка к тп № 2, российская федерация, чук...</td>\n      <td>1995</td>\n      <td>01.01.1995</td>\n      <td>22.9</td>\n      <td>0.0</td>\n      <td>8.504830e+05</td>\n      <td>344633.94</td>\n      <td>401215.18</td>\n      <td>4.492678e+05</td>\n      <td>Хорошее</td>\n      <td>2023</td>\n      <td>3</td>\n      <td>Отделение Анадырь</td>\n      <td>городской округ Анадырь</td>\n      <td>2429</td>\n      <td>79-04-01-042</td>\n    </tr>\n    <tr>\n      <th>11739</th>\n      <td>здание ркц, российская федерация, чукотский ав...</td>\n      <td>1987</td>\n      <td>01.01.1990</td>\n      <td>546.3</td>\n      <td>0.0</td>\n      <td>1.103891e+07</td>\n      <td>9526978.74</td>\n      <td>3668172.74</td>\n      <td>7.370742e+06</td>\n      <td>Хорошее</td>\n      <td>2023</td>\n      <td>3</td>\n      <td>Отделение Анадырь</td>\n      <td>городское поселение Билибино</td>\n      <td>2430</td>\n      <td>79-01-01-043</td>\n    </tr>\n    <tr>\n      <th>11740</th>\n      <td>пункт резервного энергоснабжения , чукотский а...</td>\n      <td>1997</td>\n      <td>01.01.1997</td>\n      <td>96.3</td>\n      <td>0.0</td>\n      <td>3.167024e+06</td>\n      <td>78402.86</td>\n      <td>987875.69</td>\n      <td>2.179149e+06</td>\n      <td>Хорошее</td>\n      <td>2023</td>\n      <td>3</td>\n      <td>Отделение Анадырь</td>\n      <td>пгт Беринговский</td>\n      <td>2402</td>\n      <td>79-04-03-045</td>\n    </tr>\n  </tbody>\n</table>\n<p>11417 rows × 16 columns</p>\n</div>"
     },
     "execution_count": 335,
     "metadata": {},
     "output_type": "execute_result"
    }
   ],
   "source": [
    "matches = re.findall(pattern, list_df[\"object_name\"][0])\n",
    "list_df[\"ids_row\"] = np.nan\n",
    "for name in names:\n",
    "    matches = re.findall(pattern, name)\n",
    "    if matches:\n",
    "        list_df.loc[list_df['object_name'] == name, \"ids_row\"] = matches[0]\n",
    "    else:\n",
    "        matches2 = re.findall(pattern2, name)\n",
    "        if matches2:\n",
    "            list_df.loc[list_df['object_name'] == name, \"ids_row\"] = matches2[0]\n",
    "list_df"
   ],
   "metadata": {
    "collapsed": false,
    "ExecuteTime": {
     "end_time": "2023-11-24T20:59:37.511740Z",
     "start_time": "2023-11-24T20:59:35.700738300Z"
    }
   },
   "id": "9c048f7caeebea85"
  },
  {
   "cell_type": "code",
   "execution_count": 336,
   "outputs": [],
   "source": [
    "list_df.to_csv(\"list.csv\", index=False)"
   ],
   "metadata": {
    "collapsed": false,
    "ExecuteTime": {
     "end_time": "2023-11-24T21:00:33.139193600Z",
     "start_time": "2023-11-24T21:00:32.995195Z"
    }
   },
   "id": "d7e6d21c664c8bef"
  },
  {
   "cell_type": "code",
   "execution_count": 339,
   "outputs": [
    {
     "name": "stdout",
     "output_type": "stream",
     "text": [
      "51-03-01-01-00-138\n",
      "03-01-00-01-11-163\n",
      "59-01-02-00-17-057\n",
      "58-01-01-00-00-039\n",
      "58-01-02-00-14-031\n",
      "73-01-02-00-00-012\n",
      "51-01-01-00-06-044\n",
      "51-01-01-00-00-012\n",
      "73-07-02-00-06-014\n",
      "51-01-01-00-06-047\n"
     ]
    },
    {
     "data": {
      "text/plain": "                                               Column1    Column2 Column3  \\\n0     административное здание, лит. а,  г.  ю-сахал...     3239.4    2023   \n1     административное здание, лит. а,  г.  ю-сахал...      497.9    2021   \n2     выборочный капитальный ремонт в части системы...  2223558.0    2021   \n3     выборочный капитальный ремонт кровли здания, ...    2394.55    2019   \n4     пристрой к административному зданию литер а1 ...      24.24    2021   \n..                                                 ...        ...     ...   \n532  строительство тепловой сети к зданию расчетно-...    3367.16    2018   \n533  текущий ремонт пристройки к зданию главного уп...      483.0    2023   \n534  текущий ремонт пристройки к зданию главного уп...      62.99    2023   \n535  центральный банк (гараж), по адресу: г. хабаро...      312.4    2021   \n536  центральный банк (убежище 300 мест), по адресу...       95.9    2021   \n\n                               Column4 Column5             ids_row  \n0    Текущий ремонт зданий, сооружений     407  59-01-01-00-02-019  \n1    Текущий ремонт зданий, сооружений     407  59-01-01-00-02-019  \n2                   Капитальный ремонт    2052                 NaN  \n3                   Капитальный ремонт    2052                 NaN  \n4    Текущий ремонт зданий, сооружений     295  58-01-01-00-00-005  \n..                                 ...     ...                 ...  \n532          Капитальное строительство      -1                 NaN  \n533  Текущий ремонт зданий, сооружений      -1                 NaN  \n534  Текущий ремонт зданий, сооружений      -1                 NaN  \n535  Текущий ремонт зданий, сооружений     465  73-05-01-00-03-032  \n536  Текущий ремонт зданий, сооружений     416  73-07-01-00-00-005  \n\n[537 rows x 6 columns]",
      "text/html": "<div>\n<style scoped>\n    .dataframe tbody tr th:only-of-type {\n        vertical-align: middle;\n    }\n\n    .dataframe tbody tr th {\n        vertical-align: top;\n    }\n\n    .dataframe thead th {\n        text-align: right;\n    }\n</style>\n<table border=\"1\" class=\"dataframe\">\n  <thead>\n    <tr style=\"text-align: right;\">\n      <th></th>\n      <th>Column1</th>\n      <th>Column2</th>\n      <th>Column3</th>\n      <th>Column4</th>\n      <th>Column5</th>\n      <th>ids_row</th>\n    </tr>\n  </thead>\n  <tbody>\n    <tr>\n      <th>0</th>\n      <td>административное здание, лит. а,  г.  ю-сахал...</td>\n      <td>3239.4</td>\n      <td>2023</td>\n      <td>Текущий ремонт зданий, сооружений</td>\n      <td>407</td>\n      <td>59-01-01-00-02-019</td>\n    </tr>\n    <tr>\n      <th>1</th>\n      <td>административное здание, лит. а,  г.  ю-сахал...</td>\n      <td>497.9</td>\n      <td>2021</td>\n      <td>Текущий ремонт зданий, сооружений</td>\n      <td>407</td>\n      <td>59-01-01-00-02-019</td>\n    </tr>\n    <tr>\n      <th>2</th>\n      <td>выборочный капитальный ремонт в части системы...</td>\n      <td>2223558.0</td>\n      <td>2021</td>\n      <td>Капитальный ремонт</td>\n      <td>2052</td>\n      <td>NaN</td>\n    </tr>\n    <tr>\n      <th>3</th>\n      <td>выборочный капитальный ремонт кровли здания, ...</td>\n      <td>2394.55</td>\n      <td>2019</td>\n      <td>Капитальный ремонт</td>\n      <td>2052</td>\n      <td>NaN</td>\n    </tr>\n    <tr>\n      <th>4</th>\n      <td>пристрой к административному зданию литер а1 ...</td>\n      <td>24.24</td>\n      <td>2021</td>\n      <td>Текущий ремонт зданий, сооружений</td>\n      <td>295</td>\n      <td>58-01-01-00-00-005</td>\n    </tr>\n    <tr>\n      <th>...</th>\n      <td>...</td>\n      <td>...</td>\n      <td>...</td>\n      <td>...</td>\n      <td>...</td>\n      <td>...</td>\n    </tr>\n    <tr>\n      <th>532</th>\n      <td>строительство тепловой сети к зданию расчетно-...</td>\n      <td>3367.16</td>\n      <td>2018</td>\n      <td>Капитальное строительство</td>\n      <td>-1</td>\n      <td>NaN</td>\n    </tr>\n    <tr>\n      <th>533</th>\n      <td>текущий ремонт пристройки к зданию главного уп...</td>\n      <td>483.0</td>\n      <td>2023</td>\n      <td>Текущий ремонт зданий, сооружений</td>\n      <td>-1</td>\n      <td>NaN</td>\n    </tr>\n    <tr>\n      <th>534</th>\n      <td>текущий ремонт пристройки к зданию главного уп...</td>\n      <td>62.99</td>\n      <td>2023</td>\n      <td>Текущий ремонт зданий, сооружений</td>\n      <td>-1</td>\n      <td>NaN</td>\n    </tr>\n    <tr>\n      <th>535</th>\n      <td>центральный банк (гараж), по адресу: г. хабаро...</td>\n      <td>312.4</td>\n      <td>2021</td>\n      <td>Текущий ремонт зданий, сооружений</td>\n      <td>465</td>\n      <td>73-05-01-00-03-032</td>\n    </tr>\n    <tr>\n      <th>536</th>\n      <td>центральный банк (убежище 300 мест), по адресу...</td>\n      <td>95.9</td>\n      <td>2021</td>\n      <td>Текущий ремонт зданий, сооружений</td>\n      <td>416</td>\n      <td>73-07-01-00-00-005</td>\n    </tr>\n  </tbody>\n</table>\n<p>537 rows × 6 columns</p>\n</div>"
     },
     "execution_count": 339,
     "metadata": {},
     "output_type": "execute_result"
    }
   ],
   "source": [
    "idss = kr_ks_tp[kr_ks_tp['ids_row'].notna()]['ids_row'].unique()\n",
    "\n",
    "for id in idss:\n",
    "    if not list_df.loc[list_df['ids_row'] == id, \"id\"].empty:\n",
    "        index = list_df.loc[list_df['ids_row'] == id, \"id\"].values[0]\n",
    "        kr_ks_tp.loc[kr_ks_tp['ids_row'] == id, 'Column5'] = index\n",
    "    else:\n",
    "        print(id)\n",
    "kr_ks_tp"
   ],
   "metadata": {
    "collapsed": false,
    "ExecuteTime": {
     "end_time": "2023-11-24T21:07:07.568895400Z",
     "start_time": "2023-11-24T21:07:07.368892100Z"
    }
   },
   "id": "3bda62a0482636be"
  },
  {
   "cell_type": "code",
   "execution_count": 340,
   "outputs": [
    {
     "data": {
      "text/plain": "                                               Column1    Column2 Column3  \\\n0     административное здание, лит. а,  г.  ю-сахал...     3239.4    2023   \n1     административное здание, лит. а,  г.  ю-сахал...      497.9    2021   \n2     выборочный капитальный ремонт в части системы...  2223558.0    2021   \n3     выборочный капитальный ремонт кровли здания, ...    2394.55    2019   \n4     пристрой к административному зданию литер а1 ...      24.24    2021   \n..                                                 ...        ...     ...   \n532  строительство тепловой сети к зданию расчетно-...    3367.16    2018   \n533  текущий ремонт пристройки к зданию главного уп...      483.0    2023   \n534  текущий ремонт пристройки к зданию главного уп...      62.99    2023   \n535  центральный банк (гараж), по адресу: г. хабаро...      312.4    2021   \n536  центральный банк (убежище 300 мест), по адресу...       95.9    2021   \n\n                               Column4 Column5             ids_row  \n0    Текущий ремонт зданий, сооружений     407  59-01-01-00-02-019  \n1    Текущий ремонт зданий, сооружений     407  59-01-01-00-02-019  \n2                   Капитальный ремонт    2052                 NaN  \n3                   Капитальный ремонт    2052                 NaN  \n4    Текущий ремонт зданий, сооружений     295  58-01-01-00-00-005  \n..                                 ...     ...                 ...  \n532          Капитальное строительство      -1                 NaN  \n533  Текущий ремонт зданий, сооружений      -1                 NaN  \n534  Текущий ремонт зданий, сооружений      -1                 NaN  \n535  Текущий ремонт зданий, сооружений     465  73-05-01-00-03-032  \n536  Текущий ремонт зданий, сооружений     416  73-07-01-00-00-005  \n\n[537 rows x 6 columns]",
      "text/html": "<div>\n<style scoped>\n    .dataframe tbody tr th:only-of-type {\n        vertical-align: middle;\n    }\n\n    .dataframe tbody tr th {\n        vertical-align: top;\n    }\n\n    .dataframe thead th {\n        text-align: right;\n    }\n</style>\n<table border=\"1\" class=\"dataframe\">\n  <thead>\n    <tr style=\"text-align: right;\">\n      <th></th>\n      <th>Column1</th>\n      <th>Column2</th>\n      <th>Column3</th>\n      <th>Column4</th>\n      <th>Column5</th>\n      <th>ids_row</th>\n    </tr>\n  </thead>\n  <tbody>\n    <tr>\n      <th>0</th>\n      <td>административное здание, лит. а,  г.  ю-сахал...</td>\n      <td>3239.4</td>\n      <td>2023</td>\n      <td>Текущий ремонт зданий, сооружений</td>\n      <td>407</td>\n      <td>59-01-01-00-02-019</td>\n    </tr>\n    <tr>\n      <th>1</th>\n      <td>административное здание, лит. а,  г.  ю-сахал...</td>\n      <td>497.9</td>\n      <td>2021</td>\n      <td>Текущий ремонт зданий, сооружений</td>\n      <td>407</td>\n      <td>59-01-01-00-02-019</td>\n    </tr>\n    <tr>\n      <th>2</th>\n      <td>выборочный капитальный ремонт в части системы...</td>\n      <td>2223558.0</td>\n      <td>2021</td>\n      <td>Капитальный ремонт</td>\n      <td>2052</td>\n      <td>NaN</td>\n    </tr>\n    <tr>\n      <th>3</th>\n      <td>выборочный капитальный ремонт кровли здания, ...</td>\n      <td>2394.55</td>\n      <td>2019</td>\n      <td>Капитальный ремонт</td>\n      <td>2052</td>\n      <td>NaN</td>\n    </tr>\n    <tr>\n      <th>4</th>\n      <td>пристрой к административному зданию литер а1 ...</td>\n      <td>24.24</td>\n      <td>2021</td>\n      <td>Текущий ремонт зданий, сооружений</td>\n      <td>295</td>\n      <td>58-01-01-00-00-005</td>\n    </tr>\n    <tr>\n      <th>...</th>\n      <td>...</td>\n      <td>...</td>\n      <td>...</td>\n      <td>...</td>\n      <td>...</td>\n      <td>...</td>\n    </tr>\n    <tr>\n      <th>532</th>\n      <td>строительство тепловой сети к зданию расчетно-...</td>\n      <td>3367.16</td>\n      <td>2018</td>\n      <td>Капитальное строительство</td>\n      <td>-1</td>\n      <td>NaN</td>\n    </tr>\n    <tr>\n      <th>533</th>\n      <td>текущий ремонт пристройки к зданию главного уп...</td>\n      <td>483.0</td>\n      <td>2023</td>\n      <td>Текущий ремонт зданий, сооружений</td>\n      <td>-1</td>\n      <td>NaN</td>\n    </tr>\n    <tr>\n      <th>534</th>\n      <td>текущий ремонт пристройки к зданию главного уп...</td>\n      <td>62.99</td>\n      <td>2023</td>\n      <td>Текущий ремонт зданий, сооружений</td>\n      <td>-1</td>\n      <td>NaN</td>\n    </tr>\n    <tr>\n      <th>535</th>\n      <td>центральный банк (гараж), по адресу: г. хабаро...</td>\n      <td>312.4</td>\n      <td>2021</td>\n      <td>Текущий ремонт зданий, сооружений</td>\n      <td>465</td>\n      <td>73-05-01-00-03-032</td>\n    </tr>\n    <tr>\n      <th>536</th>\n      <td>центральный банк (убежище 300 мест), по адресу...</td>\n      <td>95.9</td>\n      <td>2021</td>\n      <td>Текущий ремонт зданий, сооружений</td>\n      <td>416</td>\n      <td>73-07-01-00-00-005</td>\n    </tr>\n  </tbody>\n</table>\n<p>537 rows × 6 columns</p>\n</div>"
     },
     "execution_count": 340,
     "metadata": {},
     "output_type": "execute_result"
    }
   ],
   "source": [
    "kr_ks_tp['Column5'].replace(-1, np.nan, inplace=True)\n",
    "kr_ks_tp"
   ],
   "metadata": {
    "collapsed": false,
    "ExecuteTime": {
     "end_time": "2023-11-24T21:08:55.422254100Z",
     "start_time": "2023-11-24T21:08:55.381252600Z"
    }
   },
   "id": "c994211e67dcfb51"
  },
  {
   "cell_type": "code",
   "execution_count": 341,
   "outputs": [],
   "source": [
    "kr_ks_tp.to_csv(\"kr_ks_tp.csv\", index=False)"
   ],
   "metadata": {
    "collapsed": false,
    "ExecuteTime": {
     "end_time": "2023-11-24T21:09:37.188877500Z",
     "start_time": "2023-11-24T21:09:37.128880300Z"
    }
   },
   "id": "d2ea9e80898f50fa"
  }
 ],
 "metadata": {
  "kernelspec": {
   "display_name": "Python 3",
   "language": "python",
   "name": "python3"
  },
  "language_info": {
   "codemirror_mode": {
    "name": "ipython",
    "version": 2
   },
   "file_extension": ".py",
   "mimetype": "text/x-python",
   "name": "python",
   "nbconvert_exporter": "python",
   "pygments_lexer": "ipython2",
   "version": "2.7.6"
  }
 },
 "nbformat": 4,
 "nbformat_minor": 5
}
